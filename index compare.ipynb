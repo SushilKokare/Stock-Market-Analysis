{
 "cells": [
  {
   "cell_type": "code",
   "execution_count": 54,
   "metadata": {},
   "outputs": [],
   "source": [
    "import yfinance as yf\n",
    "from matplotlib import pyplot as plt\n",
    "from sklearn.preprocessing import MinMaxScaler\n",
    "import numpy as np\n",
    "from datetime import date\n",
    "import pandas as pd"
   ]
  },
  {
   "cell_type": "code",
   "execution_count": 3,
   "metadata": {},
   "outputs": [
    {
     "name": "stdout",
     "output_type": "stream",
     "text": [
      "[*********************100%***********************]  1 of 1 completed\n",
      "[*********************100%***********************]  1 of 1 completed\n"
     ]
    }
   ],
   "source": [
    "sp500 = yf.download('^GSPC',period='1d')\n",
    "nb = yf.download('^NSEBANK',period='1d')"
   ]
  },
  {
   "cell_type": "code",
   "execution_count": 156,
   "metadata": {},
   "outputs": [],
   "source": [
    "def compare_index():\n",
    "    sp500 = yf.download('^GSPC',period='1d',interval='5m',progress=False)\n",
    "    nb = yf.download('^NSEBANK',period='1d',interval='5m',progress=False)\n",
    "    nb2 = pd.DataFrame()\n",
    "    sp2 = pd.DataFrame()\n",
    "    \n",
    "    if nb.index[0] > sp500.index[0]:\n",
    "#         print('nb.index[0] > sp500.index[0]')\n",
    "        nb2 = yf.download('^NSEBANK',period='2d',interval='5m')\n",
    "        if nb2.index[0] == sp500.index[0]:\n",
    "            pass\n",
    "    \n",
    "    if nb.index[0] < sp500.index[0]:\n",
    "#         print('nb.index[0] < sp500.index[0]')\n",
    "        sp2 = yf.download('^GSPC',period='2d',interval='5m')\n",
    "        if sp2.index[0] == nb.index[0]:\n",
    "            pass\n",
    "        \n",
    "    scaler = MinMaxScaler()\n",
    "    \n",
    "    if not nb2.empty:\n",
    "#         print(1)\n",
    "        plt.plot(scaler.fit_transform(np.array(sp500['Close']).reshape(-1,1)),label='S&P500')\n",
    "        plt.plot(scaler.fit_transform(np.array(nb2['Close'][str(nb.index[0]).split()[0]]).reshape(-1,1)),label='Nifty Bank')\n",
    "        plt.legend()\n",
    "    \n",
    "\n",
    "\n",
    "    if not sp2.empty:\n",
    "#         print(2)\n",
    "        plt.plot(scaler.fit_transform(np.array(sp2['Close'][str(nb.index[0]).split()[0]]).reshape(-1,1)),label='S&P500  2')\n",
    "        plt.plot(scaler.fit_transform(np.array(nb['Close']).reshape(-1,1)),label='Nifty Bank  2')\n",
    "        plt.legend()\n",
    "        \n",
    "    if not nb2.empty:\n",
    "        return sp500,nb2\n",
    "    if not sp2.empty:\n",
    "        return sp2,nb"
   ]
  },
  {
   "cell_type": "code",
   "execution_count": 157,
   "metadata": {},
   "outputs": [
    {
     "name": "stdout",
     "output_type": "stream",
     "text": [
      "[*********************100%***********************]  1 of 1 completed\n"
     ]
    },
    {
     "data": {
      "image/png": "[encoded data removed]",
      "text/plain": [
       "<Figure size 432x288 with 1 Axes>"
      ]
     },
     "metadata": {
      "needs_background": "light"
     },
     "output_type": "display_data"
    }
   ],
   "source": [
    "sp,nb = compare_index()"
   ]
  },
  {
   "cell_type": "code",
   "execution_count": 140,
   "metadata": {},
   "outputs": [
    {
     "data": {
      "text/plain": [
       "Timestamp('2023-08-04 09:15:00+0530', tz='Asia/Kolkata')"
      ]
     },
     "execution_count": 140,
     "metadata": {},
     "output_type": "execute_result"
    }
   ],
   "source": [
    "nb.index[0]"
   ]
  },
  {
   "cell_type": "code",
   "execution_count": 137,
   "metadata": {},
   "outputs": [
    {
     "data": {
      "text/html": [
       "<div>\n",
       "<style scoped>\n",
       "    .dataframe tbody tr th:only-of-type {\n",
       "        vertical-align: middle;\n",
       "    }\n",
       "\n",
       "    .dataframe tbody tr th {\n",
       "        vertical-align: top;\n",
       "    }\n",
       "\n",
       "    .dataframe thead th {\n",
       "        text-align: right;\n",
       "    }\n",
       "</style>\n",
       "<table border=\"1\" class=\"dataframe\">\n",
       "  <thead>\n",
       "    <tr style=\"text-align: right;\">\n",
       "      <th></th>\n",
       "      <th>Open</th>\n",
       "      <th>High</th>\n",
       "      <th>Low</th>\n",
       "      <th>Close</th>\n",
       "      <th>Adj Close</th>\n",
       "      <th>Volume</th>\n",
       "    </tr>\n",
       "    <tr>\n",
       "      <th>Datetime</th>\n",
       "      <th></th>\n",
       "      <th></th>\n",
       "      <th></th>\n",
       "      <th></th>\n",
       "      <th></th>\n",
       "      <th></th>\n",
       "    </tr>\n",
       "  </thead>\n",
       "  <tbody>\n",
       "    <tr>\n",
       "      <th>2023-08-04 09:15:00+05:30</th>\n",
       "      <td>44754.750000</td>\n",
       "      <td>44754.750000</td>\n",
       "      <td>44610.000000</td>\n",
       "      <td>44716.101562</td>\n",
       "      <td>44716.101562</td>\n",
       "      <td>0</td>\n",
       "    </tr>\n",
       "    <tr>\n",
       "      <th>2023-08-04 09:20:00+05:30</th>\n",
       "      <td>44715.898438</td>\n",
       "      <td>44720.101562</td>\n",
       "      <td>44648.000000</td>\n",
       "      <td>44707.500000</td>\n",
       "      <td>44707.500000</td>\n",
       "      <td>0</td>\n",
       "    </tr>\n",
       "    <tr>\n",
       "      <th>2023-08-04 09:25:00+05:30</th>\n",
       "      <td>44710.949219</td>\n",
       "      <td>44727.851562</td>\n",
       "      <td>44677.750000</td>\n",
       "      <td>44725.250000</td>\n",
       "      <td>44725.250000</td>\n",
       "      <td>0</td>\n",
       "    </tr>\n",
       "    <tr>\n",
       "      <th>2023-08-04 09:30:00+05:30</th>\n",
       "      <td>44724.601562</td>\n",
       "      <td>44729.050781</td>\n",
       "      <td>44648.000000</td>\n",
       "      <td>44698.800781</td>\n",
       "      <td>44698.800781</td>\n",
       "      <td>0</td>\n",
       "    </tr>\n",
       "    <tr>\n",
       "      <th>2023-08-04 09:35:00+05:30</th>\n",
       "      <td>44700.000000</td>\n",
       "      <td>44703.199219</td>\n",
       "      <td>44620.949219</td>\n",
       "      <td>44634.101562</td>\n",
       "      <td>44634.101562</td>\n",
       "      <td>0</td>\n",
       "    </tr>\n",
       "    <tr>\n",
       "      <th>...</th>\n",
       "      <td>...</td>\n",
       "      <td>...</td>\n",
       "      <td>...</td>\n",
       "      <td>...</td>\n",
       "      <td>...</td>\n",
       "      <td>...</td>\n",
       "    </tr>\n",
       "    <tr>\n",
       "      <th>2023-08-07 15:10:00+05:30</th>\n",
       "      <td>44842.699219</td>\n",
       "      <td>44858.449219</td>\n",
       "      <td>44835.101562</td>\n",
       "      <td>44852.351562</td>\n",
       "      <td>44852.351562</td>\n",
       "      <td>0</td>\n",
       "    </tr>\n",
       "    <tr>\n",
       "      <th>2023-08-07 15:15:00+05:30</th>\n",
       "      <td>44852.300781</td>\n",
       "      <td>44857.000000</td>\n",
       "      <td>44840.250000</td>\n",
       "      <td>44846.800781</td>\n",
       "      <td>44846.800781</td>\n",
       "      <td>0</td>\n",
       "    </tr>\n",
       "    <tr>\n",
       "      <th>2023-08-07 15:20:00+05:30</th>\n",
       "      <td>44846.398438</td>\n",
       "      <td>44857.449219</td>\n",
       "      <td>44833.601562</td>\n",
       "      <td>44838.601562</td>\n",
       "      <td>44838.601562</td>\n",
       "      <td>0</td>\n",
       "    </tr>\n",
       "    <tr>\n",
       "      <th>2023-08-07 15:25:00+05:30</th>\n",
       "      <td>44832.398438</td>\n",
       "      <td>44847.101562</td>\n",
       "      <td>44816.699219</td>\n",
       "      <td>44833.000000</td>\n",
       "      <td>44833.000000</td>\n",
       "      <td>0</td>\n",
       "    </tr>\n",
       "    <tr>\n",
       "      <th>2023-08-07 15:30:00+05:30</th>\n",
       "      <td>44837.500000</td>\n",
       "      <td>44837.500000</td>\n",
       "      <td>44837.500000</td>\n",
       "      <td>44837.500000</td>\n",
       "      <td>44837.500000</td>\n",
       "      <td>0</td>\n",
       "    </tr>\n",
       "  </tbody>\n",
       "</table>\n",
       "<p>151 rows × 6 columns</p>\n",
       "</div>"
      ],
      "text/plain": [
       "                                   Open          High           Low  \\\n",
       "Datetime                                                              \n",
       "2023-08-04 09:15:00+05:30  44754.750000  44754.750000  44610.000000   \n",
       "2023-08-04 09:20:00+05:30  44715.898438  44720.101562  44648.000000   \n",
       "2023-08-04 09:25:00+05:30  44710.949219  44727.851562  44677.750000   \n",
       "2023-08-04 09:30:00+05:30  44724.601562  44729.050781  44648.000000   \n",
       "2023-08-04 09:35:00+05:30  44700.000000  44703.199219  44620.949219   \n",
       "...                                 ...           ...           ...   \n",
       "2023-08-07 15:10:00+05:30  44842.699219  44858.449219  44835.101562   \n",
       "2023-08-07 15:15:00+05:30  44852.300781  44857.000000  44840.250000   \n",
       "2023-08-07 15:20:00+05:30  44846.398438  44857.449219  44833.601562   \n",
       "2023-08-07 15:25:00+05:30  44832.398438  44847.101562  44816.699219   \n",
       "2023-08-07 15:30:00+05:30  44837.500000  44837.500000  44837.500000   \n",
       "\n",
       "                                  Close     Adj Close  Volume  \n",
       "Datetime                                                       \n",
       "2023-08-04 09:15:00+05:30  44716.101562  44716.101562       0  \n",
       "2023-08-04 09:20:00+05:30  44707.500000  44707.500000       0  \n",
       "2023-08-04 09:25:00+05:30  44725.250000  44725.250000       0  \n",
       "2023-08-04 09:30:00+05:30  44698.800781  44698.800781       0  \n",
       "2023-08-04 09:35:00+05:30  44634.101562  44634.101562       0  \n",
       "...                                 ...           ...     ...  \n",
       "2023-08-07 15:10:00+05:30  44852.351562  44852.351562       0  \n",
       "2023-08-07 15:15:00+05:30  44846.800781  44846.800781       0  \n",
       "2023-08-07 15:20:00+05:30  44838.601562  44838.601562       0  \n",
       "2023-08-07 15:25:00+05:30  44833.000000  44833.000000       0  \n",
       "2023-08-07 15:30:00+05:30  44837.500000  44837.500000       0  \n",
       "\n",
       "[151 rows x 6 columns]"
      ]
     },
     "execution_count": 137,
     "metadata": {},
     "output_type": "execute_result"
    }
   ],
   "source": [
    "nb"
   ]
  },
  {
   "cell_type": "code",
   "execution_count": 134,
   "metadata": {},
   "outputs": [
    {
     "data": {
      "text/plain": [
       "[<matplotlib.lines.Line2D at 0x23e7a44b040>]"
      ]
     },
     "execution_count": 134,
     "metadata": {},
     "output_type": "execute_result"
    },
    {
     "data": {
      "image/png": "[encoded data removed]",
      "text/plain": [
       "<Figure size 432x288 with 1 Axes>"
      ]
     },
     "metadata": {
      "needs_background": "light"
     },
     "output_type": "display_data"
    }
   ],
   "source": [
    "plt.plot(scaler.fit_transform(np.array(nb['Close'][0]).reshape(-1,1)),label='Nifty Bank')"
   ]
  },
  {
   "cell_type": "code",
   "execution_count": 100,
   "metadata": {},
   "outputs": [
    {
     "data": {
      "text/plain": [
       "[<matplotlib.lines.Line2D at 0x23e77121a90>]"
      ]
     },
     "execution_count": 100,
     "metadata": {},
     "output_type": "execute_result"
    },
    {
     "data": {
      "image/png": "[encoded data removed]",
      "text/plain": [
       "<Figure size 432x288 with 1 Axes>"
      ]
     },
     "metadata": {
      "needs_background": "light"
     },
     "output_type": "display_data"
    }
   ],
   "source": [
    "plt.plot(`sp['Close'])"
   ]
  },
  {
   "cell_type": "code",
   "execution_count": 109,
   "metadata": {},
   "outputs": [
    {
     "data": {
      "text/plain": [
       "[<matplotlib.lines.Line2D at 0x23e78df0250>]"
      ]
     },
     "execution_count": 109,
     "metadata": {},
     "output_type": "execute_result"
    },
    {
     "data": {
      "image/png": "[encoded data removed]",
      "text/plain": [
       "<Figure size 432x288 with 1 Axes>"
      ]
     },
     "metadata": {
      "needs_background": "light"
     },
     "output_type": "display_data"
    }
   ],
   "source": [
    "plt.plot(nb['Close']['2023-08-04'])"
   ]
  },
  {
   "cell_type": "code",
   "execution_count": 142,
   "metadata": {},
   "outputs": [
    {
     "data": {
      "text/plain": [
       "44716.1015625"
      ]
     },
     "execution_count": 142,
     "metadata": {},
     "output_type": "execute_result"
    }
   ],
   "source": [
    "nb['Close']['2023-08-04 09:15:00+05:30']"
   ]
  },
  {
   "cell_type": "code",
   "execution_count": 145,
   "metadata": {},
   "outputs": [
    {
     "data": {
      "text/plain": [
       "Datetime\n",
       "2023-08-04 09:15:00+05:30    44716.101562\n",
       "2023-08-04 09:20:00+05:30    44707.500000\n",
       "2023-08-04 09:25:00+05:30    44725.250000\n",
       "2023-08-04 09:30:00+05:30    44698.800781\n",
       "2023-08-04 09:35:00+05:30    44634.101562\n",
       "                                 ...     \n",
       "2023-08-04 15:05:00+05:30    44882.699219\n",
       "2023-08-04 15:10:00+05:30    44928.800781\n",
       "2023-08-04 15:15:00+05:30    44879.250000\n",
       "2023-08-04 15:20:00+05:30    44884.199219\n",
       "2023-08-04 15:25:00+05:30    44858.500000\n",
       "Name: Close, Length: 75, dtype: float64"
      ]
     },
     "execution_count": 145,
     "metadata": {},
     "output_type": "execute_result"
    }
   ],
   "source": [
    "nb['Close'][str(nb.index[0]).split()[0]]"
   ]
  },
  {
   "cell_type": "code",
   "execution_count": 141,
   "metadata": {},
   "outputs": [
    {
     "name": "stdout",
     "output_type": "stream",
     "text": [
      "2023-08-04 09:15:00+05:30\n",
      "2023-08-04 09:20:00+05:30\n",
      "2023-08-04 09:25:00+05:30\n",
      "2023-08-04 09:30:00+05:30\n",
      "2023-08-04 09:35:00+05:30\n",
      "2023-08-04 09:40:00+05:30\n",
      "2023-08-04 09:45:00+05:30\n",
      "2023-08-04 09:50:00+05:30\n",
      "2023-08-04 09:55:00+05:30\n",
      "2023-08-04 10:00:00+05:30\n",
      "2023-08-04 10:05:00+05:30\n",
      "2023-08-04 10:10:00+05:30\n",
      "2023-08-04 10:15:00+05:30\n",
      "2023-08-04 10:20:00+05:30\n",
      "2023-08-04 10:25:00+05:30\n",
      "2023-08-04 10:30:00+05:30\n",
      "2023-08-04 10:35:00+05:30\n",
      "2023-08-04 10:40:00+05:30\n",
      "2023-08-04 10:45:00+05:30\n",
      "2023-08-04 10:50:00+05:30\n",
      "2023-08-04 10:55:00+05:30\n",
      "2023-08-04 11:00:00+05:30\n",
      "2023-08-04 11:05:00+05:30\n",
      "2023-08-04 11:10:00+05:30\n",
      "2023-08-04 11:15:00+05:30\n",
      "2023-08-04 11:20:00+05:30\n",
      "2023-08-04 11:25:00+05:30\n",
      "2023-08-04 11:30:00+05:30\n",
      "2023-08-04 11:35:00+05:30\n",
      "2023-08-04 11:40:00+05:30\n",
      "2023-08-04 11:45:00+05:30\n",
      "2023-08-04 11:50:00+05:30\n",
      "2023-08-04 11:55:00+05:30\n",
      "2023-08-04 12:00:00+05:30\n",
      "2023-08-04 12:05:00+05:30\n",
      "2023-08-04 12:10:00+05:30\n",
      "2023-08-04 12:15:00+05:30\n",
      "2023-08-04 12:20:00+05:30\n",
      "2023-08-04 12:25:00+05:30\n",
      "2023-08-04 12:30:00+05:30\n",
      "2023-08-04 12:35:00+05:30\n",
      "2023-08-04 12:40:00+05:30\n",
      "2023-08-04 12:45:00+05:30\n",
      "2023-08-04 12:50:00+05:30\n",
      "2023-08-04 12:55:00+05:30\n",
      "2023-08-04 13:00:00+05:30\n",
      "2023-08-04 13:05:00+05:30\n",
      "2023-08-04 13:10:00+05:30\n",
      "2023-08-04 13:15:00+05:30\n",
      "2023-08-04 13:20:00+05:30\n",
      "2023-08-04 13:25:00+05:30\n",
      "2023-08-04 13:30:00+05:30\n",
      "2023-08-04 13:35:00+05:30\n",
      "2023-08-04 13:40:00+05:30\n",
      "2023-08-04 13:45:00+05:30\n",
      "2023-08-04 13:50:00+05:30\n",
      "2023-08-04 13:55:00+05:30\n",
      "2023-08-04 14:00:00+05:30\n",
      "2023-08-04 14:05:00+05:30\n",
      "2023-08-04 14:10:00+05:30\n",
      "2023-08-04 14:15:00+05:30\n",
      "2023-08-04 14:20:00+05:30\n",
      "2023-08-04 14:25:00+05:30\n",
      "2023-08-04 14:30:00+05:30\n",
      "2023-08-04 14:35:00+05:30\n",
      "2023-08-04 14:40:00+05:30\n",
      "2023-08-04 14:45:00+05:30\n",
      "2023-08-04 14:50:00+05:30\n",
      "2023-08-04 14:55:00+05:30\n",
      "2023-08-04 15:00:00+05:30\n",
      "2023-08-04 15:05:00+05:30\n",
      "2023-08-04 15:10:00+05:30\n",
      "2023-08-04 15:15:00+05:30\n",
      "2023-08-04 15:20:00+05:30\n",
      "2023-08-04 15:25:00+05:30\n",
      "2023-08-07 09:15:00+05:30\n",
      "2023-08-07 09:20:00+05:30\n",
      "2023-08-07 09:25:00+05:30\n",
      "2023-08-07 09:30:00+05:30\n",
      "2023-08-07 09:35:00+05:30\n",
      "2023-08-07 09:40:00+05:30\n",
      "2023-08-07 09:45:00+05:30\n",
      "2023-08-07 09:50:00+05:30\n",
      "2023-08-07 09:55:00+05:30\n",
      "2023-08-07 10:00:00+05:30\n",
      "2023-08-07 10:05:00+05:30\n",
      "2023-08-07 10:10:00+05:30\n",
      "2023-08-07 10:15:00+05:30\n",
      "2023-08-07 10:20:00+05:30\n",
      "2023-08-07 10:25:00+05:30\n",
      "2023-08-07 10:30:00+05:30\n",
      "2023-08-07 10:35:00+05:30\n",
      "2023-08-07 10:40:00+05:30\n",
      "2023-08-07 10:45:00+05:30\n",
      "2023-08-07 10:50:00+05:30\n",
      "2023-08-07 10:55:00+05:30\n",
      "2023-08-07 11:00:00+05:30\n",
      "2023-08-07 11:05:00+05:30\n",
      "2023-08-07 11:10:00+05:30\n",
      "2023-08-07 11:15:00+05:30\n",
      "2023-08-07 11:20:00+05:30\n",
      "2023-08-07 11:25:00+05:30\n",
      "2023-08-07 11:30:00+05:30\n",
      "2023-08-07 11:35:00+05:30\n",
      "2023-08-07 11:40:00+05:30\n",
      "2023-08-07 11:45:00+05:30\n",
      "2023-08-07 11:50:00+05:30\n",
      "2023-08-07 11:55:00+05:30\n",
      "2023-08-07 12:00:00+05:30\n",
      "2023-08-07 12:05:00+05:30\n",
      "2023-08-07 12:10:00+05:30\n",
      "2023-08-07 12:15:00+05:30\n",
      "2023-08-07 12:20:00+05:30\n",
      "2023-08-07 12:25:00+05:30\n",
      "2023-08-07 12:30:00+05:30\n",
      "2023-08-07 12:35:00+05:30\n",
      "2023-08-07 12:40:00+05:30\n",
      "2023-08-07 12:45:00+05:30\n",
      "2023-08-07 12:50:00+05:30\n",
      "2023-08-07 12:55:00+05:30\n",
      "2023-08-07 13:00:00+05:30\n",
      "2023-08-07 13:05:00+05:30\n",
      "2023-08-07 13:10:00+05:30\n",
      "2023-08-07 13:15:00+05:30\n",
      "2023-08-07 13:20:00+05:30\n",
      "2023-08-07 13:25:00+05:30\n",
      "2023-08-07 13:30:00+05:30\n",
      "2023-08-07 13:35:00+05:30\n",
      "2023-08-07 13:40:00+05:30\n",
      "2023-08-07 13:45:00+05:30\n",
      "2023-08-07 13:50:00+05:30\n",
      "2023-08-07 13:55:00+05:30\n",
      "2023-08-07 14:00:00+05:30\n",
      "2023-08-07 14:05:00+05:30\n",
      "2023-08-07 14:10:00+05:30\n",
      "2023-08-07 14:15:00+05:30\n",
      "2023-08-07 14:20:00+05:30\n",
      "2023-08-07 14:25:00+05:30\n",
      "2023-08-07 14:30:00+05:30\n",
      "2023-08-07 14:35:00+05:30\n",
      "2023-08-07 14:40:00+05:30\n",
      "2023-08-07 14:45:00+05:30\n",
      "2023-08-07 14:50:00+05:30\n",
      "2023-08-07 14:55:00+05:30\n",
      "2023-08-07 15:00:00+05:30\n",
      "2023-08-07 15:05:00+05:30\n",
      "2023-08-07 15:10:00+05:30\n",
      "2023-08-07 15:15:00+05:30\n",
      "2023-08-07 15:20:00+05:30\n",
      "2023-08-07 15:25:00+05:30\n",
      "2023-08-07 15:30:00+05:30\n"
     ]
    }
   ],
   "source": [
    "for i in nb.index:\n",
    "    print(i)"
   ]
  },
  {
   "cell_type": "code",
   "execution_count": 167,
   "metadata": {},
   "outputs": [
    {
     "name": "stdout",
     "output_type": "stream",
     "text": [
      "[*********************100%***********************]  1 of 1 completed\n",
      "\n",
      "1 Failed download:\n",
      "- NIFTYSGX.NS: No data found, symbol may be delisted\n"
     ]
    }
   ],
   "source": [
    "sgx = yf.download('NIFTYSGX.ns',period='1d')"
   ]
  },
  {
   "cell_type": "code",
   "execution_count": 161,
   "metadata": {},
   "outputs": [
    {
     "data": {
      "text/html": [
       "<div>\n",
       "<style scoped>\n",
       "    .dataframe tbody tr th:only-of-type {\n",
       "        vertical-align: middle;\n",
       "    }\n",
       "\n",
       "    .dataframe tbody tr th {\n",
       "        vertical-align: top;\n",
       "    }\n",
       "\n",
       "    .dataframe thead th {\n",
       "        text-align: right;\n",
       "    }\n",
       "</style>\n",
       "<table border=\"1\" class=\"dataframe\">\n",
       "  <thead>\n",
       "    <tr style=\"text-align: right;\">\n",
       "      <th></th>\n",
       "      <th>Open</th>\n",
       "      <th>High</th>\n",
       "      <th>Low</th>\n",
       "      <th>Close</th>\n",
       "      <th>Adj Close</th>\n",
       "      <th>Volume</th>\n",
       "    </tr>\n",
       "    <tr>\n",
       "      <th>Date</th>\n",
       "      <th></th>\n",
       "      <th></th>\n",
       "      <th></th>\n",
       "      <th></th>\n",
       "      <th></th>\n",
       "      <th></th>\n",
       "    </tr>\n",
       "  </thead>\n",
       "  <tbody>\n",
       "    <tr>\n",
       "      <th>2023-08-07</th>\n",
       "      <td>3296.889893</td>\n",
       "      <td>3312.870117</td>\n",
       "      <td>3293.699951</td>\n",
       "      <td>3309.870117</td>\n",
       "      <td>3309.870117</td>\n",
       "      <td>0</td>\n",
       "    </tr>\n",
       "  </tbody>\n",
       "</table>\n",
       "</div>"
      ],
      "text/plain": [
       "                   Open         High          Low        Close    Adj Close  \\\n",
       "Date                                                                          \n",
       "2023-08-07  3296.889893  3312.870117  3293.699951  3309.870117  3309.870117   \n",
       "\n",
       "            Volume  \n",
       "Date                \n",
       "2023-08-07       0  "
      ]
     },
     "execution_count": 161,
     "metadata": {},
     "output_type": "execute_result"
    }
   ],
   "source": [
    "sgx"
   ]
  },
  {
   "cell_type": "code",
   "execution_count": null,
   "metadata": {},
   "outputs": [],
   "source": []
  }
 ],
 "metadata": {
  "kernelspec": {
   "display_name": "Python 3",
   "language": "python",
   "name": "python3"
  },
  "language_info": {
   "codemirror_mode": {
    "name": "ipython",
    "version": 3
   },
   "file_extension": ".py",
   "mimetype": "text/x-python",
   "name": "python",
   "nbconvert_exporter": "python",
   "pygments_lexer": "ipython3",
   "version": "3.8.5"
  }
 },
 "nbformat": 4,
 "nbformat_minor": 4
}
