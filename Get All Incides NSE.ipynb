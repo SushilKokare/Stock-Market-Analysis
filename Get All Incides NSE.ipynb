{
 "cells": [
  {
   "cell_type": "markdown",
   "metadata": {},
   "source": [
    "Get all indices in nse and save it in csv file named as 'all indices nse.csv'"
   ]
  },
  {
   "cell_type": "markdown",
   "metadata": {},
   "source": [
    "CSV file downloaded from url : https://www.nseindia.com/market-data/live-market-indices"
   ]
  },
  {
   "cell_type": "code",
   "execution_count": 1,
   "metadata": {},
   "outputs": [],
   "source": [
    "import pandas as pd"
   ]
  },
  {
   "cell_type": "code",
   "execution_count": 130,
   "metadata": {},
   "outputs": [],
   "source": [
    "bi = pd.read_csv('all indices.csv')"
   ]
  },
  {
   "cell_type": "code",
   "execution_count": 131,
   "metadata": {},
   "outputs": [
    {
     "data": {
      "text/plain": [
       "18"
      ]
     },
     "execution_count": 131,
     "metadata": {},
     "output_type": "execute_result"
    }
   ],
   "source": [
    "broad_indices = []\n",
    "for i in bi['INDEX \\n'][0:18]:\n",
    "    broad_indices.append(i)\n",
    "len(broad_indices)"
   ]
  },
  {
   "cell_type": "code",
   "execution_count": 132,
   "metadata": {},
   "outputs": [
    {
     "data": {
      "text/plain": [
       "15"
      ]
     },
     "execution_count": 132,
     "metadata": {},
     "output_type": "execute_result"
    }
   ],
   "source": [
    "sector_indices = []\n",
    "for i in bi['INDEX \\n'][18:33]:\n",
    "    sector_indices.append(i)\n",
    "len(sector_indices)"
   ]
  },
  {
   "cell_type": "code",
   "execution_count": 133,
   "metadata": {},
   "outputs": [
    {
     "data": {
      "text/plain": [
       "17"
      ]
     },
     "execution_count": 133,
     "metadata": {},
     "output_type": "execute_result"
    }
   ],
   "source": [
    "strategy_indices = []\n",
    "for i in bi['INDEX \\n'][33:50]:\n",
    "    strategy_indices.append(i)\n",
    "len(strategy_indices)"
   ]
  },
  {
   "cell_type": "code",
   "execution_count": 134,
   "metadata": {},
   "outputs": [
    {
     "data": {
      "text/plain": [
       "14"
      ]
     },
     "execution_count": 134,
     "metadata": {},
     "output_type": "execute_result"
    }
   ],
   "source": [
    "thematic_indices = []\n",
    "for i in bi['INDEX \\n'][50:64]:\n",
    "    thematic_indices.append(i)\n",
    "len(thematic_indices)"
   ]
  },
  {
   "cell_type": "code",
   "execution_count": 135,
   "metadata": {},
   "outputs": [
    {
     "data": {
      "text/plain": [
       "7"
      ]
     },
     "execution_count": 135,
     "metadata": {},
     "output_type": "execute_result"
    }
   ],
   "source": [
    "fixed_income_indices = []\n",
    "for i in bi['INDEX \\n'][64:]:\n",
    "    fixed_income_indices.append(i)\n",
    "len(fixed_income_indices)"
   ]
  },
  {
   "cell_type": "code",
   "execution_count": 128,
   "metadata": {},
   "outputs": [],
   "source": [
    "# Find the maximum length of the lists\n",
    "max_length = max(len(broad_indices), len(sector_indices), len(thematic_indices), len(fixed_income_indices))\n",
    "\n",
    "# Pad the lists to make them the same length\n",
    "broad_indices += [None] * (max_length - len(broad_indices))\n",
    "sector_indices += [None] * (max_length - len(sector_indices))\n",
    "thematic_indices += [None] * (max_length - len(thematic_indices))\n",
    "fixed_income_indices += [None] * (max_length - len(fixed_income_indices))"
   ]
  },
  {
   "cell_type": "code",
   "execution_count": null,
   "metadata": {},
   "outputs": [],
   "source": []
  },
  {
   "cell_type": "code",
   "execution_count": 136,
   "metadata": {},
   "outputs": [],
   "source": [
    "dd = {'broad_indices' : broad_indices,\n",
    "     'sector_indices' : sector_indices,\n",
    "     'strategy_indices' : strategy_indices,\n",
    "     'thematic_indices' : thematic_indices,\n",
    "     'fixed_income_indices' : fixed_income_indices}"
   ]
  },
  {
   "cell_type": "code",
   "execution_count": 137,
   "metadata": {},
   "outputs": [
    {
     "data": {
      "text/plain": [
       "dict"
      ]
     },
     "execution_count": 137,
     "metadata": {},
     "output_type": "execute_result"
    }
   ],
   "source": [
    "type(dd)"
   ]
  },
  {
   "cell_type": "code",
   "execution_count": 138,
   "metadata": {},
   "outputs": [],
   "source": [
    "df = pd.DataFrame.from_dict(dd, orient='index').transpose()\n"
   ]
  },
  {
   "cell_type": "code",
   "execution_count": 139,
   "metadata": {},
   "outputs": [
    {
     "data": {
      "text/html": [
       "<div>\n",
       "<style scoped>\n",
       "    .dataframe tbody tr th:only-of-type {\n",
       "        vertical-align: middle;\n",
       "    }\n",
       "\n",
       "    .dataframe tbody tr th {\n",
       "        vertical-align: top;\n",
       "    }\n",
       "\n",
       "    .dataframe thead th {\n",
       "        text-align: right;\n",
       "    }\n",
       "</style>\n",
       "<table border=\"1\" class=\"dataframe\">\n",
       "  <thead>\n",
       "    <tr style=\"text-align: right;\">\n",
       "      <th></th>\n",
       "      <th>broad_indices</th>\n",
       "      <th>sector_indices</th>\n",
       "      <th>strategy_indices</th>\n",
       "      <th>thematic_indices</th>\n",
       "      <th>fixed_income_indices</th>\n",
       "    </tr>\n",
       "  </thead>\n",
       "  <tbody>\n",
       "    <tr>\n",
       "      <th>0</th>\n",
       "      <td>NIFTY 50</td>\n",
       "      <td>NIFTY BANK</td>\n",
       "      <td>NIFTY DIVIDEND OPPORTUNITIES 50</td>\n",
       "      <td>NIFTY COMMODITIES</td>\n",
       "      <td>NIFTY 8-13 YR G-SEC</td>\n",
       "    </tr>\n",
       "    <tr>\n",
       "      <th>1</th>\n",
       "      <td>NIFTY NEXT 50</td>\n",
       "      <td>NIFTY AUTO</td>\n",
       "      <td>NIFTY GROWTH SECTORS 15</td>\n",
       "      <td>NIFTY INDIA CONSUMPTION</td>\n",
       "      <td>NIFTY 10 YR BENCHMARK G-SEC</td>\n",
       "    </tr>\n",
       "    <tr>\n",
       "      <th>2</th>\n",
       "      <td>NIFTY 100</td>\n",
       "      <td>NIFTY FINANCIAL SERVICES</td>\n",
       "      <td>NIFTY100 QUALITY 30</td>\n",
       "      <td>NIFTY CPSE</td>\n",
       "      <td>NIFTY 10 YR BENCHMARK G-SEC (CLEAN PRICE)</td>\n",
       "    </tr>\n",
       "    <tr>\n",
       "      <th>3</th>\n",
       "      <td>NIFTY 200</td>\n",
       "      <td>NIFTY FINANCIAL SERVICES 25/50</td>\n",
       "      <td>NIFTY50 VALUE 20</td>\n",
       "      <td>NIFTY ENERGY</td>\n",
       "      <td>NIFTY 4-8 YR G-SEC INDEX</td>\n",
       "    </tr>\n",
       "    <tr>\n",
       "      <th>4</th>\n",
       "      <td>NIFTY 500</td>\n",
       "      <td>NIFTY FMCG</td>\n",
       "      <td>NIFTY50 TR 2X LEVERAGE</td>\n",
       "      <td>NIFTY INFRASTRUCTURE</td>\n",
       "      <td>NIFTY 11-15 YR G-SEC INDEX</td>\n",
       "    </tr>\n",
       "    <tr>\n",
       "      <th>5</th>\n",
       "      <td>NIFTY MIDCAP 50</td>\n",
       "      <td>NIFTY IT</td>\n",
       "      <td>NIFTY50 PR 2X LEVERAGE</td>\n",
       "      <td>NIFTY100 LIQUID 15</td>\n",
       "      <td>NIFTY 15 YR AND ABOVE G-SEC INDEX</td>\n",
       "    </tr>\n",
       "    <tr>\n",
       "      <th>6</th>\n",
       "      <td>NIFTY MIDCAP 100</td>\n",
       "      <td>NIFTY MEDIA</td>\n",
       "      <td>NIFTY50 TR 1X INVERSE</td>\n",
       "      <td>NIFTY MIDCAP LIQUID 15</td>\n",
       "      <td>NIFTY COMPOSITE G-SEC INDEX</td>\n",
       "    </tr>\n",
       "    <tr>\n",
       "      <th>7</th>\n",
       "      <td>NIFTY SMALLCAP 100</td>\n",
       "      <td>NIFTY METAL</td>\n",
       "      <td>NIFTY50 PR 1X INVERSE</td>\n",
       "      <td>NIFTY MNC</td>\n",
       "      <td>None</td>\n",
       "    </tr>\n",
       "    <tr>\n",
       "      <th>8</th>\n",
       "      <td>INDIA VIX</td>\n",
       "      <td>NIFTY PHARMA</td>\n",
       "      <td>NIFTY50 DIVIDEND POINTS</td>\n",
       "      <td>NIFTY PSE</td>\n",
       "      <td>None</td>\n",
       "    </tr>\n",
       "    <tr>\n",
       "      <th>9</th>\n",
       "      <td>NIFTY MIDCAP 150</td>\n",
       "      <td>NIFTY PSU BANK</td>\n",
       "      <td>NIFTY ALPHA 50</td>\n",
       "      <td>NIFTY SERVICES SECTOR</td>\n",
       "      <td>None</td>\n",
       "    </tr>\n",
       "    <tr>\n",
       "      <th>10</th>\n",
       "      <td>NIFTY SMALLCAP 50</td>\n",
       "      <td>NIFTY PRIVATE BANK</td>\n",
       "      <td>NIFTY50 EQUAL WEIGHT</td>\n",
       "      <td>NIFTY100 ESG SECTOR LEADERS</td>\n",
       "      <td>None</td>\n",
       "    </tr>\n",
       "    <tr>\n",
       "      <th>11</th>\n",
       "      <td>NIFTY SMALLCAP 250</td>\n",
       "      <td>NIFTY REALTY</td>\n",
       "      <td>NIFTY100 EQUAL WEIGHT</td>\n",
       "      <td>NIFTY INDIA DIGITAL</td>\n",
       "      <td>None</td>\n",
       "    </tr>\n",
       "    <tr>\n",
       "      <th>12</th>\n",
       "      <td>NIFTY MIDSMALLCAP 400</td>\n",
       "      <td>NIFTY HEALTHCARE INDEX</td>\n",
       "      <td>NIFTY100 LOW VOLATILITY 30</td>\n",
       "      <td>NIFTY100 ESG</td>\n",
       "      <td>None</td>\n",
       "    </tr>\n",
       "    <tr>\n",
       "      <th>13</th>\n",
       "      <td>NIFTY500 MULTICAP 50:25:25</td>\n",
       "      <td>NIFTY CONSUMER DURABLES</td>\n",
       "      <td>NIFTY200 QUALITY 30</td>\n",
       "      <td>NIFTY INDIA MANUFACTURING</td>\n",
       "      <td>None</td>\n",
       "    </tr>\n",
       "    <tr>\n",
       "      <th>14</th>\n",
       "      <td>NIFTY LARGEMIDCAP 250</td>\n",
       "      <td>NIFTY OIL &amp; GAS</td>\n",
       "      <td>NIFTY ALPHA LOW-VOLATILITY 30</td>\n",
       "      <td>None</td>\n",
       "      <td>None</td>\n",
       "    </tr>\n",
       "    <tr>\n",
       "      <th>15</th>\n",
       "      <td>NIFTY MIDCAP SELECT</td>\n",
       "      <td>None</td>\n",
       "      <td>NIFTY200 MOMENTUM 30</td>\n",
       "      <td>None</td>\n",
       "      <td>None</td>\n",
       "    </tr>\n",
       "    <tr>\n",
       "      <th>16</th>\n",
       "      <td>NIFTY TOTAL MARKET</td>\n",
       "      <td>None</td>\n",
       "      <td>NIFTY MIDCAP150 QUALITY 50</td>\n",
       "      <td>None</td>\n",
       "      <td>None</td>\n",
       "    </tr>\n",
       "    <tr>\n",
       "      <th>17</th>\n",
       "      <td>NIFTY MICROCAP 250</td>\n",
       "      <td>None</td>\n",
       "      <td>None</td>\n",
       "      <td>None</td>\n",
       "      <td>None</td>\n",
       "    </tr>\n",
       "  </tbody>\n",
       "</table>\n",
       "</div>"
      ],
      "text/plain": [
       "                 broad_indices                  sector_indices  \\\n",
       "0                     NIFTY 50                      NIFTY BANK   \n",
       "1                NIFTY NEXT 50                      NIFTY AUTO   \n",
       "2                    NIFTY 100        NIFTY FINANCIAL SERVICES   \n",
       "3                    NIFTY 200  NIFTY FINANCIAL SERVICES 25/50   \n",
       "4                    NIFTY 500                      NIFTY FMCG   \n",
       "5              NIFTY MIDCAP 50                        NIFTY IT   \n",
       "6             NIFTY MIDCAP 100                     NIFTY MEDIA   \n",
       "7           NIFTY SMALLCAP 100                     NIFTY METAL   \n",
       "8                    INDIA VIX                    NIFTY PHARMA   \n",
       "9             NIFTY MIDCAP 150                  NIFTY PSU BANK   \n",
       "10           NIFTY SMALLCAP 50              NIFTY PRIVATE BANK   \n",
       "11          NIFTY SMALLCAP 250                    NIFTY REALTY   \n",
       "12       NIFTY MIDSMALLCAP 400          NIFTY HEALTHCARE INDEX   \n",
       "13  NIFTY500 MULTICAP 50:25:25         NIFTY CONSUMER DURABLES   \n",
       "14       NIFTY LARGEMIDCAP 250                 NIFTY OIL & GAS   \n",
       "15         NIFTY MIDCAP SELECT                            None   \n",
       "16          NIFTY TOTAL MARKET                            None   \n",
       "17          NIFTY MICROCAP 250                            None   \n",
       "\n",
       "                   strategy_indices             thematic_indices  \\\n",
       "0   NIFTY DIVIDEND OPPORTUNITIES 50            NIFTY COMMODITIES   \n",
       "1           NIFTY GROWTH SECTORS 15      NIFTY INDIA CONSUMPTION   \n",
       "2               NIFTY100 QUALITY 30                   NIFTY CPSE   \n",
       "3                  NIFTY50 VALUE 20                 NIFTY ENERGY   \n",
       "4            NIFTY50 TR 2X LEVERAGE         NIFTY INFRASTRUCTURE   \n",
       "5            NIFTY50 PR 2X LEVERAGE           NIFTY100 LIQUID 15   \n",
       "6             NIFTY50 TR 1X INVERSE       NIFTY MIDCAP LIQUID 15   \n",
       "7             NIFTY50 PR 1X INVERSE                    NIFTY MNC   \n",
       "8           NIFTY50 DIVIDEND POINTS                    NIFTY PSE   \n",
       "9                    NIFTY ALPHA 50        NIFTY SERVICES SECTOR   \n",
       "10             NIFTY50 EQUAL WEIGHT  NIFTY100 ESG SECTOR LEADERS   \n",
       "11            NIFTY100 EQUAL WEIGHT          NIFTY INDIA DIGITAL   \n",
       "12       NIFTY100 LOW VOLATILITY 30                 NIFTY100 ESG   \n",
       "13              NIFTY200 QUALITY 30    NIFTY INDIA MANUFACTURING   \n",
       "14    NIFTY ALPHA LOW-VOLATILITY 30                         None   \n",
       "15             NIFTY200 MOMENTUM 30                         None   \n",
       "16       NIFTY MIDCAP150 QUALITY 50                         None   \n",
       "17                             None                         None   \n",
       "\n",
       "                         fixed_income_indices  \n",
       "0                         NIFTY 8-13 YR G-SEC  \n",
       "1                 NIFTY 10 YR BENCHMARK G-SEC  \n",
       "2   NIFTY 10 YR BENCHMARK G-SEC (CLEAN PRICE)  \n",
       "3                    NIFTY 4-8 YR G-SEC INDEX  \n",
       "4                  NIFTY 11-15 YR G-SEC INDEX  \n",
       "5           NIFTY 15 YR AND ABOVE G-SEC INDEX  \n",
       "6                 NIFTY COMPOSITE G-SEC INDEX  \n",
       "7                                        None  \n",
       "8                                        None  \n",
       "9                                        None  \n",
       "10                                       None  \n",
       "11                                       None  \n",
       "12                                       None  \n",
       "13                                       None  \n",
       "14                                       None  \n",
       "15                                       None  \n",
       "16                                       None  \n",
       "17                                       None  "
      ]
     },
     "execution_count": 139,
     "metadata": {},
     "output_type": "execute_result"
    }
   ],
   "source": [
    "df"
   ]
  },
  {
   "cell_type": "code",
   "execution_count": 140,
   "metadata": {},
   "outputs": [],
   "source": [
    "df.to_csv('all indices nse.csv',index=False)"
   ]
  },
  {
   "cell_type": "code",
   "execution_count": 141,
   "metadata": {},
   "outputs": [],
   "source": [
    "ain = pd.read_csv('all indices nse.csv')"
   ]
  },
  {
   "cell_type": "code",
   "execution_count": 142,
   "metadata": {},
   "outputs": [
    {
     "data": {
      "text/html": [
       "<div>\n",
       "<style scoped>\n",
       "    .dataframe tbody tr th:only-of-type {\n",
       "        vertical-align: middle;\n",
       "    }\n",
       "\n",
       "    .dataframe tbody tr th {\n",
       "        vertical-align: top;\n",
       "    }\n",
       "\n",
       "    .dataframe thead th {\n",
       "        text-align: right;\n",
       "    }\n",
       "</style>\n",
       "<table border=\"1\" class=\"dataframe\">\n",
       "  <thead>\n",
       "    <tr style=\"text-align: right;\">\n",
       "      <th></th>\n",
       "      <th>broad_indices</th>\n",
       "      <th>sector_indices</th>\n",
       "      <th>strategy_indices</th>\n",
       "      <th>thematic_indices</th>\n",
       "      <th>fixed_income_indices</th>\n",
       "    </tr>\n",
       "  </thead>\n",
       "  <tbody>\n",
       "    <tr>\n",
       "      <th>0</th>\n",
       "      <td>NIFTY 50</td>\n",
       "      <td>NIFTY BANK</td>\n",
       "      <td>NIFTY DIVIDEND OPPORTUNITIES 50</td>\n",
       "      <td>NIFTY COMMODITIES</td>\n",
       "      <td>NIFTY 8-13 YR G-SEC</td>\n",
       "    </tr>\n",
       "    <tr>\n",
       "      <th>1</th>\n",
       "      <td>NIFTY NEXT 50</td>\n",
       "      <td>NIFTY AUTO</td>\n",
       "      <td>NIFTY GROWTH SECTORS 15</td>\n",
       "      <td>NIFTY INDIA CONSUMPTION</td>\n",
       "      <td>NIFTY 10 YR BENCHMARK G-SEC</td>\n",
       "    </tr>\n",
       "    <tr>\n",
       "      <th>2</th>\n",
       "      <td>NIFTY 100</td>\n",
       "      <td>NIFTY FINANCIAL SERVICES</td>\n",
       "      <td>NIFTY100 QUALITY 30</td>\n",
       "      <td>NIFTY CPSE</td>\n",
       "      <td>NIFTY 10 YR BENCHMARK G-SEC (CLEAN PRICE)</td>\n",
       "    </tr>\n",
       "    <tr>\n",
       "      <th>3</th>\n",
       "      <td>NIFTY 200</td>\n",
       "      <td>NIFTY FINANCIAL SERVICES 25/50</td>\n",
       "      <td>NIFTY50 VALUE 20</td>\n",
       "      <td>NIFTY ENERGY</td>\n",
       "      <td>NIFTY 4-8 YR G-SEC INDEX</td>\n",
       "    </tr>\n",
       "    <tr>\n",
       "      <th>4</th>\n",
       "      <td>NIFTY 500</td>\n",
       "      <td>NIFTY FMCG</td>\n",
       "      <td>NIFTY50 TR 2X LEVERAGE</td>\n",
       "      <td>NIFTY INFRASTRUCTURE</td>\n",
       "      <td>NIFTY 11-15 YR G-SEC INDEX</td>\n",
       "    </tr>\n",
       "    <tr>\n",
       "      <th>5</th>\n",
       "      <td>NIFTY MIDCAP 50</td>\n",
       "      <td>NIFTY IT</td>\n",
       "      <td>NIFTY50 PR 2X LEVERAGE</td>\n",
       "      <td>NIFTY100 LIQUID 15</td>\n",
       "      <td>NIFTY 15 YR AND ABOVE G-SEC INDEX</td>\n",
       "    </tr>\n",
       "    <tr>\n",
       "      <th>6</th>\n",
       "      <td>NIFTY MIDCAP 100</td>\n",
       "      <td>NIFTY MEDIA</td>\n",
       "      <td>NIFTY50 TR 1X INVERSE</td>\n",
       "      <td>NIFTY MIDCAP LIQUID 15</td>\n",
       "      <td>NIFTY COMPOSITE G-SEC INDEX</td>\n",
       "    </tr>\n",
       "    <tr>\n",
       "      <th>7</th>\n",
       "      <td>NIFTY SMALLCAP 100</td>\n",
       "      <td>NIFTY METAL</td>\n",
       "      <td>NIFTY50 PR 1X INVERSE</td>\n",
       "      <td>NIFTY MNC</td>\n",
       "      <td>NaN</td>\n",
       "    </tr>\n",
       "    <tr>\n",
       "      <th>8</th>\n",
       "      <td>INDIA VIX</td>\n",
       "      <td>NIFTY PHARMA</td>\n",
       "      <td>NIFTY50 DIVIDEND POINTS</td>\n",
       "      <td>NIFTY PSE</td>\n",
       "      <td>NaN</td>\n",
       "    </tr>\n",
       "    <tr>\n",
       "      <th>9</th>\n",
       "      <td>NIFTY MIDCAP 150</td>\n",
       "      <td>NIFTY PSU BANK</td>\n",
       "      <td>NIFTY ALPHA 50</td>\n",
       "      <td>NIFTY SERVICES SECTOR</td>\n",
       "      <td>NaN</td>\n",
       "    </tr>\n",
       "    <tr>\n",
       "      <th>10</th>\n",
       "      <td>NIFTY SMALLCAP 50</td>\n",
       "      <td>NIFTY PRIVATE BANK</td>\n",
       "      <td>NIFTY50 EQUAL WEIGHT</td>\n",
       "      <td>NIFTY100 ESG SECTOR LEADERS</td>\n",
       "      <td>NaN</td>\n",
       "    </tr>\n",
       "    <tr>\n",
       "      <th>11</th>\n",
       "      <td>NIFTY SMALLCAP 250</td>\n",
       "      <td>NIFTY REALTY</td>\n",
       "      <td>NIFTY100 EQUAL WEIGHT</td>\n",
       "      <td>NIFTY INDIA DIGITAL</td>\n",
       "      <td>NaN</td>\n",
       "    </tr>\n",
       "    <tr>\n",
       "      <th>12</th>\n",
       "      <td>NIFTY MIDSMALLCAP 400</td>\n",
       "      <td>NIFTY HEALTHCARE INDEX</td>\n",
       "      <td>NIFTY100 LOW VOLATILITY 30</td>\n",
       "      <td>NIFTY100 ESG</td>\n",
       "      <td>NaN</td>\n",
       "    </tr>\n",
       "    <tr>\n",
       "      <th>13</th>\n",
       "      <td>NIFTY500 MULTICAP 50:25:25</td>\n",
       "      <td>NIFTY CONSUMER DURABLES</td>\n",
       "      <td>NIFTY200 QUALITY 30</td>\n",
       "      <td>NIFTY INDIA MANUFACTURING</td>\n",
       "      <td>NaN</td>\n",
       "    </tr>\n",
       "    <tr>\n",
       "      <th>14</th>\n",
       "      <td>NIFTY LARGEMIDCAP 250</td>\n",
       "      <td>NIFTY OIL &amp; GAS</td>\n",
       "      <td>NIFTY ALPHA LOW-VOLATILITY 30</td>\n",
       "      <td>NaN</td>\n",
       "      <td>NaN</td>\n",
       "    </tr>\n",
       "    <tr>\n",
       "      <th>15</th>\n",
       "      <td>NIFTY MIDCAP SELECT</td>\n",
       "      <td>NaN</td>\n",
       "      <td>NIFTY200 MOMENTUM 30</td>\n",
       "      <td>NaN</td>\n",
       "      <td>NaN</td>\n",
       "    </tr>\n",
       "    <tr>\n",
       "      <th>16</th>\n",
       "      <td>NIFTY TOTAL MARKET</td>\n",
       "      <td>NaN</td>\n",
       "      <td>NIFTY MIDCAP150 QUALITY 50</td>\n",
       "      <td>NaN</td>\n",
       "      <td>NaN</td>\n",
       "    </tr>\n",
       "    <tr>\n",
       "      <th>17</th>\n",
       "      <td>NIFTY MICROCAP 250</td>\n",
       "      <td>NaN</td>\n",
       "      <td>NaN</td>\n",
       "      <td>NaN</td>\n",
       "      <td>NaN</td>\n",
       "    </tr>\n",
       "  </tbody>\n",
       "</table>\n",
       "</div>"
      ],
      "text/plain": [
       "                 broad_indices                  sector_indices  \\\n",
       "0                     NIFTY 50                      NIFTY BANK   \n",
       "1                NIFTY NEXT 50                      NIFTY AUTO   \n",
       "2                    NIFTY 100        NIFTY FINANCIAL SERVICES   \n",
       "3                    NIFTY 200  NIFTY FINANCIAL SERVICES 25/50   \n",
       "4                    NIFTY 500                      NIFTY FMCG   \n",
       "5              NIFTY MIDCAP 50                        NIFTY IT   \n",
       "6             NIFTY MIDCAP 100                     NIFTY MEDIA   \n",
       "7           NIFTY SMALLCAP 100                     NIFTY METAL   \n",
       "8                    INDIA VIX                    NIFTY PHARMA   \n",
       "9             NIFTY MIDCAP 150                  NIFTY PSU BANK   \n",
       "10           NIFTY SMALLCAP 50              NIFTY PRIVATE BANK   \n",
       "11          NIFTY SMALLCAP 250                    NIFTY REALTY   \n",
       "12       NIFTY MIDSMALLCAP 400          NIFTY HEALTHCARE INDEX   \n",
       "13  NIFTY500 MULTICAP 50:25:25         NIFTY CONSUMER DURABLES   \n",
       "14       NIFTY LARGEMIDCAP 250                 NIFTY OIL & GAS   \n",
       "15         NIFTY MIDCAP SELECT                             NaN   \n",
       "16          NIFTY TOTAL MARKET                             NaN   \n",
       "17          NIFTY MICROCAP 250                             NaN   \n",
       "\n",
       "                   strategy_indices             thematic_indices  \\\n",
       "0   NIFTY DIVIDEND OPPORTUNITIES 50            NIFTY COMMODITIES   \n",
       "1           NIFTY GROWTH SECTORS 15      NIFTY INDIA CONSUMPTION   \n",
       "2               NIFTY100 QUALITY 30                   NIFTY CPSE   \n",
       "3                  NIFTY50 VALUE 20                 NIFTY ENERGY   \n",
       "4            NIFTY50 TR 2X LEVERAGE         NIFTY INFRASTRUCTURE   \n",
       "5            NIFTY50 PR 2X LEVERAGE           NIFTY100 LIQUID 15   \n",
       "6             NIFTY50 TR 1X INVERSE       NIFTY MIDCAP LIQUID 15   \n",
       "7             NIFTY50 PR 1X INVERSE                    NIFTY MNC   \n",
       "8           NIFTY50 DIVIDEND POINTS                    NIFTY PSE   \n",
       "9                    NIFTY ALPHA 50        NIFTY SERVICES SECTOR   \n",
       "10             NIFTY50 EQUAL WEIGHT  NIFTY100 ESG SECTOR LEADERS   \n",
       "11            NIFTY100 EQUAL WEIGHT          NIFTY INDIA DIGITAL   \n",
       "12       NIFTY100 LOW VOLATILITY 30                 NIFTY100 ESG   \n",
       "13              NIFTY200 QUALITY 30    NIFTY INDIA MANUFACTURING   \n",
       "14    NIFTY ALPHA LOW-VOLATILITY 30                          NaN   \n",
       "15             NIFTY200 MOMENTUM 30                          NaN   \n",
       "16       NIFTY MIDCAP150 QUALITY 50                          NaN   \n",
       "17                              NaN                          NaN   \n",
       "\n",
       "                         fixed_income_indices  \n",
       "0                         NIFTY 8-13 YR G-SEC  \n",
       "1                 NIFTY 10 YR BENCHMARK G-SEC  \n",
       "2   NIFTY 10 YR BENCHMARK G-SEC (CLEAN PRICE)  \n",
       "3                    NIFTY 4-8 YR G-SEC INDEX  \n",
       "4                  NIFTY 11-15 YR G-SEC INDEX  \n",
       "5           NIFTY 15 YR AND ABOVE G-SEC INDEX  \n",
       "6                 NIFTY COMPOSITE G-SEC INDEX  \n",
       "7                                         NaN  \n",
       "8                                         NaN  \n",
       "9                                         NaN  \n",
       "10                                        NaN  \n",
       "11                                        NaN  \n",
       "12                                        NaN  \n",
       "13                                        NaN  \n",
       "14                                        NaN  \n",
       "15                                        NaN  \n",
       "16                                        NaN  \n",
       "17                                        NaN  "
      ]
     },
     "execution_count": 142,
     "metadata": {},
     "output_type": "execute_result"
    }
   ],
   "source": [
    "ain"
   ]
  },
  {
   "cell_type": "code",
   "execution_count": null,
   "metadata": {},
   "outputs": [],
   "source": []
  }
 ],
 "metadata": {
  "kernelspec": {
   "display_name": "Python 3",
   "language": "python",
   "name": "python3"
  },
  "language_info": {
   "codemirror_mode": {
    "name": "ipython",
    "version": 3
   },
   "file_extension": ".py",
   "mimetype": "text/x-python",
   "name": "python",
   "nbconvert_exporter": "python",
   "pygments_lexer": "ipython3",
   "version": "3.8.5"
  }
 },
 "nbformat": 4,
 "nbformat_minor": 4
}
