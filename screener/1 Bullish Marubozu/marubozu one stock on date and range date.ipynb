{
 "cells": [
  {
   "cell_type": "code",
   "execution_count": 1,
   "metadata": {},
   "outputs": [],
   "source": [
    "from datetime import date\n",
    "import datetime\n",
    "from nsepy.history import get_price_list\n",
    "import yfinance as yf\n",
    "import pandas as pd\n",
    "\n",
    "from SingleCandlesticks import BullishMarubozu as BM\n"
   ]
  },
  {
   "cell_type": "markdown",
   "metadata": {},
   "source": [
    "## Bullish Marubozu of one stock on paricular date"
   ]
  },
  {
   "cell_type": "code",
   "execution_count": 2,
   "metadata": {},
   "outputs": [
    {
     "name": "stdout",
     "output_type": "stream",
     "text": [
      "Enter stock name : sbin\n"
     ]
    }
   ],
   "source": [
    "stock=input(\"Enter stock name : \")"
   ]
  },
  {
   "cell_type": "code",
   "execution_count": 33,
   "metadata": {},
   "outputs": [
    {
     "name": "stdout",
     "output_type": "stream",
     "text": [
      "Enter date : \n",
      "Enter Year :2021\n",
      "Enter Month :1\n",
      "Enter Date :1\n"
     ]
    }
   ],
   "source": [
    "\n",
    "print(\"Enter date : \")\n",
    "y=input(\"Enter Year :\")\n",
    "m=input(\"Enter Month :\")\n",
    "d=input(\"Enter Date :\")"
   ]
  },
  {
   "cell_type": "code",
   "execution_count": 34,
   "metadata": {},
   "outputs": [
    {
     "name": "stdout",
     "output_type": "stream",
     "text": [
      "2021-01-01\n",
      "2021-01-02\n"
     ]
    }
   ],
   "source": [
    "sdate=date(int(y),int(m),int(d))\n",
    "edate=sdate+datetime.timedelta(1)\n",
    "print(sdate)\n",
    "print(edate)"
   ]
  },
  {
   "cell_type": "code",
   "execution_count": 12,
   "metadata": {},
   "outputs": [
    {
     "name": "stdout",
     "output_type": "stream",
     "text": [
      "1095\n",
      "Valid intervals: [1d, 5d, 1wk, 1mo, 3mo]\n",
      "Enter time frame : 1d\n",
      "1d\n"
     ]
    }
   ],
   "source": [
    "if(sdate>date.today()):\n",
    "    diff=sdate-date.today()\n",
    "    #print(\"sdate > \")\n",
    "    diff=int(str(diff).split()[0])\n",
    "\n",
    "if(date.today()>sdate):\n",
    "    diff=date.today()-sdate\n",
    "    #print(\"sdate <\")\n",
    "    diff=int(str(diff).split()[0])\n",
    "\n",
    "if(date.today()==sdate):\n",
    "    diff=int(0)\n",
    "    #print(\"=\")\n",
    "\n",
    "    \n",
    "print(str(diff).split()[0])\n",
    "\n",
    "tstr=\"\"\n",
    "ds=\"\"\n",
    "if(int(diff)>730):\n",
    "    print(\"Valid intervals: [1d, 5d, 1wk, 1mo, 3mo]\")\n",
    "    tf=input(\"Enter time frame : \")\n",
    "\n",
    "    ## To covert the string into lower ( ex. 1m = M)\n",
    "    tstr=\"\" #timeframestring\n",
    "    ds=\"\"   # date string\n",
    "    for word in tf:\n",
    "        if(word).isalpha():\n",
    "            tstr=str(tstr)+str(word)\n",
    "        if(word).isdigit():\n",
    "            ds=str(ds)+str(word)\n",
    "    tf=ds+(tstr).lower()\n",
    "    print(tf) \n",
    "\n",
    "    if(tf not in ('1d', '5d', '1wk', '1mo', '3mo')):\n",
    "        print(\"Invalid Time Frame\")\n",
    "        td=\"\"\n",
    "\n",
    "\n",
    "if(int(diff)>60 and int(diff)<=730):\n",
    "    print(\"Valid intervals: [1h, 1d, 5d, 1wk, 1mo, 3mo]\")\n",
    "    tf=input(\"Enter time frame : \")\n",
    "    ## To covert the string into lower ( ex. 1m = M)\n",
    "    tstr=\"\" #timeframestring\n",
    "    dstr=\"\" # date string\n",
    "    for word in tf:\n",
    "        if(word).isalpha():\n",
    "            tstr=str(tstr)+str(word)\n",
    "        if(word).isdigit():\n",
    "            ds=str(ds)+str(word)\n",
    "    tf=ds+(tstr).lower()\n",
    "    print(tf) \n",
    "    if(tf not in ('1h', '1d', '5d', '1wk', '1mo', '3mo')):\n",
    "        print(\"Invalid Time Frame\")\n",
    "        td=\"\"\n",
    "\n",
    "if(int(diff)>7 and int(diff)<=60):\n",
    "    print(\"Valid intervals: ['2m', '5m', '15m', '30m', '60m', '90m',1h, 1d, 5d, 1wk, 1mo, 3mo]\")\n",
    "    tf=input(\"Enter time frame : \")\n",
    "   ## To covert the string into lower ( ex. 1m = M)\n",
    "    tstr=\"\" #timeframestring\n",
    "    ds=\"\" # date string\n",
    "    for word in tf:\n",
    "        if(word).isalpha():\n",
    "            tstr=str(tstr)+str(word)\n",
    "        if(word).isdigit():\n",
    "            ds=str(ds)+str(word)\n",
    "    tf=ds+(tstr).lower()\n",
    "    print(tf) \n",
    "    if(tf not in ('2m', '5m', '15m', '30m', '60m', '90m','1h', '1d', '5d', '1wk', '1mo', '3mo')):\n",
    "        print(\"Invalid Time Frame\")\n",
    "        tf=\"\"\n",
    "\n",
    "if(int(diff)>0 and int(diff)<=7):\n",
    "    print(\"Valid intervals: ['1m',2m', '5m', '15m', '30m', '60m', '90m',1h, 1d, 5d, 1wk, 1mo, 3mo]\")\n",
    "    tf=input(\"Enter time frame : \")\n",
    "   ## To covert the string into lower ( ex. 1m = M)\n",
    "    tstr=\"\" #timeframestring\n",
    "    ds=\"\"  # date sring\n",
    "    for word in tf:\n",
    "        if(word).isalpha():\n",
    "            tstr=str(tstr)+str(word)\n",
    "        if(word).isdigit():\n",
    "            ds=str(ds)+str(word)\n",
    "    tf=ds+(tstr).lower()\n",
    "    print(tf)   \n",
    "    if(tf not in ('1m','2m', '5m', '15m', '30m', '60m', '90m','1h', '1d', '5d', '1wk', '1mo', '3mo')):\n",
    "        print(\"Invalid Time Frame\")\n",
    "        tf=\"\"\n"
   ]
  },
  {
   "cell_type": "code",
   "execution_count": 13,
   "metadata": {},
   "outputs": [
    {
     "name": "stdout",
     "output_type": "stream",
     "text": [
      "[*********************100%***********************]  1 of 1 completed\n"
     ]
    }
   ],
   "source": [
    "try:\n",
    "    df=yf.download(tickers=stock+'.NS',start=sdate,end=edate,interval=tf)\n",
    "    if(len(df)==0):\n",
    "        print(\"Invalid Date ( Or Holiday )\")\n",
    "except:\n",
    "    print(\"Invalid Date ( Or Holiday )\")"
   ]
  },
  {
   "cell_type": "code",
   "execution_count": 14,
   "metadata": {},
   "outputs": [
    {
     "data": {
      "text/html": [
       "<div>\n",
       "<style scoped>\n",
       "    .dataframe tbody tr th:only-of-type {\n",
       "        vertical-align: middle;\n",
       "    }\n",
       "\n",
       "    .dataframe tbody tr th {\n",
       "        vertical-align: top;\n",
       "    }\n",
       "\n",
       "    .dataframe thead th {\n",
       "        text-align: right;\n",
       "    }\n",
       "</style>\n",
       "<table border=\"1\" class=\"dataframe\">\n",
       "  <thead>\n",
       "    <tr style=\"text-align: right;\">\n",
       "      <th></th>\n",
       "      <th>Open</th>\n",
       "      <th>High</th>\n",
       "      <th>Low</th>\n",
       "      <th>Close</th>\n",
       "      <th>Adj Close</th>\n",
       "      <th>Volume</th>\n",
       "    </tr>\n",
       "    <tr>\n",
       "      <th>Date</th>\n",
       "      <th></th>\n",
       "      <th></th>\n",
       "      <th></th>\n",
       "      <th></th>\n",
       "      <th></th>\n",
       "      <th></th>\n",
       "    </tr>\n",
       "  </thead>\n",
       "  <tbody>\n",
       "    <tr>\n",
       "      <th>2019-01-01</th>\n",
       "      <td>297.5</td>\n",
       "      <td>300.700012</td>\n",
       "      <td>293.850006</td>\n",
       "      <td>299.600006</td>\n",
       "      <td>296.859253</td>\n",
       "      <td>11837127</td>\n",
       "    </tr>\n",
       "  </tbody>\n",
       "</table>\n",
       "</div>"
      ],
      "text/plain": [
       "             Open        High         Low       Close   Adj Close    Volume\n",
       "Date                                                                       \n",
       "2019-01-01  297.5  300.700012  293.850006  299.600006  296.859253  11837127"
      ]
     },
     "execution_count": 14,
     "metadata": {},
     "output_type": "execute_result"
    }
   ],
   "source": [
    "df.head()"
   ]
  },
  {
   "cell_type": "code",
   "execution_count": 15,
   "metadata": {},
   "outputs": [
    {
     "name": "stdout",
     "output_type": "stream",
     "text": [
      "---------------Bullish Marubozu----------------\n",
      "---------------Bearish Marubozu----------------\n"
     ]
    }
   ],
   "source": [
    "BM.getbullishmarobozu(df)"
   ]
  },
  {
   "cell_type": "markdown",
   "metadata": {},
   "source": [
    "## Bullish Marubozu of one stock in range (from - to)"
   ]
  },
  {
   "cell_type": "code",
   "execution_count": 43,
   "metadata": {},
   "outputs": [
    {
     "name": "stdout",
     "output_type": "stream",
     "text": [
      "Enter stock name : sbin\n"
     ]
    }
   ],
   "source": [
    "stock=input(\"Enter stock name : \")"
   ]
  },
  {
   "cell_type": "code",
   "execution_count": 45,
   "metadata": {},
   "outputs": [
    {
     "name": "stdout",
     "output_type": "stream",
     "text": [
      "Enter start date : \n",
      "Enter Year :2021\n",
      "Enter Month :1\n",
      "Enter Date :1\n",
      "<class 'datetime.date'> 2021-01-01\n"
     ]
    }
   ],
   "source": [
    "print(\"Enter start date : \")\n",
    "y=input(\"Enter Year :\")\n",
    "m=input(\"Enter Month :\")\n",
    "d=input(\"Enter Date :\")\n",
    "sdate=date(int(y),int(m),int(d))\n",
    "print(str(type(sdate))+\" \"+str(sdate))"
   ]
  },
  {
   "cell_type": "code",
   "execution_count": 46,
   "metadata": {},
   "outputs": [
    {
     "name": "stdout",
     "output_type": "stream",
     "text": [
      "Enter end date : \n",
      "Enter Year :2021\n",
      "Enter Month :12\n",
      "Enter Date :31\n",
      "<class 'datetime.date'> 2021-12-31\n"
     ]
    }
   ],
   "source": [
    "print(\"Enter end date : \")\n",
    "y=input(\"Enter Year :\")\n",
    "m=input(\"Enter Month :\")\n",
    "d=input(\"Enter Date :\")\n",
    "edate=date(int(y),int(m),int(d))\n",
    "print(str(type(edate))+\" \"+str(edate))"
   ]
  },
  {
   "cell_type": "code",
   "execution_count": 47,
   "metadata": {},
   "outputs": [
    {
     "name": "stdout",
     "output_type": "stream",
     "text": [
      "364 days, 0:00:00\n",
      "364\n"
     ]
    }
   ],
   "source": [
    "diff=0;\n",
    "if(date.today()>sdate):\n",
    "    diff=date.today()-sdate\n",
    "elif(sdate>date.today()):\n",
    "    diff=sdate-date.today()\n",
    "elif(sdate==date.today()):\n",
    "    diff=0\n",
    "print(diff)\n",
    "diff=int(str(diff).split()[0])\n",
    "print(diff)"
   ]
  },
  {
   "cell_type": "code",
   "execution_count": 48,
   "metadata": {},
   "outputs": [
    {
     "name": "stdout",
     "output_type": "stream",
     "text": [
      "Valid intervals: [1h, 1d, 5d, 1wk, 1mo, 3mo]\n",
      "Enter time frame : 1H\n",
      "1h\n"
     ]
    }
   ],
   "source": [
    "    tstr=\"\"\n",
    "    ds=\"\"\n",
    "    if(int(diff)>=730):\n",
    "        print(\"Valid intervals: [1d, 5d, 1wk, 1mo, 3mo]\")\n",
    "        tf=input(\"Enter time frame : \")\n",
    "                \n",
    "        ## To covert the string into lower ( ex. 1m = M)\n",
    "        tstr=\"\" #timeframestring\n",
    "        ds=\"\"   # date string\n",
    "        for word in tf:\n",
    "            if(word).isalpha():\n",
    "                tstr=str(tstr)+str(word)\n",
    "            if(word).isdigit():\n",
    "                ds=str(ds)+str(word)\n",
    "        tf=ds+(tstr).lower()\n",
    "        print(tf) \n",
    "        \n",
    "        if(tf not in ('1d', '5d', '1wk', '1mo', '3mo')):\n",
    "            print(\"Invalid Time Frame\")\n",
    "            td=\"\"\n",
    "    \n",
    "    \n",
    "    if(int(diff)>60 and int(diff)<730):\n",
    "        print(\"Valid intervals: [1h, 1d, 5d, 1wk, 1mo, 3mo]\")\n",
    "        tf=input(\"Enter time frame : \")\n",
    "        ## To covert the string into lower ( ex. 1m = M)\n",
    "        tstr=\"\" #timeframestring\n",
    "        dstr=\"\" # date string\n",
    "        for word in tf:\n",
    "            if(word).isalpha():\n",
    "                tstr=str(tstr)+str(word)\n",
    "            if(word).isdigit():\n",
    "                ds=str(ds)+str(word)\n",
    "        tf=ds+(tstr).lower()\n",
    "        print(tf) \n",
    "        if(tf not in ('1h', '1d', '5d', '1wk', '1mo', '3mo')):\n",
    "            print(\"Invalid Time Frame\")\n",
    "            td=\"\"\n",
    "    \n",
    "    if(int(diff)>7 and int(diff)<=60):\n",
    "        print(\"Valid intervals: ['2m', '5m', '15m', '30m', '60m', '90m',1h, 1d, 5d, 1wk, 1mo, 3mo]\")\n",
    "        tf=input(\"Enter time frame : \")\n",
    "       ## To covert the string into lower ( ex. 1m = M)\n",
    "        tstr=\"\" #timeframestring\n",
    "        ds=\"\" # date string\n",
    "        for word in tf:\n",
    "            if(word).isalpha():\n",
    "                tstr=str(tstr)+str(word)\n",
    "            if(word).isdigit():\n",
    "                ds=str(ds)+str(word)\n",
    "        tf=ds+(tstr).lower()\n",
    "        print(tf) \n",
    "        if(tf not in ('2m', '5m', '15m', '30m', '60m', '90m','1h', '1d', '5d', '1wk', '1mo', '3mo')):\n",
    "            print(\"Invalid Time Frame\")\n",
    "            tf=\"\"\n",
    "            \n",
    "    if(int(diff)>0 and int(diff)<=7):\n",
    "        print(\"Valid intervals: ['1m',2m', '5m', '15m', '30m', '60m', '90m',1h, 1d, 5d, 1wk, 1mo, 3mo]\")\n",
    "        tf=input(\"Enter time frame : \")\n",
    "       ## To covert the string into lower ( ex. 1m = M)\n",
    "        tstr=\"\" #timeframestring\n",
    "        ds=\"\"  # date sring\n",
    "        for word in tf:\n",
    "            if(word).isalpha():\n",
    "                tstr=str(tstr)+str(word)\n",
    "            if(word).isdigit():\n",
    "                ds=str(ds)+str(word)\n",
    "        tf=ds+(tstr).lower()\n",
    "        print(tf)   \n",
    "        if(tf not in ('1m','2m', '5m', '15m', '30m', '60m', '90m','1h', '1d', '5d', '1wk', '1mo', '3mo')):\n",
    "            print(\"Invalid Time Frame\")\n",
    "            tf=\"\"\n"
   ]
  },
  {
   "cell_type": "code",
   "execution_count": 49,
   "metadata": {},
   "outputs": [
    {
     "name": "stdout",
     "output_type": "stream",
     "text": [
      "[*********************100%***********************]  1 of 1 completed\n"
     ]
    },
    {
     "data": {
      "text/html": [
       "<div>\n",
       "<style scoped>\n",
       "    .dataframe tbody tr th:only-of-type {\n",
       "        vertical-align: middle;\n",
       "    }\n",
       "\n",
       "    .dataframe tbody tr th {\n",
       "        vertical-align: top;\n",
       "    }\n",
       "\n",
       "    .dataframe thead th {\n",
       "        text-align: right;\n",
       "    }\n",
       "</style>\n",
       "<table border=\"1\" class=\"dataframe\">\n",
       "  <thead>\n",
       "    <tr style=\"text-align: right;\">\n",
       "      <th></th>\n",
       "      <th>Open</th>\n",
       "      <th>High</th>\n",
       "      <th>Low</th>\n",
       "      <th>Close</th>\n",
       "      <th>Adj Close</th>\n",
       "      <th>Volume</th>\n",
       "    </tr>\n",
       "  </thead>\n",
       "  <tbody>\n",
       "    <tr>\n",
       "      <th>2021-01-01 09:15:00+05:30</th>\n",
       "      <td>274.750000</td>\n",
       "      <td>278.500000</td>\n",
       "      <td>274.500000</td>\n",
       "      <td>277.450012</td>\n",
       "      <td>277.450012</td>\n",
       "      <td>0</td>\n",
       "    </tr>\n",
       "    <tr>\n",
       "      <th>2021-01-01 10:15:00+05:30</th>\n",
       "      <td>277.399994</td>\n",
       "      <td>277.899994</td>\n",
       "      <td>276.799988</td>\n",
       "      <td>277.750000</td>\n",
       "      <td>277.750000</td>\n",
       "      <td>2167221</td>\n",
       "    </tr>\n",
       "    <tr>\n",
       "      <th>2021-01-01 11:15:00+05:30</th>\n",
       "      <td>277.750000</td>\n",
       "      <td>278.799988</td>\n",
       "      <td>277.500000</td>\n",
       "      <td>278.399994</td>\n",
       "      <td>278.399994</td>\n",
       "      <td>3578695</td>\n",
       "    </tr>\n",
       "    <tr>\n",
       "      <th>2021-01-01 12:15:00+05:30</th>\n",
       "      <td>278.399994</td>\n",
       "      <td>279.299988</td>\n",
       "      <td>278.100006</td>\n",
       "      <td>278.700012</td>\n",
       "      <td>278.700012</td>\n",
       "      <td>2655765</td>\n",
       "    </tr>\n",
       "    <tr>\n",
       "      <th>2021-01-01 13:15:00+05:30</th>\n",
       "      <td>278.649994</td>\n",
       "      <td>279.500000</td>\n",
       "      <td>277.899994</td>\n",
       "      <td>279.450012</td>\n",
       "      <td>279.450012</td>\n",
       "      <td>2569455</td>\n",
       "    </tr>\n",
       "  </tbody>\n",
       "</table>\n",
       "</div>"
      ],
      "text/plain": [
       "                                 Open        High         Low       Close  \\\n",
       "2021-01-01 09:15:00+05:30  274.750000  278.500000  274.500000  277.450012   \n",
       "2021-01-01 10:15:00+05:30  277.399994  277.899994  276.799988  277.750000   \n",
       "2021-01-01 11:15:00+05:30  277.750000  278.799988  277.500000  278.399994   \n",
       "2021-01-01 12:15:00+05:30  278.399994  279.299988  278.100006  278.700012   \n",
       "2021-01-01 13:15:00+05:30  278.649994  279.500000  277.899994  279.450012   \n",
       "\n",
       "                            Adj Close   Volume  \n",
       "2021-01-01 09:15:00+05:30  277.450012        0  \n",
       "2021-01-01 10:15:00+05:30  277.750000  2167221  \n",
       "2021-01-01 11:15:00+05:30  278.399994  3578695  \n",
       "2021-01-01 12:15:00+05:30  278.700012  2655765  \n",
       "2021-01-01 13:15:00+05:30  279.450012  2569455  "
      ]
     },
     "execution_count": 49,
     "metadata": {},
     "output_type": "execute_result"
    }
   ],
   "source": [
    "try:\n",
    "    df=yf.download(tickers=stock+'.NS',start=sdate,end=edate,interval=tf)\n",
    "    if(len(df)==0):\n",
    "        print(\"Invalid Date ( Or Holiday )\")\n",
    "except:\n",
    "    print(\"Invalid Date ( Or Holiday )\")\n",
    "    \n",
    "df.head()"
   ]
  },
  {
   "cell_type": "code",
   "execution_count": 50,
   "metadata": {},
   "outputs": [
    {
     "name": "stdout",
     "output_type": "stream",
     "text": [
      "---------------Bullish Marubozu----------------\n",
      "2021-01-20 13:15:00+05:30 303.79998779296875\n",
      "2021-02-04 15:15:00+05:30 357.95001220703125\n",
      "2021-02-12 12:15:00+05:30 397.54998779296875\n",
      "2021-02-24 09:15:00+05:30 405.70001220703125\n",
      "2021-03-15 14:15:00+05:30 384.1000061035156\n",
      "2021-04-23 09:15:00+05:30 338.0\n",
      "2021-05-17 09:15:00+05:30 371.3999938964844\n",
      "2021-05-27 14:15:00+05:30 426.5\n",
      "2021-06-21 12:15:00+05:30 413.6499938964844\n",
      "2021-07-05 14:15:00+05:30 432.75\n",
      "2021-08-04 13:15:00+05:30 465.3999938964844\n",
      "2021-08-10 14:15:00+05:30 426.75\n",
      "2021-08-31 14:15:00+05:30 426.79998779296875\n",
      "2021-09-29 14:15:00+05:30 460.54998779296875\n",
      "2021-10-11 13:15:00+05:30 468.8999938964844\n",
      "2021-10-14 09:15:00+05:30 491.3999938964844\n",
      "2021-10-27 12:15:00+05:30 526.2999877929688\n",
      "2021-12-10 14:15:00+05:30 495.29998779296875\n",
      "2021-12-24 13:15:00+05:30 458.5\n",
      "---------------Bearish Marubozu----------------\n",
      "2021-01-27 13:15:00+05:30 274.25\n",
      "2021-02-05 12:15:00+05:30 393.6499938964844\n",
      "2021-02-19 13:15:00+05:30 395.8999938964844\n",
      "2021-02-24 11:15:00+05:30 395.6000061035156\n",
      "2021-03-02 10:15:00+05:30 392.0\n",
      "2021-03-09 12:15:00+05:30 386.20001220703125\n",
      "2021-03-12 13:15:00+05:30 379.0\n",
      "2021-03-18 12:15:00+05:30 369.0\n",
      "2021-03-18 13:15:00+05:30 362.0\n",
      "2021-03-24 14:15:00+05:30 359.20001220703125\n",
      "2021-03-25 10:15:00+05:30 350.8999938964844\n",
      "2021-04-15 10:15:00+05:30 336.6000061035156\n",
      "2021-07-06 14:15:00+05:30 428.8500061035156\n",
      "2021-07-27 12:15:00+05:30 427.54998779296875\n",
      "2021-08-05 09:15:00+05:30 445.70001220703125\n",
      "2021-09-20 13:15:00+05:30 440.8500061035156\n",
      "2021-09-28 12:15:00+05:30 444.25\n",
      "2021-10-27 13:15:00+05:30 520.5\n",
      "2021-10-29 12:15:00+05:30 503.5\n",
      "2021-11-03 14:15:00+05:30 525.7000122070312\n",
      "2021-11-22 10:15:00+05:30 488.25\n",
      "2021-12-06 14:15:00+05:30 464.29998779296875\n"
     ]
    }
   ],
   "source": [
    "BM.getbullishmarobozu(df)"
   ]
  },
  {
   "cell_type": "code",
   "execution_count": null,
   "metadata": {},
   "outputs": [],
   "source": []
  },
  {
   "cell_type": "code",
   "execution_count": null,
   "metadata": {},
   "outputs": [],
   "source": []
  },
  {
   "cell_type": "code",
   "execution_count": null,
   "metadata": {},
   "outputs": [],
   "source": []
  },
  {
   "cell_type": "code",
   "execution_count": null,
   "metadata": {},
   "outputs": [],
   "source": []
  }
 ],
 "metadata": {
  "kernelspec": {
   "display_name": "Python 3",
   "language": "python",
   "name": "python3"
  },
  "language_info": {
   "codemirror_mode": {
    "name": "ipython",
    "version": 3
   },
   "file_extension": ".py",
   "mimetype": "text/x-python",
   "name": "python",
   "nbconvert_exporter": "python",
   "pygments_lexer": "ipython3",
   "version": "3.8.5"
  }
 },
 "nbformat": 4,
 "nbformat_minor": 4
}
