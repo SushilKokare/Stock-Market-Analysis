{
 "cells": [
  {
   "cell_type": "code",
   "execution_count": 2,
   "metadata": {},
   "outputs": [],
   "source": [
    "from datetime import date\n",
    "import datetime\n",
    "from nsepy.history import get_price_list\n",
    "import yfinance as yf\n",
    "import pandas as pd\n",
    "\n",
    "from SingleCandlesticks import BullishMarubozu as BM\n",
    "# Bullish Marubozu of one stock n days back from today\n"
   ]
  },
  {
   "cell_type": "markdown",
   "metadata": {},
   "source": [
    "## Bullish marubozu one stock before n days"
   ]
  },
  {
   "cell_type": "code",
   "execution_count": 46,
   "metadata": {},
   "outputs": [
    {
     "name": "stdout",
     "output_type": "stream",
     "text": [
      "Enter stock name : sbin\n",
      "Enter days back  to find Bullish Marubozu of given stock : \n",
      "Valid days : 1d,5d,1mo,3mo,6mo,1y,2y,5y,10y,ytd,max\n",
      "Enter last how many days ? : 1mo\n",
      "MO\n",
      "\n",
      "30\n",
      "Days = 30\n"
     ]
    }
   ],
   "source": [
    "stock=input(\"Enter stock name : \")\n",
    "\n",
    "print(\"Enter days back  to find Bullish Marubozu of given stock : \")\n",
    "print(\"Valid days : 1d,5d,1mo,3mo,6mo,1y,2y,5y,10y,ytd,max\")\n",
    "days=input(\"Enter last how many days ? : \")\n",
    "\n",
    "\n",
    "\n",
    "## To covert the string into upper ( ex. 1mo = MO)\n",
    "dstr=\"\"\n",
    "for word in days:\n",
    "    if(word).isalpha():\n",
    "        dstr=str(dstr)+str(word)\n",
    "dstr=dstr.upper()\n",
    "print(dstr)\n",
    "\n",
    "if(dstr != 'YTD' and dstr !='MAX'):\n",
    "     \n",
    "    if('D' == dstr):\n",
    "        d=\"\"\n",
    "        print(d)\n",
    "        #d=days.split()\n",
    "        numbers = []\n",
    "        for word in days:\n",
    "            if(word).isdigit():\n",
    "                d=str(d)+str(word)\n",
    "        print(d)\n",
    "        \n",
    "\n",
    "    if('MO' == dstr):\n",
    "        d=\"\"\n",
    "        print(d)\n",
    "        #d=days.split()\n",
    "        numbers = []\n",
    "        for word in days:\n",
    "            if(word).isdigit():\n",
    "                d=str(d)+str(word)\n",
    "        print(int(d)*30)\n",
    "        d=int(d)*30\n",
    "\n",
    "    if('Y' == dstr):\n",
    "        d=\"\"\n",
    "        print(d)\n",
    "        #d=days.split()\n",
    "        numbers = []\n",
    "        for word in days:\n",
    "            if(word).isdigit():\n",
    "                d=str(d)+str(word)\n",
    "        print(int(d)*365)\n",
    "        d=int(d)*365\n",
    "    print(\"Days = \"+str(d))\n",
    "\n"
   ]
  },
  {
   "cell_type": "code",
   "execution_count": 47,
   "metadata": {},
   "outputs": [],
   "source": [
    "# 1m <= 7d , 2m <= 60d, 5m  <= 60d,15m <= 60d , 30m <= 60d , 1h <= 730d"
   ]
  },
  {
   "cell_type": "code",
   "execution_count": 48,
   "metadata": {},
   "outputs": [
    {
     "name": "stdout",
     "output_type": "stream",
     "text": [
      "Valid intervals: ['2m', '5m', '15m', '30m', '60m', '90m',1h, 1d, 5d, 1wk, 1mo, 3mo]\n",
      "Enter time frame : 1D\n",
      "1d\n"
     ]
    }
   ],
   "source": [
    "\n",
    "#if(days != 'ytd' and days !='YTD' and days != 'max' and days != 'MAX'):\n",
    "if(dstr != 'YTD' and dstr !='MAX'):\n",
    "    tstr=\"\"\n",
    "    ds=\"\"\n",
    "    if(int(d)>730):\n",
    "        print(\"Valid intervals: [1d, 5d, 1wk, 1mo, 3mo]\")\n",
    "        tf=input(\"Enter time frame : \")\n",
    "                \n",
    "        ## To covert the string into lower ( ex. 1m = M)\n",
    "        tstr=\"\" #timeframestring\n",
    "        ds=\"\"   # date string\n",
    "        for word in tf:\n",
    "            if(word).isalpha():\n",
    "                tstr=str(tstr)+str(word)\n",
    "            if(word).isdigit():\n",
    "                ds=str(ds)+str(word)\n",
    "        tf=ds+(tstr).lower()\n",
    "        print(tf) \n",
    "        \n",
    "        if(tf not in ('1d', '5d', '1wk', '1mo', '3mo')):\n",
    "            print(\"Invalid Time Frame\")\n",
    "            td=\"\"\n",
    "    \n",
    "    \n",
    "    if(int(d)>60 and int(d)<=730):\n",
    "        print(\"Valid intervals: [1h, 1d, 5d, 1wk, 1mo, 3mo]\")\n",
    "        tf=input(\"Enter time frame : \")\n",
    "        ## To covert the string into lower ( ex. 1m = M)\n",
    "        tstr=\"\" #timeframestring\n",
    "        dstr=\"\" # date string\n",
    "        for word in tf:\n",
    "            if(word).isalpha():\n",
    "                tstr=str(tstr)+str(word)\n",
    "            if(word).isdigit():\n",
    "                ds=str(ds)+str(word)\n",
    "        tf=ds+(tstr).lower()\n",
    "        print(tf) \n",
    "        if(tf not in ('1h', '1d', '5d', '1wk', '1mo', '3mo')):\n",
    "            print(\"Invalid Time Frame\")\n",
    "            td=\"\"\n",
    "    \n",
    "    if(int(d)>7 and int(d)<=60):\n",
    "        print(\"Valid intervals: ['2m', '5m', '15m', '30m', '60m', '90m',1h, 1d, 5d, 1wk, 1mo, 3mo]\")\n",
    "        tf=input(\"Enter time frame : \")\n",
    "       ## To covert the string into lower ( ex. 1m = M)\n",
    "        tstr=\"\" #timeframestring\n",
    "        ds=\"\" # date string\n",
    "        for word in tf:\n",
    "            if(word).isalpha():\n",
    "                tstr=str(tstr)+str(word)\n",
    "            if(word).isdigit():\n",
    "                ds=str(ds)+str(word)\n",
    "        tf=ds+(tstr).lower()\n",
    "        print(tf) \n",
    "        if(tf not in ('2m', '5m', '15m', '30m', '60m', '90m','1h', '1d', '5d', '1wk', '1mo', '3mo')):\n",
    "            print(\"Invalid Time Frame\")\n",
    "            tf=\"\"\n",
    "            \n",
    "    if(int(d)>0 and int(d)<=7):\n",
    "        print(\"Valid intervals: ['1m',2m', '5m', '15m', '30m', '60m', '90m',1h, 1d, 5d, 1wk, 1mo, 3mo]\")\n",
    "        tf=input(\"Enter time frame : \")\n",
    "       ## To covert the string into lower ( ex. 1m = M)\n",
    "        tstr=\"\" #timeframestring\n",
    "        ds=\"\"  # date sring\n",
    "        for word in tf:\n",
    "            if(word).isalpha():\n",
    "                tstr=str(tstr)+str(word)\n",
    "            if(word).isdigit():\n",
    "                ds=str(ds)+str(word)\n",
    "        tf=ds+(tstr).lower()\n",
    "        print(tf)   \n",
    "        if(tf not in ('1m','2m', '5m', '15m', '30m', '60m', '90m','1h', '1d', '5d', '1wk', '1mo', '3mo')):\n",
    "            print(\"Invalid Time Frame\")\n",
    "            tf=\"\"\n"
   ]
  },
  {
   "cell_type": "code",
   "execution_count": 49,
   "metadata": {},
   "outputs": [
    {
     "name": "stdout",
     "output_type": "stream",
     "text": [
      "1mo\n"
     ]
    }
   ],
   "source": [
    "print(days)"
   ]
  },
  {
   "cell_type": "code",
   "execution_count": 50,
   "metadata": {},
   "outputs": [
    {
     "name": "stdout",
     "output_type": "stream",
     "text": [
      "[*********************100%***********************]  1 of 1 completed\n",
      "                  Open        High         Low       Close   Adj Close  \\\n",
      "Date                                                                     \n",
      "2021-11-30  468.000000  477.250000  458.000000  460.549988  460.549988   \n",
      "2021-12-01  464.450012  477.250000  464.000000  475.299988  475.299988   \n",
      "2021-12-02  474.500000  478.149994  470.950012  477.000000  477.000000   \n",
      "2021-12-03  475.750000  481.500000  470.049988  473.149994  473.149994   \n",
      "2021-12-06  473.149994  477.000000  463.799988  465.299988  465.299988   \n",
      "\n",
      "              Volume  \n",
      "Date                  \n",
      "2021-11-30  23026652  \n",
      "2021-12-01  17156956  \n",
      "2021-12-02  12962679  \n",
      "2021-12-03  16653993  \n",
      "2021-12-06  14353300  \n"
     ]
    }
   ],
   "source": [
    "try:\n",
    "    df=yf.download(tickers=stock+\".NS\",period=days,interval=tf)\n",
    "    print(df.head())\n",
    "except:\n",
    "    print(\"Error\")"
   ]
  },
  {
   "cell_type": "code",
   "execution_count": 51,
   "metadata": {},
   "outputs": [
    {
     "data": {
      "text/plain": [
       "DatetimeIndex(['2021-11-30', '2021-12-01', '2021-12-02', '2021-12-03',\n",
       "               '2021-12-06', '2021-12-07', '2021-12-08', '2021-12-09',\n",
       "               '2021-12-10', '2021-12-13', '2021-12-14', '2021-12-15',\n",
       "               '2021-12-16', '2021-12-17', '2021-12-20', '2021-12-21',\n",
       "               '2021-12-22', '2021-12-23', '2021-12-24', '2021-12-27',\n",
       "               '2021-12-28', '2021-12-29', '2021-12-30', '2021-12-31'],\n",
       "              dtype='datetime64[ns]', name='Date', freq=None)"
      ]
     },
     "execution_count": 51,
     "metadata": {},
     "output_type": "execute_result"
    }
   ],
   "source": [
    "df.index\n",
    "#df"
   ]
  },
  {
   "cell_type": "code",
   "execution_count": null,
   "metadata": {},
   "outputs": [],
   "source": []
  },
  {
   "cell_type": "code",
   "execution_count": 52,
   "metadata": {},
   "outputs": [
    {
     "name": "stdout",
     "output_type": "stream",
     "text": [
      "---------------Bullish Marubozu----------------\n",
      "2021-12-08 00:00:00 491.54998779296875\n",
      "---------------Bearish Marubozu----------------\n"
     ]
    }
   ],
   "source": [
    "BM.getbullishmarobozu(df)"
   ]
  },
  {
   "cell_type": "code",
   "execution_count": null,
   "metadata": {},
   "outputs": [],
   "source": []
  },
  {
   "cell_type": "code",
   "execution_count": null,
   "metadata": {},
   "outputs": [],
   "source": []
  },
  {
   "cell_type": "code",
   "execution_count": null,
   "metadata": {},
   "outputs": [],
   "source": []
  }
 ],
 "metadata": {
  "kernelspec": {
   "display_name": "Python 3",
   "language": "python",
   "name": "python3"
  },
  "language_info": {
   "codemirror_mode": {
    "name": "ipython",
    "version": 3
   },
   "file_extension": ".py",
   "mimetype": "text/x-python",
   "name": "python",
   "nbconvert_exporter": "python",
   "pygments_lexer": "ipython3",
   "version": "3.8.5"
  }
 },
 "nbformat": 4,
 "nbformat_minor": 4
}
