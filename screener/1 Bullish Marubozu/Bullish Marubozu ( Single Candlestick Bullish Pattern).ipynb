{
 "cells": [
  {
   "cell_type": "code",
   "execution_count": 1,
   "metadata": {},
   "outputs": [],
   "source": [
    "#Task: Bullish Marubozu ( Single Candlestick Bullish Pattern)"
   ]
  },
  {
   "cell_type": "code",
   "execution_count": 2,
   "metadata": {},
   "outputs": [],
   "source": [
    "from datetime import date\n",
    "import datetime\n",
    "from nsepy.history import get_price_list\n",
    "import yfinance as yf\n",
    "import pandas as pd\n",
    "\n",
    "from SingleCandlesticks import BullishMarubozu as BM"
   ]
  },
  {
   "cell_type": "markdown",
   "metadata": {},
   "source": [
    "## Bullish Marubozu Of Stock Of Today Or Latest Date"
   ]
  },
  {
   "cell_type": "code",
   "execution_count": 3,
   "metadata": {},
   "outputs": [
    {
     "name": "stdout",
     "output_type": "stream",
     "text": [
      "2021-12-31\n",
      "[*********************100%***********************]  1 of 1 completed\n",
      "<class 'pandas.core.frame.DataFrame'>\n",
      "              Open         High     Low        Close    Adj Close   Volume\n",
      "Date                                                                      \n",
      "2021-12-31  2373.0  2383.899902  2360.0  2368.149902  2368.149902  4372873\n"
     ]
    }
   ],
   "source": [
    "\n",
    "print(date.today())\n",
    "\n",
    "dated=date.today()\n",
    "\n",
    "dt=yf.download(tickers=\"reliance.ns\",period=\"1d\")\n",
    "print(type(dt))\n",
    "print(dt)"
   ]
  },
  {
   "cell_type": "code",
   "execution_count": 4,
   "metadata": {},
   "outputs": [],
   "source": [
    "for i in dt.index:\n",
    "    d=str(i)\n",
    "d=d.split()\n",
    "d=d[0]\n",
    "d=str(d)\n",
    "d=d.split('-')"
   ]
  },
  {
   "cell_type": "code",
   "execution_count": 5,
   "metadata": {},
   "outputs": [
    {
     "name": "stdout",
     "output_type": "stream",
     "text": [
      "2021-12-31\n"
     ]
    }
   ],
   "source": [
    "d=date(int(d[0]),int(d[1]),int(d[2]))\n",
    "print(d)"
   ]
  },
  {
   "cell_type": "code",
   "execution_count": 6,
   "metadata": {},
   "outputs": [
    {
     "name": "stdout",
     "output_type": "stream",
     "text": [
      "Data on the date : 2021-12-31\n",
      "Data on Date : 2021-12-31\n"
     ]
    }
   ],
   "source": [
    "print(\"Data on the date : \"+str(d))\n",
    "\n",
    "dated=d\n",
    "df=pd.DataFrame()\n",
    "#print(dated)\n",
    "while(len(df)<=0):\n",
    "    try:\n",
    "        df=get_price_list(dated)\n",
    "    except:\n",
    "        print(\"e\")\n",
    "        dated=dated-datetime.timedelta(1)\n",
    "print(\"Data on Date : \"+str(dated))        "
   ]
  },
  {
   "cell_type": "code",
   "execution_count": 7,
   "metadata": {},
   "outputs": [
    {
     "data": {
      "text/html": [
       "<div>\n",
       "<style scoped>\n",
       "    .dataframe tbody tr th:only-of-type {\n",
       "        vertical-align: middle;\n",
       "    }\n",
       "\n",
       "    .dataframe tbody tr th {\n",
       "        vertical-align: top;\n",
       "    }\n",
       "\n",
       "    .dataframe thead th {\n",
       "        text-align: right;\n",
       "    }\n",
       "</style>\n",
       "<table border=\"1\" class=\"dataframe\">\n",
       "  <thead>\n",
       "    <tr style=\"text-align: right;\">\n",
       "      <th></th>\n",
       "      <th>SYMBOL</th>\n",
       "      <th>SERIES</th>\n",
       "      <th>OPEN</th>\n",
       "      <th>HIGH</th>\n",
       "      <th>LOW</th>\n",
       "      <th>CLOSE</th>\n",
       "      <th>LAST</th>\n",
       "      <th>PREVCLOSE</th>\n",
       "      <th>TOTTRDQTY</th>\n",
       "      <th>TOTTRDVAL</th>\n",
       "      <th>TIMESTAMP</th>\n",
       "      <th>TOTALTRADES</th>\n",
       "      <th>ISIN</th>\n",
       "    </tr>\n",
       "  </thead>\n",
       "  <tbody>\n",
       "    <tr>\n",
       "      <th>0</th>\n",
       "      <td>20MICRONS</td>\n",
       "      <td>EQ</td>\n",
       "      <td>64.0</td>\n",
       "      <td>66.60</td>\n",
       "      <td>63.00</td>\n",
       "      <td>63.45</td>\n",
       "      <td>63.90</td>\n",
       "      <td>62.35</td>\n",
       "      <td>1597660</td>\n",
       "      <td>1.038646e+08</td>\n",
       "      <td>31-DEC-2021</td>\n",
       "      <td>11589</td>\n",
       "      <td>INE144J01027</td>\n",
       "    </tr>\n",
       "    <tr>\n",
       "      <th>1</th>\n",
       "      <td>21STCENMGM</td>\n",
       "      <td>EQ</td>\n",
       "      <td>44.1</td>\n",
       "      <td>45.90</td>\n",
       "      <td>44.10</td>\n",
       "      <td>45.90</td>\n",
       "      <td>45.90</td>\n",
       "      <td>45.00</td>\n",
       "      <td>17329</td>\n",
       "      <td>7.903413e+05</td>\n",
       "      <td>31-DEC-2021</td>\n",
       "      <td>213</td>\n",
       "      <td>INE253B01015</td>\n",
       "    </tr>\n",
       "    <tr>\n",
       "      <th>2</th>\n",
       "      <td>3IINFOLTD</td>\n",
       "      <td>EQ</td>\n",
       "      <td>92.0</td>\n",
       "      <td>95.85</td>\n",
       "      <td>91.30</td>\n",
       "      <td>94.65</td>\n",
       "      <td>94.45</td>\n",
       "      <td>91.30</td>\n",
       "      <td>3513963</td>\n",
       "      <td>3.317913e+08</td>\n",
       "      <td>31-DEC-2021</td>\n",
       "      <td>15942</td>\n",
       "      <td>INE748C01038</td>\n",
       "    </tr>\n",
       "    <tr>\n",
       "      <th>3</th>\n",
       "      <td>3MINDIA</td>\n",
       "      <td>EQ</td>\n",
       "      <td>24989.0</td>\n",
       "      <td>25680.00</td>\n",
       "      <td>24155.65</td>\n",
       "      <td>25360.80</td>\n",
       "      <td>25150.00</td>\n",
       "      <td>25047.00</td>\n",
       "      <td>6627</td>\n",
       "      <td>1.642765e+08</td>\n",
       "      <td>31-DEC-2021</td>\n",
       "      <td>5306</td>\n",
       "      <td>INE470A01017</td>\n",
       "    </tr>\n",
       "    <tr>\n",
       "      <th>4</th>\n",
       "      <td>3PLAND</td>\n",
       "      <td>EQ</td>\n",
       "      <td>15.4</td>\n",
       "      <td>15.80</td>\n",
       "      <td>14.85</td>\n",
       "      <td>15.65</td>\n",
       "      <td>15.65</td>\n",
       "      <td>14.65</td>\n",
       "      <td>80276</td>\n",
       "      <td>1.241928e+06</td>\n",
       "      <td>31-DEC-2021</td>\n",
       "      <td>386</td>\n",
       "      <td>INE105C01023</td>\n",
       "    </tr>\n",
       "  </tbody>\n",
       "</table>\n",
       "</div>"
      ],
      "text/plain": [
       "       SYMBOL SERIES     OPEN      HIGH       LOW     CLOSE      LAST  \\\n",
       "0   20MICRONS     EQ     64.0     66.60     63.00     63.45     63.90   \n",
       "1  21STCENMGM     EQ     44.1     45.90     44.10     45.90     45.90   \n",
       "2   3IINFOLTD     EQ     92.0     95.85     91.30     94.65     94.45   \n",
       "3     3MINDIA     EQ  24989.0  25680.00  24155.65  25360.80  25150.00   \n",
       "4      3PLAND     EQ     15.4     15.80     14.85     15.65     15.65   \n",
       "\n",
       "   PREVCLOSE  TOTTRDQTY     TOTTRDVAL    TIMESTAMP  TOTALTRADES          ISIN  \n",
       "0      62.35    1597660  1.038646e+08  31-DEC-2021        11589  INE144J01027  \n",
       "1      45.00      17329  7.903413e+05  31-DEC-2021          213  INE253B01015  \n",
       "2      91.30    3513963  3.317913e+08  31-DEC-2021        15942  INE748C01038  \n",
       "3   25047.00       6627  1.642765e+08  31-DEC-2021         5306  INE470A01017  \n",
       "4      14.65      80276  1.241928e+06  31-DEC-2021          386  INE105C01023  "
      ]
     },
     "execution_count": 7,
     "metadata": {},
     "output_type": "execute_result"
    }
   ],
   "source": [
    "#try:\n",
    "#    df=get_price_list(d)\n",
    "#except:\n",
    "#    print(\"Error Occured\")\n",
    "#    print(\"Causes :\")\n",
    "#    print(\"Check Date If It Is Holiday Day\")\n",
    "#    print(\"Check Internet Connection\"\n",
    "df.head()"
   ]
  },
  {
   "cell_type": "code",
   "execution_count": 8,
   "metadata": {},
   "outputs": [
    {
     "name": "stdout",
     "output_type": "stream",
     "text": [
      "---------------Bullish Marubozu----------------\n",
      "                      \n",
      "{'21STCENMGM': 0.3921568627450974, 'ALKYLAMINE': 0.5854497279927835, 'ALPA': 1.5869017632241824, 'CENTEXT': 0.7773851590106005, 'CMICABLES': 1.6356107660455483, 'EIFFL': 0.6171155813160594, 'ESSARSHPNG': 1.3059701492537314, 'GPPL': 0.17535070140280565, 'HINDALCO': 0.4216170749658293, 'JAIBALAJI': 0.2356020942408367, 'JETFREIGHT': 0.8735868448098665, 'KAPSTON': 0.4375497215592682, 'KAUSHALYA': 0.4285714285714283, 'KBCGLOBAL': 0.823863636363638, 'MITTAL': 0.9280742459396751, 'NORBTEAEXP': 0.2631578947368421, 'OSWALAGRO': 0.5056890012642226, 'PRAJIND': 0.18659501418122107, 'SANCO': 1.4634146341463417, 'SBIETFQLTY': 0.19650238473767906, 'TARAPUR': 0.9090909090909092, 'VIKASWSP': 0.3191489361702135, 'VINATIORGA': 0.14134097882400237}\n",
      "           --           \n",
      "Sorted In Descending Order Of Change In %\n",
      "                      \n",
      "[('CMICABLES', 1.6356107660455483), ('ALPA', 1.5869017632241824), ('SANCO', 1.4634146341463417), ('ESSARSHPNG', 1.3059701492537314), ('MITTAL', 0.9280742459396751), ('TARAPUR', 0.9090909090909092), ('JETFREIGHT', 0.8735868448098665), ('KBCGLOBAL', 0.823863636363638), ('CENTEXT', 0.7773851590106005), ('EIFFL', 0.6171155813160594), ('ALKYLAMINE', 0.5854497279927835), ('OSWALAGRO', 0.5056890012642226), ('KAPSTON', 0.4375497215592682), ('KAUSHALYA', 0.4285714285714283), ('HINDALCO', 0.4216170749658293), ('21STCENMGM', 0.3921568627450974), ('VIKASWSP', 0.3191489361702135), ('NORBTEAEXP', 0.2631578947368421), ('JAIBALAJI', 0.2356020942408367), ('SBIETFQLTY', 0.19650238473767906), ('PRAJIND', 0.18659501418122107), ('GPPL', 0.17535070140280565), ('VINATIORGA', 0.14134097882400237)]\n",
      "\n"
     ]
    }
   ],
   "source": [
    "BM.getbullishmarobozu(df)"
   ]
  },
  {
   "cell_type": "code",
   "execution_count": null,
   "metadata": {},
   "outputs": [],
   "source": []
  },
  {
   "cell_type": "code",
   "execution_count": null,
   "metadata": {},
   "outputs": [],
   "source": []
  },
  {
   "cell_type": "markdown",
   "metadata": {},
   "source": [
    "## Bullish Marubozu Of Stock Of Partiular Day "
   ]
  },
  {
   "cell_type": "code",
   "execution_count": 17,
   "metadata": {},
   "outputs": [
    {
     "name": "stdout",
     "output_type": "stream",
     "text": [
      "Enter date on which to find Bullish Marubozu\n",
      "Enter year (yyyy) : 2021\n",
      "Enter month (mm) : 12\n",
      "Enter date (dd) :17\n"
     ]
    }
   ],
   "source": [
    "print(\"Enter date on which to find Bullish Marubozu\")\n",
    "year=int(input(\"Enter year (yyyy) : \"))\n",
    "month=int(input(\"Enter month (mm) : \"))\n",
    "dated=int(input(\"Enter date (dd) :\"))"
   ]
  },
  {
   "cell_type": "code",
   "execution_count": 18,
   "metadata": {
    "scrolled": true
   },
   "outputs": [
    {
     "name": "stdout",
     "output_type": "stream",
     "text": [
      "       SYMBOL SERIES      OPEN      HIGH       LOW     CLOSE      LAST  \\\n",
      "0   20MICRONS     EQ     61.45     61.60     58.15     58.95     59.25   \n",
      "1  21STCENMGM     EQ     51.95     51.95     51.95     51.95     51.95   \n",
      "2   3IINFOLTD     EQ    105.35    105.35    105.35    105.35    105.35   \n",
      "3     3MINDIA     EQ  25040.00  25040.00  24461.55  24536.10  24480.00   \n",
      "4      3PLAND     EQ     14.25     14.25     12.90     13.70     13.80   \n",
      "\n",
      "   PREVCLOSE  TOTTRDQTY     TOTTRDVAL    TIMESTAMP  TOTALTRADES          ISIN  \n",
      "0      61.15     232749  1.386744e+07  17-DEC-2021         3675  INE144J01027  \n",
      "1      53.00       3328  1.728896e+05  17-DEC-2021           69  INE253B01015  \n",
      "2     110.85     288059  3.034702e+07  17-DEC-2021         3769  INE748C01038  \n",
      "3   24926.60       4205  1.033055e+08  17-DEC-2021         1419  INE470A01017  \n",
      "4      13.90      10185  1.374699e+05  17-DEC-2021           83  INE105C01023  \n"
     ]
    }
   ],
   "source": [
    "try:\n",
    "    df= get_price_list(date(year,month,dated))\n",
    "    print(df.head())\n",
    "except:\n",
    "    print(\"Invalid Date\")"
   ]
  },
  {
   "cell_type": "code",
   "execution_count": 19,
   "metadata": {},
   "outputs": [
    {
     "name": "stdout",
     "output_type": "stream",
     "text": [
      "---------------Bullish Marubozu----------------\n",
      "                      \n",
      "{'GTNTEX': 0.40816326530612224, 'INDOTHAI': 0.6365313653136537, 'MARATHON': 0.7323688969258585, 'NORBTEAEXP': 0.8556149732620311, 'TIJARIA': 0.4458598726114646}\n",
      "           --           \n",
      "Sorted In Descending Order Of Change In %\n",
      "                      \n",
      "[('NORBTEAEXP', 0.8556149732620311), ('MARATHON', 0.7323688969258585), ('INDOTHAI', 0.6365313653136537), ('TIJARIA', 0.4458598726114646), ('GTNTEX', 0.40816326530612224)]\n",
      "\n",
      "---------------Bearish Marubozu----------------\n",
      "                      \n",
      "{'AARTISURF': 0.5010788779669144, 'AARVEEDEN': 0.571428571428571, 'AARVI': 1.074733096085409, 'ADANIENT': 0.3260803500881304, 'ADVANIHOTR': 0.3813280736357667, 'AGROPHOS': 1.0289389067524104, 'ALLSEC': 0.8913623401710983, 'ANIKINDS': 0.7606679035250467, 'ARENTERP': 0.25290498974709424, 'BAJAJHIND': 0.6159420289855069, 'BANCOINDIA': 0.21126760563380248, 'BANG': 0.5605095541401282, 'BANKBARODA': 0.4122497055359246, 'BCP': 0.13333333333333286, 'BEDMUTHA': 0.7946026986506741, 'BEPL': 0.28319123020706494, 'BFUTILITIE': 0.44723878662172667, 'BHAGERIA': 0.24773413897280988, 'BHAGYANGR': 0.5739514348785875, 'BHEL': 0.8312551953449719, 'CANFINHOME': 0.6847944707166259, 'CERA': 0.4925519191040557, 'CESC': 0.5269390171699233, 'CHAMBLFERT': 0.4589528118939884, 'CHEMCON': 0.39293849658314384, 'CYBERTECH': 0.48833592534992193, 'DCMNVL': 0.603496897913142, 'DEN': 0.5389221556886227, 'DREDGECORP': 0.2780425802351446, 'EBBETF0425': 0.8445735243467658, 'EMAMIPAP': 0.28106508875739733, 'ENIL': 0.5150825270347189, 'GENUSPOWER': 0.6382978723404246, 'GEOJITFSL': 0.3453038674033149, 'GICHSGFIN': 0.38008745375042086, 'GILLANDERS': 0.6264869151467094, 'GMBREW': 0.2615984968926149, 'GODREJPROP': 0.6064625669867881, 'GREENPANEL': 0.5805478763508425, 'GUJAPOLLO': 0.34325492078732484, 'GULFOILLUB': 0.4684095860566449, 'HBANKETF': 0.22609475247247343, 'HCC': 0.8135593220338979, 'HINDPETRO': 0.3636680006960149, 'HINDUNILVR': 0.32619661472929046, 'HISARMETAL': 0.350506756756756, 'ICICIBANKN': 0.532381380706094, 'ICICIBANKP': 0.5735466250487706, 'ICICICONSU': 0.6858631167703654, 'ICICINF100': 0.2412210481374752, 'ICICINIFTY': 1.4626669586161591, 'ICICINXT50': 0.3329397874852413, 'ICICIPHARM': 0.3260352213231788, 'ICRA': 0.26429187015225514, 'IGARASHI': 0.4678539088439492, 'IIFL': 0.5503780552136444, 'INDIANB': 0.5764499121265371, 'INDUSINDBK': 0.4869762174405436, 'INSECTICID': 0.43834752444023894, 'IOLCP': 0.27374112875971557, 'ITDCEM': 0.5380577427821516, 'JAIBALAJI': 0.5923961096374893, 'JASH': 0.2825484764542936, 'JINDALPHOT': 0.8213058419243978, 'JKTYRE': 0.46193643754619357, 'JPINFRATEC': 0.7272727272727278, 'JUNIORBEES': 0.44086194604788115, 'KABRAEXTRU': 0.5895369053263783, 'KENNAMET': 0.5308489563894234, 'KIRLFER': 0.46596619460941024, 'KITEX': 0.8976081698468148, 'KOTAKBANK': 0.34117515888058897, 'KRIDHANINF': 0.46153846153846134, 'LIBERTSHOE': 0.3394762366634336, 'LICNFNHGP': 0.26448362720402935, 'LOTUSEYE': 1.326530612244898, 'LUMAXIND': 0.4481655691439319, 'LYPSAGEMS': 0.28037383177570163, 'M&MFIN': 0.446369087275151, 'MAESGETF': 0.22813688212927763, 'MAFANG': 0.29363784665579074, 'MAFSETF': 0.1967592592592592, 'MAHASTEEL': 0.4902576995600259, 'MANAPPURAM': 0.399633923123855, 'MANGCHEFER': 0.32544378698224896, 'MCX': 0.42041401176793425, 'MOGSEC': 1.7456460105305784, 'MOLDTECH': 0.6788511749347261, 'MOM100': 0.30711375744280806, 'MOM50': 0.3080751229338241, 'MOTHERSUMI': 0.5508474576271181, 'MRO-TEK': 0.9786476868327402, 'NAVKARCORP': 0.33707865168539364, 'NETFCONSUM': 0.4563758389261752, 'NETFMID150': 0.46592792950004386, 'NITCO': 1.71939477303989, 'PFS': 0.32697547683923583, 'PIONDIST': 0.5855855855855858, 'PITTIENG': 0.6402640264026407, 'POLYCAB': 0.44779327987617473, 'QGOLDHALF': 0.8591885441527449, 'RBLBANK': 0.4292084726867329, 'RENUKA': 0.8783783783783787, 'REVATHI': 0.6748555969876433, 'RIIL': 0.6939566428484916, 'RML': 0.4414814814814808, 'RPSGVENT': 0.38891245934097013, 'RUBYMILLS': 0.4204611509397389, 'SANDHAR': 0.44662095984329003, 'SASTASUNDR': 0.5937535751058228, 'SBIETFPB': 1.1867383906027011, 'SETFNN50': 0.3200836820083691, 'SHIL': 0.8492053863884509, 'SHRENIK': 0.9090909090909081, 'SHRIRAMCIT': 0.604139121988074, 'SHRIRAMEPC': 1.0135135135135134, 'SIMPLEXINF': 0.49382716049382785, 'SMCGLOBAL': 0.38907849829351454, 'SMLISUZU': 0.3881729781010349, 'SPLIL': 0.45508982035928114, 'SUMEETINDS': 0.7253886010362688, 'SUMICHEM': 0.2622136351090256, 'SUPREMEENG': 0.4556962025316449, 'SUULD': 0.6774087471226559, 'SUVIDHAA': 1.7361111111111098, 'TANLA': 0.5844792337636886, 'TARAPUR': 0.40000000000000036, 'TECHNOE': 0.412105602060529, 'TIINDIA': 0.371825000804816, 'TNPETRO': 0.4250122129946272, 'TRIGYN': 0.41614123581336726, 'TRIL': 0.6020066889632109, 'UMANGDAIRY': 0.27997128499640894, 'VHL': 0.381576477414291, 'VIJAYA': 0.47575057736720555, 'VIKASPROP': 0.5263157894736847, 'VINYLINDIA': 0.5514546244029522, 'VIPCLOTHNG': 0.6332453825857517, 'VIPULLTD': 0.6796116504854369, 'WABAG': 0.4038975326104047, 'WATERBASE': 0.24221453287197117, 'XELPMOC': 0.6560553633217989, 'YAARI': 0.7712765957446809}\n",
      "           --           \n",
      "Sorted In Descending Order Of Change In %\n",
      "                      \n",
      "[('MOGSEC', 1.7456460105305784), ('SUVIDHAA', 1.7361111111111098), ('NITCO', 1.71939477303989), ('ICICINIFTY', 1.4626669586161591), ('LOTUSEYE', 1.326530612244898), ('SBIETFPB', 1.1867383906027011), ('AARVI', 1.074733096085409), ('AGROPHOS', 1.0289389067524104), ('SHRIRAMEPC', 1.0135135135135134), ('MRO-TEK', 0.9786476868327402), ('SHRENIK', 0.9090909090909081), ('KITEX', 0.8976081698468148), ('ALLSEC', 0.8913623401710983), ('RENUKA', 0.8783783783783787), ('QGOLDHALF', 0.8591885441527449), ('SHIL', 0.8492053863884509), ('EBBETF0425', 0.8445735243467658), ('BHEL', 0.8312551953449719), ('JINDALPHOT', 0.8213058419243978), ('HCC', 0.8135593220338979), ('BEDMUTHA', 0.7946026986506741), ('YAARI', 0.7712765957446809), ('ANIKINDS', 0.7606679035250467), ('JPINFRATEC', 0.7272727272727278), ('SUMEETINDS', 0.7253886010362688), ('RIIL', 0.6939566428484916), ('ICICICONSU', 0.6858631167703654), ('CANFINHOME', 0.6847944707166259), ('VIPULLTD', 0.6796116504854369), ('MOLDTECH', 0.6788511749347261), ('SUULD', 0.6774087471226559), ('REVATHI', 0.6748555969876433), ('XELPMOC', 0.6560553633217989), ('PITTIENG', 0.6402640264026407), ('GENUSPOWER', 0.6382978723404246), ('VIPCLOTHNG', 0.6332453825857517), ('GILLANDERS', 0.6264869151467094), ('BAJAJHIND', 0.6159420289855069), ('GODREJPROP', 0.6064625669867881), ('SHRIRAMCIT', 0.604139121988074), ('DCMNVL', 0.603496897913142), ('TRIL', 0.6020066889632109), ('SASTASUNDR', 0.5937535751058228), ('JAIBALAJI', 0.5923961096374893), ('KABRAEXTRU', 0.5895369053263783), ('PIONDIST', 0.5855855855855858), ('TANLA', 0.5844792337636886), ('GREENPANEL', 0.5805478763508425), ('INDIANB', 0.5764499121265371), ('BHAGYANGR', 0.5739514348785875), ('ICICIBANKP', 0.5735466250487706), ('AARVEEDEN', 0.571428571428571), ('BANG', 0.5605095541401282), ('VINYLINDIA', 0.5514546244029522), ('MOTHERSUMI', 0.5508474576271181), ('IIFL', 0.5503780552136444), ('DEN', 0.5389221556886227), ('ITDCEM', 0.5380577427821516), ('ICICIBANKN', 0.532381380706094), ('KENNAMET', 0.5308489563894234), ('CESC', 0.5269390171699233), ('VIKASPROP', 0.5263157894736847), ('ENIL', 0.5150825270347189), ('AARTISURF', 0.5010788779669144), ('SIMPLEXINF', 0.49382716049382785), ('CERA', 0.4925519191040557), ('MAHASTEEL', 0.4902576995600259), ('CYBERTECH', 0.48833592534992193), ('INDUSINDBK', 0.4869762174405436), ('VIJAYA', 0.47575057736720555), ('GULFOILLUB', 0.4684095860566449), ('IGARASHI', 0.4678539088439492), ('KIRLFER', 0.46596619460941024), ('NETFMID150', 0.46592792950004386), ('JKTYRE', 0.46193643754619357), ('KRIDHANINF', 0.46153846153846134), ('CHAMBLFERT', 0.4589528118939884), ('NETFCONSUM', 0.4563758389261752), ('SUPREMEENG', 0.4556962025316449), ('SPLIL', 0.45508982035928114), ('LUMAXIND', 0.4481655691439319), ('POLYCAB', 0.44779327987617473), ('BFUTILITIE', 0.44723878662172667), ('SANDHAR', 0.44662095984329003), ('M&MFIN', 0.446369087275151), ('RML', 0.4414814814814808), ('JUNIORBEES', 0.44086194604788115), ('INSECTICID', 0.43834752444023894), ('RBLBANK', 0.4292084726867329), ('TNPETRO', 0.4250122129946272), ('RUBYMILLS', 0.4204611509397389), ('MCX', 0.42041401176793425), ('TRIGYN', 0.41614123581336726), ('BANKBARODA', 0.4122497055359246), ('TECHNOE', 0.412105602060529), ('WABAG', 0.4038975326104047), ('TARAPUR', 0.40000000000000036), ('MANAPPURAM', 0.399633923123855), ('CHEMCON', 0.39293849658314384), ('SMCGLOBAL', 0.38907849829351454), ('RPSGVENT', 0.38891245934097013), ('SMLISUZU', 0.3881729781010349), ('VHL', 0.381576477414291), ('ADVANIHOTR', 0.3813280736357667), ('GICHSGFIN', 0.38008745375042086), ('TIINDIA', 0.371825000804816), ('HINDPETRO', 0.3636680006960149), ('HISARMETAL', 0.350506756756756), ('GEOJITFSL', 0.3453038674033149), ('GUJAPOLLO', 0.34325492078732484), ('KOTAKBANK', 0.34117515888058897), ('LIBERTSHOE', 0.3394762366634336), ('NAVKARCORP', 0.33707865168539364), ('ICICINXT50', 0.3329397874852413), ('PFS', 0.32697547683923583), ('HINDUNILVR', 0.32619661472929046), ('ADANIENT', 0.3260803500881304), ('ICICIPHARM', 0.3260352213231788), ('MANGCHEFER', 0.32544378698224896), ('SETFNN50', 0.3200836820083691), ('MOM50', 0.3080751229338241), ('MOM100', 0.30711375744280806), ('MAFANG', 0.29363784665579074), ('BEPL', 0.28319123020706494), ('JASH', 0.2825484764542936), ('EMAMIPAP', 0.28106508875739733), ('LYPSAGEMS', 0.28037383177570163), ('UMANGDAIRY', 0.27997128499640894), ('DREDGECORP', 0.2780425802351446), ('IOLCP', 0.27374112875971557), ('LICNFNHGP', 0.26448362720402935), ('ICRA', 0.26429187015225514), ('SUMICHEM', 0.2622136351090256), ('GMBREW', 0.2615984968926149), ('ARENTERP', 0.25290498974709424), ('BHAGERIA', 0.24773413897280988), ('WATERBASE', 0.24221453287197117), ('ICICINF100', 0.2412210481374752), ('MAESGETF', 0.22813688212927763), ('HBANKETF', 0.22609475247247343), ('BANCOINDIA', 0.21126760563380248), ('MAFSETF', 0.1967592592592592), ('BCP', 0.13333333333333286)]\n",
      "\n"
     ]
    }
   ],
   "source": [
    "BM.getbullishmarobozu(df)"
   ]
  },
  {
   "cell_type": "code",
   "execution_count": null,
   "metadata": {},
   "outputs": [],
   "source": []
  },
  {
   "cell_type": "code",
   "execution_count": null,
   "metadata": {},
   "outputs": [],
   "source": []
  },
  {
   "cell_type": "code",
   "execution_count": null,
   "metadata": {},
   "outputs": [],
   "source": []
  },
  {
   "cell_type": "code",
   "execution_count": null,
   "metadata": {},
   "outputs": [],
   "source": []
  },
  {
   "cell_type": "code",
   "execution_count": null,
   "metadata": {},
   "outputs": [],
   "source": []
  },
  {
   "cell_type": "code",
   "execution_count": null,
   "metadata": {},
   "outputs": [],
   "source": []
  },
  {
   "cell_type": "code",
   "execution_count": null,
   "metadata": {},
   "outputs": [],
   "source": []
  },
  {
   "cell_type": "code",
   "execution_count": null,
   "metadata": {},
   "outputs": [],
   "source": []
  }
 ],
 "metadata": {
  "kernelspec": {
   "display_name": "Python 3",
   "language": "python",
   "name": "python3"
  },
  "language_info": {
   "codemirror_mode": {
    "name": "ipython",
    "version": 3
   },
   "file_extension": ".py",
   "mimetype": "text/x-python",
   "name": "python",
   "nbconvert_exporter": "python",
   "pygments_lexer": "ipython3",
   "version": "3.8.5"
  }
 },
 "nbformat": 4,
 "nbformat_minor": 4
}
