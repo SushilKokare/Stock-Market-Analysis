{
 "cells": [
  {
   "cell_type": "code",
   "execution_count": 1,
   "metadata": {},
   "outputs": [],
   "source": [
    "from datetime import date\n",
    "import datetime\n",
    "from nsepy.history import get_price_list\n",
    "import yfinance as yf\n",
    "import pandas as pd\n",
    "\n",
    "from SingleCandlesticks import BearishMarubozu as BrM\n",
    "# Bullish Marubozu of one stock n days back from today\n"
   ]
  },
  {
   "cell_type": "markdown",
   "metadata": {},
   "source": [
    "## Bearish marubozu one stock before n days"
   ]
  },
  {
   "cell_type": "code",
   "execution_count": 10,
   "metadata": {},
   "outputs": [
    {
     "name": "stdout",
     "output_type": "stream",
     "text": [
      "Enter stock name : sbin\n",
      "Enter days back  to find Bullish Marubozu of given stock : \n",
      "Valid days : 1d,5d,1mo,3mo,6mo,1y,2y,5y,10y,ytd,max\n",
      "Enter last how many days ? : 2y\n",
      "Y\n",
      "\n",
      "730\n",
      "Days = 730\n"
     ]
    }
   ],
   "source": [
    "stock=input(\"Enter stock name : \")\n",
    "\n",
    "print(\"Enter days back  to find Bullish Marubozu of given stock : \")\n",
    "print(\"Valid days : 1d,5d,1mo,3mo,6mo,1y,2y,5y,10y,ytd,max\")\n",
    "days=input(\"Enter last how many days ? : \")\n",
    "\n",
    "\n",
    "\n",
    "## To covert the string into upper ( ex. 1mo = MO)\n",
    "dstr=\"\"\n",
    "for word in days:\n",
    "    if(word).isalpha():\n",
    "        dstr=str(dstr)+str(word)\n",
    "dstr=dstr.upper()\n",
    "print(dstr)\n",
    "\n",
    "if(dstr != 'YTD' and dstr !='MAX'):\n",
    "     \n",
    "    if('D' == dstr):\n",
    "        d=\"\"\n",
    "        print(d)\n",
    "        #d=days.split()\n",
    "        numbers = []\n",
    "        for word in days:\n",
    "            if(word).isdigit():\n",
    "                d=str(d)+str(word)\n",
    "        print(d)\n",
    "        \n",
    "\n",
    "    if('MO' == dstr):\n",
    "        d=\"\"\n",
    "        print(d)\n",
    "        #d=days.split()\n",
    "        numbers = []\n",
    "        for word in days:\n",
    "            if(word).isdigit():\n",
    "                d=str(d)+str(word)\n",
    "        print(int(d)*30)\n",
    "        d=int(d)*30\n",
    "\n",
    "    if('Y' == dstr):\n",
    "        d=\"\"\n",
    "        print(d)\n",
    "        #d=days.split()\n",
    "        numbers = []\n",
    "        for word in days:\n",
    "            if(word).isdigit():\n",
    "                d=str(d)+str(word)\n",
    "        print(int(d)*365)\n",
    "        d=int(d)*365\n",
    "    print(\"Days = \"+str(d))\n",
    "\n"
   ]
  },
  {
   "cell_type": "code",
   "execution_count": 11,
   "metadata": {},
   "outputs": [],
   "source": [
    "# 1m <= 7d , 2m <= 60d, 5m  <= 60d,15m <= 60d , 30m <= 60d , 1h <= 730d"
   ]
  },
  {
   "cell_type": "code",
   "execution_count": 12,
   "metadata": {},
   "outputs": [
    {
     "name": "stdout",
     "output_type": "stream",
     "text": [
      "Valid intervals: [1h, 1d, 5d, 1wk, 1mo, 3mo]\n",
      "Enter time frame : 1d\n",
      "1d\n"
     ]
    }
   ],
   "source": [
    "\n",
    "#if(days != 'ytd' and days !='YTD' and days != 'max' and days != 'MAX'):\n",
    "if(dstr != 'YTD' and dstr !='MAX'):\n",
    "    tstr=\"\"\n",
    "    ds=\"\"\n",
    "    if(int(d)>730):\n",
    "        print(\"Valid intervals: [1d, 5d, 1wk, 1mo, 3mo]\")\n",
    "        tf=input(\"Enter time frame : \")\n",
    "                \n",
    "        ## To covert the string into lower ( ex. 1m = M)\n",
    "        tstr=\"\" #timeframestring\n",
    "        ds=\"\"   # date string\n",
    "        for word in tf:\n",
    "            if(word).isalpha():\n",
    "                tstr=str(tstr)+str(word)\n",
    "            if(word).isdigit():\n",
    "                ds=str(ds)+str(word)\n",
    "        tf=ds+(tstr).lower()\n",
    "        print(tf) \n",
    "        \n",
    "        if(tf not in ('1d', '5d', '1wk', '1mo', '3mo')):\n",
    "            print(\"Invalid Time Frame\")\n",
    "            td=\"\"\n",
    "    \n",
    "    \n",
    "    if(int(d)>60 and int(d)<=730):\n",
    "        print(\"Valid intervals: [1h, 1d, 5d, 1wk, 1mo, 3mo]\")\n",
    "        tf=input(\"Enter time frame : \")\n",
    "        ## To covert the string into lower ( ex. 1m = M)\n",
    "        tstr=\"\" #timeframestring\n",
    "        dstr=\"\" # date string\n",
    "        for word in tf:\n",
    "            if(word).isalpha():\n",
    "                tstr=str(tstr)+str(word)\n",
    "            if(word).isdigit():\n",
    "                ds=str(ds)+str(word)\n",
    "        tf=ds+(tstr).lower()\n",
    "        print(tf) \n",
    "        if(tf not in ('1h', '1d', '5d', '1wk', '1mo', '3mo')):\n",
    "            print(\"Invalid Time Frame\")\n",
    "            td=\"\"\n",
    "    \n",
    "    if(int(d)>7 and int(d)<=60):\n",
    "        print(\"Valid intervals: ['2m', '5m', '15m', '30m', '60m', '90m',1h, 1d, 5d, 1wk, 1mo, 3mo]\")\n",
    "        tf=input(\"Enter time frame : \")\n",
    "       ## To covert the string into lower ( ex. 1m = M)\n",
    "        tstr=\"\" #timeframestring\n",
    "        ds=\"\" # date string\n",
    "        for word in tf:\n",
    "            if(word).isalpha():\n",
    "                tstr=str(tstr)+str(word)\n",
    "            if(word).isdigit():\n",
    "                ds=str(ds)+str(word)\n",
    "        tf=ds+(tstr).lower()\n",
    "        print(tf) \n",
    "        if(tf not in ('2m', '5m', '15m', '30m', '60m', '90m','1h', '1d', '5d', '1wk', '1mo', '3mo')):\n",
    "            print(\"Invalid Time Frame\")\n",
    "            tf=\"\"\n",
    "            \n",
    "    if(int(d)>0 and int(d)<=7):\n",
    "        print(\"Valid intervals: ['1m',2m', '5m', '15m', '30m', '60m', '90m',1h, 1d, 5d, 1wk, 1mo, 3mo]\")\n",
    "        tf=input(\"Enter time frame : \")\n",
    "       ## To covert the string into lower ( ex. 1m = M)\n",
    "        tstr=\"\" #timeframestring\n",
    "        ds=\"\"  # date sring\n",
    "        for word in tf:\n",
    "            if(word).isalpha():\n",
    "                tstr=str(tstr)+str(word)\n",
    "            if(word).isdigit():\n",
    "                ds=str(ds)+str(word)\n",
    "        tf=ds+(tstr).lower()\n",
    "        print(tf)   \n",
    "        if(tf not in ('1m','2m', '5m', '15m', '30m', '60m', '90m','1h', '1d', '5d', '1wk', '1mo', '3mo')):\n",
    "            print(\"Invalid Time Frame\")\n",
    "            tf=\"\"\n"
   ]
  },
  {
   "cell_type": "code",
   "execution_count": 13,
   "metadata": {},
   "outputs": [
    {
     "name": "stdout",
     "output_type": "stream",
     "text": [
      "2y\n"
     ]
    }
   ],
   "source": [
    "print(days)"
   ]
  },
  {
   "cell_type": "code",
   "execution_count": 14,
   "metadata": {},
   "outputs": [
    {
     "name": "stdout",
     "output_type": "stream",
     "text": [
      "[*********************100%***********************]  1 of 1 completed\n",
      "                  Open        High         Low       Close   Adj Close  \\\n",
      "Date                                                                     \n",
      "2019-12-31  334.399994  336.350006  332.549988  333.750000  330.696838   \n",
      "2020-01-01  334.700012  335.950012  332.149994  334.450012  331.390442   \n",
      "2020-01-02  334.500000  339.850006  333.350006  339.299988  336.196045   \n",
      "2020-01-03  337.950012  337.950012  332.000000  333.700012  330.647308   \n",
      "2020-01-06  331.700012  331.700012  317.700012  319.000000  316.081757   \n",
      "\n",
      "              Volume  \n",
      "Date                  \n",
      "2019-12-31  23801635  \n",
      "2020-01-01  17379320  \n",
      "2020-01-02  20324236  \n",
      "2020-01-03  21853208  \n",
      "2020-01-06  35645325  \n"
     ]
    }
   ],
   "source": [
    "try:\n",
    "    df=yf.download(tickers=stock+\".NS\",period=days,interval=tf)\n",
    "    print(df.head())\n",
    "except:\n",
    "    print(\"Error\")"
   ]
  },
  {
   "cell_type": "code",
   "execution_count": 15,
   "metadata": {},
   "outputs": [
    {
     "data": {
      "text/plain": [
       "DatetimeIndex(['2019-12-31', '2020-01-01', '2020-01-02', '2020-01-03',\n",
       "               '2020-01-06', '2020-01-07', '2020-01-08', '2020-01-09',\n",
       "               '2020-01-10', '2020-01-13',\n",
       "               ...\n",
       "               '2021-12-20', '2021-12-21', '2021-12-22', '2021-12-23',\n",
       "               '2021-12-24', '2021-12-27', '2021-12-28', '2021-12-29',\n",
       "               '2021-12-30', '2021-12-31'],\n",
       "              dtype='datetime64[ns]', name='Date', length=500, freq=None)"
      ]
     },
     "execution_count": 15,
     "metadata": {},
     "output_type": "execute_result"
    }
   ],
   "source": [
    "df.index\n",
    "#df"
   ]
  },
  {
   "cell_type": "code",
   "execution_count": null,
   "metadata": {},
   "outputs": [],
   "source": []
  },
  {
   "cell_type": "code",
   "execution_count": 16,
   "metadata": {},
   "outputs": [
    {
     "name": "stdout",
     "output_type": "stream",
     "text": [
      "---------------Bearish Marubozu----------------\n",
      "2020-01-20 00:00:00 314.0\n",
      "2020-02-12 00:00:00 320.20001220703125\n",
      "2020-04-03 00:00:00 175.5\n",
      "2020-05-18 00:00:00 155.3000030517578\n",
      "2020-05-19 00:00:00 152.8000030517578\n",
      "2020-06-08 00:00:00 186.8000030517578\n",
      "2020-06-24 00:00:00 184.60000610351562\n",
      "2020-08-31 00:00:00 212.0\n",
      "2021-09-24 00:00:00 440.75\n"
     ]
    }
   ],
   "source": [
    "BrM.getbearishmarobozu(df)"
   ]
  },
  {
   "cell_type": "code",
   "execution_count": null,
   "metadata": {},
   "outputs": [],
   "source": []
  },
  {
   "cell_type": "code",
   "execution_count": null,
   "metadata": {},
   "outputs": [],
   "source": []
  },
  {
   "cell_type": "code",
   "execution_count": null,
   "metadata": {},
   "outputs": [],
   "source": []
  }
 ],
 "metadata": {
  "kernelspec": {
   "display_name": "Python 3",
   "language": "python",
   "name": "python3"
  },
  "language_info": {
   "codemirror_mode": {
    "name": "ipython",
    "version": 3
   },
   "file_extension": ".py",
   "mimetype": "text/x-python",
   "name": "python",
   "nbconvert_exporter": "python",
   "pygments_lexer": "ipython3",
   "version": "3.8.5"
  }
 },
 "nbformat": 4,
 "nbformat_minor": 4
}
