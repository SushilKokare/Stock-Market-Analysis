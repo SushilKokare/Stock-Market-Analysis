{
 "cells": [
  {
   "cell_type": "code",
   "execution_count": 1,
   "metadata": {},
   "outputs": [],
   "source": [
    "from datetime import date\n",
    "import datetime\n",
    "from nsepy.history import get_price_list\n",
    "import yfinance as yf\n",
    "import pandas as pd\n",
    "\n",
    "from SingleCandlesticks import BearishMarubozu as BrM\n"
   ]
  },
  {
   "cell_type": "markdown",
   "metadata": {},
   "source": [
    "## Bearish Marubozu of one stock on paricular date"
   ]
  },
  {
   "cell_type": "code",
   "execution_count": 2,
   "metadata": {},
   "outputs": [
    {
     "name": "stdout",
     "output_type": "stream",
     "text": [
      "Enter stock name : sbin\n"
     ]
    }
   ],
   "source": [
    "stock=input(\"Enter stock name : \")"
   ]
  },
  {
   "cell_type": "code",
   "execution_count": 3,
   "metadata": {},
   "outputs": [
    {
     "name": "stdout",
     "output_type": "stream",
     "text": [
      "Enter date : \n",
      "Enter Year :2021\n",
      "Enter Month :1\n",
      "Enter Date :1\n"
     ]
    }
   ],
   "source": [
    "\n",
    "print(\"Enter date : \")\n",
    "y=input(\"Enter Year :\")\n",
    "m=input(\"Enter Month :\")\n",
    "d=input(\"Enter Date :\")"
   ]
  },
  {
   "cell_type": "code",
   "execution_count": 4,
   "metadata": {},
   "outputs": [
    {
     "name": "stdout",
     "output_type": "stream",
     "text": [
      "2021-01-01\n",
      "2021-01-02\n"
     ]
    }
   ],
   "source": [
    "sdate=date(int(y),int(m),int(d))\n",
    "edate=sdate+datetime.timedelta(1)\n",
    "print(sdate)\n",
    "print(edate)"
   ]
  },
  {
   "cell_type": "code",
   "execution_count": 5,
   "metadata": {},
   "outputs": [
    {
     "name": "stdout",
     "output_type": "stream",
     "text": [
      "364\n",
      "Valid intervals: [1h, 1d, 5d, 1wk, 1mo, 3mo]\n",
      "Enter time frame : 1d\n",
      "1d\n"
     ]
    }
   ],
   "source": [
    "if(sdate>date.today()):\n",
    "    diff=sdate-date.today()\n",
    "    #print(\"sdate > \")\n",
    "    diff=int(str(diff).split()[0])\n",
    "\n",
    "if(date.today()>sdate):\n",
    "    diff=date.today()-sdate\n",
    "    #print(\"sdate <\")\n",
    "    diff=int(str(diff).split()[0])\n",
    "\n",
    "if(date.today()==sdate):\n",
    "    diff=int(0)\n",
    "    #print(\"=\")\n",
    "\n",
    "    \n",
    "print(str(diff).split()[0])\n",
    "\n",
    "tstr=\"\"\n",
    "ds=\"\"\n",
    "if(int(diff)>730):\n",
    "    print(\"Valid intervals: [1d, 5d, 1wk, 1mo, 3mo]\")\n",
    "    tf=input(\"Enter time frame : \")\n",
    "\n",
    "    ## To covert the string into lower ( ex. 1m = M)\n",
    "    tstr=\"\" #timeframestring\n",
    "    ds=\"\"   # date string\n",
    "    for word in tf:\n",
    "        if(word).isalpha():\n",
    "            tstr=str(tstr)+str(word)\n",
    "        if(word).isdigit():\n",
    "            ds=str(ds)+str(word)\n",
    "    tf=ds+(tstr).lower()\n",
    "    print(tf) \n",
    "\n",
    "    if(tf not in ('1d', '5d', '1wk', '1mo', '3mo')):\n",
    "        print(\"Invalid Time Frame\")\n",
    "        td=\"\"\n",
    "\n",
    "\n",
    "if(int(diff)>60 and int(diff)<=730):\n",
    "    print(\"Valid intervals: [1h, 1d, 5d, 1wk, 1mo, 3mo]\")\n",
    "    tf=input(\"Enter time frame : \")\n",
    "    ## To covert the string into lower ( ex. 1m = M)\n",
    "    tstr=\"\" #timeframestring\n",
    "    dstr=\"\" # date string\n",
    "    for word in tf:\n",
    "        if(word).isalpha():\n",
    "            tstr=str(tstr)+str(word)\n",
    "        if(word).isdigit():\n",
    "            ds=str(ds)+str(word)\n",
    "    tf=ds+(tstr).lower()\n",
    "    print(tf) \n",
    "    if(tf not in ('1h', '1d', '5d', '1wk', '1mo', '3mo')):\n",
    "        print(\"Invalid Time Frame\")\n",
    "        td=\"\"\n",
    "\n",
    "if(int(diff)>7 and int(diff)<=60):\n",
    "    print(\"Valid intervals: ['2m', '5m', '15m', '30m', '60m', '90m',1h, 1d, 5d, 1wk, 1mo, 3mo]\")\n",
    "    tf=input(\"Enter time frame : \")\n",
    "   ## To covert the string into lower ( ex. 1m = M)\n",
    "    tstr=\"\" #timeframestring\n",
    "    ds=\"\" # date string\n",
    "    for word in tf:\n",
    "        if(word).isalpha():\n",
    "            tstr=str(tstr)+str(word)\n",
    "        if(word).isdigit():\n",
    "            ds=str(ds)+str(word)\n",
    "    tf=ds+(tstr).lower()\n",
    "    print(tf) \n",
    "    if(tf not in ('2m', '5m', '15m', '30m', '60m', '90m','1h', '1d', '5d', '1wk', '1mo', '3mo')):\n",
    "        print(\"Invalid Time Frame\")\n",
    "        tf=\"\"\n",
    "\n",
    "if(int(diff)>0 and int(diff)<=7):\n",
    "    print(\"Valid intervals: ['1m',2m', '5m', '15m', '30m', '60m', '90m',1h, 1d, 5d, 1wk, 1mo, 3mo]\")\n",
    "    tf=input(\"Enter time frame : \")\n",
    "   ## To covert the string into lower ( ex. 1m = M)\n",
    "    tstr=\"\" #timeframestring\n",
    "    ds=\"\"  # date sring\n",
    "    for word in tf:\n",
    "        if(word).isalpha():\n",
    "            tstr=str(tstr)+str(word)\n",
    "        if(word).isdigit():\n",
    "            ds=str(ds)+str(word)\n",
    "    tf=ds+(tstr).lower()\n",
    "    print(tf)   \n",
    "    if(tf not in ('1m','2m', '5m', '15m', '30m', '60m', '90m','1h', '1d', '5d', '1wk', '1mo', '3mo')):\n",
    "        print(\"Invalid Time Frame\")\n",
    "        tf=\"\"\n"
   ]
  },
  {
   "cell_type": "code",
   "execution_count": 7,
   "metadata": {},
   "outputs": [
    {
     "name": "stdout",
     "output_type": "stream",
     "text": [
      "[*********************100%***********************]  1 of 1 completed\n"
     ]
    }
   ],
   "source": [
    "try:\n",
    "    df=yf.download(tickers=stock+'.NS',start=sdate,end=edate,interval=tf)\n",
    "    if(len(df)==0):\n",
    "        print(\"Invalid Date ( Or Holiday )\")\n",
    "except:\n",
    "    print(\"Invalid Date ( Or Holiday )\")"
   ]
  },
  {
   "cell_type": "code",
   "execution_count": 8,
   "metadata": {},
   "outputs": [
    {
     "data": {
      "text/html": [
       "<div>\n",
       "<style scoped>\n",
       "    .dataframe tbody tr th:only-of-type {\n",
       "        vertical-align: middle;\n",
       "    }\n",
       "\n",
       "    .dataframe tbody tr th {\n",
       "        vertical-align: top;\n",
       "    }\n",
       "\n",
       "    .dataframe thead th {\n",
       "        text-align: right;\n",
       "    }\n",
       "</style>\n",
       "<table border=\"1\" class=\"dataframe\">\n",
       "  <thead>\n",
       "    <tr style=\"text-align: right;\">\n",
       "      <th></th>\n",
       "      <th>Open</th>\n",
       "      <th>High</th>\n",
       "      <th>Low</th>\n",
       "      <th>Close</th>\n",
       "      <th>Adj Close</th>\n",
       "      <th>Volume</th>\n",
       "    </tr>\n",
       "    <tr>\n",
       "      <th>Date</th>\n",
       "      <th></th>\n",
       "      <th></th>\n",
       "      <th></th>\n",
       "      <th></th>\n",
       "      <th></th>\n",
       "      <th></th>\n",
       "    </tr>\n",
       "  </thead>\n",
       "  <tbody>\n",
       "    <tr>\n",
       "      <th>2021-01-01</th>\n",
       "      <td>274.899994</td>\n",
       "      <td>280.0</td>\n",
       "      <td>274.399994</td>\n",
       "      <td>279.399994</td>\n",
       "      <td>276.844025</td>\n",
       "      <td>24531791</td>\n",
       "    </tr>\n",
       "  </tbody>\n",
       "</table>\n",
       "</div>"
      ],
      "text/plain": [
       "                  Open   High         Low       Close   Adj Close    Volume\n",
       "Date                                                                       \n",
       "2021-01-01  274.899994  280.0  274.399994  279.399994  276.844025  24531791"
      ]
     },
     "execution_count": 8,
     "metadata": {},
     "output_type": "execute_result"
    }
   ],
   "source": [
    "df.head()"
   ]
  },
  {
   "cell_type": "code",
   "execution_count": 10,
   "metadata": {},
   "outputs": [
    {
     "name": "stdout",
     "output_type": "stream",
     "text": [
      "---------------Bearish Marubozu----------------\n"
     ]
    }
   ],
   "source": [
    "BrM.getbearishmarobozu(df)"
   ]
  },
  {
   "cell_type": "markdown",
   "metadata": {},
   "source": [
    "## Bearish Marubozu of one stock in range (from - to)"
   ]
  },
  {
   "cell_type": "code",
   "execution_count": 11,
   "metadata": {},
   "outputs": [
    {
     "name": "stdout",
     "output_type": "stream",
     "text": [
      "Enter stock name : sbin\n"
     ]
    }
   ],
   "source": [
    "stock=input(\"Enter stock name : \")"
   ]
  },
  {
   "cell_type": "code",
   "execution_count": 12,
   "metadata": {},
   "outputs": [
    {
     "name": "stdout",
     "output_type": "stream",
     "text": [
      "Enter start date : \n",
      "Enter Year :2020\n",
      "Enter Month :1\n",
      "Enter Date :1\n",
      "<class 'datetime.date'> 2020-01-01\n"
     ]
    }
   ],
   "source": [
    "print(\"Enter start date : \")\n",
    "y=input(\"Enter Year :\")\n",
    "m=input(\"Enter Month :\")\n",
    "d=input(\"Enter Date :\")\n",
    "sdate=date(int(y),int(m),int(d))\n",
    "print(str(type(sdate))+\" \"+str(sdate))"
   ]
  },
  {
   "cell_type": "code",
   "execution_count": 13,
   "metadata": {},
   "outputs": [
    {
     "name": "stdout",
     "output_type": "stream",
     "text": [
      "Enter end date : \n",
      "Enter Year :2021\n",
      "Enter Month :12\n",
      "Enter Date :1\n",
      "<class 'datetime.date'> 2021-12-01\n"
     ]
    }
   ],
   "source": [
    "print(\"Enter end date : \")\n",
    "y=input(\"Enter Year :\")\n",
    "m=input(\"Enter Month :\")\n",
    "d=input(\"Enter Date :\")\n",
    "edate=date(int(y),int(m),int(d))\n",
    "print(str(type(edate))+\" \"+str(edate))"
   ]
  },
  {
   "cell_type": "code",
   "execution_count": 14,
   "metadata": {},
   "outputs": [
    {
     "name": "stdout",
     "output_type": "stream",
     "text": [
      "730 days, 0:00:00\n",
      "730\n"
     ]
    }
   ],
   "source": [
    "diff=0;\n",
    "if(date.today()>sdate):\n",
    "    diff=date.today()-sdate\n",
    "elif(sdate>date.today()):\n",
    "    diff=sdate-date.today()\n",
    "elif(sdate==date.today()):\n",
    "    diff=0\n",
    "print(diff)\n",
    "diff=int(str(diff).split()[0])\n",
    "print(diff)"
   ]
  },
  {
   "cell_type": "code",
   "execution_count": 15,
   "metadata": {},
   "outputs": [
    {
     "name": "stdout",
     "output_type": "stream",
     "text": [
      "Valid intervals: [1d, 5d, 1wk, 1mo, 3mo]\n",
      "Enter time frame : 1d\n",
      "1d\n"
     ]
    }
   ],
   "source": [
    "    tstr=\"\"\n",
    "    ds=\"\"\n",
    "    if(int(diff)>=730):\n",
    "        print(\"Valid intervals: [1d, 5d, 1wk, 1mo, 3mo]\")\n",
    "        tf=input(\"Enter time frame : \")\n",
    "                \n",
    "        ## To covert the string into lower ( ex. 1m = M)\n",
    "        tstr=\"\" #timeframestring\n",
    "        ds=\"\"   # date string\n",
    "        for word in tf:\n",
    "            if(word).isalpha():\n",
    "                tstr=str(tstr)+str(word)\n",
    "            if(word).isdigit():\n",
    "                ds=str(ds)+str(word)\n",
    "        tf=ds+(tstr).lower()\n",
    "        print(tf) \n",
    "        \n",
    "        if(tf not in ('1d', '5d', '1wk', '1mo', '3mo')):\n",
    "            print(\"Invalid Time Frame\")\n",
    "            td=\"\"\n",
    "    \n",
    "    \n",
    "    if(int(diff)>60 and int(diff)<730):\n",
    "        print(\"Valid intervals: [1h, 1d, 5d, 1wk, 1mo, 3mo]\")\n",
    "        tf=input(\"Enter time frame : \")\n",
    "        ## To covert the string into lower ( ex. 1m = M)\n",
    "        tstr=\"\" #timeframestring\n",
    "        dstr=\"\" # date string\n",
    "        for word in tf:\n",
    "            if(word).isalpha():\n",
    "                tstr=str(tstr)+str(word)\n",
    "            if(word).isdigit():\n",
    "                ds=str(ds)+str(word)\n",
    "        tf=ds+(tstr).lower()\n",
    "        print(tf) \n",
    "        if(tf not in ('1h', '1d', '5d', '1wk', '1mo', '3mo')):\n",
    "            print(\"Invalid Time Frame\")\n",
    "            td=\"\"\n",
    "    \n",
    "    if(int(diff)>7 and int(diff)<=60):\n",
    "        print(\"Valid intervals: ['2m', '5m', '15m', '30m', '60m', '90m',1h, 1d, 5d, 1wk, 1mo, 3mo]\")\n",
    "        tf=input(\"Enter time frame : \")\n",
    "       ## To covert the string into lower ( ex. 1m = M)\n",
    "        tstr=\"\" #timeframestring\n",
    "        ds=\"\" # date string\n",
    "        for word in tf:\n",
    "            if(word).isalpha():\n",
    "                tstr=str(tstr)+str(word)\n",
    "            if(word).isdigit():\n",
    "                ds=str(ds)+str(word)\n",
    "        tf=ds+(tstr).lower()\n",
    "        print(tf) \n",
    "        if(tf not in ('2m', '5m', '15m', '30m', '60m', '90m','1h', '1d', '5d', '1wk', '1mo', '3mo')):\n",
    "            print(\"Invalid Time Frame\")\n",
    "            tf=\"\"\n",
    "            \n",
    "    if(int(diff)>0 and int(diff)<=7):\n",
    "        print(\"Valid intervals: ['1m',2m', '5m', '15m', '30m', '60m', '90m',1h, 1d, 5d, 1wk, 1mo, 3mo]\")\n",
    "        tf=input(\"Enter time frame : \")\n",
    "       ## To covert the string into lower ( ex. 1m = M)\n",
    "        tstr=\"\" #timeframestring\n",
    "        ds=\"\"  # date sring\n",
    "        for word in tf:\n",
    "            if(word).isalpha():\n",
    "                tstr=str(tstr)+str(word)\n",
    "            if(word).isdigit():\n",
    "                ds=str(ds)+str(word)\n",
    "        tf=ds+(tstr).lower()\n",
    "        print(tf)   \n",
    "        if(tf not in ('1m','2m', '5m', '15m', '30m', '60m', '90m','1h', '1d', '5d', '1wk', '1mo', '3mo')):\n",
    "            print(\"Invalid Time Frame\")\n",
    "            tf=\"\"\n"
   ]
  },
  {
   "cell_type": "code",
   "execution_count": 16,
   "metadata": {},
   "outputs": [
    {
     "name": "stdout",
     "output_type": "stream",
     "text": [
      "[*********************100%***********************]  1 of 1 completed\n"
     ]
    },
    {
     "data": {
      "text/html": [
       "<div>\n",
       "<style scoped>\n",
       "    .dataframe tbody tr th:only-of-type {\n",
       "        vertical-align: middle;\n",
       "    }\n",
       "\n",
       "    .dataframe tbody tr th {\n",
       "        vertical-align: top;\n",
       "    }\n",
       "\n",
       "    .dataframe thead th {\n",
       "        text-align: right;\n",
       "    }\n",
       "</style>\n",
       "<table border=\"1\" class=\"dataframe\">\n",
       "  <thead>\n",
       "    <tr style=\"text-align: right;\">\n",
       "      <th></th>\n",
       "      <th>Open</th>\n",
       "      <th>High</th>\n",
       "      <th>Low</th>\n",
       "      <th>Close</th>\n",
       "      <th>Adj Close</th>\n",
       "      <th>Volume</th>\n",
       "    </tr>\n",
       "    <tr>\n",
       "      <th>Date</th>\n",
       "      <th></th>\n",
       "      <th></th>\n",
       "      <th></th>\n",
       "      <th></th>\n",
       "      <th></th>\n",
       "      <th></th>\n",
       "    </tr>\n",
       "  </thead>\n",
       "  <tbody>\n",
       "    <tr>\n",
       "      <th>2020-01-01</th>\n",
       "      <td>334.700012</td>\n",
       "      <td>335.950012</td>\n",
       "      <td>332.149994</td>\n",
       "      <td>334.450012</td>\n",
       "      <td>331.390442</td>\n",
       "      <td>17379320</td>\n",
       "    </tr>\n",
       "    <tr>\n",
       "      <th>2020-01-02</th>\n",
       "      <td>334.500000</td>\n",
       "      <td>339.850006</td>\n",
       "      <td>333.350006</td>\n",
       "      <td>339.299988</td>\n",
       "      <td>336.196045</td>\n",
       "      <td>20324236</td>\n",
       "    </tr>\n",
       "    <tr>\n",
       "      <th>2020-01-03</th>\n",
       "      <td>337.950012</td>\n",
       "      <td>337.950012</td>\n",
       "      <td>332.000000</td>\n",
       "      <td>333.700012</td>\n",
       "      <td>330.647308</td>\n",
       "      <td>21853208</td>\n",
       "    </tr>\n",
       "    <tr>\n",
       "      <th>2020-01-06</th>\n",
       "      <td>331.700012</td>\n",
       "      <td>331.700012</td>\n",
       "      <td>317.700012</td>\n",
       "      <td>319.000000</td>\n",
       "      <td>316.081757</td>\n",
       "      <td>35645325</td>\n",
       "    </tr>\n",
       "    <tr>\n",
       "      <th>2020-01-07</th>\n",
       "      <td>324.450012</td>\n",
       "      <td>327.000000</td>\n",
       "      <td>315.399994</td>\n",
       "      <td>318.399994</td>\n",
       "      <td>315.487244</td>\n",
       "      <td>50966826</td>\n",
       "    </tr>\n",
       "  </tbody>\n",
       "</table>\n",
       "</div>"
      ],
      "text/plain": [
       "                  Open        High         Low       Close   Adj Close  \\\n",
       "Date                                                                     \n",
       "2020-01-01  334.700012  335.950012  332.149994  334.450012  331.390442   \n",
       "2020-01-02  334.500000  339.850006  333.350006  339.299988  336.196045   \n",
       "2020-01-03  337.950012  337.950012  332.000000  333.700012  330.647308   \n",
       "2020-01-06  331.700012  331.700012  317.700012  319.000000  316.081757   \n",
       "2020-01-07  324.450012  327.000000  315.399994  318.399994  315.487244   \n",
       "\n",
       "              Volume  \n",
       "Date                  \n",
       "2020-01-01  17379320  \n",
       "2020-01-02  20324236  \n",
       "2020-01-03  21853208  \n",
       "2020-01-06  35645325  \n",
       "2020-01-07  50966826  "
      ]
     },
     "execution_count": 16,
     "metadata": {},
     "output_type": "execute_result"
    }
   ],
   "source": [
    "try:\n",
    "    df=yf.download(tickers=stock+'.NS',start=sdate,end=edate,interval=tf)\n",
    "    if(len(df)==0):\n",
    "        print(\"Invalid Date ( Or Holiday )\")\n",
    "except:\n",
    "    print(\"Invalid Date ( Or Holiday )\")\n",
    "    \n",
    "df.head()"
   ]
  },
  {
   "cell_type": "code",
   "execution_count": 17,
   "metadata": {},
   "outputs": [
    {
     "name": "stdout",
     "output_type": "stream",
     "text": [
      "---------------Bearish Marubozu----------------\n",
      "2020-01-20 00:00:00 314.0\n",
      "2020-02-12 00:00:00 320.20001220703125\n",
      "2020-04-03 00:00:00 175.5\n",
      "2020-05-18 00:00:00 155.3000030517578\n",
      "2020-05-19 00:00:00 152.8000030517578\n",
      "2020-06-08 00:00:00 186.8000030517578\n",
      "2020-06-24 00:00:00 184.60000610351562\n",
      "2020-08-31 00:00:00 212.0\n",
      "2021-09-24 00:00:00 440.75\n"
     ]
    }
   ],
   "source": [
    "BrM.getbearishmarobozu(df)"
   ]
  },
  {
   "cell_type": "code",
   "execution_count": null,
   "metadata": {},
   "outputs": [],
   "source": []
  },
  {
   "cell_type": "code",
   "execution_count": null,
   "metadata": {},
   "outputs": [],
   "source": []
  },
  {
   "cell_type": "code",
   "execution_count": null,
   "metadata": {},
   "outputs": [],
   "source": []
  },
  {
   "cell_type": "code",
   "execution_count": null,
   "metadata": {},
   "outputs": [],
   "source": []
  }
 ],
 "metadata": {
  "kernelspec": {
   "display_name": "Python 3",
   "language": "python",
   "name": "python3"
  },
  "language_info": {
   "codemirror_mode": {
    "name": "ipython",
    "version": 3
   },
   "file_extension": ".py",
   "mimetype": "text/x-python",
   "name": "python",
   "nbconvert_exporter": "python",
   "pygments_lexer": "ipython3",
   "version": "3.8.5"
  }
 },
 "nbformat": 4,
 "nbformat_minor": 4
}
