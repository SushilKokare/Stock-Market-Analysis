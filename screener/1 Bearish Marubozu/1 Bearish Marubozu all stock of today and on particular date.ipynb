{
 "cells": [
  {
   "cell_type": "code",
   "execution_count": 2,
   "metadata": {},
   "outputs": [],
   "source": [
    "#Task: Bullish Marubozu ( Single Candlestick Bullish Pattern)"
   ]
  },
  {
   "cell_type": "code",
   "execution_count": 3,
   "metadata": {},
   "outputs": [],
   "source": [
    "from datetime import date\n",
    "import datetime\n",
    "from nsepy.history import get_price_list\n",
    "import yfinance as yf\n",
    "import pandas as pd\n",
    "\n",
    "from SingleCandlesticks import BearishMarubozu as BrM"
   ]
  },
  {
   "cell_type": "markdown",
   "metadata": {},
   "source": [
    "## Bearish Marubozu Of Stock Of Today Or Latest Date"
   ]
  },
  {
   "cell_type": "code",
   "execution_count": 4,
   "metadata": {},
   "outputs": [
    {
     "name": "stdout",
     "output_type": "stream",
     "text": [
      "2021-12-31\n",
      "[*********************100%***********************]  1 of 1 completed\n",
      "<class 'pandas.core.frame.DataFrame'>\n",
      "              Open         High     Low        Close    Adj Close   Volume\n",
      "Date                                                                      \n",
      "2021-12-31  2373.0  2383.899902  2360.0  2368.149902  2368.149902  4372873\n"
     ]
    }
   ],
   "source": [
    "\n",
    "print(date.today())\n",
    "\n",
    "dated=date.today()\n",
    "\n",
    "dt=yf.download(tickers=\"reliance.ns\",period=\"1d\")\n",
    "print(type(dt))\n",
    "print(dt)"
   ]
  },
  {
   "cell_type": "code",
   "execution_count": 5,
   "metadata": {},
   "outputs": [],
   "source": [
    "for i in dt.index:\n",
    "    d=str(i)\n",
    "d=d.split()\n",
    "d=d[0]\n",
    "d=str(d)\n",
    "d=d.split('-')"
   ]
  },
  {
   "cell_type": "code",
   "execution_count": 6,
   "metadata": {},
   "outputs": [
    {
     "name": "stdout",
     "output_type": "stream",
     "text": [
      "2021-12-31\n"
     ]
    }
   ],
   "source": [
    "d=date(int(d[0]),int(d[1]),int(d[2]))\n",
    "print(d)"
   ]
  },
  {
   "cell_type": "code",
   "execution_count": 7,
   "metadata": {},
   "outputs": [
    {
     "name": "stdout",
     "output_type": "stream",
     "text": [
      "Data on the date : 2021-12-31\n",
      "Data on Date : 2021-12-31\n"
     ]
    }
   ],
   "source": [
    "print(\"Data on the date : \"+str(d))\n",
    "\n",
    "dated=d\n",
    "df=pd.DataFrame()\n",
    "#print(dated)\n",
    "while(len(df)<=0):\n",
    "    try:\n",
    "        df=get_price_list(dated)\n",
    "    except:\n",
    "        print(\"e\")\n",
    "        dated=dated-datetime.timedelta(1)\n",
    "print(\"Data on Date : \"+str(dated))        "
   ]
  },
  {
   "cell_type": "code",
   "execution_count": 8,
   "metadata": {},
   "outputs": [
    {
     "data": {
      "text/html": [
       "<div>\n",
       "<style scoped>\n",
       "    .dataframe tbody tr th:only-of-type {\n",
       "        vertical-align: middle;\n",
       "    }\n",
       "\n",
       "    .dataframe tbody tr th {\n",
       "        vertical-align: top;\n",
       "    }\n",
       "\n",
       "    .dataframe thead th {\n",
       "        text-align: right;\n",
       "    }\n",
       "</style>\n",
       "<table border=\"1\" class=\"dataframe\">\n",
       "  <thead>\n",
       "    <tr style=\"text-align: right;\">\n",
       "      <th></th>\n",
       "      <th>SYMBOL</th>\n",
       "      <th>SERIES</th>\n",
       "      <th>OPEN</th>\n",
       "      <th>HIGH</th>\n",
       "      <th>LOW</th>\n",
       "      <th>CLOSE</th>\n",
       "      <th>LAST</th>\n",
       "      <th>PREVCLOSE</th>\n",
       "      <th>TOTTRDQTY</th>\n",
       "      <th>TOTTRDVAL</th>\n",
       "      <th>TIMESTAMP</th>\n",
       "      <th>TOTALTRADES</th>\n",
       "      <th>ISIN</th>\n",
       "    </tr>\n",
       "  </thead>\n",
       "  <tbody>\n",
       "    <tr>\n",
       "      <th>0</th>\n",
       "      <td>20MICRONS</td>\n",
       "      <td>EQ</td>\n",
       "      <td>64.0</td>\n",
       "      <td>66.60</td>\n",
       "      <td>63.00</td>\n",
       "      <td>63.45</td>\n",
       "      <td>63.90</td>\n",
       "      <td>62.35</td>\n",
       "      <td>1597660</td>\n",
       "      <td>1.038646e+08</td>\n",
       "      <td>31-DEC-2021</td>\n",
       "      <td>11589</td>\n",
       "      <td>INE144J01027</td>\n",
       "    </tr>\n",
       "    <tr>\n",
       "      <th>1</th>\n",
       "      <td>21STCENMGM</td>\n",
       "      <td>EQ</td>\n",
       "      <td>44.1</td>\n",
       "      <td>45.90</td>\n",
       "      <td>44.10</td>\n",
       "      <td>45.90</td>\n",
       "      <td>45.90</td>\n",
       "      <td>45.00</td>\n",
       "      <td>17329</td>\n",
       "      <td>7.903413e+05</td>\n",
       "      <td>31-DEC-2021</td>\n",
       "      <td>213</td>\n",
       "      <td>INE253B01015</td>\n",
       "    </tr>\n",
       "    <tr>\n",
       "      <th>2</th>\n",
       "      <td>3IINFOLTD</td>\n",
       "      <td>EQ</td>\n",
       "      <td>92.0</td>\n",
       "      <td>95.85</td>\n",
       "      <td>91.30</td>\n",
       "      <td>94.65</td>\n",
       "      <td>94.45</td>\n",
       "      <td>91.30</td>\n",
       "      <td>3513963</td>\n",
       "      <td>3.317913e+08</td>\n",
       "      <td>31-DEC-2021</td>\n",
       "      <td>15942</td>\n",
       "      <td>INE748C01038</td>\n",
       "    </tr>\n",
       "    <tr>\n",
       "      <th>3</th>\n",
       "      <td>3MINDIA</td>\n",
       "      <td>EQ</td>\n",
       "      <td>24989.0</td>\n",
       "      <td>25680.00</td>\n",
       "      <td>24155.65</td>\n",
       "      <td>25360.80</td>\n",
       "      <td>25150.00</td>\n",
       "      <td>25047.00</td>\n",
       "      <td>6627</td>\n",
       "      <td>1.642765e+08</td>\n",
       "      <td>31-DEC-2021</td>\n",
       "      <td>5306</td>\n",
       "      <td>INE470A01017</td>\n",
       "    </tr>\n",
       "    <tr>\n",
       "      <th>4</th>\n",
       "      <td>3PLAND</td>\n",
       "      <td>EQ</td>\n",
       "      <td>15.4</td>\n",
       "      <td>15.80</td>\n",
       "      <td>14.85</td>\n",
       "      <td>15.65</td>\n",
       "      <td>15.65</td>\n",
       "      <td>14.65</td>\n",
       "      <td>80276</td>\n",
       "      <td>1.241928e+06</td>\n",
       "      <td>31-DEC-2021</td>\n",
       "      <td>386</td>\n",
       "      <td>INE105C01023</td>\n",
       "    </tr>\n",
       "  </tbody>\n",
       "</table>\n",
       "</div>"
      ],
      "text/plain": [
       "       SYMBOL SERIES     OPEN      HIGH       LOW     CLOSE      LAST  \\\n",
       "0   20MICRONS     EQ     64.0     66.60     63.00     63.45     63.90   \n",
       "1  21STCENMGM     EQ     44.1     45.90     44.10     45.90     45.90   \n",
       "2   3IINFOLTD     EQ     92.0     95.85     91.30     94.65     94.45   \n",
       "3     3MINDIA     EQ  24989.0  25680.00  24155.65  25360.80  25150.00   \n",
       "4      3PLAND     EQ     15.4     15.80     14.85     15.65     15.65   \n",
       "\n",
       "   PREVCLOSE  TOTTRDQTY     TOTTRDVAL    TIMESTAMP  TOTALTRADES          ISIN  \n",
       "0      62.35    1597660  1.038646e+08  31-DEC-2021        11589  INE144J01027  \n",
       "1      45.00      17329  7.903413e+05  31-DEC-2021          213  INE253B01015  \n",
       "2      91.30    3513963  3.317913e+08  31-DEC-2021        15942  INE748C01038  \n",
       "3   25047.00       6627  1.642765e+08  31-DEC-2021         5306  INE470A01017  \n",
       "4      14.65      80276  1.241928e+06  31-DEC-2021          386  INE105C01023  "
      ]
     },
     "execution_count": 8,
     "metadata": {},
     "output_type": "execute_result"
    }
   ],
   "source": [
    "#try:\n",
    "#    df=get_price_list(d)\n",
    "#except:\n",
    "#    print(\"Error Occured\")\n",
    "#    print(\"Causes :\")\n",
    "#    print(\"Check Date If It Is Holiday Day\")\n",
    "#    print(\"Check Internet Connection\"\n",
    "df.head()"
   ]
  },
  {
   "cell_type": "code",
   "execution_count": 9,
   "metadata": {},
   "outputs": [
    {
     "name": "stdout",
     "output_type": "stream",
     "text": [
      "---------------Bearish Marubozu----------------\n",
      "                      \n",
      "{'DANGEE': 0.31965768940347317, 'EBANK': 0.3054936866960945, 'GOLDSHARE': 0.13285024154589478, 'IVZINGOLD': 0.125555542662194, 'KIRLOSIND': 0.17084623838545368, 'MOGSEC': 0.30014195903467794, 'MORARJEE': 0.9326424870466319, 'RANEENGINE': 0.5439629035134652, 'RML': 0.5475656419052645, 'WENDT': 0.20517395182872433, 'WINDLAS': 0.21199492661714164}\n",
      "           --           \n",
      "Sorted In Descending Order Of Change In %\n",
      "                      \n",
      "[('MORARJEE', 0.9326424870466319), ('RML', 0.5475656419052645), ('RANEENGINE', 0.5439629035134652), ('DANGEE', 0.31965768940347317), ('EBANK', 0.3054936866960945), ('MOGSEC', 0.30014195903467794), ('WINDLAS', 0.21199492661714164), ('WENDT', 0.20517395182872433), ('KIRLOSIND', 0.17084623838545368), ('GOLDSHARE', 0.13285024154589478), ('IVZINGOLD', 0.125555542662194)]\n",
      "\n"
     ]
    }
   ],
   "source": [
    "BrM.getbearishmarobozu(df)"
   ]
  },
  {
   "cell_type": "code",
   "execution_count": null,
   "metadata": {},
   "outputs": [],
   "source": []
  },
  {
   "cell_type": "code",
   "execution_count": null,
   "metadata": {},
   "outputs": [],
   "source": []
  },
  {
   "cell_type": "markdown",
   "metadata": {},
   "source": [
    "## Bearish Marubozu Of Stock Of Partiular Day "
   ]
  },
  {
   "cell_type": "code",
   "execution_count": 10,
   "metadata": {},
   "outputs": [
    {
     "name": "stdout",
     "output_type": "stream",
     "text": [
      "Enter date on which to find Bullish Marubozu\n",
      "Enter year (yyyy) : 2021\n",
      "Enter month (mm) : 10\n",
      "Enter date (dd) :1\n"
     ]
    }
   ],
   "source": [
    "print(\"Enter date on which to find Bullish Marubozu\")\n",
    "year=int(input(\"Enter year (yyyy) : \"))\n",
    "month=int(input(\"Enter month (mm) : \"))\n",
    "dated=int(input(\"Enter date (dd) :\"))"
   ]
  },
  {
   "cell_type": "code",
   "execution_count": 11,
   "metadata": {
    "scrolled": true
   },
   "outputs": [
    {
     "name": "stdout",
     "output_type": "stream",
     "text": [
      "       SYMBOL SERIES     OPEN      HIGH       LOW     CLOSE     LAST  \\\n",
      "0   20MICRONS     EQ     60.9     62.75     60.00     61.00     61.1   \n",
      "1  21STCENMGM     EQ     49.2     49.20     49.20     49.20     49.2   \n",
      "2     3MINDIA     EQ  24800.0  24900.00  24500.00  24863.20  24896.4   \n",
      "4      5PAISA     EQ    462.0    479.00    455.65    476.05    472.0   \n",
      "5     63MOONS     EQ     92.5     93.00     91.85     92.15     92.0   \n",
      "\n",
      "   PREVCLOSE  TOTTRDQTY    TOTTRDVAL    TIMESTAMP  TOTALTRADES          ISIN  \n",
      "0      61.20     107412   6567635.75  01-OCT-2021         1940  INE144J01027  \n",
      "1      48.25       9960    490032.00  01-OCT-2021           31  INE253B01015  \n",
      "2   24832.50       1336  33010938.25  01-OCT-2021          932  INE470A01017  \n",
      "4     458.35      37331  17550108.90  01-OCT-2021         1270  INE618L01018  \n",
      "5      92.80      36669   3386773.70  01-OCT-2021          771  INE111B01023  \n"
     ]
    }
   ],
   "source": [
    "try:\n",
    "    df= get_price_list(date(year,month,dated))\n",
    "    print(df.head())\n",
    "except:\n",
    "    print(\"Invalid Date\")"
   ]
  },
  {
   "cell_type": "code",
   "execution_count": 13,
   "metadata": {},
   "outputs": [
    {
     "name": "stdout",
     "output_type": "stream",
     "text": [
      "---------------Bearish Marubozu----------------\n",
      "                      \n",
      "{'ANSALHSG': 0.5511811023622056, 'CALSOFT': 1.0420168067226896, 'GLFL': 0.526315789473684, 'GODREJIND': 0.24873860316898208, 'ICICINIFTY': 1.5834218916046763, 'ICICITECH': 0.15242781595543073, 'MAN50ETF': 1.2277194735965342, 'MOGSEC': 1.0020449897750507, 'MRPL': 0.6096361848574241, 'NETFIT': 0.4403048264182903, 'RUCHI': 0.17147199924001286, 'RVHL': 0.857740585774059, 'SAKSOFT': 0.16203053292123212, 'TCIFINANCE': 0.36036036036036073, 'VIVIDHA': 0.6666666666666672}\n",
      "           --           \n",
      "Sorted In Descending Order Of Change In %\n",
      "                      \n",
      "[('ICICINIFTY', 1.5834218916046763), ('MAN50ETF', 1.2277194735965342), ('CALSOFT', 1.0420168067226896), ('MOGSEC', 1.0020449897750507), ('RVHL', 0.857740585774059), ('VIVIDHA', 0.6666666666666672), ('MRPL', 0.6096361848574241), ('ANSALHSG', 0.5511811023622056), ('GLFL', 0.526315789473684), ('NETFIT', 0.4403048264182903), ('TCIFINANCE', 0.36036036036036073), ('GODREJIND', 0.24873860316898208), ('RUCHI', 0.17147199924001286), ('SAKSOFT', 0.16203053292123212), ('ICICITECH', 0.15242781595543073)]\n",
      "\n"
     ]
    }
   ],
   "source": [
    "BrM.getbearishmarobozu(df)"
   ]
  },
  {
   "cell_type": "code",
   "execution_count": null,
   "metadata": {},
   "outputs": [],
   "source": []
  },
  {
   "cell_type": "code",
   "execution_count": null,
   "metadata": {},
   "outputs": [],
   "source": []
  },
  {
   "cell_type": "code",
   "execution_count": null,
   "metadata": {},
   "outputs": [],
   "source": []
  },
  {
   "cell_type": "code",
   "execution_count": null,
   "metadata": {},
   "outputs": [],
   "source": []
  },
  {
   "cell_type": "code",
   "execution_count": null,
   "metadata": {},
   "outputs": [],
   "source": []
  },
  {
   "cell_type": "code",
   "execution_count": null,
   "metadata": {},
   "outputs": [],
   "source": []
  },
  {
   "cell_type": "code",
   "execution_count": null,
   "metadata": {},
   "outputs": [],
   "source": []
  },
  {
   "cell_type": "code",
   "execution_count": null,
   "metadata": {},
   "outputs": [],
   "source": []
  }
 ],
 "metadata": {
  "kernelspec": {
   "display_name": "Python 3",
   "language": "python",
   "name": "python3"
  },
  "language_info": {
   "codemirror_mode": {
    "name": "ipython",
    "version": 3
   },
   "file_extension": ".py",
   "mimetype": "text/x-python",
   "name": "python",
   "nbconvert_exporter": "python",
   "pygments_lexer": "ipython3",
   "version": "3.8.5"
  }
 },
 "nbformat": 4,
 "nbformat_minor": 4
}
