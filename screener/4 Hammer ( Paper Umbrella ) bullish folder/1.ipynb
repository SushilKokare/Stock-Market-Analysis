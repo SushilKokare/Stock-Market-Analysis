{
 "cells": [
  {
   "cell_type": "code",
   "execution_count": 1,
   "metadata": {},
   "outputs": [],
   "source": [
    "# Task : Hammer (Paper Umbrella) after a downtrend "
   ]
  },
  {
   "cell_type": "code",
   "execution_count": 2,
   "metadata": {},
   "outputs": [],
   "source": [
    "from datetime import date\n",
    "import datetime\n",
    "from nsepy.history import get_price_list\n",
    "import yfinance as yf\n",
    "import pandas as pd\n",
    "from nsepy.history import get_history"
   ]
  },
  {
   "cell_type": "markdown",
   "metadata": {},
   "source": [
    "## Hammer (Paper Umbrell) Bullish After A Downtrend"
   ]
  },
  {
   "cell_type": "code",
   "execution_count": 3,
   "metadata": {},
   "outputs": [
    {
     "name": "stdout",
     "output_type": "stream",
     "text": [
      "2022-01-03\n",
      "[*********************100%***********************]  1 of 1 completed\n",
      "<class 'pandas.core.frame.DataFrame'>\n",
      "              Open         High          Low        Close    Adj Close  \\\n",
      "Date                                                                     \n",
      "2022-01-03  2365.0  2407.949951  2363.550049  2403.850098  2403.850098   \n",
      "\n",
      "             Volume  \n",
      "Date                 \n",
      "2022-01-03  2501248  \n"
     ]
    }
   ],
   "source": [
    "\n",
    "print(date.today())\n",
    "\n",
    "dated=date.today()\n",
    "\n",
    "dt=yf.download(tickers=\"reliance.ns\",period=\"1d\")\n",
    "print(type(dt))\n",
    "print(dt)"
   ]
  },
  {
   "cell_type": "code",
   "execution_count": 4,
   "metadata": {},
   "outputs": [],
   "source": [
    "for i in dt.index:\n",
    "    d=str(i)\n",
    "d=d.split()\n",
    "d=d[0]\n",
    "d=str(d)\n",
    "d=d.split('-')"
   ]
  },
  {
   "cell_type": "code",
   "execution_count": 5,
   "metadata": {},
   "outputs": [
    {
     "name": "stdout",
     "output_type": "stream",
     "text": [
      "2022-01-03\n"
     ]
    }
   ],
   "source": [
    "d=date(int(d[0]),int(d[1]),int(d[2]))\n",
    "print(d)"
   ]
  },
  {
   "cell_type": "code",
   "execution_count": 6,
   "metadata": {},
   "outputs": [
    {
     "name": "stdout",
     "output_type": "stream",
     "text": [
      "Data on the date : 2022-01-03\n",
      "Data on Date : 2022-01-03\n"
     ]
    }
   ],
   "source": [
    "print(\"Data on the date : \"+str(d))\n",
    "\n",
    "dated=d\n",
    "df=pd.DataFrame()\n",
    "#print(dated)\n",
    "while(len(df)<=0):\n",
    "    try:\n",
    "        df=get_price_list(dated)\n",
    "    except:\n",
    "        print(\"e\")\n",
    "        dated=dated-datetime.timedelta(1)\n",
    "print(\"Data on Date : \"+str(dated))        "
   ]
  },
  {
   "cell_type": "code",
   "execution_count": 25,
   "metadata": {},
   "outputs": [
    {
     "data": {
      "text/html": [
       "<div>\n",
       "<style scoped>\n",
       "    .dataframe tbody tr th:only-of-type {\n",
       "        vertical-align: middle;\n",
       "    }\n",
       "\n",
       "    .dataframe tbody tr th {\n",
       "        vertical-align: top;\n",
       "    }\n",
       "\n",
       "    .dataframe thead th {\n",
       "        text-align: right;\n",
       "    }\n",
       "</style>\n",
       "<table border=\"1\" class=\"dataframe\">\n",
       "  <thead>\n",
       "    <tr style=\"text-align: right;\">\n",
       "      <th></th>\n",
       "      <th>SYMBOL</th>\n",
       "      <th>SERIES</th>\n",
       "      <th>OPEN</th>\n",
       "      <th>HIGH</th>\n",
       "      <th>LOW</th>\n",
       "      <th>CLOSE</th>\n",
       "      <th>LAST</th>\n",
       "      <th>PREVCLOSE</th>\n",
       "      <th>TOTTRDQTY</th>\n",
       "      <th>TOTTRDVAL</th>\n",
       "      <th>TIMESTAMP</th>\n",
       "      <th>TOTALTRADES</th>\n",
       "      <th>ISIN</th>\n",
       "    </tr>\n",
       "  </thead>\n",
       "  <tbody>\n",
       "    <tr>\n",
       "      <th>1</th>\n",
       "      <td>20MICRONS</td>\n",
       "      <td>EQ</td>\n",
       "      <td>63.95</td>\n",
       "      <td>64.55</td>\n",
       "      <td>61.70</td>\n",
       "      <td>62.1</td>\n",
       "      <td>62.1</td>\n",
       "      <td>63.45</td>\n",
       "      <td>451601</td>\n",
       "      <td>2.824329e+07</td>\n",
       "      <td>03-JAN-2022</td>\n",
       "      <td>3724</td>\n",
       "      <td>INE144J01027</td>\n",
       "    </tr>\n",
       "    <tr>\n",
       "      <th>2</th>\n",
       "      <td>21STCENMGM</td>\n",
       "      <td>EQ</td>\n",
       "      <td>46.80</td>\n",
       "      <td>46.80</td>\n",
       "      <td>46.10</td>\n",
       "      <td>46.7</td>\n",
       "      <td>46.8</td>\n",
       "      <td>45.90</td>\n",
       "      <td>22480</td>\n",
       "      <td>1.051061e+06</td>\n",
       "      <td>03-JAN-2022</td>\n",
       "      <td>203</td>\n",
       "      <td>INE253B01015</td>\n",
       "    </tr>\n",
       "    <tr>\n",
       "      <th>3</th>\n",
       "      <td>3IINFOLTD</td>\n",
       "      <td>EQ</td>\n",
       "      <td>94.55</td>\n",
       "      <td>96.90</td>\n",
       "      <td>92.40</td>\n",
       "      <td>93.4</td>\n",
       "      <td>93.5</td>\n",
       "      <td>94.65</td>\n",
       "      <td>1694446</td>\n",
       "      <td>1.599792e+08</td>\n",
       "      <td>03-JAN-2022</td>\n",
       "      <td>14040</td>\n",
       "      <td>INE748C01038</td>\n",
       "    </tr>\n",
       "    <tr>\n",
       "      <th>4</th>\n",
       "      <td>3MINDIA</td>\n",
       "      <td>EQ</td>\n",
       "      <td>25448.00</td>\n",
       "      <td>25890.30</td>\n",
       "      <td>25358.55</td>\n",
       "      <td>25797.2</td>\n",
       "      <td>25818.0</td>\n",
       "      <td>25360.80</td>\n",
       "      <td>4475</td>\n",
       "      <td>1.153117e+08</td>\n",
       "      <td>03-JAN-2022</td>\n",
       "      <td>3240</td>\n",
       "      <td>INE470A01017</td>\n",
       "    </tr>\n",
       "    <tr>\n",
       "      <th>5</th>\n",
       "      <td>3PLAND</td>\n",
       "      <td>EQ</td>\n",
       "      <td>17.20</td>\n",
       "      <td>17.20</td>\n",
       "      <td>16.40</td>\n",
       "      <td>17.2</td>\n",
       "      <td>17.2</td>\n",
       "      <td>15.65</td>\n",
       "      <td>74816</td>\n",
       "      <td>1.283553e+06</td>\n",
       "      <td>03-JAN-2022</td>\n",
       "      <td>331</td>\n",
       "      <td>INE105C01023</td>\n",
       "    </tr>\n",
       "  </tbody>\n",
       "</table>\n",
       "</div>"
      ],
      "text/plain": [
       "       SYMBOL SERIES      OPEN      HIGH       LOW    CLOSE     LAST  \\\n",
       "1   20MICRONS     EQ     63.95     64.55     61.70     62.1     62.1   \n",
       "2  21STCENMGM     EQ     46.80     46.80     46.10     46.7     46.8   \n",
       "3   3IINFOLTD     EQ     94.55     96.90     92.40     93.4     93.5   \n",
       "4     3MINDIA     EQ  25448.00  25890.30  25358.55  25797.2  25818.0   \n",
       "5      3PLAND     EQ     17.20     17.20     16.40     17.2     17.2   \n",
       "\n",
       "   PREVCLOSE  TOTTRDQTY     TOTTRDVAL    TIMESTAMP  TOTALTRADES          ISIN  \n",
       "1      63.45     451601  2.824329e+07  03-JAN-2022         3724  INE144J01027  \n",
       "2      45.90      22480  1.051061e+06  03-JAN-2022          203  INE253B01015  \n",
       "3      94.65    1694446  1.599792e+08  03-JAN-2022        14040  INE748C01038  \n",
       "4   25360.80       4475  1.153117e+08  03-JAN-2022         3240  INE470A01017  \n",
       "5      15.65      74816  1.283553e+06  03-JAN-2022          331  INE105C01023  "
      ]
     },
     "execution_count": 25,
     "metadata": {},
     "output_type": "execute_result"
    }
   ],
   "source": [
    "df.head()"
   ]
  },
  {
   "cell_type": "code",
   "execution_count": 22,
   "metadata": {},
   "outputs": [],
   "source": [
    "def gethammer(df):\n",
    "\n",
    "    bh={}    # blue hammer \n",
    "    rh={}    # red hammer\n",
    "\n",
    "    if('OPEN' in df.columns):\n",
    "\n",
    "        for ind in df.index:\n",
    "            if(df['OPEN'][ind] < df['CLOSE'][ind] ):\n",
    "                bper=((float(df['CLOSE'][ind])-float(df['OPEN'][ind]))/float(df['CLOSE'][ind]))*100 # body percentage\n",
    "                us=((float(df['HIGH'][ind])-float(df['CLOSE'][ind]))/float(df['CLOSE'][ind]))*100  # Upper Shadow\n",
    "                ls=((float(df['OPEN'][ind])-float(df['LOW'][ind]))/float(df['CLOSE'][ind]))*100  # Lower Shadow\n",
    "                if(bper>=0.7 and bper<=2.3 and us<=0.6 and ls>=bper*1.8):\n",
    "                    #print(df['SYMBOL'][ind] +\"=\"+str(per) +\" Per = \"+str(per)+\" US = \"+str(us)+\" LS = \"+str(ls))\n",
    "                    bh[df['SYMBOL'][ind]]= bper\n",
    "\n",
    "            elif(df['CLOSE'][ind] < df['OPEN'][ind] ):\n",
    "                bper=((float(df['CLOSE'][ind])-float(df['OPEN'][ind]))/float(df['CLOSE'][ind]))*100 # body percentage\n",
    "                us=((float(df['HIGH'][ind])-float(df['CLOSE'][ind]))/float(df['CLOSE'][ind]))*100  # Upper Shadow\n",
    "                ls=((float(df['OPEN'][ind])-float(df['LOW'][ind]))/float(df['CLOSE'][ind]))*100  # Lower Shadow\n",
    "                if(bper>=0.7 and bper<=2.3 and us<=0.6 and ls>=bper*1.8):\n",
    "                     #print(df['SYMBOL'][ind] +\"=\"+str(per) +\" Per = \"+str(per)+\" US = \"+str(us)+\" LS = \"+str(ls))\n",
    "                    rh[df['SYMBOL'][ind]]= bper\n",
    "\n",
    "\n",
    "            elif(df['CLOSE'][ind] == df['OPEN'][ind] ):\n",
    "                bper=0\n",
    "                #per=round(((float(df['OPEN'][ind])-float(df['CLOSE'][ind]))/float(df['CLOSE'][ind]))*100,4)\n",
    "                #print(df['SYMBOL'][ind] +\"=\"+str(per))\n",
    "                #print(\"-------------------------------------------\")\n",
    "                pass\n",
    "\n",
    "\n",
    "\n",
    "    elif('Open' in df.columns):\n",
    "\n",
    "        for ind in df.index:\n",
    "            if(df['Open'][ind] < df['Close'][ind] ):\n",
    "                bper=((float(df['Close'][ind])-float(df['Open'][ind]))/float(df['Close'][ind]))*100 # body percentage\n",
    "                us=((float(df['High'][ind])-float(df['Close'][ind]))/float(df['Close'][ind]))*100  # Upper Shadow\n",
    "                ls=((float(df['Open'][ind])-float(df['Low'][ind]))/float(df['Close'][ind]))*100  # Lower Shadow\n",
    "                if(bper>=0.7 and bper<=2.3 and us<=0.6 and ls>=bper*1.8):\n",
    "                   #print(df['Symbol'][ind] +\"=\"+str(per) +\" Per = \"+str(per)+\" US = \"+str(us)+\" LS = \"+str(ls))\n",
    "                    #bd[df['Symbol'][ind]]= bper\n",
    "                    bh[ind]=df['Close'][ind]\n",
    "\n",
    "            elif(df['Close'][ind] < df['Open'][ind] ):\n",
    "                bper=((float(df['Close'][ind])-float(df['Open'][ind]))/float(df['Close'][ind]))*100 # body percentage\n",
    "                us=((float(df['High'][ind])-float(df['Close'][ind]))/float(df['Close'][ind]))*100  # Upper Shadow\n",
    "                ls=((float(df['Open'][ind])-float(df['Low'][ind]))/float(df['Close'][ind]))*100  # Lower Shadow\n",
    "                if(bper>=0.7 and bper<=2.3 and us<=0.6 and ls>=bper*1.8):\n",
    "                    #print(df['Symbol'][ind] +\"=\"+str(per) +\" Per = \"+str(per)+\" US = \"+str(us)+\" LS = \"+str(ls))\n",
    "                    #rd[df['Symbol'][ind]]= bper\n",
    "                    rh[ind]=df['Close'][ind]\n",
    "\n",
    "            elif(df['Close'][ind] == df['Open'][ind] ):\n",
    "                bper=0\n",
    "                #per=round(((float(df['Open'][ind])-float(df['Close'][ind]))/float(df['Close'][ind]))*100,4)\n",
    "                #print(df['Symbol'][ind] +\"=\"+str(per))\n",
    "                #print(\"-------------------------------------------\")\n",
    "                pass\n",
    "\n",
    "    print(\"BLUE HAMMER\")\n",
    "    print(bh)\n",
    "    print(\"-------------------------------------------\")\n",
    "    print(\"RED HAMMER\")\n",
    "    print(rh)\n",
    "    print(\"-------------------------------------------\")\n",
    "    print(\"Hammer In Downtrend\")\n",
    "    \n"
   ]
  },
  {
   "cell_type": "code",
   "execution_count": 23,
   "metadata": {},
   "outputs": [
    {
     "name": "stdout",
     "output_type": "stream",
     "text": [
      "BLUE HAMMER\n",
      "{'ANIKINDS': 0.8802816901408451, 'ARSHIYA': 1.1834319526627177, 'AURIONPRO': 1.36986301369863, 'BANG': 1.4454664914585997, 'BGRENERGY': 1.006889242183348, 'ESSARSHPNG': 1.7006802721088436, 'GANGAFORGE': 0.7109004739336593, 'INDLMETER': 1.4778325123152742, 'KANANIIND': 1.025641025641022, 'KAPSTON': 2.2356953391436067, 'KOPRAN': 0.7308160779537081, 'MITTAL': 0.8849557522124019, 'TATAPOWER': 0.9847806624888169, 'VIJAYA': 1.1691022964509394}\n",
      "-------------------------------------------\n",
      "RED HAMMER\n",
      "{}\n",
      "-------------------------------------------\n",
      "Hammer In Downtrend\n"
     ]
    }
   ],
   "source": [
    "gethammer(df)"
   ]
  },
  {
   "cell_type": "code",
   "execution_count": 40,
   "metadata": {},
   "outputs": [],
   "source": [
    "def calper(pv,c):   # calculate percentage for downtrend it is (c-pv)/c*100 (prev close,close) and for uptrend it it (pv-c)/pv*100\n",
    "    return ( ((c-pv)/c)*100  )\n",
    "\n",
    "\n",
    "def isdowntrend(stock):\n",
    "    #print(\"Enter\")\n",
    "    flag=0\n",
    "    edate=date.today()\n",
    "    df1=pd.DataFrame()\n",
    "    \n",
    "    while(len(df1)<10):\n",
    "        flag=flag+1\n",
    "        sdate=date.today()-datetime.timedelta(flag)\n",
    "        df1=get_history(stock,sdate,edate)\n",
    "        \n",
    "    #print(\"df1 done\")    \n",
    "    df1=df1.iloc[::-1]   # reverse the dataframe\n",
    "    #print(\"reveresed\")\n",
    "    flag=1\n",
    "    for i in df1.index:\n",
    "        #print(str(i) +\" = \"+str(round(calper(df1['Prev Close'][i],df1['Close'][i]),4)))\n",
    "\n",
    "        #print(flag)\n",
    "        b=df1['Close'][i]\n",
    "        if(flag==1):\n",
    "            a=df1['Prev Close'][i]\n",
    "            flag=0\n",
    "\n",
    "        #print(a)\n",
    "        #print(b)\n",
    "        #print(flag)\n",
    "        status=0\n",
    "        if(calper(a,b)>4):\n",
    "            #print(i)     # Remove comment to get date\n",
    "            #print(calper(a,b))\n",
    "            \n",
    "            # As we reversed the dataframe so now if a>b it is positive\n",
    "            # and if a<b then it is negative\n",
    "            if(a>b):\n",
    "                #print(\"Positive\")\n",
    "                pass\n",
    "            else:\n",
    "                #print(\"Negative\")\n",
    "                #print(calper(a,b))\n",
    "                status=1\n",
    "            break\n",
    "        \n",
    "    return status\n",
    "    \n",
    "\n",
    "    \n",
    "       "
   ]
  },
  {
   "cell_type": "code",
   "execution_count": 18,
   "metadata": {},
   "outputs": [
    {
     "name": "stdout",
     "output_type": "stream",
     "text": [
      "1\n"
     ]
    }
   ],
   "source": [
    "data=isdowntrend('SBIN')\n",
    "print(data)"
   ]
  },
  {
   "cell_type": "code",
   "execution_count": 19,
   "metadata": {},
   "outputs": [
    {
     "name": "stdout",
     "output_type": "stream",
     "text": [
      "yes\n"
     ]
    }
   ],
   "source": [
    "if(isdowntrend('SBIN')):\n",
    "    print(\"yes\")"
   ]
  },
  {
   "cell_type": "code",
   "execution_count": 41,
   "metadata": {},
   "outputs": [],
   "source": [
    "def gethammer(df):\n",
    "\n",
    "    bh={}    # blue hammer \n",
    "    rh={}    # red hammer\n",
    "\n",
    "    if('OPEN' in df.columns):\n",
    "\n",
    "        for ind in df.index:\n",
    "            if(df['OPEN'][ind] < df['CLOSE'][ind] ):\n",
    "                bper=((float(df['CLOSE'][ind])-float(df['OPEN'][ind]))/float(df['CLOSE'][ind]))*100 # body percentage\n",
    "                us=((float(df['HIGH'][ind])-float(df['CLOSE'][ind]))/float(df['CLOSE'][ind]))*100  # Upper Shadow\n",
    "                ls=((float(df['OPEN'][ind])-float(df['LOW'][ind]))/float(df['CLOSE'][ind]))*100  # Lower Shadow\n",
    "                if(bper>=0.7 and bper<=2.3 and us<=0.6 and ls>=bper*1.8):\n",
    "                    #print(df['SYMBOL'][ind] +\"=\"+str(per) +\" Per = \"+str(per)+\" US = \"+str(us)+\" LS = \"+str(ls))\n",
    "                    bh[df['SYMBOL'][ind]]= bper\n",
    "\n",
    "            elif(df['CLOSE'][ind] < df['OPEN'][ind] ):\n",
    "                bper=((float(df['CLOSE'][ind])-float(df['OPEN'][ind]))/float(df['CLOSE'][ind]))*100 # body percentage\n",
    "                us=((float(df['HIGH'][ind])-float(df['CLOSE'][ind]))/float(df['CLOSE'][ind]))*100  # Upper Shadow\n",
    "                ls=((float(df['OPEN'][ind])-float(df['LOW'][ind]))/float(df['CLOSE'][ind]))*100  # Lower Shadow\n",
    "                if(bper>=0.7 and bper<=2.3 and us<=0.6 and ls>=bper*1.8):\n",
    "                     #print(df['SYMBOL'][ind] +\"=\"+str(per) +\" Per = \"+str(per)+\" US = \"+str(us)+\" LS = \"+str(ls))\n",
    "                    rh[df['SYMBOL'][ind]]= bper\n",
    "\n",
    "\n",
    "            elif(df['CLOSE'][ind] == df['OPEN'][ind] ):\n",
    "                bper=0\n",
    "                #per=round(((float(df['OPEN'][ind])-float(df['CLOSE'][ind]))/float(df['CLOSE'][ind]))*100,4)\n",
    "                #print(df['SYMBOL'][ind] +\"=\"+str(per))\n",
    "                #print(\"-------------------------------------------\")\n",
    "                pass\n",
    "\n",
    "\n",
    "\n",
    "    elif('Open' in df.columns):\n",
    "\n",
    "        for ind in df.index:\n",
    "            if(df['Open'][ind] < df['Close'][ind] ):\n",
    "                bper=((float(df['Close'][ind])-float(df['Open'][ind]))/float(df['Close'][ind]))*100 # body percentage\n",
    "                us=((float(df['High'][ind])-float(df['Close'][ind]))/float(df['Close'][ind]))*100  # Upper Shadow\n",
    "                ls=((float(df['Open'][ind])-float(df['Low'][ind]))/float(df['Close'][ind]))*100  # Lower Shadow\n",
    "                if(bper>=0.7 and bper<=2.3 and us<=0.6 and ls>=bper*1.8):\n",
    "                   #print(df['Symbol'][ind] +\"=\"+str(per) +\" Per = \"+str(per)+\" US = \"+str(us)+\" LS = \"+str(ls))\n",
    "                    #bd[df['Symbol'][ind]]= bper\n",
    "                    bh[ind]=df['Close'][ind]\n",
    "\n",
    "            elif(df['Close'][ind] < df['Open'][ind] ):\n",
    "                bper=((float(df['Close'][ind])-float(df['Open'][ind]))/float(df['Close'][ind]))*100 # body percentage\n",
    "                us=((float(df['High'][ind])-float(df['Close'][ind]))/float(df['Close'][ind]))*100  # Upper Shadow\n",
    "                ls=((float(df['Open'][ind])-float(df['Low'][ind]))/float(df['Close'][ind]))*100  # Lower Shadow\n",
    "                if(bper>=0.7 and bper<=2.3 and us<=0.6 and ls>=bper*1.8):\n",
    "                    #print(df['Symbol'][ind] +\"=\"+str(per) +\" Per = \"+str(per)+\" US = \"+str(us)+\" LS = \"+str(ls))\n",
    "                    #rd[df['Symbol'][ind]]= bper\n",
    "                    rh[ind]=df['Close'][ind]\n",
    "\n",
    "            elif(df['Close'][ind] == df['Open'][ind] ):\n",
    "                bper=0\n",
    "                #per=round(((float(df['Open'][ind])-float(df['Close'][ind]))/float(df['Close'][ind]))*100,4)\n",
    "                #print(df['Symbol'][ind] +\"=\"+str(per))\n",
    "                #print(\"-------------------------------------------\")\n",
    "                pass\n",
    "\n",
    "    print(\"BLUE HAMMER\")\n",
    "    print(bh)\n",
    "    print(\"-------------------------------------------\")\n",
    "    print(\"RED HAMMER\")\n",
    "    print(rh)\n",
    "    print(\"-------------------------------------------\")\n",
    "    print(\"Blue Hammer In Downtrend\")\n",
    "    for i in bh:\n",
    "        if(isdowntrend(i)):\n",
    "            print(i)\n",
    "\n",
    "    print(\"-------------------------------------------\")\n",
    "    print(\"Blue Hammer In Downtrend\")\n",
    "    for i in rh:\n",
    "        if(isdowntrend(i)):\n",
    "            print(i)\n",
    "\n",
    "        "
   ]
  },
  {
   "cell_type": "code",
   "execution_count": null,
   "metadata": {},
   "outputs": [],
   "source": []
  },
  {
   "cell_type": "code",
   "execution_count": 42,
   "metadata": {},
   "outputs": [
    {
     "name": "stdout",
     "output_type": "stream",
     "text": [
      "BLUE HAMMER\n",
      "{'ANIKINDS': 0.8802816901408451, 'ARSHIYA': 1.1834319526627177, 'AURIONPRO': 1.36986301369863, 'BANG': 1.4454664914585997, 'BGRENERGY': 1.006889242183348, 'ESSARSHPNG': 1.7006802721088436, 'GANGAFORGE': 0.7109004739336593, 'INDLMETER': 1.4778325123152742, 'KANANIIND': 1.025641025641022, 'KAPSTON': 2.2356953391436067, 'KOPRAN': 0.7308160779537081, 'MITTAL': 0.8849557522124019, 'TATAPOWER': 0.9847806624888169, 'VIJAYA': 1.1691022964509394}\n",
      "-------------------------------------------\n",
      "RED HAMMER\n",
      "{}\n",
      "-------------------------------------------\n",
      "Blue Hammer In Downtrend\n",
      "ANIKINDS\n",
      "AURIONPRO\n",
      "BANG\n",
      "BGRENERGY\n",
      "ESSARSHPNG\n",
      "INDLMETER\n",
      "KANANIIND\n",
      "KAPSTON\n",
      "KOPRAN\n",
      "MITTAL\n",
      "-------------------------------------------\n",
      "Blue Hammer In Downtrend\n"
     ]
    }
   ],
   "source": [
    "gethammer(df)"
   ]
  },
  {
   "cell_type": "code",
   "execution_count": null,
   "metadata": {},
   "outputs": [],
   "source": []
  }
 ],
 "metadata": {
  "kernelspec": {
   "display_name": "Python 3",
   "language": "python",
   "name": "python3"
  },
  "language_info": {
   "codemirror_mode": {
    "name": "ipython",
    "version": 3
   },
   "file_extension": ".py",
   "mimetype": "text/x-python",
   "name": "python",
   "nbconvert_exporter": "python",
   "pygments_lexer": "ipython3",
   "version": "3.8.5"
  }
 },
 "nbformat": 4,
 "nbformat_minor": 4
}
