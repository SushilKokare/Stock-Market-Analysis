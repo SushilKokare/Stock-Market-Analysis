{
 "cells": [
  {
   "cell_type": "code",
   "execution_count": 18,
   "metadata": {},
   "outputs": [],
   "source": [
    "# Task : Hammer ( Paper Umbrella ) All stocks of today and on date\n",
    "def gethammer(df):\n",
    "    bh={}    # blue hammer \n",
    "    rh={}    # red hammer\n",
    "\n",
    "    if('OPEN' in df.columns):\n",
    "\n",
    "        for ind in df.index:\n",
    "            if(df['OPEN'][ind] < df['CLOSE'][ind] ):\n",
    "                bper=((float(df['CLOSE'][ind])-float(df['OPEN'][ind]))/float(df['CLOSE'][ind]))*100 # body percentage\n",
    "                us=((float(df['HIGH'][ind])-float(df['CLOSE'][ind]))/float(df['CLOSE'][ind]))*100  # Upper Shadow\n",
    "                ls=((float(df['OPEN'][ind])-float(df['LOW'][ind]))/float(df['CLOSE'][ind]))*100  # Lower Shadow\n",
    "                if(bper>=0.7 and bper<=2.3 and us<=0.8 and ls>=bper*1.8):\n",
    "                    #print(df['SYMBOL'][ind] +\"=\"+str(per) +\" Per = \"+str(per)+\" US = \"+str(us)+\" LS = \"+str(ls))\n",
    "                    bh[df['SYMBOL'][ind]]= bper\n",
    "\n",
    "            elif(df['CLOSE'][ind] < df['OPEN'][ind] ):\n",
    "                bper=((float(df['OPEN'][ind])-float(df['CLOSE'][ind]))/float(df['CLOSE'][ind]))*100 # body percentage\n",
    "                us=((float(df['HIGH'][ind])-float(df['OPEN'][ind]))/float(df['CLOSE'][ind]))*100  # Upper Shadow\n",
    "                ls=((float(df['CLOSE'][ind])-float(df['LOW'][ind]))/float(df['CLOSE'][ind]))*100  # Lower Shadow\n",
    "                if(bper>=0.7 and bper<=2.3 and us<=0.8 and ls>=bper*1.8):\n",
    "                     #print(df['SYMBOL'][ind] +\"=\"+str(per) +\" Per = \"+str(per)+\" US = \"+str(us)+\" LS = \"+str(ls))\n",
    "                    rh[df['SYMBOL'][ind]]= bper\n",
    "\n",
    "\n",
    "            elif(df['CLOSE'][ind] == df['OPEN'][ind] ):\n",
    "                bper=0\n",
    "                #per=round(((float(df['OPEN'][ind])-float(df['CLOSE'][ind]))/float(df['CLOSE'][ind]))*100,4)\n",
    "                #print(df['SYMBOL'][ind] +\"=\"+str(per))\n",
    "                #print(\"-------------------------------------------\")\n",
    "                pass\n",
    "\n",
    "\n",
    "\n",
    "    elif('Open' in df.columns):\n",
    "\n",
    "        for ind in df.index:\n",
    "            if(df['Open'][ind] < df['Close'][ind] ):\n",
    "                bper=((float(df['Close'][ind])-float(df['Open'][ind]))/float(df['Close'][ind]))*100 # body percentage\n",
    "                us=((float(df['High'][ind])-float(df['Close'][ind]))/float(df['Close'][ind]))*100  # Upper Shadow\n",
    "                ls=((float(df['Open'][ind])-float(df['Low'][ind]))/float(df['Close'][ind]))*100  # Lower Shadow\n",
    "                if(bper>=0.7 and bper<=2.3 and us<=0.8 and ls>=bper*1.8):\n",
    "                   #print(df['Symbol'][ind] +\"=\"+str(per) +\" Per = \"+str(per)+\" US = \"+str(us)+\" LS = \"+str(ls))\n",
    "                    #bd[df['Symbol'][ind]]= bper\n",
    "                    bh[ind]=df['Close'][ind]\n",
    "\n",
    "            elif(df['Close'][ind] < df['Open'][ind] ):\n",
    "                bper=((float(df['Open'][ind])-float(df['Close'][ind]))/float(df['Close'][ind]))*100 # body percentage\n",
    "                us=((float(df['High'][ind])-float(df['Open'][ind]))/float(df['Close'][ind]))*100  # Upper Shadow\n",
    "                ls=((float(df['Close'][ind])-float(df['Low'][ind]))/float(df['Close'][ind]))*100  # Lower Shadow\n",
    "                if(bper>=0.7 and bper<=2.3 and us<=0.8 and ls>=bper*1.8):\n",
    "                    #print(df['Symbol'][ind] +\"=\"+str(per) +\" Per = \"+str(per)+\" US = \"+str(us)+\" LS = \"+str(ls))\n",
    "                    #rd[df['Symbol'][ind]]= bper\n",
    "                    rh[ind]=df['Close'][ind]\n",
    "\n",
    "            elif(df['Close'][ind] == df['Open'][ind] ):\n",
    "                bper=0\n",
    "                #per=round(((float(df['Open'][ind])-float(df['Close'][ind]))/float(df['Close'][ind]))*100,4)\n",
    "                #print(df['Symbol'][ind] +\"=\"+str(per))\n",
    "                #print(\"-------------------------------------------\")\n",
    "                pass\n",
    "\n",
    "    print(\"BLUE HAMMER\")\n",
    "    print(bh)\n",
    "    print(\"-------------------------------------------\")\n",
    "    print(\"RED HAMMER\")\n",
    "    print(rh)\n",
    "    print(\"-------------------------------------------\")\n",
    "    #print(\"Blue Hammer In Downtrend\")\n",
    "    #for i in bh:\n",
    "    #    if(isdowntrend(i)):\n",
    "    #        print(i)\n",
    "\n",
    "    #print(\"-------------------------------------------\")\n",
    "    #print(\"Blue Hammer In Downtrend\")\n",
    "    #for i in rh:\n",
    "    #    if(isdowntrend(i)):\n",
    "    #        print(i)\n"
   ]
  },
  {
   "cell_type": "code",
   "execution_count": 19,
   "metadata": {},
   "outputs": [],
   "source": [
    "from datetime import date\n",
    "import datetime\n",
    "from nsepy.history import get_price_list\n",
    "import yfinance as yf\n",
    "import pandas as pd\n",
    "\n",
    "#from SingleCandlesticks import gethammer"
   ]
  },
  {
   "cell_type": "markdown",
   "metadata": {},
   "source": [
    "## Hammer ( Paper Umbrella ) All stocks today or latest date "
   ]
  },
  {
   "cell_type": "code",
   "execution_count": 20,
   "metadata": {},
   "outputs": [
    {
     "name": "stdout",
     "output_type": "stream",
     "text": [
      "2022-01-05\n",
      "[*********************100%***********************]  1 of 1 completed\n"
     ]
    }
   ],
   "source": [
    "\n",
    "print(date.today())\n",
    "\n",
    "dated=date.today()\n",
    "\n",
    "dt=yf.download(tickers=\"reliance.ns\",period=\"1d\")\n",
    "#print(type(dt))\n",
    "#print(dt)"
   ]
  },
  {
   "cell_type": "code",
   "execution_count": 21,
   "metadata": {},
   "outputs": [],
   "source": [
    "for i in dt.index:\n",
    "    d=str(i)\n",
    "d=d.split()\n",
    "d=d[0]\n",
    "d=str(d)\n",
    "d=d.split('-')"
   ]
  },
  {
   "cell_type": "code",
   "execution_count": 22,
   "metadata": {},
   "outputs": [
    {
     "name": "stdout",
     "output_type": "stream",
     "text": [
      "2022-01-05\n"
     ]
    }
   ],
   "source": [
    "d=date(int(d[0]),int(d[1]),int(d[2]))\n",
    "print(d)"
   ]
  },
  {
   "cell_type": "code",
   "execution_count": 23,
   "metadata": {},
   "outputs": [
    {
     "name": "stdout",
     "output_type": "stream",
     "text": [
      "Data on the date : 2022-01-05\n",
      "e\n",
      "Data on Date : 2022-01-04\n"
     ]
    }
   ],
   "source": [
    "print(\"Data on the date : \"+str(d))\n",
    "\n",
    "dated=d\n",
    "df=pd.DataFrame()\n",
    "#print(dated)\n",
    "while(len(df)<=0):\n",
    "    try:\n",
    "        df=get_price_list(dated)\n",
    "    except:\n",
    "        print(\"e\")\n",
    "        dated=dated-datetime.timedelta(1)\n",
    "print(\"Data on Date : \"+str(dated))        "
   ]
  },
  {
   "cell_type": "code",
   "execution_count": 24,
   "metadata": {},
   "outputs": [
    {
     "data": {
      "text/html": [
       "<div>\n",
       "<style scoped>\n",
       "    .dataframe tbody tr th:only-of-type {\n",
       "        vertical-align: middle;\n",
       "    }\n",
       "\n",
       "    .dataframe tbody tr th {\n",
       "        vertical-align: top;\n",
       "    }\n",
       "\n",
       "    .dataframe thead th {\n",
       "        text-align: right;\n",
       "    }\n",
       "</style>\n",
       "<table border=\"1\" class=\"dataframe\">\n",
       "  <thead>\n",
       "    <tr style=\"text-align: right;\">\n",
       "      <th></th>\n",
       "      <th>SYMBOL</th>\n",
       "      <th>SERIES</th>\n",
       "      <th>OPEN</th>\n",
       "      <th>HIGH</th>\n",
       "      <th>LOW</th>\n",
       "      <th>CLOSE</th>\n",
       "      <th>LAST</th>\n",
       "      <th>PREVCLOSE</th>\n",
       "      <th>TOTTRDQTY</th>\n",
       "      <th>TOTTRDVAL</th>\n",
       "      <th>TIMESTAMP</th>\n",
       "      <th>TOTALTRADES</th>\n",
       "      <th>ISIN</th>\n",
       "    </tr>\n",
       "  </thead>\n",
       "  <tbody>\n",
       "    <tr>\n",
       "      <th>0</th>\n",
       "      <td>20MICRONS</td>\n",
       "      <td>EQ</td>\n",
       "      <td>62.8</td>\n",
       "      <td>63.0</td>\n",
       "      <td>60.50</td>\n",
       "      <td>60.65</td>\n",
       "      <td>60.75</td>\n",
       "      <td>62.1</td>\n",
       "      <td>369132</td>\n",
       "      <td>2.260401e+07</td>\n",
       "      <td>04-JAN-2022</td>\n",
       "      <td>2602</td>\n",
       "      <td>INE144J01027</td>\n",
       "    </tr>\n",
       "    <tr>\n",
       "      <th>1</th>\n",
       "      <td>21STCENMGM</td>\n",
       "      <td>EQ</td>\n",
       "      <td>47.6</td>\n",
       "      <td>47.6</td>\n",
       "      <td>46.05</td>\n",
       "      <td>47.40</td>\n",
       "      <td>47.50</td>\n",
       "      <td>46.7</td>\n",
       "      <td>37537</td>\n",
       "      <td>1.777161e+06</td>\n",
       "      <td>04-JAN-2022</td>\n",
       "      <td>302</td>\n",
       "      <td>INE253B01015</td>\n",
       "    </tr>\n",
       "    <tr>\n",
       "      <th>2</th>\n",
       "      <td>3IINFOLTD</td>\n",
       "      <td>EQ</td>\n",
       "      <td>92.0</td>\n",
       "      <td>95.2</td>\n",
       "      <td>92.00</td>\n",
       "      <td>92.60</td>\n",
       "      <td>92.55</td>\n",
       "      <td>93.4</td>\n",
       "      <td>1617813</td>\n",
       "      <td>1.511438e+08</td>\n",
       "      <td>04-JAN-2022</td>\n",
       "      <td>11753</td>\n",
       "      <td>INE748C01038</td>\n",
       "    </tr>\n",
       "    <tr>\n",
       "      <th>3</th>\n",
       "      <td>3MINDIA</td>\n",
       "      <td>EQ</td>\n",
       "      <td>25701.0</td>\n",
       "      <td>25970.0</td>\n",
       "      <td>25507.85</td>\n",
       "      <td>25612.45</td>\n",
       "      <td>25633.00</td>\n",
       "      <td>25797.2</td>\n",
       "      <td>5996</td>\n",
       "      <td>1.552451e+08</td>\n",
       "      <td>04-JAN-2022</td>\n",
       "      <td>1023</td>\n",
       "      <td>INE470A01017</td>\n",
       "    </tr>\n",
       "    <tr>\n",
       "      <th>4</th>\n",
       "      <td>3PLAND</td>\n",
       "      <td>EQ</td>\n",
       "      <td>18.8</td>\n",
       "      <td>18.9</td>\n",
       "      <td>18.05</td>\n",
       "      <td>18.90</td>\n",
       "      <td>18.90</td>\n",
       "      <td>17.2</td>\n",
       "      <td>123537</td>\n",
       "      <td>2.329080e+06</td>\n",
       "      <td>04-JAN-2022</td>\n",
       "      <td>610</td>\n",
       "      <td>INE105C01023</td>\n",
       "    </tr>\n",
       "  </tbody>\n",
       "</table>\n",
       "</div>"
      ],
      "text/plain": [
       "       SYMBOL SERIES     OPEN     HIGH       LOW     CLOSE      LAST  \\\n",
       "0   20MICRONS     EQ     62.8     63.0     60.50     60.65     60.75   \n",
       "1  21STCENMGM     EQ     47.6     47.6     46.05     47.40     47.50   \n",
       "2   3IINFOLTD     EQ     92.0     95.2     92.00     92.60     92.55   \n",
       "3     3MINDIA     EQ  25701.0  25970.0  25507.85  25612.45  25633.00   \n",
       "4      3PLAND     EQ     18.8     18.9     18.05     18.90     18.90   \n",
       "\n",
       "   PREVCLOSE  TOTTRDQTY     TOTTRDVAL    TIMESTAMP  TOTALTRADES          ISIN  \n",
       "0       62.1     369132  2.260401e+07  04-JAN-2022         2602  INE144J01027  \n",
       "1       46.7      37537  1.777161e+06  04-JAN-2022          302  INE253B01015  \n",
       "2       93.4    1617813  1.511438e+08  04-JAN-2022        11753  INE748C01038  \n",
       "3    25797.2       5996  1.552451e+08  04-JAN-2022         1023  INE470A01017  \n",
       "4       17.2     123537  2.329080e+06  04-JAN-2022          610  INE105C01023  "
      ]
     },
     "execution_count": 24,
     "metadata": {},
     "output_type": "execute_result"
    }
   ],
   "source": [
    "df.head()"
   ]
  },
  {
   "cell_type": "code",
   "execution_count": 25,
   "metadata": {},
   "outputs": [
    {
     "name": "stdout",
     "output_type": "stream",
     "text": [
      "BLUE HAMMER\n",
      "{'CYIENT': 0.726280242401805, 'DCM': 1.2718023255813953, 'ESABINDIA': 0.7925206760158269, 'ICICILOVOL': 0.7160407160407033, 'INFRABEES': 0.7312544992990592, 'RTNINDIA': 1.3358778625954117, 'SANGINITA': 0.7168458781361982, 'SIMBHALS': 1.6470588235294186}\n",
      "-------------------------------------------\n",
      "RED HAMMER\n",
      "{'ARVEE': 1.401050788091055, 'BSLSENETFG': 1.1423550087873438, 'CANTABIL': 1.2430605841177835, 'CREATIVEYE': 1.0526315789473648, 'DGCONTENT': 1.1235955056179736, 'HIMATSEIDE': 1.3129102844638996, 'MAGNUM': 0.943396226415091, 'NDGL': 0.8193408531432628, 'PANACHE': 2.240896358543409, 'SILINV': 2.225088681070615, 'TCIDEVELOP': 0.7261410788381878}\n",
      "-------------------------------------------\n"
     ]
    }
   ],
   "source": [
    "gethammer(df)"
   ]
  },
  {
   "cell_type": "code",
   "execution_count": null,
   "metadata": {},
   "outputs": [],
   "source": []
  },
  {
   "cell_type": "code",
   "execution_count": null,
   "metadata": {},
   "outputs": [],
   "source": []
  },
  {
   "cell_type": "markdown",
   "metadata": {},
   "source": [
    "## Hammer ( Paper Umbrella ) all stocks on particular day "
   ]
  },
  {
   "cell_type": "code",
   "execution_count": 29,
   "metadata": {},
   "outputs": [
    {
     "name": "stdout",
     "output_type": "stream",
     "text": [
      "Enter date on which to find Hammer\n",
      "Enter year (yyyy) : 2022\n",
      "Enter month (mm) : 1\n",
      "Enter date (dd) :4\n"
     ]
    }
   ],
   "source": [
    "print(\"Enter date on which to find Hammer\")\n",
    "year=int(input(\"Enter year (yyyy) : \"))\n",
    "month=int(input(\"Enter month (mm) : \"))\n",
    "dated=int(input(\"Enter date (dd) :\"))"
   ]
  },
  {
   "cell_type": "code",
   "execution_count": 30,
   "metadata": {},
   "outputs": [
    {
     "name": "stdout",
     "output_type": "stream",
     "text": [
      "       SYMBOL SERIES     OPEN     HIGH       LOW     CLOSE      LAST  \\\n",
      "0   20MICRONS     EQ     62.8     63.0     60.50     60.65     60.75   \n",
      "1  21STCENMGM     EQ     47.6     47.6     46.05     47.40     47.50   \n",
      "2   3IINFOLTD     EQ     92.0     95.2     92.00     92.60     92.55   \n",
      "3     3MINDIA     EQ  25701.0  25970.0  25507.85  25612.45  25633.00   \n",
      "4      3PLAND     EQ     18.8     18.9     18.05     18.90     18.90   \n",
      "\n",
      "   PREVCLOSE  TOTTRDQTY     TOTTRDVAL    TIMESTAMP  TOTALTRADES          ISIN  \n",
      "0       62.1     369132  2.260401e+07  04-JAN-2022         2602  INE144J01027  \n",
      "1       46.7      37537  1.777161e+06  04-JAN-2022          302  INE253B01015  \n",
      "2       93.4    1617813  1.511438e+08  04-JAN-2022        11753  INE748C01038  \n",
      "3    25797.2       5996  1.552451e+08  04-JAN-2022         1023  INE470A01017  \n",
      "4       17.2     123537  2.329080e+06  04-JAN-2022          610  INE105C01023  \n"
     ]
    }
   ],
   "source": [
    "try:\n",
    "    df= get_price_list(date(year,month,dated))\n",
    "    print(df.head())\n",
    "except:\n",
    "    print(\"Invalid Date\")"
   ]
  },
  {
   "cell_type": "code",
   "execution_count": 31,
   "metadata": {},
   "outputs": [
    {
     "name": "stdout",
     "output_type": "stream",
     "text": [
      "BLUE HAMMER\n",
      "{'CYIENT': 0.726280242401805, 'DCM': 1.2718023255813953, 'ESABINDIA': 0.7925206760158269, 'ICICILOVOL': 0.7160407160407033, 'INFRABEES': 0.7312544992990592, 'RTNINDIA': 1.3358778625954117, 'SANGINITA': 0.7168458781361982, 'SIMBHALS': 1.6470588235294186}\n",
      "-------------------------------------------\n",
      "RED HAMMER\n",
      "{'ARVEE': 1.401050788091055, 'BSLSENETFG': 1.1423550087873438, 'CANTABIL': 1.2430605841177835, 'CREATIVEYE': 1.0526315789473648, 'DGCONTENT': 1.1235955056179736, 'HIMATSEIDE': 1.3129102844638996, 'MAGNUM': 0.943396226415091, 'NDGL': 0.8193408531432628, 'PANACHE': 2.240896358543409, 'SILINV': 2.225088681070615, 'TCIDEVELOP': 0.7261410788381878}\n",
      "-------------------------------------------\n"
     ]
    }
   ],
   "source": [
    "gethammer(df)"
   ]
  },
  {
   "cell_type": "code",
   "execution_count": null,
   "metadata": {},
   "outputs": [],
   "source": []
  },
  {
   "cell_type": "code",
   "execution_count": null,
   "metadata": {},
   "outputs": [],
   "source": []
  }
 ],
 "metadata": {
  "kernelspec": {
   "display_name": "Python 3",
   "language": "python",
   "name": "python3"
  },
  "language_info": {
   "codemirror_mode": {
    "name": "ipython",
    "version": 3
   },
   "file_extension": ".py",
   "mimetype": "text/x-python",
   "name": "python",
   "nbconvert_exporter": "python",
   "pygments_lexer": "ipython3",
   "version": "3.8.5"
  }
 },
 "nbformat": 4,
 "nbformat_minor": 4
}
