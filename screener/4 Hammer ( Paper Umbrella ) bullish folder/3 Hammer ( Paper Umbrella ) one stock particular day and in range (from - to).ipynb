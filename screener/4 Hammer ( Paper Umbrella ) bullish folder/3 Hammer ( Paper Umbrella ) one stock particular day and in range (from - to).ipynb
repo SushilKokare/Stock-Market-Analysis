{
 "cells": [
  {
   "cell_type": "code",
   "execution_count": 2,
   "metadata": {},
   "outputs": [],
   "source": [
    "## Hammer ( Paper Umbrella ) One Stock On Particular Day And In Range ( From - To )\n",
    "\n",
    "\n",
    "def gethammer(df):\n",
    "    bh={}    # blue hammer \n",
    "    rh={}    # red hammer\n",
    "\n",
    "    if('OPEN' in df.columns):\n",
    "\n",
    "        for ind in df.index:\n",
    "            if(df['OPEN'][ind] < df['CLOSE'][ind] ):\n",
    "                bper=((float(df['CLOSE'][ind])-float(df['OPEN'][ind]))/float(df['CLOSE'][ind]))*100 # body percentage\n",
    "                us=((float(df['HIGH'][ind])-float(df['CLOSE'][ind]))/float(df['CLOSE'][ind]))*100  # Upper Shadow\n",
    "                ls=((float(df['OPEN'][ind])-float(df['LOW'][ind]))/float(df['CLOSE'][ind]))*100  # Lower Shadow\n",
    "                if(bper>=0.7 and bper<=2.3 and us<=0.8 and ls>=bper*1.8):\n",
    "                    #print(df['SYMBOL'][ind] +\"=\"+str(per) +\" Per = \"+str(per)+\" US = \"+str(us)+\" LS = \"+str(ls))\n",
    "                    bh[df['SYMBOL'][ind]]= bper\n",
    "\n",
    "            elif(df['CLOSE'][ind] < df['OPEN'][ind] ):\n",
    "                bper=((float(df['OPEN'][ind])-float(df['CLOSE'][ind]))/float(df['CLOSE'][ind]))*100 # body percentage\n",
    "                us=((float(df['HIGH'][ind])-float(df['OPEN'][ind]))/float(df['CLOSE'][ind]))*100  # Upper Shadow\n",
    "                ls=((float(df['CLOSE'][ind])-float(df['LOW'][ind]))/float(df['CLOSE'][ind]))*100  # Lower Shadow\n",
    "                if(bper>=0.7 and bper<=2.3 and us<=0.8 and ls>=bper*1.8):\n",
    "                     #print(df['SYMBOL'][ind] +\"=\"+str(per) +\" Per = \"+str(per)+\" US = \"+str(us)+\" LS = \"+str(ls))\n",
    "                    rh[df['SYMBOL'][ind]]= bper\n",
    "\n",
    "\n",
    "            elif(df['CLOSE'][ind] == df['OPEN'][ind] ):\n",
    "                bper=0\n",
    "                #per=round(((float(df['OPEN'][ind])-float(df['CLOSE'][ind]))/float(df['CLOSE'][ind]))*100,4)\n",
    "                #print(df['SYMBOL'][ind] +\"=\"+str(per))\n",
    "                #print(\"-------------------------------------------\")\n",
    "                pass\n",
    "\n",
    "\n",
    "\n",
    "    elif('Open' in df.columns):\n",
    "\n",
    "        for ind in df.index:\n",
    "            if(df['Open'][ind] < df['Close'][ind] ):\n",
    "                bper=((float(df['Close'][ind])-float(df['Open'][ind]))/float(df['Close'][ind]))*100 # body percentage\n",
    "                us=((float(df['High'][ind])-float(df['Close'][ind]))/float(df['Close'][ind]))*100  # Upper Shadow\n",
    "                ls=((float(df['Open'][ind])-float(df['Low'][ind]))/float(df['Close'][ind]))*100  # Lower Shadow\n",
    "                if(bper>=0.7 and bper<=2.3 and us<=0.8 and ls>=bper*1.8):\n",
    "                   #print(df['Symbol'][ind] +\"=\"+str(per) +\" Per = \"+str(per)+\" US = \"+str(us)+\" LS = \"+str(ls))\n",
    "                    #bd[df['Symbol'][ind]]= bper\n",
    "                    bh[ind]=df['Close'][ind]\n",
    "\n",
    "            elif(df['Close'][ind] < df['Open'][ind] ):\n",
    "                bper=((float(df['Open'][ind])-float(df['Close'][ind]))/float(df['Close'][ind]))*100 # body percentage\n",
    "                us=((float(df['High'][ind])-float(df['Open'][ind]))/float(df['Close'][ind]))*100  # Upper Shadow\n",
    "                ls=((float(df['Close'][ind])-float(df['Low'][ind]))/float(df['Close'][ind]))*100  # Lower Shadow\n",
    "                if(bper>=0.7 and bper<=2.3 and us<=0.8 and ls>=bper*1.8):\n",
    "                    #print(df['Symbol'][ind] +\"=\"+str(per) +\" Per = \"+str(per)+\" US = \"+str(us)+\" LS = \"+str(ls))\n",
    "                    #rd[df['Symbol'][ind]]= bper\n",
    "                    rh[ind]=df['Close'][ind]\n",
    "\n",
    "            elif(df['Close'][ind] == df['Open'][ind] ):\n",
    "                bper=0\n",
    "                #per=round(((float(df['Open'][ind])-float(df['Close'][ind]))/float(df['Close'][ind]))*100,4)\n",
    "                #print(df['Symbol'][ind] +\"=\"+str(per))\n",
    "                #print(\"-------------------------------------------\")\n",
    "                pass\n",
    "\n",
    "    print(\"BLUE HAMMER\")\n",
    "    print(bh)\n",
    "    print(\"-------------------------------------------\")\n",
    "    print(\"RED HAMMER\")\n",
    "    print(rh)\n",
    "    print(\"-------------------------------------------\")\n",
    "    #print(\"Blue Hammer In Downtrend\")\n",
    "    #for i in bh:\n",
    "    #    if(isdowntrend(i)):\n",
    "    #        print(i)\n",
    "\n",
    "    #print(\"-------------------------------------------\")\n",
    "    #print(\"Blue Hammer In Downtrend\")\n",
    "    #for i in rh:\n",
    "    #    if(isdowntrend(i)):\n",
    "    #        print(i)\n"
   ]
  },
  {
   "cell_type": "code",
   "execution_count": 3,
   "metadata": {},
   "outputs": [],
   "source": [
    "from datetime import date\n",
    "import datetime\n",
    "from nsepy.history import get_price_list\n",
    "import yfinance as yf\n",
    "import pandas as pd\n",
    "\n",
    "from SingleCandlesticks import Doji as dj\n"
   ]
  },
  {
   "cell_type": "markdown",
   "metadata": {},
   "source": [
    "## Hammer ( Paper Umbrella ) Of One Stock On Particular Date "
   ]
  },
  {
   "cell_type": "code",
   "execution_count": 4,
   "metadata": {},
   "outputs": [
    {
     "name": "stdout",
     "output_type": "stream",
     "text": [
      "Enter stock name : dcm\n"
     ]
    }
   ],
   "source": [
    "stock=input(\"Enter stock name : \")"
   ]
  },
  {
   "cell_type": "code",
   "execution_count": 6,
   "metadata": {},
   "outputs": [
    {
     "name": "stdout",
     "output_type": "stream",
     "text": [
      "Enter date : \n",
      "Enter Year :2022\n",
      "Enter Month :1\n",
      "Enter Date :4\n"
     ]
    }
   ],
   "source": [
    "print(\"Enter date : \")\n",
    "y=input(\"Enter Year :\")\n",
    "m=input(\"Enter Month :\")\n",
    "d=input(\"Enter Date :\")"
   ]
  },
  {
   "cell_type": "code",
   "execution_count": 7,
   "metadata": {},
   "outputs": [
    {
     "name": "stdout",
     "output_type": "stream",
     "text": [
      "2022-01-04\n",
      "2022-01-05\n"
     ]
    }
   ],
   "source": [
    "sdate=date(int(y),int(m),int(d))\n",
    "edate=sdate+datetime.timedelta(1)\n",
    "print(sdate)\n",
    "print(edate)"
   ]
  },
  {
   "cell_type": "code",
   "execution_count": 8,
   "metadata": {},
   "outputs": [
    {
     "name": "stdout",
     "output_type": "stream",
     "text": [
      "1\n",
      "Valid intervals: ['1m',2m', '5m', '15m', '30m', '60m', '90m',1h, 1d, 5d, 1wk, 1mo, 3mo]\n",
      "Enter time frame : 1d\n",
      "1d\n"
     ]
    }
   ],
   "source": [
    "if(sdate>date.today()):\n",
    "    diff=sdate-date.today()\n",
    "    #print(\"sdate > \")\n",
    "    diff=int(str(diff).split()[0])\n",
    "\n",
    "if(date.today()>sdate):\n",
    "    diff=date.today()-sdate\n",
    "    #print(\"sdate <\")\n",
    "    diff=int(str(diff).split()[0])\n",
    "\n",
    "if(date.today()==sdate):\n",
    "    diff=int(0)\n",
    "    #print(\"=\")\n",
    "\n",
    "    \n",
    "print(str(diff).split()[0])\n",
    "\n",
    "tstr=\"\"\n",
    "ds=\"\"\n",
    "if(int(diff)>730):\n",
    "    print(\"Valid intervals: [1d, 5d, 1wk, 1mo, 3mo]\")\n",
    "    tf=input(\"Enter time frame : \")\n",
    "\n",
    "    ## To covert the string into lower ( ex. 1m = M)\n",
    "    tstr=\"\" #timeframestring\n",
    "    ds=\"\"   # date string\n",
    "    for word in tf:\n",
    "        if(word).isalpha():\n",
    "            tstr=str(tstr)+str(word)\n",
    "        if(word).isdigit():\n",
    "            ds=str(ds)+str(word)\n",
    "    tf=ds+(tstr).lower()\n",
    "    print(tf) \n",
    "\n",
    "    if(tf not in ('1d', '5d', '1wk', '1mo', '3mo')):\n",
    "        print(\"Invalid Time Frame\")\n",
    "        td=\"\"\n",
    "\n",
    "\n",
    "if(int(diff)>60 and int(diff)<=730):\n",
    "    print(\"Valid intervals: [1h, 1d, 5d, 1wk, 1mo, 3mo]\")\n",
    "    tf=input(\"Enter time frame : \")\n",
    "    ## To covert the string into lower ( ex. 1m = M)\n",
    "    tstr=\"\" #timeframestring\n",
    "    dstr=\"\" # date string\n",
    "    for word in tf:\n",
    "        if(word).isalpha():\n",
    "            tstr=str(tstr)+str(word)\n",
    "        if(word).isdigit():\n",
    "            ds=str(ds)+str(word)\n",
    "    tf=ds+(tstr).lower()\n",
    "    print(tf) \n",
    "    if(tf not in ('1h', '1d', '5d', '1wk', '1mo', '3mo')):\n",
    "        print(\"Invalid Time Frame\")\n",
    "        td=\"\"\n",
    "\n",
    "if(int(diff)>7 and int(diff)<=60):\n",
    "    print(\"Valid intervals: ['2m', '5m', '15m', '30m', '60m', '90m',1h, 1d, 5d, 1wk, 1mo, 3mo]\")\n",
    "    tf=input(\"Enter time frame : \")\n",
    "   ## To covert the string into lower ( ex. 1m = M)\n",
    "    tstr=\"\" #timeframestring\n",
    "    ds=\"\" # date string\n",
    "    for word in tf:\n",
    "        if(word).isalpha():\n",
    "            tstr=str(tstr)+str(word)\n",
    "        if(word).isdigit():\n",
    "            ds=str(ds)+str(word)\n",
    "    tf=ds+(tstr).lower()\n",
    "    print(tf) \n",
    "    if(tf not in ('2m', '5m', '15m', '30m', '60m', '90m','1h', '1d', '5d', '1wk', '1mo', '3mo')):\n",
    "        print(\"Invalid Time Frame\")\n",
    "        tf=\"\"\n",
    "\n",
    "if(int(diff)>0 and int(diff)<=7):\n",
    "    print(\"Valid intervals: ['1m',2m', '5m', '15m', '30m', '60m', '90m',1h, 1d, 5d, 1wk, 1mo, 3mo]\")\n",
    "    tf=input(\"Enter time frame : \")\n",
    "   ## To covert the string into lower ( ex. 1m = M)\n",
    "    tstr=\"\" #timeframestring\n",
    "    ds=\"\"  # date sring\n",
    "    for word in tf:\n",
    "        if(word).isalpha():\n",
    "            tstr=str(tstr)+str(word)\n",
    "        if(word).isdigit():\n",
    "            ds=str(ds)+str(word)\n",
    "    tf=ds+(tstr).lower()\n",
    "    print(tf)   \n",
    "    if(tf not in ('1m','2m', '5m', '15m', '30m', '60m', '90m','1h', '1d', '5d', '1wk', '1mo', '3mo')):\n",
    "        print(\"Invalid Time Frame\")\n",
    "        tf=\"\"\n"
   ]
  },
  {
   "cell_type": "code",
   "execution_count": 9,
   "metadata": {},
   "outputs": [
    {
     "name": "stdout",
     "output_type": "stream",
     "text": [
      "[*********************100%***********************]  1 of 1 completed\n"
     ]
    }
   ],
   "source": [
    "try:\n",
    "    df=yf.download(tickers=stock+'.NS',start=sdate,end=edate,interval=tf)\n",
    "    if(len(df)==0):\n",
    "        print(\"Invalid Date ( Or Holiday )\")\n",
    "except:\n",
    "    print(\"Invalid Date ( Or Holiday )\")"
   ]
  },
  {
   "cell_type": "code",
   "execution_count": 10,
   "metadata": {},
   "outputs": [
    {
     "data": {
      "text/html": [
       "<div>\n",
       "<style scoped>\n",
       "    .dataframe tbody tr th:only-of-type {\n",
       "        vertical-align: middle;\n",
       "    }\n",
       "\n",
       "    .dataframe tbody tr th {\n",
       "        vertical-align: top;\n",
       "    }\n",
       "\n",
       "    .dataframe thead th {\n",
       "        text-align: right;\n",
       "    }\n",
       "</style>\n",
       "<table border=\"1\" class=\"dataframe\">\n",
       "  <thead>\n",
       "    <tr style=\"text-align: right;\">\n",
       "      <th></th>\n",
       "      <th>Open</th>\n",
       "      <th>High</th>\n",
       "      <th>Low</th>\n",
       "      <th>Close</th>\n",
       "      <th>Adj Close</th>\n",
       "      <th>Volume</th>\n",
       "    </tr>\n",
       "    <tr>\n",
       "      <th>Date</th>\n",
       "      <th></th>\n",
       "      <th></th>\n",
       "      <th></th>\n",
       "      <th></th>\n",
       "      <th></th>\n",
       "      <th></th>\n",
       "    </tr>\n",
       "  </thead>\n",
       "  <tbody>\n",
       "    <tr>\n",
       "      <th>2022-01-04</th>\n",
       "      <td>135.850006</td>\n",
       "      <td>137.899994</td>\n",
       "      <td>127.75</td>\n",
       "      <td>137.600006</td>\n",
       "      <td>137.600006</td>\n",
       "      <td>77301</td>\n",
       "    </tr>\n",
       "  </tbody>\n",
       "</table>\n",
       "</div>"
      ],
      "text/plain": [
       "                  Open        High     Low       Close   Adj Close  Volume\n",
       "Date                                                                      \n",
       "2022-01-04  135.850006  137.899994  127.75  137.600006  137.600006   77301"
      ]
     },
     "execution_count": 10,
     "metadata": {},
     "output_type": "execute_result"
    }
   ],
   "source": [
    "df.head()"
   ]
  },
  {
   "cell_type": "code",
   "execution_count": 11,
   "metadata": {},
   "outputs": [
    {
     "name": "stdout",
     "output_type": "stream",
     "text": [
      "BLUE HAMMER\n",
      "{Timestamp('2022-01-04 00:00:00'): 137.60000610351562}\n",
      "-------------------------------------------\n",
      "RED HAMMER\n",
      "{}\n",
      "-------------------------------------------\n"
     ]
    }
   ],
   "source": [
    "gethammer(df)"
   ]
  },
  {
   "cell_type": "markdown",
   "metadata": {},
   "source": [
    "## Hammer ( Paper Umbrell ) Of One Stock In Range ( From - To ) "
   ]
  },
  {
   "cell_type": "code",
   "execution_count": 24,
   "metadata": {},
   "outputs": [
    {
     "name": "stdout",
     "output_type": "stream",
     "text": [
      "Enter stock name : dcm\n"
     ]
    }
   ],
   "source": [
    "stock=input(\"Enter stock name : \")"
   ]
  },
  {
   "cell_type": "code",
   "execution_count": 25,
   "metadata": {},
   "outputs": [
    {
     "name": "stdout",
     "output_type": "stream",
     "text": [
      "Enter start date : \n",
      "Enter Year :2021\n",
      "Enter Month :6\n",
      "Enter Date :12\n",
      "<class 'datetime.date'> 2021-06-12\n"
     ]
    }
   ],
   "source": [
    "print(\"Enter start date : \")\n",
    "y=input(\"Enter Year :\")\n",
    "m=input(\"Enter Month :\")\n",
    "d=input(\"Enter Date :\")\n",
    "sdate=date(int(y),int(m),int(d))\n",
    "print(str(type(sdate))+\" \"+str(sdate))"
   ]
  },
  {
   "cell_type": "code",
   "execution_count": 28,
   "metadata": {},
   "outputs": [
    {
     "name": "stdout",
     "output_type": "stream",
     "text": [
      "Enter end date : \n",
      "Enter Year :2022\n",
      "Enter Month :1\n",
      "Enter Date :4\n",
      "<class 'datetime.date'> 2022-01-04\n"
     ]
    }
   ],
   "source": [
    "print(\"Enter end date : \")\n",
    "y=input(\"Enter Year :\")\n",
    "m=input(\"Enter Month :\")\n",
    "d=input(\"Enter Date :\")\n",
    "edate=date(int(y),int(m),int(d))\n",
    "print(str(type(edate))+\" \"+str(edate))"
   ]
  },
  {
   "cell_type": "code",
   "execution_count": 29,
   "metadata": {},
   "outputs": [
    {
     "name": "stdout",
     "output_type": "stream",
     "text": [
      "207 days, 0:00:00\n",
      "207\n"
     ]
    }
   ],
   "source": [
    "diff=0;\n",
    "if(date.today()>sdate):\n",
    "    diff=date.today()-sdate\n",
    "elif(sdate>date.today()):\n",
    "    diff=sdate-date.today()\n",
    "elif(sdate==date.today()):\n",
    "    diff=0\n",
    "print(diff)\n",
    "diff=int(str(diff).split()[0])\n",
    "print(diff)"
   ]
  },
  {
   "cell_type": "code",
   "execution_count": 30,
   "metadata": {},
   "outputs": [
    {
     "name": "stdout",
     "output_type": "stream",
     "text": [
      "Valid intervals: [1h, 1d, 5d, 1wk, 1mo, 3mo]\n",
      "Enter time frame : 1d\n",
      "1d\n"
     ]
    }
   ],
   "source": [
    "    tstr=\"\"\n",
    "    ds=\"\"\n",
    "    if(int(diff)>=730):\n",
    "        print(\"Valid intervals: [1d, 5d, 1wk, 1mo, 3mo]\")\n",
    "        tf=input(\"Enter time frame : \")\n",
    "                \n",
    "        ## To covert the string into lower ( ex. 1m = M)\n",
    "        tstr=\"\" #timeframestring\n",
    "        ds=\"\"   # date string\n",
    "        for word in tf:\n",
    "            if(word).isalpha():\n",
    "                tstr=str(tstr)+str(word)\n",
    "            if(word).isdigit():\n",
    "                ds=str(ds)+str(word)\n",
    "        tf=ds+(tstr).lower()\n",
    "        print(tf) \n",
    "        \n",
    "        if(tf not in ('1d', '5d', '1wk', '1mo', '3mo')):\n",
    "            print(\"Invalid Time Frame\")\n",
    "            td=\"\"\n",
    "    \n",
    "    \n",
    "    if(int(diff)>60 and int(diff)<730):\n",
    "        print(\"Valid intervals: [1h, 1d, 5d, 1wk, 1mo, 3mo]\")\n",
    "        tf=input(\"Enter time frame : \")\n",
    "        ## To covert the string into lower ( ex. 1m = M)\n",
    "        tstr=\"\" #timeframestring\n",
    "        dstr=\"\" # date string\n",
    "        for word in tf:\n",
    "            if(word).isalpha():\n",
    "                tstr=str(tstr)+str(word)\n",
    "            if(word).isdigit():\n",
    "                ds=str(ds)+str(word)\n",
    "        tf=ds+(tstr).lower()\n",
    "        print(tf) \n",
    "        if(tf not in ('1h', '1d', '5d', '1wk', '1mo', '3mo')):\n",
    "            print(\"Invalid Time Frame\")\n",
    "            td=\"\"\n",
    "    \n",
    "    if(int(diff)>7 and int(diff)<=60):\n",
    "        print(\"Valid intervals: ['2m', '5m', '15m', '30m', '60m', '90m',1h, 1d, 5d, 1wk, 1mo, 3mo]\")\n",
    "        tf=input(\"Enter time frame : \")\n",
    "       ## To covert the string into lower ( ex. 1m = M)\n",
    "        tstr=\"\" #timeframestring\n",
    "        ds=\"\" # date string\n",
    "        for word in tf:\n",
    "            if(word).isalpha():\n",
    "                tstr=str(tstr)+str(word)\n",
    "            if(word).isdigit():\n",
    "                ds=str(ds)+str(word)\n",
    "        tf=ds+(tstr).lower()\n",
    "        print(tf) \n",
    "        if(tf not in ('2m', '5m', '15m', '30m', '60m', '90m','1h', '1d', '5d', '1wk', '1mo', '3mo')):\n",
    "            print(\"Invalid Time Frame\")\n",
    "            tf=\"\"\n",
    "            \n",
    "    if(int(diff)>0 and int(diff)<=7):\n",
    "        print(\"Valid intervals: ['1m',2m', '5m', '15m', '30m', '60m', '90m',1h, 1d, 5d, 1wk, 1mo, 3mo]\")\n",
    "        tf=input(\"Enter time frame : \")\n",
    "       ## To covert the string into lower ( ex. 1m = M)\n",
    "        tstr=\"\" #timeframestring\n",
    "        ds=\"\"  # date sring\n",
    "        for word in tf:\n",
    "            if(word).isalpha():\n",
    "                tstr=str(tstr)+str(word)\n",
    "            if(word).isdigit():\n",
    "                ds=str(ds)+str(word)\n",
    "        tf=ds+(tstr).lower()\n",
    "        print(tf)   \n",
    "        if(tf not in ('1m','2m', '5m', '15m', '30m', '60m', '90m','1h', '1d', '5d', '1wk', '1mo', '3mo')):\n",
    "            print(\"Invalid Time Frame\")\n",
    "            tf=\"\"\n"
   ]
  },
  {
   "cell_type": "code",
   "execution_count": 31,
   "metadata": {},
   "outputs": [
    {
     "name": "stdout",
     "output_type": "stream",
     "text": [
      "[*********************100%***********************]  1 of 1 completed\n"
     ]
    },
    {
     "data": {
      "text/html": [
       "<div>\n",
       "<style scoped>\n",
       "    .dataframe tbody tr th:only-of-type {\n",
       "        vertical-align: middle;\n",
       "    }\n",
       "\n",
       "    .dataframe tbody tr th {\n",
       "        vertical-align: top;\n",
       "    }\n",
       "\n",
       "    .dataframe thead th {\n",
       "        text-align: right;\n",
       "    }\n",
       "</style>\n",
       "<table border=\"1\" class=\"dataframe\">\n",
       "  <thead>\n",
       "    <tr style=\"text-align: right;\">\n",
       "      <th></th>\n",
       "      <th>Open</th>\n",
       "      <th>High</th>\n",
       "      <th>Low</th>\n",
       "      <th>Close</th>\n",
       "      <th>Adj Close</th>\n",
       "      <th>Volume</th>\n",
       "    </tr>\n",
       "    <tr>\n",
       "      <th>Date</th>\n",
       "      <th></th>\n",
       "      <th></th>\n",
       "      <th></th>\n",
       "      <th></th>\n",
       "      <th></th>\n",
       "      <th></th>\n",
       "    </tr>\n",
       "  </thead>\n",
       "  <tbody>\n",
       "    <tr>\n",
       "      <th>2021-06-14</th>\n",
       "      <td>42.500000</td>\n",
       "      <td>42.500000</td>\n",
       "      <td>39.000000</td>\n",
       "      <td>41.750000</td>\n",
       "      <td>41.750000</td>\n",
       "      <td>86438</td>\n",
       "    </tr>\n",
       "    <tr>\n",
       "      <th>2021-06-15</th>\n",
       "      <td>42.900002</td>\n",
       "      <td>42.900002</td>\n",
       "      <td>40.450001</td>\n",
       "      <td>41.950001</td>\n",
       "      <td>41.950001</td>\n",
       "      <td>106110</td>\n",
       "    </tr>\n",
       "    <tr>\n",
       "      <th>2021-06-16</th>\n",
       "      <td>41.950001</td>\n",
       "      <td>42.750000</td>\n",
       "      <td>40.250000</td>\n",
       "      <td>42.000000</td>\n",
       "      <td>42.000000</td>\n",
       "      <td>102394</td>\n",
       "    </tr>\n",
       "    <tr>\n",
       "      <th>2021-06-17</th>\n",
       "      <td>42.000000</td>\n",
       "      <td>42.000000</td>\n",
       "      <td>39.900002</td>\n",
       "      <td>41.150002</td>\n",
       "      <td>41.150002</td>\n",
       "      <td>26721</td>\n",
       "    </tr>\n",
       "    <tr>\n",
       "      <th>2021-06-18</th>\n",
       "      <td>41.950001</td>\n",
       "      <td>41.950001</td>\n",
       "      <td>39.099998</td>\n",
       "      <td>40.750000</td>\n",
       "      <td>40.750000</td>\n",
       "      <td>28474</td>\n",
       "    </tr>\n",
       "  </tbody>\n",
       "</table>\n",
       "</div>"
      ],
      "text/plain": [
       "                 Open       High        Low      Close  Adj Close  Volume\n",
       "Date                                                                     \n",
       "2021-06-14  42.500000  42.500000  39.000000  41.750000  41.750000   86438\n",
       "2021-06-15  42.900002  42.900002  40.450001  41.950001  41.950001  106110\n",
       "2021-06-16  41.950001  42.750000  40.250000  42.000000  42.000000  102394\n",
       "2021-06-17  42.000000  42.000000  39.900002  41.150002  41.150002   26721\n",
       "2021-06-18  41.950001  41.950001  39.099998  40.750000  40.750000   28474"
      ]
     },
     "execution_count": 31,
     "metadata": {},
     "output_type": "execute_result"
    }
   ],
   "source": [
    "try:\n",
    "    df=yf.download(tickers=stock+'.NS',start=sdate,end=edate,interval=tf)\n",
    "    if(len(df)==0):\n",
    "        print(\"Invalid Date ( Or Holiday )\")\n",
    "except:\n",
    "    print(\"Invalid Date ( Or Holiday )\")\n",
    "    \n",
    "df.head()"
   ]
  },
  {
   "cell_type": "code",
   "execution_count": 32,
   "metadata": {},
   "outputs": [
    {
     "name": "stdout",
     "output_type": "stream",
     "text": [
      "BLUE HAMMER\n",
      "{Timestamp('2021-06-23 00:00:00'): 41.79999923706055, Timestamp('2021-08-06 00:00:00'): 59.099998474121094, Timestamp('2021-10-21 00:00:00'): 57.599998474121094, Timestamp('2021-11-15 00:00:00'): 101.9000015258789, Timestamp('2021-11-25 00:00:00'): 110.4000015258789, Timestamp('2021-12-07 00:00:00'): 123.44999694824219}\n",
      "-------------------------------------------\n",
      "RED HAMMER\n",
      "{Timestamp('2021-06-14 00:00:00'): 41.75, Timestamp('2021-06-21 00:00:00'): 41.04999923706055, Timestamp('2021-07-15 00:00:00'): 41.349998474121094, Timestamp('2021-11-10 00:00:00'): 94.5, Timestamp('2021-11-24 00:00:00'): 105.25, Timestamp('2021-12-06 00:00:00'): 117.5999984741211}\n",
      "-------------------------------------------\n"
     ]
    }
   ],
   "source": [
    "gethammer(df)"
   ]
  },
  {
   "cell_type": "code",
   "execution_count": null,
   "metadata": {},
   "outputs": [],
   "source": []
  },
  {
   "cell_type": "code",
   "execution_count": null,
   "metadata": {},
   "outputs": [],
   "source": []
  }
 ],
 "metadata": {
  "kernelspec": {
   "display_name": "Python 3",
   "language": "python",
   "name": "python3"
  },
  "language_info": {
   "codemirror_mode": {
    "name": "ipython",
    "version": 3
   },
   "file_extension": ".py",
   "mimetype": "text/x-python",
   "name": "python",
   "nbconvert_exporter": "python",
   "pygments_lexer": "ipython3",
   "version": "3.8.5"
  }
 },
 "nbformat": 4,
 "nbformat_minor": 4
}
