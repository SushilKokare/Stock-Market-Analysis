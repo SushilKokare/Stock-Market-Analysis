{
 "cells": [
  {
   "cell_type": "code",
   "execution_count": 1,
   "metadata": {},
   "outputs": [],
   "source": [
    "# Task : Hammer (Paper Umbrella) after a downtrend "
   ]
  },
  {
   "cell_type": "code",
   "execution_count": 2,
   "metadata": {},
   "outputs": [],
   "source": [
    "from datetime import date\n",
    "import datetime\n",
    "from nsepy.history import get_price_list\n",
    "\n",
    "import yfinance as yf\n",
    "import pandas as pd\n",
    "from nsepy.history import get_history\n",
    "from SingleCandlesticks import gethammer"
   ]
  },
  {
   "cell_type": "markdown",
   "metadata": {},
   "source": [
    "## Hammer (Paper Umbrell) Bullish After A Downtrend"
   ]
  },
  {
   "cell_type": "code",
   "execution_count": 3,
   "metadata": {},
   "outputs": [
    {
     "name": "stdout",
     "output_type": "stream",
     "text": [
      "2022-01-04\n",
      "[*********************100%***********************]  1 of 1 completed\n",
      "<class 'pandas.core.frame.DataFrame'>\n",
      "                   Open    High     Low        Close    Adj Close   Volume\n",
      "Date                                                                      \n",
      "2022-01-04  2415.899902  2433.5  2404.0  2424.850098  2424.850098  1602352\n",
      "2022-01-04\n",
      "Data on the date : 2022-01-04\n",
      "e\n",
      "Data on Date : 2022-01-03\n"
     ]
    }
   ],
   "source": [
    "\n",
    "print(date.today())\n",
    "\n",
    "dated=date.today()\n",
    "\n",
    "dt=yf.download(tickers=\"reliance.ns\",period=\"1d\")\n",
    "print(type(dt))\n",
    "print(dt)\n",
    "\n",
    "for i in dt.index:\n",
    "    d=str(i)\n",
    "d=d.split()\n",
    "d=d[0]\n",
    "d=str(d)\n",
    "d=d.split('-')\n",
    "\n",
    "\n",
    "d=date(int(d[0]),int(d[1]),int(d[2]))\n",
    "print(d)\n",
    "\n",
    "\n",
    "print(\"Data on the date : \"+str(d))\n",
    "\n",
    "dated=d\n",
    "df=pd.DataFrame()\n",
    "#print(dated)\n",
    "while(len(df)<=0):\n",
    "    try:\n",
    "        df=get_price_list(dated)\n",
    "    except:\n",
    "        print(\"e\")\n",
    "        dated=dated-datetime.timedelta(1)\n",
    "print(\"Data on Date : \"+str(dated))        \n",
    "\n"
   ]
  },
  {
   "cell_type": "code",
   "execution_count": 4,
   "metadata": {},
   "outputs": [
    {
     "name": "stdout",
     "output_type": "stream",
     "text": [
      "BLUE HAMMER\n",
      "{'ANIKINDS': 0.8802816901408451, 'ARSHIYA': 1.1834319526627177, 'AURIONPRO': 1.36986301369863, 'BANG': 1.4454664914585997, 'BGRENERGY': 1.006889242183348, 'ESSARSHPNG': 1.7006802721088436, 'GANGAFORGE': 0.7109004739336593, 'INDLMETER': 1.4778325123152742, 'KANANIIND': 1.025641025641022, 'KAPSTON': 2.2356953391436067, 'KOPRAN': 0.7308160779537081, 'MITTAL': 0.8849557522124019, 'TATAPOWER': 0.9847806624888169, 'VIJAYA': 1.1691022964509394}\n",
      "-------------------------------------------\n",
      "RED HAMMER\n",
      "{}\n",
      "-------------------------------------------\n",
      "Blue Hammer In Downtrend\n",
      "INDLMETER\n",
      "KOPRAN\n",
      "-------------------------------------------\n",
      "Blue Hammer In Downtrend\n"
     ]
    }
   ],
   "source": [
    "#df.head()\n",
    "gethammer(df)"
   ]
  },
  {
   "cell_type": "code",
   "execution_count": null,
   "metadata": {},
   "outputs": [],
   "source": []
  },
  {
   "cell_type": "code",
   "execution_count": null,
   "metadata": {},
   "outputs": [],
   "source": []
  },
  {
   "cell_type": "code",
   "execution_count": null,
   "metadata": {},
   "outputs": [],
   "source": []
  },
  {
   "cell_type": "code",
   "execution_count": 14,
   "metadata": {},
   "outputs": [
    {
     "data": {
      "text/plain": [
       "'def gethammer(df):\\n\\n    bh={}    # blue hammer \\n    rh={}    # red hammer\\n\\n    if(\\'OPEN\\' in df.columns):\\n\\n        for ind in df.index:\\n            if(df[\\'OPEN\\'][ind] < df[\\'CLOSE\\'][ind] ):\\n                bper=((float(df[\\'CLOSE\\'][ind])-float(df[\\'OPEN\\'][ind]))/float(df[\\'CLOSE\\'][ind]))*100 # body percentage\\n                us=((float(df[\\'HIGH\\'][ind])-float(df[\\'CLOSE\\'][ind]))/float(df[\\'CLOSE\\'][ind]))*100  # Upper Shadow\\n                ls=((float(df[\\'OPEN\\'][ind])-float(df[\\'LOW\\'][ind]))/float(df[\\'CLOSE\\'][ind]))*100  # Lower Shadow\\n                if(bper>=0.7 and bper<=2.3 and us<=0.6 and ls>=bper*1.8):\\n                    #print(df[\\'SYMBOL\\'][ind] +\"=\"+str(per) +\" Per = \"+str(per)+\" US = \"+str(us)+\" LS = \"+str(ls))\\n                    bh[df[\\'SYMBOL\\'][ind]]= bper\\n\\n            elif(df[\\'CLOSE\\'][ind] < df[\\'OPEN\\'][ind] ):\\n                bper=((float(df[\\'CLOSE\\'][ind])-float(df[\\'OPEN\\'][ind]))/float(df[\\'CLOSE\\'][ind]))*100 # body percentage\\n                us=((float(df[\\'HIGH\\'][ind])-float(df[\\'CLOSE\\'][ind]))/float(df[\\'CLOSE\\'][ind]))*100  # Upper Shadow\\n                ls=((float(df[\\'OPEN\\'][ind])-float(df[\\'LOW\\'][ind]))/float(df[\\'CLOSE\\'][ind]))*100  # Lower Shadow\\n                if(bper>=0.7 and bper<=2.3 and us<=0.6 and ls>=bper*1.8):\\n                     #print(df[\\'SYMBOL\\'][ind] +\"=\"+str(per) +\" Per = \"+str(per)+\" US = \"+str(us)+\" LS = \"+str(ls))\\n                    rh[df[\\'SYMBOL\\'][ind]]= bper\\n\\n\\n            elif(df[\\'CLOSE\\'][ind] == df[\\'OPEN\\'][ind] ):\\n                bper=0\\n                #per=round(((float(df[\\'OPEN\\'][ind])-float(df[\\'CLOSE\\'][ind]))/float(df[\\'CLOSE\\'][ind]))*100,4)\\n                #print(df[\\'SYMBOL\\'][ind] +\"=\"+str(per))\\n                #print(\"-------------------------------------------\")\\n                pass\\n\\n\\n\\n    elif(\\'Open\\' in df.columns):\\n\\n        for ind in df.index:\\n            if(df[\\'Open\\'][ind] < df[\\'Close\\'][ind] ):\\n                bper=((float(df[\\'Close\\'][ind])-float(df[\\'Open\\'][ind]))/float(df[\\'Close\\'][ind]))*100 # body percentage\\n                us=((float(df[\\'High\\'][ind])-float(df[\\'Close\\'][ind]))/float(df[\\'Close\\'][ind]))*100  # Upper Shadow\\n                ls=((float(df[\\'Open\\'][ind])-float(df[\\'Low\\'][ind]))/float(df[\\'Close\\'][ind]))*100  # Lower Shadow\\n                if(bper>=0.7 and bper<=2.3 and us<=0.6 and ls>=bper*1.8):\\n                   #print(df[\\'Symbol\\'][ind] +\"=\"+str(per) +\" Per = \"+str(per)+\" US = \"+str(us)+\" LS = \"+str(ls))\\n                    #bd[df[\\'Symbol\\'][ind]]= bper\\n                    bh[ind]=df[\\'Close\\'][ind]\\n\\n            elif(df[\\'Close\\'][ind] < df[\\'Open\\'][ind] ):\\n                bper=((float(df[\\'Close\\'][ind])-float(df[\\'Open\\'][ind]))/float(df[\\'Close\\'][ind]))*100 # body percentage\\n                us=((float(df[\\'High\\'][ind])-float(df[\\'Close\\'][ind]))/float(df[\\'Close\\'][ind]))*100  # Upper Shadow\\n                ls=((float(df[\\'Open\\'][ind])-float(df[\\'Low\\'][ind]))/float(df[\\'Close\\'][ind]))*100  # Lower Shadow\\n                if(bper>=0.7 and bper<=2.3 and us<=0.6 and ls>=bper*1.8):\\n                    #print(df[\\'Symbol\\'][ind] +\"=\"+str(per) +\" Per = \"+str(per)+\" US = \"+str(us)+\" LS = \"+str(ls))\\n                    #rd[df[\\'Symbol\\'][ind]]= bper\\n                    rh[ind]=df[\\'Close\\'][ind]\\n\\n            elif(df[\\'Close\\'][ind] == df[\\'Open\\'][ind] ):\\n                bper=0\\n                #per=round(((float(df[\\'Open\\'][ind])-float(df[\\'Close\\'][ind]))/float(df[\\'Close\\'][ind]))*100,4)\\n                #print(df[\\'Symbol\\'][ind] +\"=\"+str(per))\\n                #print(\"-------------------------------------------\")\\n                pass\\n\\n    print(\"BLUE HAMMER\")\\n    print(bh)\\n    print(\"-------------------------------------------\")\\n    print(\"RED HAMMER\")\\n    print(rh)\\n    print(\"-------------------------------------------\")\\n    print(\"Blue Hammer In Downtrend\")\\n    for i in bh:\\n        if(isdowntrend(i)):\\n            print(i)\\n\\n    print(\"-------------------------------------------\")\\n    print(\"Blue Hammer In Downtrend\")\\n    for i in rh:\\n        if(isdowntrend(i)):\\n            print(i)\\n\\n'"
      ]
     },
     "execution_count": 14,
     "metadata": {},
     "output_type": "execute_result"
    }
   ],
   "source": [
    "\"\"\"def gethammer(df):\n",
    "\n",
    "    bh={}    # blue hammer \n",
    "    rh={}    # red hammer\n",
    "\n",
    "    if('OPEN' in df.columns):\n",
    "\n",
    "        for ind in df.index:\n",
    "            if(df['OPEN'][ind] < df['CLOSE'][ind] ):\n",
    "                bper=((float(df['CLOSE'][ind])-float(df['OPEN'][ind]))/float(df['CLOSE'][ind]))*100 # body percentage\n",
    "                us=((float(df['HIGH'][ind])-float(df['CLOSE'][ind]))/float(df['CLOSE'][ind]))*100  # Upper Shadow\n",
    "                ls=((float(df['OPEN'][ind])-float(df['LOW'][ind]))/float(df['CLOSE'][ind]))*100  # Lower Shadow\n",
    "                if(bper>=0.7 and bper<=2.3 and us<=0.6 and ls>=bper*1.8):\n",
    "                    #print(df['SYMBOL'][ind] +\"=\"+str(per) +\" Per = \"+str(per)+\" US = \"+str(us)+\" LS = \"+str(ls))\n",
    "                    bh[df['SYMBOL'][ind]]= bper\n",
    "\n",
    "            elif(df['CLOSE'][ind] < df['OPEN'][ind] ):\n",
    "                bper=((float(df['CLOSE'][ind])-float(df['OPEN'][ind]))/float(df['CLOSE'][ind]))*100 # body percentage\n",
    "                us=((float(df['HIGH'][ind])-float(df['CLOSE'][ind]))/float(df['CLOSE'][ind]))*100  # Upper Shadow\n",
    "                ls=((float(df['OPEN'][ind])-float(df['LOW'][ind]))/float(df['CLOSE'][ind]))*100  # Lower Shadow\n",
    "                if(bper>=0.7 and bper<=2.3 and us<=0.6 and ls>=bper*1.8):\n",
    "                     #print(df['SYMBOL'][ind] +\"=\"+str(per) +\" Per = \"+str(per)+\" US = \"+str(us)+\" LS = \"+str(ls))\n",
    "                    rh[df['SYMBOL'][ind]]= bper\n",
    "\n",
    "\n",
    "            elif(df['CLOSE'][ind] == df['OPEN'][ind] ):\n",
    "                bper=0\n",
    "                #per=round(((float(df['OPEN'][ind])-float(df['CLOSE'][ind]))/float(df['CLOSE'][ind]))*100,4)\n",
    "                #print(df['SYMBOL'][ind] +\"=\"+str(per))\n",
    "                #print(\"-------------------------------------------\")\n",
    "                pass\n",
    "\n",
    "\n",
    "\n",
    "    elif('Open' in df.columns):\n",
    "\n",
    "        for ind in df.index:\n",
    "            if(df['Open'][ind] < df['Close'][ind] ):\n",
    "                bper=((float(df['Close'][ind])-float(df['Open'][ind]))/float(df['Close'][ind]))*100 # body percentage\n",
    "                us=((float(df['High'][ind])-float(df['Close'][ind]))/float(df['Close'][ind]))*100  # Upper Shadow\n",
    "                ls=((float(df['Open'][ind])-float(df['Low'][ind]))/float(df['Close'][ind]))*100  # Lower Shadow\n",
    "                if(bper>=0.7 and bper<=2.3 and us<=0.6 and ls>=bper*1.8):\n",
    "                   #print(df['Symbol'][ind] +\"=\"+str(per) +\" Per = \"+str(per)+\" US = \"+str(us)+\" LS = \"+str(ls))\n",
    "                    #bd[df['Symbol'][ind]]= bper\n",
    "                    bh[ind]=df['Close'][ind]\n",
    "\n",
    "            elif(df['Close'][ind] < df['Open'][ind] ):\n",
    "                bper=((float(df['Close'][ind])-float(df['Open'][ind]))/float(df['Close'][ind]))*100 # body percentage\n",
    "                us=((float(df['High'][ind])-float(df['Close'][ind]))/float(df['Close'][ind]))*100  # Upper Shadow\n",
    "                ls=((float(df['Open'][ind])-float(df['Low'][ind]))/float(df['Close'][ind]))*100  # Lower Shadow\n",
    "                if(bper>=0.7 and bper<=2.3 and us<=0.6 and ls>=bper*1.8):\n",
    "                    #print(df['Symbol'][ind] +\"=\"+str(per) +\" Per = \"+str(per)+\" US = \"+str(us)+\" LS = \"+str(ls))\n",
    "                    #rd[df['Symbol'][ind]]= bper\n",
    "                    rh[ind]=df['Close'][ind]\n",
    "\n",
    "            elif(df['Close'][ind] == df['Open'][ind] ):\n",
    "                bper=0\n",
    "                #per=round(((float(df['Open'][ind])-float(df['Close'][ind]))/float(df['Close'][ind]))*100,4)\n",
    "                #print(df['Symbol'][ind] +\"=\"+str(per))\n",
    "                #print(\"-------------------------------------------\")\n",
    "                pass\n",
    "\n",
    "    print(\"BLUE HAMMER\")\n",
    "    print(bh)\n",
    "    print(\"-------------------------------------------\")\n",
    "    print(\"RED HAMMER\")\n",
    "    print(rh)\n",
    "    print(\"-------------------------------------------\")\n",
    "    print(\"Blue Hammer In Downtrend\")\n",
    "    for i in bh:\n",
    "        if(isdowntrend(i)):\n",
    "            print(i)\n",
    "\n",
    "    print(\"-------------------------------------------\")\n",
    "    print(\"Blue Hammer In Downtrend\")\n",
    "    for i in rh:\n",
    "        if(isdowntrend(i)):\n",
    "            print(i)\n",
    "\n",
    "\"\"\"     "
   ]
  },
  {
   "cell_type": "code",
   "execution_count": null,
   "metadata": {},
   "outputs": [],
   "source": []
  },
  {
   "cell_type": "code",
   "execution_count": 13,
   "metadata": {},
   "outputs": [
    {
     "data": {
      "text/plain": [
       "'def calper(pv,c):   # calculate percentage for downtrend it is (c-pv)/c*100 (prev close,close) and for uptrend it it (pv-c)/pv*100\\n    return ( ((c-pv)/c)*100  )\\n\\n\\ndef isdowntrend(stock):\\n    #print(\"Enter\")\\n    flag=0\\n    edate=date.today()\\n    df1=pd.DataFrame()\\n    \\n    while(len(df1)<10):\\n        flag=flag+1\\n        sdate=date.today()-datetime.timedelta(flag)\\n        df1=get_history(stock,sdate,edate)\\n        \\n    #print(\"df1 done\")    \\n    df1=df1.iloc[::-1]   # reverse the dataframe\\n    #print(\"reveresed\")\\n    flag=1\\n    for i in df1.index:\\n        #print(str(i) +\" = \"+str(round(calper(df1[\\'Prev Close\\'][i],df1[\\'Close\\'][i]),4)))\\n\\n        #print(flag)\\n        b=df1[\\'Prev Close\\'][i]\\n        if(flag==1):\\n            a=df1[\\'Close\\'][i]\\n            flag=0\\n\\n        #print(a)\\n        #print(b)\\n        #print(flag)\\n        status=0\\n        if(calper(a,b)>4):\\n            #print(i)     # Remove comment to get date\\n            #print(calper(a,b))\\n            \\n            # As we reversed the dataframe so now if a>b it is positive\\n            # and if a<b then it is negative\\n            if(a>b):\\n                #print(\"Positive\")\\n                pass\\n            else:\\n                #print(\"Negative\")\\n                #print(calper(a,b))\\n                status=1\\n            break\\n        \\n    return status\\n    \\n\\n'"
      ]
     },
     "execution_count": 13,
     "metadata": {},
     "output_type": "execute_result"
    }
   ],
   "source": [
    "\"\"\"def calper(pv,c):   # calculate percentage for downtrend it is (c-pv)/c*100 (prev close,close) and for uptrend it it (pv-c)/pv*100\n",
    "    return ( ((c-pv)/c)*100  )\n",
    "\n",
    "\n",
    "def isdowntrend(stock):\n",
    "    #print(\"Enter\")\n",
    "    flag=0\n",
    "    edate=date.today()\n",
    "    df1=pd.DataFrame()\n",
    "    \n",
    "    while(len(df1)<10):\n",
    "        flag=flag+1\n",
    "        sdate=date.today()-datetime.timedelta(flag)\n",
    "        df1=get_history(stock,sdate,edate)\n",
    "        \n",
    "    #print(\"df1 done\")    \n",
    "    df1=df1.iloc[::-1]   # reverse the dataframe\n",
    "    #print(\"reveresed\")\n",
    "    flag=1\n",
    "    for i in df1.index:\n",
    "        #print(str(i) +\" = \"+str(round(calper(df1['Prev Close'][i],df1['Close'][i]),4)))\n",
    "\n",
    "        #print(flag)\n",
    "        b=df1['Prev Close'][i]\n",
    "        if(flag==1):\n",
    "            a=df1['Close'][i]\n",
    "            flag=0\n",
    "\n",
    "        #print(a)\n",
    "        #print(b)\n",
    "        #print(flag)\n",
    "        status=0\n",
    "        if(calper(a,b)>4):\n",
    "            #print(i)     # Remove comment to get date\n",
    "            #print(calper(a,b))\n",
    "            \n",
    "            # As we reversed the dataframe so now if a>b it is positive\n",
    "            # and if a<b then it is negative\n",
    "            if(a>b):\n",
    "                #print(\"Positive\")\n",
    "                pass\n",
    "            else:\n",
    "                #print(\"Negative\")\n",
    "                #print(calper(a,b))\n",
    "                status=1\n",
    "            break\n",
    "        \n",
    "    return status\n",
    "    \n",
    "\n",
    "\"\"\"    \n",
    "       "
   ]
  },
  {
   "cell_type": "code",
   "execution_count": 10,
   "metadata": {},
   "outputs": [],
   "source": [
    "#data=isdowntrend('SBIN')\n",
    "#print(data)"
   ]
  },
  {
   "cell_type": "code",
   "execution_count": 11,
   "metadata": {},
   "outputs": [],
   "source": [
    "#if(isdowntrend('SBIN')):\n",
    "#    print(\"yes\")"
   ]
  },
  {
   "cell_type": "code",
   "execution_count": 12,
   "metadata": {},
   "outputs": [],
   "source": [
    "#gethammer(df)"
   ]
  },
  {
   "cell_type": "code",
   "execution_count": null,
   "metadata": {},
   "outputs": [],
   "source": []
  },
  {
   "cell_type": "code",
   "execution_count": null,
   "metadata": {},
   "outputs": [],
   "source": []
  },
  {
   "cell_type": "code",
   "execution_count": 20,
   "metadata": {},
   "outputs": [],
   "source": []
  },
  {
   "cell_type": "code",
   "execution_count": null,
   "metadata": {},
   "outputs": [],
   "source": []
  }
 ],
 "metadata": {
  "kernelspec": {
   "display_name": "Python 3",
   "language": "python",
   "name": "python3"
  },
  "language_info": {
   "codemirror_mode": {
    "name": "ipython",
    "version": 3
   },
   "file_extension": ".py",
   "mimetype": "text/x-python",
   "name": "python",
   "nbconvert_exporter": "python",
   "pygments_lexer": "ipython3",
   "version": "3.8.5"
  }
 },
 "nbformat": 4,
 "nbformat_minor": 4
}
