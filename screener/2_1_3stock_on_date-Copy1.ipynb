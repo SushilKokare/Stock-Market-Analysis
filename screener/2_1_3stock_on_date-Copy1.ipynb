{
 "cells": [
  {
   "cell_type": "code",
   "execution_count": 73,
   "metadata": {},
   "outputs": [],
   "source": [
    "import yfinance as yf\n",
    "from datetime import date\n",
    "import datetime"
   ]
  },
  {
   "cell_type": "code",
   "execution_count": 101,
   "metadata": {},
   "outputs": [
    {
     "name": "stdout",
     "output_type": "stream",
     "text": [
      "Enter stock name :sbin\n",
      "Enter date (Formate = YYYY-MM-DD):2019-10-19\n"
     ]
    }
   ],
   "source": [
    "stock=input(\"Enter stock name :\")\n",
    "sdate=\"\"\n",
    "edate=\"\"\n",
    "sdate=input(\"Enter date (Formate = YYYY-MM-DD):\")"
   ]
  },
  {
   "cell_type": "code",
   "execution_count": 105,
   "metadata": {},
   "outputs": [
    {
     "name": "stdout",
     "output_type": "stream",
     "text": [
      "2019-10-20\n",
      "795\n"
     ]
    }
   ],
   "source": [
    "splitdate=sdate.split(sep='-')\n",
    "dated=date(int(splitdate[0]),int(splitdate[1]),int(splitdate[2]))\n",
    "if(dated>date.today()):\n",
    "    print(\"No data for selected date\")\n",
    "else:\n",
    "    edate=dated+datetime.timedelta(days=1)\n",
    "    print(edate)\n",
    "    if(dated!=date.today()):    \n",
    "        diff=\"\"\n",
    "        diff=abs(date.today()-dated)\n",
    "        diff=str(diff).split()\n",
    "        diff=int(diff[0])\n",
    "        print(diff)\n",
    "    else:\n",
    "        diff=1"
   ]
  },
  {
   "cell_type": "code",
   "execution_count": 114,
   "metadata": {},
   "outputs": [
    {
     "name": "stdout",
     "output_type": "stream",
     "text": [
      "Valid intervals:  1d, 5d, 1wk, 1mo, 3mo]\n",
      "Enter time frame : 1d\n"
     ]
    }
   ],
   "source": [
    "if(dated<=date.today()):\n",
    "    if(dated<=date.today()):    \n",
    "        if(diff>0 and diff<=60):\n",
    "            print(\"Valid intervals:1m, 2m, 5m, 15m, 30m, 60m, 90m, 1h, 1d, 5d, 1wk, 1mo, 3mo]\")\n",
    "            tf=input(\"Enter time frame : \")\n",
    "            if(tf not in ('1m', '2m', '5m', '15m', '30m', '60m', '90m', '1h', '1d', '5d', '1wk', '1mo', '3mo')):\n",
    "                print(\"Invalid Time Frame\")\n",
    "                td=\"\"\n",
    "        if(diff>60):\n",
    "            print(\"Valid intervals:  1d, 5d, 1wk, 1mo, 3mo]\")\n",
    "            tf=input(\"Enter time frame : \")\n",
    "            if(tf not in ( '1d', '5d', '1wk', '1mo', '3mo')):\n",
    "                print(\"Invalid Time Frame\")\n",
    "                td=\"\"\n",
    "\n",
    "   "
   ]
  },
  {
   "cell_type": "code",
   "execution_count": 115,
   "metadata": {},
   "outputs": [],
   "source": [
    "#print(edate)\n",
    "if(dated<=date.today()):\n",
    "    df=yf.download(tickers=\"SBIN.NS\",start=sdate,end=str(edate),interval=tf,progress=False,show_errors=False)\n",
    "    #print(df.size)\n",
    "    if(df.size==0):\n",
    "         print(\"Selected day was holiday so showing next immediate date's data\")\n",
    "\n",
    "\n",
    "    while(df.size == 0):\n",
    "        df=yf.download(tickers=\"SBIN.NS\",start=sdate,end=str(edate),interval=tf,progress=False,show_errors=False)\n",
    "        edate=edate+datetime.timedelta(days=1)\n",
    "        #print(edate)\n",
    "        #print(df.size)\n",
    "\n",
    "    #print(edate)"
   ]
  },
  {
   "cell_type": "code",
   "execution_count": 116,
   "metadata": {},
   "outputs": [
    {
     "name": "stdout",
     "output_type": "stream",
     "text": [
      "                  Open        High         Low       Close   Adj Close  \\\n",
      "Date                                                                     \n",
      "2019-10-22  270.399994  275.000000  268.500000  270.500000  268.025452   \n",
      "2019-10-23  270.750000  277.799988  268.649994  275.450012  272.930176   \n",
      "\n",
      "              Volume  \n",
      "Date                  \n",
      "2019-10-22  27574295  \n",
      "2019-10-23  31789622  \n"
     ]
    }
   ],
   "source": [
    "print(df)"
   ]
  },
  {
   "cell_type": "code",
   "execution_count": null,
   "metadata": {},
   "outputs": [],
   "source": []
  },
  {
   "cell_type": "code",
   "execution_count": null,
   "metadata": {},
   "outputs": [],
   "source": []
  },
  {
   "cell_type": "code",
   "execution_count": null,
   "metadata": {},
   "outputs": [],
   "source": []
  },
  {
   "cell_type": "code",
   "execution_count": null,
   "metadata": {},
   "outputs": [],
   "source": []
  },
  {
   "cell_type": "code",
   "execution_count": null,
   "metadata": {},
   "outputs": [],
   "source": []
  },
  {
   "cell_type": "code",
   "execution_count": null,
   "metadata": {},
   "outputs": [],
   "source": []
  },
  {
   "cell_type": "code",
   "execution_count": null,
   "metadata": {},
   "outputs": [],
   "source": []
  }
 ],
 "metadata": {
  "kernelspec": {
   "display_name": "Python 3",
   "language": "python",
   "name": "python3"
  },
  "language_info": {
   "codemirror_mode": {
    "name": "ipython",
    "version": 3
   },
   "file_extension": ".py",
   "mimetype": "text/x-python",
   "name": "python",
   "nbconvert_exporter": "python",
   "pygments_lexer": "ipython3",
   "version": "3.8.5"
  }
 },
 "nbformat": 4,
 "nbformat_minor": 4
}
