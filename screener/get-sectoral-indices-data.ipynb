{
 "cells": [
  {
   "cell_type": "code",
   "execution_count": 1,
   "metadata": {},
   "outputs": [],
   "source": [
    "# Issue\n",
    "# Task: Get Sectoral Indices Details"
   ]
  },
  {
   "cell_type": "code",
   "execution_count": 1,
   "metadata": {},
   "outputs": [],
   "source": [
    "import nsepy.history as nh\n",
    "from datetime import date"
   ]
  },
  {
   "cell_type": "code",
   "execution_count": 3,
   "metadata": {},
   "outputs": [
    {
     "name": "stdout",
     "output_type": "stream",
     "text": [
      "               Open      High      Low     Close     Volume      Turnover\n",
      "Date                                                                     \n",
      "2021-12-24  35282.2  35327.95  34583.4  34857.05  132458164  3.370200e+10\n",
      "               Open     High      Low     Close    Volume      Turnover\n",
      "Date                                                                   \n",
      "2021-12-24  10787.4  10792.7  10561.2  10620.75  29400131  1.808100e+10\n"
     ]
    }
   ],
   "source": [
    "print(nh.get_history(\"NIFTY BANK\",date(2021,12,24),date(2021,12,24),index=True))\n",
    "print(nh.get_history(\"NIFTY AUTO\",date(2021,12,24),date(2021,12,24),index=True))"
   ]
  },
  {
   "cell_type": "code",
   "execution_count": 4,
   "metadata": {},
   "outputs": [
    {
     "name": "stdout",
     "output_type": "stream",
     "text": [
      "                Open      High      Low     Close    Volume      Turnover\n",
      "Date                                                                     \n",
      "2021-12-24  17177.25  17190.05  16847.9  16956.75  53832657  4.677110e+10\n",
      "                Open     High       Low     Close    Volume      Turnover\n",
      "Date                                                                     \n",
      "2021-12-24  37136.25  37152.3  36836.95  36913.75  26017914  1.520310e+10\n"
     ]
    }
   ],
   "source": [
    "print(nh.get_history(\"NIFTY FIN SERVICE\",date(2021,12,24),date(2021,12,24),index=True))\n",
    "print(nh.get_history(\"NIFTY FMCG\",date(2021,12,24),date(2021,12,24),index=True))"
   ]
  },
  {
   "cell_type": "code",
   "execution_count": 5,
   "metadata": {},
   "outputs": [
    {
     "name": "stdout",
     "output_type": "stream",
     "text": [
      "                Open      High       Low    Close    Volume      Turnover\n",
      "Date                                                                     \n",
      "2021-12-24  37657.15  37822.15  37417.65  37727.8  34389231  5.761880e+10\n",
      "              Open    High     Low    Close    Volume      Turnover\n",
      "Date                                                               \n",
      "2021-12-24  2262.1  2264.0  2211.3  2241.35  38852375  8.026700e+09\n"
     ]
    }
   ],
   "source": [
    "print(nh.get_history(\"NIFTY IT\",date(2021,12,24),date(2021,12,24),index=True))\n",
    "print(nh.get_history(\"NIFTY MEDIA\",date(2021,12,24),date(2021,12,24),index=True))\n"
   ]
  },
  {
   "cell_type": "code",
   "execution_count": 6,
   "metadata": {},
   "outputs": [
    {
     "name": "stdout",
     "output_type": "stream",
     "text": [
      "              Open     High     Low   Close    Volume      Turnover\n",
      "Date                                                               \n",
      "2021-12-24  5541.3  5542.95  5433.2  5492.7  84980456  2.158150e+10\n",
      "               Open     High       Low     Close    Volume      Turnover\n",
      "Date                                                                    \n",
      "2021-12-24  13676.8  13677.8  13467.55  13491.25  21636701  1.622870e+10\n",
      "               Open     High     Low   Close     Volume      Turnover\n",
      "Date                                                                 \n",
      "2021-12-24  2553.65  2556.85  2481.3  2496.6  160446285  1.383270e+10\n"
     ]
    }
   ],
   "source": [
    "print(nh.get_history(\"NIFTY METAL\",date(2021,12,24),date(2021,12,24),index=True))\n",
    "print(nh.get_history(\"NIFTY PHARMA\",date(2021,12,24),date(2021,12,24),index=True))\n",
    "print(nh.get_history(\"NIFTY PSU BANK\",date(2021,12,24),date(2021,12,24),index=True))\n"
   ]
  },
  {
   "cell_type": "code",
   "execution_count": 7,
   "metadata": {},
   "outputs": [
    {
     "name": "stdout",
     "output_type": "stream",
     "text": [
      "               Open      High      Low    Close    Volume      Turnover\n",
      "Date                                                                   \n",
      "2021-12-24  17968.5  17983.95  17587.4  17733.0  61917067  2.502100e+10\n",
      "             Open   High    Low  Close    Volume      Turnover\n",
      "Date                                                          \n",
      "2021-12-24  485.3  486.4  473.8  477.3  17252923  6.319100e+09\n"
     ]
    }
   ],
   "source": [
    "print(nh.get_history(\"NIFTY PVT BANK\",date(2021,12,24),date(2021,12,24),index=True))\n",
    "print(nh.get_history(\"NIFTY REALTY\",date(2021,12,24),date(2021,12,24),index=True))  "
   ]
  },
  {
   "cell_type": "code",
   "execution_count": null,
   "metadata": {},
   "outputs": [],
   "source": []
  }
 ],
 "metadata": {
  "kernelspec": {
   "display_name": "Python 3",
   "language": "python",
   "name": "python3"
  },
  "language_info": {
   "codemirror_mode": {
    "name": "ipython",
    "version": 3
   },
   "file_extension": ".py",
   "mimetype": "text/x-python",
   "name": "python",
   "nbconvert_exporter": "python",
   "pygments_lexer": "ipython3",
   "version": "3.8.5"
  }
 },
 "nbformat": 4,
 "nbformat_minor": 4
}
