{
 "cells": [
  {
   "cell_type": "code",
   "execution_count": 46,
   "metadata": {},
   "outputs": [],
   "source": [
    "import yfinance as yf\n",
    "from datetime import date"
   ]
  },
  {
   "cell_type": "code",
   "execution_count": 47,
   "metadata": {},
   "outputs": [
    {
     "name": "stdout",
     "output_type": "stream",
     "text": [
      "Enter stock name :sbin\n"
     ]
    }
   ],
   "source": [
    "stock=input(\"Enter stock name :\")"
   ]
  },
  {
   "cell_type": "code",
   "execution_count": 103,
   "metadata": {},
   "outputs": [
    {
     "name": "stdout",
     "output_type": "stream",
     "text": [
      "Valid days : 1d,5d,1mo,3mo,6mo,1y,2y,5y,10y,ytd,max\n",
      "Enter last how many days ? : ytd\n"
     ]
    }
   ],
   "source": [
    "print(\"Valid days : 1d,5d,1mo,3mo,6mo,1y,2y,5y,10y,ytd,max\")\n",
    "days=input(\"Enter last how many days ? : \")"
   ]
  },
  {
   "cell_type": "code",
   "execution_count": 107,
   "metadata": {},
   "outputs": [
    {
     "name": "stdout",
     "output_type": "stream",
     "text": [
      "<class 'str'>\n",
      "ytd\n",
      "\n",
      "\n"
     ]
    }
   ],
   "source": [
    "valid_time_intervals=['1m', '2m', '5m', '15m', '30m', '60m', '90m', '1h', '1d', '5d', '1wk', '1mo', '3mo']\n",
    "print(type(days))\n",
    "print(days)\n",
    "if(days != 'ytd' or days !='YTD' or days != 'max' or days != 'MAX'):\n",
    "    d=\"\"\n",
    "    print(d)\n",
    "    #d=days.split()\n",
    "    numbers = []\n",
    "    for word in days:\n",
    "        if(word).isdigit():\n",
    "            d=str(d)+str(word)\n",
    "    print(d)\n",
    "\n"
   ]
  },
  {
   "cell_type": "code",
   "execution_count": 108,
   "metadata": {},
   "outputs": [
    {
     "name": "stdout",
     "output_type": "stream",
     "text": [
      "Valid intervals: [1wk, 1mo, 3mo]\n",
      "Enter time frame : 1mo\n"
     ]
    }
   ],
   "source": [
    "if(days != 'ytd' and days !='YTD' and days != 'max' and days != 'MAX'):\n",
    "    if(int(d)>60):\n",
    "        print(\"Valid intervals: [1h, 1d, 5d, 1wk, 1mo, 3mo]\")\n",
    "        tf=input(\"Enter time frame : \")\n",
    "        if(tf not in ('1h', '1d', '5d', '1wk', '1mo', '3mo')):\n",
    "            print(\"Invalid Time Frame\")\n",
    "            td=\"\"\n",
    "    \n",
    "    if(int(d)>0 and int(d)<=60):\n",
    "        print(\"Valid intervals: ['1m', '2m', '5m', '15m', '30m', '60m', '90m',1h, 1d, 5d, 1wk, 1mo, 3mo]\")\n",
    "        tf=input(\"Enter time frame : \")\n",
    "        if(tf not in ('1m', '2m', '5m', '15m', '30m', '60m', '90m','1h', '1d', '5d', '1wk', '1mo', '3mo')):\n",
    "            print(\"Invalid Time Frame\")\n",
    "            tf=\"\"\n",
    "if(days != 'ytd' or days !='YTD' or days != 'max' or days != 'MAX'):\n",
    "    print(\"Valid intervals: [1wk, 1mo, 3mo]\")\n",
    "    tf=input(\"Enter time frame : \")\n",
    "    if(tf not in ('1wk', '1mo', '3mo')):\n",
    "        print(\"Invalid Time Frame\")\n",
    "        tf=\"\"\n",
    "    \n",
    "\n",
    "\n"
   ]
  },
  {
   "cell_type": "code",
   "execution_count": 109,
   "metadata": {},
   "outputs": [
    {
     "name": "stdout",
     "output_type": "stream",
     "text": [
      "[*********************100%***********************]  1 of 1 completed\n"
     ]
    },
    {
     "data": {
      "text/html": [
       "<div>\n",
       "<style scoped>\n",
       "    .dataframe tbody tr th:only-of-type {\n",
       "        vertical-align: middle;\n",
       "    }\n",
       "\n",
       "    .dataframe tbody tr th {\n",
       "        vertical-align: top;\n",
       "    }\n",
       "\n",
       "    .dataframe thead th {\n",
       "        text-align: right;\n",
       "    }\n",
       "</style>\n",
       "<table border=\"1\" class=\"dataframe\">\n",
       "  <thead>\n",
       "    <tr style=\"text-align: right;\">\n",
       "      <th></th>\n",
       "      <th>Open</th>\n",
       "      <th>High</th>\n",
       "      <th>Low</th>\n",
       "      <th>Close</th>\n",
       "      <th>Adj Close</th>\n",
       "      <th>Volume</th>\n",
       "    </tr>\n",
       "    <tr>\n",
       "      <th>Date</th>\n",
       "      <th></th>\n",
       "      <th></th>\n",
       "      <th></th>\n",
       "      <th></th>\n",
       "      <th></th>\n",
       "      <th></th>\n",
       "    </tr>\n",
       "  </thead>\n",
       "  <tbody>\n",
       "    <tr>\n",
       "      <th>2021-01-01</th>\n",
       "      <td>274.899994</td>\n",
       "      <td>310.899994</td>\n",
       "      <td>269.500000</td>\n",
       "      <td>282.100006</td>\n",
       "      <td>279.519348</td>\n",
       "      <td>7.779477e+08</td>\n",
       "    </tr>\n",
       "    <tr>\n",
       "      <th>2021-02-01</th>\n",
       "      <td>285.100006</td>\n",
       "      <td>427.700012</td>\n",
       "      <td>282.750000</td>\n",
       "      <td>390.149994</td>\n",
       "      <td>386.580872</td>\n",
       "      <td>1.532348e+09</td>\n",
       "    </tr>\n",
       "    <tr>\n",
       "      <th>2021-03-01</th>\n",
       "      <td>395.100006</td>\n",
       "      <td>408.899994</td>\n",
       "      <td>345.200012</td>\n",
       "      <td>364.299988</td>\n",
       "      <td>360.967346</td>\n",
       "      <td>8.493387e+08</td>\n",
       "    </tr>\n",
       "    <tr>\n",
       "      <th>2021-04-01</th>\n",
       "      <td>367.700012</td>\n",
       "      <td>371.899994</td>\n",
       "      <td>321.299988</td>\n",
       "      <td>353.500000</td>\n",
       "      <td>350.266174</td>\n",
       "      <td>9.290666e+08</td>\n",
       "    </tr>\n",
       "    <tr>\n",
       "      <th>2021-05-01</th>\n",
       "      <td>349.600006</td>\n",
       "      <td>433.649994</td>\n",
       "      <td>341.399994</td>\n",
       "      <td>424.350006</td>\n",
       "      <td>420.468018</td>\n",
       "      <td>1.295321e+09</td>\n",
       "    </tr>\n",
       "  </tbody>\n",
       "</table>\n",
       "</div>"
      ],
      "text/plain": [
       "                  Open        High         Low       Close   Adj Close  \\\n",
       "Date                                                                     \n",
       "2021-01-01  274.899994  310.899994  269.500000  282.100006  279.519348   \n",
       "2021-02-01  285.100006  427.700012  282.750000  390.149994  386.580872   \n",
       "2021-03-01  395.100006  408.899994  345.200012  364.299988  360.967346   \n",
       "2021-04-01  367.700012  371.899994  321.299988  353.500000  350.266174   \n",
       "2021-05-01  349.600006  433.649994  341.399994  424.350006  420.468018   \n",
       "\n",
       "                  Volume  \n",
       "Date                      \n",
       "2021-01-01  7.779477e+08  \n",
       "2021-02-01  1.532348e+09  \n",
       "2021-03-01  8.493387e+08  \n",
       "2021-04-01  9.290666e+08  \n",
       "2021-05-01  1.295321e+09  "
      ]
     },
     "execution_count": 109,
     "metadata": {},
     "output_type": "execute_result"
    }
   ],
   "source": [
    "df=yf.download(tickers=stock+\".NS\",period=days,interval=tf)\n",
    "df.head()"
   ]
  },
  {
   "cell_type": "code",
   "execution_count": null,
   "metadata": {},
   "outputs": [],
   "source": []
  }
 ],
 "metadata": {
  "kernelspec": {
   "display_name": "Python 3",
   "language": "python",
   "name": "python3"
  },
  "language_info": {
   "codemirror_mode": {
    "name": "ipython",
    "version": 3
   },
   "file_extension": ".py",
   "mimetype": "text/x-python",
   "name": "python",
   "nbconvert_exporter": "python",
   "pygments_lexer": "ipython3",
   "version": "3.8.5"
  }
 },
 "nbformat": 4,
 "nbformat_minor": 4
}
