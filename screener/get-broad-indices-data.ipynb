{
 "cells": [
  {
   "cell_type": "code",
   "execution_count": 92,
   "metadata": {},
   "outputs": [],
   "source": [
    "# Issue\n",
    "# Task: Get Broad Indices Details"
   ]
  },
  {
   "cell_type": "code",
   "execution_count": 117,
   "metadata": {},
   "outputs": [],
   "source": [
    "import nsepy.history as nh\n"
   ]
  },
  {
   "cell_type": "code",
   "execution_count": 120,
   "metadata": {},
   "outputs": [
    {
     "name": "stdout",
     "output_type": "stream",
     "text": [
      "             Open   High    Low  Close  Volume  Turnover\n",
      "Date                                                    \n",
      "2021-12-24  15.83  16.65  15.33  16.15     NaN       NaN\n",
      "               Open     High      Low     Close     Volume      Turnover\n",
      "Date                                                                    \n",
      "2021-12-24  17149.5  17155.6  16909.6  17003.75  182564833  1.543501e+11\n"
     ]
    }
   ],
   "source": [
    "\n",
    "print(nh.get_history(\"INDIA VIX\",date(2021,12,24),date(2021,12,24),index=True))\n",
    "\n",
    "print(nh.get_history(\"NIFTY 50\",date(2021,12,24),date(2021,12,24),index=True))"
   ]
  },
  {
   "cell_type": "code",
   "execution_count": 99,
   "metadata": {
    "scrolled": true
   },
   "outputs": [
    {
     "name": "stdout",
     "output_type": "stream",
     "text": [
      "               Open     High      Low     Close     Volume      Turnover\n",
      "Date                                                                    \n",
      "2021-12-24  42067.8  42094.4  41465.6  41509.05  255536499  4.878860e+10\n"
     ]
    }
   ],
   "source": [
    "print(nh.get_history(\"NIFTY NEXT 50\",date(2021,12,24),date(2021,12,24),index=True))"
   ]
  },
  {
   "cell_type": "code",
   "execution_count": 100,
   "metadata": {},
   "outputs": [
    {
     "name": "stdout",
     "output_type": "stream",
     "text": [
      "                Open      High      Low     Close     Volume      Turnover\n",
      "Date                                                                      \n",
      "2021-12-24  17434.25  17441.55  17192.7  17273.65  438101332  2.031388e+11\n"
     ]
    }
   ],
   "source": [
    "print(nh.get_history(\"NIFTY 100\",date(2021,12,24),date(2021,12,24),index=True))"
   ]
  },
  {
   "cell_type": "code",
   "execution_count": 101,
   "metadata": {},
   "outputs": [
    {
     "name": "stdout",
     "output_type": "stream",
     "text": [
      "               Open    High      Low   Close     Volume      Turnover\n",
      "Date                                                                 \n",
      "2021-12-24  9118.55  9121.9  8988.85  9028.3  944824712  2.767314e+11\n"
     ]
    }
   ],
   "source": [
    "print(nh.get_history(\"NIFTY 200\",date(2021,12,24),date(2021,12,24),index=True))"
   ]
  },
  {
   "cell_type": "code",
   "execution_count": 102,
   "metadata": {},
   "outputs": [
    {
     "name": "stdout",
     "output_type": "stream",
     "text": [
      "               Open     High       Low    Close      Volume      Turnover\n",
      "Date                                                                     \n",
      "2021-12-24  14813.9  14819.2  14605.05  14664.8  1376801961  3.455854e+11\n"
     ]
    }
   ],
   "source": [
    "print(nh.get_history(\"NIFTY 500\",date(2021,12,24),date(2021,12,24),index=True))"
   ]
  },
  {
   "cell_type": "code",
   "execution_count": 105,
   "metadata": {},
   "outputs": [
    {
     "name": "stdout",
     "output_type": "stream",
     "text": [
      "               Open    High     Low    Close  Volume  Turnover\n",
      "Date                                                          \n",
      "2021-12-24  5217.25  5221.5  5127.3  5148.85     NaN       NaN\n"
     ]
    }
   ],
   "source": [
    "print(nh.get_history(\"NIFTY SMLCAP 50\",date(2021,12,24),date(2021,12,24),index=True))"
   ]
  },
  {
   "cell_type": "code",
   "execution_count": 106,
   "metadata": {},
   "outputs": [
    {
     "name": "stdout",
     "output_type": "stream",
     "text": [
      "               Open      High       Low    Close  Volume  Turnover\n",
      "Date                                                              \n",
      "2021-12-24  10968.5  10974.55  10792.25  10849.4     NaN       NaN\n"
     ]
    }
   ],
   "source": [
    "print(nh.get_history(\"NIFTY SMLCAP 100\",date(2021,12,24),date(2021,12,24),index=True))"
   ]
  },
  {
   "cell_type": "code",
   "execution_count": 109,
   "metadata": {},
   "outputs": [
    {
     "name": "stdout",
     "output_type": "stream",
     "text": [
      "              Open    High     Low   Close  Volume  Turnover\n",
      "Date                                                        \n",
      "2021-12-24  9573.3  9579.8  9433.5  9466.4     NaN       NaN\n"
     ]
    }
   ],
   "source": [
    "print(nh.get_history(\"NIFTY SMLCAP 250\",date(2021,12,24),date(2021,12,24),index=True))"
   ]
  },
  {
   "cell_type": "code",
   "execution_count": 110,
   "metadata": {},
   "outputs": [
    {
     "name": "stdout",
     "output_type": "stream",
     "text": [
      "              Open     High      Low    Close     Volume      Turnover\n",
      "Date                                                                  \n",
      "2021-12-24  8318.3  8319.15  8160.95  8189.55  430580690  5.243500e+10\n"
     ]
    }
   ],
   "source": [
    "print(nh.get_history(\"NIFTY MIDCAP 50\",date(2021,12,24),date(2021,12,24),index=True))"
   ]
  },
  {
   "cell_type": "code",
   "execution_count": 111,
   "metadata": {},
   "outputs": [
    {
     "name": "stdout",
     "output_type": "stream",
     "text": [
      "                Open      High       Low     Close     Volume      Turnover\n",
      "Date                                                                       \n",
      "2021-12-24  30043.75  30049.35  29508.65  29612.85  506723380  7.359270e+10\n"
     ]
    }
   ],
   "source": [
    "print(nh.get_history(\"NIFTY MIDCAP 100\",date(2021,12,24),date(2021,12,24),index=True))"
   ]
  },
  {
   "cell_type": "code",
   "execution_count": 112,
   "metadata": {},
   "outputs": [
    {
     "name": "stdout",
     "output_type": "stream",
     "text": [
      "                Open     High       Low     Close     Volume      Turnover\n",
      "Date                                                                      \n",
      "2021-12-24  11388.05  11390.6  11205.05  11232.25  516862391  8.248950e+10\n"
     ]
    }
   ],
   "source": [
    "print(nh.get_history(\"NIFTY MIDCAP 150\",date(2021,12,24),date(2021,12,24),index=True))"
   ]
  },
  {
   "cell_type": "code",
   "execution_count": 113,
   "metadata": {},
   "outputs": [
    {
     "name": "stdout",
     "output_type": "stream",
     "text": [
      "                Open     High      Low     Close  Volume  Turnover\n",
      "Date                                                              \n",
      "2021-12-24  10733.85  10736.1  10570.1  10595.55     NaN       NaN\n"
     ]
    }
   ],
   "source": [
    "print(nh.get_history(\"NIFTY MIDSML 400\",date(2021,12,24),date(2021,12,24),index=True))"
   ]
  },
  {
   "cell_type": "code",
   "execution_count": 115,
   "metadata": {},
   "outputs": [
    {
     "name": "stdout",
     "output_type": "stream",
     "text": [
      "             Open   High    Low  Close  Volume  Turnover\n",
      "Date                                                    \n",
      "2021-12-24  15.83  16.65  15.33  16.15     NaN       NaN\n"
     ]
    }
   ],
   "source": [
    "print(nh.get_history(\"INDIA VIX\",date(2021,12,24),date(2021,12,24),index=True))"
   ]
  },
  {
   "cell_type": "code",
   "execution_count": null,
   "metadata": {},
   "outputs": [],
   "source": []
  }
 ],
 "metadata": {
  "kernelspec": {
   "display_name": "Python 3",
   "language": "python",
   "name": "python3"
  },
  "language_info": {
   "codemirror_mode": {
    "name": "ipython",
    "version": 3
   },
   "file_extension": ".py",
   "mimetype": "text/x-python",
   "name": "python",
   "nbconvert_exporter": "python",
   "pygments_lexer": "ipython3",
   "version": "3.8.5"
  }
 },
 "nbformat": 4,
 "nbformat_minor": 4
}
