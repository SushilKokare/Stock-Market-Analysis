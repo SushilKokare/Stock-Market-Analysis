{
 "cells": [
  {
   "cell_type": "code",
   "execution_count": 73,
   "metadata": {},
   "outputs": [],
   "source": [
    "import yfinance as yf\n",
    "from datetime import date"
   ]
  },
  {
   "cell_type": "code",
   "execution_count": 74,
   "metadata": {},
   "outputs": [
    {
     "name": "stdout",
     "output_type": "stream",
     "text": [
      "Enter stock name :sbin\n",
      "Enter start date (Formate = YYYY-MM-DD):2021-12-1\n",
      "Enter end date (end date will not be considered):2021-12-25\n",
      "2021-12-25\n"
     ]
    }
   ],
   "source": [
    "stock=input(\"Enter stock name :\")\n",
    "sdate=\"\"\n",
    "edate=\"\"\n",
    "sdate=input(\"Enter start date (Formate = YYYY-MM-DD):\")\n",
    "edate=input(\"Enter end date (end date will not be considered):\")\n",
    "print(edate)"
   ]
  },
  {
   "cell_type": "code",
   "execution_count": 75,
   "metadata": {},
   "outputs": [
    {
     "name": "stdout",
     "output_type": "stream",
     "text": [
      "['2021', '12', '1']\n",
      "today : 2021-12-22\n",
      "sdate : 2021-12-1\n",
      "endate : 2021-12-25\n",
      "21\n"
     ]
    }
   ],
   "source": [
    "diff=\"\"\n",
    "if(sdate!=\"\" and edate!=\"\"):\n",
    "    splitdate=sdate.split(sep='-')\n",
    "    print(splitdate)\n",
    "    startdate=date(int(splitdate[0]),int(splitdate[1]),int(splitdate[2]))\n",
    "    print(\"today : \"+str(date.today()))\n",
    "    print(\"sdate : \"+str(sdate))\n",
    "    print(\"endate : \"+str(edate))\n",
    "    diff=date.today()-startdate\n",
    "    \n",
    "    diff=str(abs(diff))\n",
    "    diff=diff.split()\n",
    "    diff=diff[0]\n",
    "    print(diff)"
   ]
  },
  {
   "cell_type": "code",
   "execution_count": 77,
   "metadata": {},
   "outputs": [
    {
     "name": "stdout",
     "output_type": "stream",
     "text": [
      "Valid intervals:1m, 2m, 5m, 15m, 30m, 60m, 90m, 1h, 1d, 5d, 1wk, 1mo, 3mo]\n",
      "Enter time frame : 1d\n",
      "[*********************100%***********************]  1 of 1 completed\n",
      "                  Open        High         Low       Close   Adj Close  \\\n",
      "Date                                                                     \n",
      "2021-12-01  464.450012  477.250000  464.000000  475.299988  475.299988   \n",
      "2021-12-02  474.500000  478.149994  470.950012  477.000000  477.000000   \n",
      "2021-12-03  475.750000  481.500000  470.049988  473.149994  473.149994   \n",
      "2021-12-06  473.149994  477.000000  463.799988  465.299988  465.299988   \n",
      "2021-12-07  469.200012  479.700012  469.200012  476.700012  476.700012   \n",
      "2021-12-08  480.899994  492.399994  480.250000  491.549988  491.549988   \n",
      "2021-12-09  492.299988  493.500000  486.100006  488.649994  488.649994   \n",
      "2021-12-10  488.500000  495.950012  484.399994  494.700012  494.700012   \n",
      "2021-12-13  497.750000  500.450012  486.350006  487.799988  487.799988   \n",
      "2021-12-14  486.000000  490.350006  481.799988  488.549988  488.549988   \n",
      "2021-12-15  490.000000  491.000000  483.500000  484.799988  484.799988   \n",
      "2021-12-16  488.350006  490.549988  478.250000  481.149994  481.149994   \n",
      "2021-12-17  480.049988  481.399994  466.500000  467.799988  467.799988   \n",
      "2021-12-20  459.000000  464.000000  443.000000  449.200012  449.200012   \n",
      "2021-12-21  457.049988  458.250000  444.500000  446.000000  446.000000   \n",
      "2021-12-22  450.000000  457.299988  449.000000  455.850006  455.850006   \n",
      "\n",
      "              Volume  \n",
      "Date                  \n",
      "2021-12-01  17156956  \n",
      "2021-12-02  12962679  \n",
      "2021-12-03  16653993  \n",
      "2021-12-06  14353300  \n",
      "2021-12-07  13644942  \n",
      "2021-12-08  20397660  \n",
      "2021-12-09  12560970  \n",
      "2021-12-10  13261408  \n",
      "2021-12-13  14047645  \n",
      "2021-12-14  11642447  \n",
      "2021-12-15   8639835  \n",
      "2021-12-16  11107781  \n",
      "2021-12-17  12648603  \n",
      "2021-12-20  22336114  \n",
      "2021-12-21  16617447  \n",
      "2021-12-22  13098086  \n"
     ]
    }
   ],
   "source": [
    "if(int(diff)>60):\n",
    "    print(\"Valid intervals:  1h, 1d, 5d, 1wk, 1mo, 3mo]\")\n",
    "    tf=input(\"Enter time frame : \")\n",
    "    if(tf not in ( '1h', '1d', '5d', '1wk', '1mo', '3mo')):\n",
    "        print(\"Invalid Time Frame\")\n",
    "        td=\"\"\n",
    "        \n",
    "if(int(diff)>0 and int(diff)<=60):\n",
    "    print(\"Valid intervals:1m, 2m, 5m, 15m, 30m, 60m, 90m, 1h, 1d, 5d, 1wk, 1mo, 3mo]\")\n",
    "    tf=input(\"Enter time frame : \")\n",
    "    if(tf not in ('1m', '2m', '5m', '15m', '30m', '60m', '90m', '1h', '1d', '5d', '1wk', '1mo', '3mo')):\n",
    "        print(\"Invalid Time Frame\")\n",
    "        td=\"\"\n",
    "        \n",
    "\n",
    "if(sdate==\"\" or edate==\"\"):\n",
    "    print(\"Invalid start date and end date\")\n",
    "else:\n",
    "    df=yf.download(tickers=stock+\".NS\",start=sdate,end=edate,interval=tf)\n",
    "    print(df)"
   ]
  },
  {
   "cell_type": "code",
   "execution_count": 35,
   "metadata": {},
   "outputs": [
    {
     "data": {
      "text/plain": [
       "'\\ntry:\\n    if(edate==\"\"):\\n        df=yf.download(tickers=stock+\".NS\",start=sdate,interval=tf)\\n    else:\\n        df=yf.download(tickers=stock+\".NS\",start=sdate,end=edate,interval=tf)\\nexcept e:\\n    print(e)\\n    \\ndf.head()\\n'"
      ]
     },
     "execution_count": 35,
     "metadata": {},
     "output_type": "execute_result"
    }
   ],
   "source": [
    "\"\"\"\n",
    "try:\n",
    "    if(edate==\"\"):\n",
    "        df=yf.download(tickers=stock+\".NS\",start=sdate,interval=tf)\n",
    "    else:\n",
    "        df=yf.download(tickers=stock+\".NS\",start=sdate,end=edate,interval=tf)\n",
    "except e:\n",
    "    print(e)\n",
    "    \n",
    "df.head()\n",
    "\"\"\""
   ]
  },
  {
   "cell_type": "code",
   "execution_count": null,
   "metadata": {},
   "outputs": [],
   "source": [
    "yf.download"
   ]
  }
 ],
 "metadata": {
  "kernelspec": {
   "display_name": "Python 3",
   "language": "python",
   "name": "python3"
  },
  "language_info": {
   "codemirror_mode": {
    "name": "ipython",
    "version": 3
   },
   "file_extension": ".py",
   "mimetype": "text/x-python",
   "name": "python",
   "nbconvert_exporter": "python",
   "pygments_lexer": "ipython3",
   "version": "3.8.5"
  }
 },
 "nbformat": 4,
 "nbformat_minor": 4
}
