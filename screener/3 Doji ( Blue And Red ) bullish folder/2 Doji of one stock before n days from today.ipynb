{
 "cells": [
  {
   "cell_type": "code",
   "execution_count": 1,
   "metadata": {},
   "outputs": [],
   "source": [
    "# Spinning Top of one stock before n days from today"
   ]
  },
  {
   "cell_type": "code",
   "execution_count": 7,
   "metadata": {},
   "outputs": [],
   "source": [
    "from datetime import date\n",
    "import datetime\n",
    "from nsepy.history import get_price_list\n",
    "import yfinance as yf\n",
    "import pandas as pd\n",
    "\n",
    "from SingleCandlesticks import Doji as dj"
   ]
  },
  {
   "cell_type": "markdown",
   "metadata": {},
   "source": [
    "## Spinning Top of one stock before n days from today"
   ]
  },
  {
   "cell_type": "code",
   "execution_count": 3,
   "metadata": {},
   "outputs": [
    {
     "name": "stdout",
     "output_type": "stream",
     "text": [
      "Enter stock name : sbin\n",
      "Enter days back  to find Bullish Marubozu of given stock : \n",
      "Valid days : 1d,5d,1mo,3mo,6mo,1y,2y,5y,10y,ytd,max\n",
      "Enter last how many days ? : 6mo\n",
      "MO\n",
      "\n",
      "180\n",
      "Days = 180\n"
     ]
    }
   ],
   "source": [
    "stock=input(\"Enter stock name : \")\n",
    "\n",
    "print(\"Enter days back  to find Bullish Marubozu of given stock : \")\n",
    "print(\"Valid days : 1d,5d,1mo,3mo,6mo,1y,2y,5y,10y,ytd,max\")\n",
    "days=input(\"Enter last how many days ? : \")\n",
    "\n",
    "\n",
    "\n",
    "## To covert the string into upper ( ex. 1mo = MO)\n",
    "dstr=\"\"\n",
    "for word in days:\n",
    "    if(word).isalpha():\n",
    "        dstr=str(dstr)+str(word)\n",
    "dstr=dstr.upper()\n",
    "print(dstr)\n",
    "\n",
    "if(dstr != 'YTD' and dstr !='MAX'):\n",
    "     \n",
    "    if('D' == dstr):\n",
    "        d=\"\"\n",
    "        print(d)\n",
    "        #d=days.split()\n",
    "        numbers = []\n",
    "        for word in days:\n",
    "            if(word).isdigit():\n",
    "                d=str(d)+str(word)\n",
    "        print(d)\n",
    "        \n",
    "\n",
    "    if('MO' == dstr):\n",
    "        d=\"\"\n",
    "        print(d)\n",
    "        #d=days.split()\n",
    "        numbers = []\n",
    "        for word in days:\n",
    "            if(word).isdigit():\n",
    "                d=str(d)+str(word)\n",
    "        print(int(d)*30)\n",
    "        d=int(d)*30\n",
    "\n",
    "    if('Y' == dstr):\n",
    "        d=\"\"\n",
    "        print(d)\n",
    "        #d=days.split()\n",
    "        numbers = []\n",
    "        for word in days:\n",
    "            if(word).isdigit():\n",
    "                d=str(d)+str(word)\n",
    "        print(int(d)*365)\n",
    "        d=int(d)*365\n",
    "    print(\"Days = \"+str(d))\n",
    "\n"
   ]
  },
  {
   "cell_type": "code",
   "execution_count": 4,
   "metadata": {},
   "outputs": [
    {
     "name": "stdout",
     "output_type": "stream",
     "text": [
      "Valid intervals: [1h, 1d, 5d, 1wk, 1mo, 3mo]\n",
      "Enter time frame : 1h\n",
      "1h\n"
     ]
    }
   ],
   "source": [
    "\n",
    "#if(days != 'ytd' and days !='YTD' and days != 'max' and days != 'MAX'):\n",
    "if(dstr != 'YTD' and dstr !='MAX'):\n",
    "    tstr=\"\"\n",
    "    ds=\"\"\n",
    "    if(int(d)>730):\n",
    "        print(\"Valid intervals: [1d, 5d, 1wk, 1mo, 3mo]\")\n",
    "        tf=input(\"Enter time frame : \")\n",
    "                \n",
    "        ## To covert the string into lower ( ex. 1m = M)\n",
    "        tstr=\"\" #timeframestring\n",
    "        ds=\"\"   # date string\n",
    "        for word in tf:\n",
    "            if(word).isalpha():\n",
    "                tstr=str(tstr)+str(word)\n",
    "            if(word).isdigit():\n",
    "                ds=str(ds)+str(word)\n",
    "        tf=ds+(tstr).lower()\n",
    "        print(tf) \n",
    "        \n",
    "        if(tf not in ('1d', '5d', '1wk', '1mo', '3mo')):\n",
    "            print(\"Invalid Time Frame\")\n",
    "            td=\"\"\n",
    "    \n",
    "    \n",
    "    if(int(d)>=60 and int(d)<=730):\n",
    "        print(\"Valid intervals: [1h, 1d, 5d, 1wk, 1mo, 3mo]\")\n",
    "        tf=input(\"Enter time frame : \")\n",
    "        ## To covert the string into lower ( ex. 1m = M)\n",
    "        tstr=\"\" #timeframestring\n",
    "        dstr=\"\" # date string\n",
    "        for word in tf:\n",
    "            if(word).isalpha():\n",
    "                tstr=str(tstr)+str(word)\n",
    "            if(word).isdigit():\n",
    "                ds=str(ds)+str(word)\n",
    "        tf=ds+(tstr).lower()\n",
    "        print(tf) \n",
    "        if(tf not in ('1h', '1d', '5d', '1wk', '1mo', '3mo')):\n",
    "            print(\"Invalid Time Frame\")\n",
    "            td=\"\"\n",
    "    \n",
    "    if(int(d)>7 and int(d)<60):\n",
    "        print(\"Valid intervals: ['2m', '5m', '15m', '30m', '60m', '90m',1h, 1d, 5d, 1wk, 1mo, 3mo]\")\n",
    "        tf=input(\"Enter time frame : \")\n",
    "       ## To covert the string into lower ( ex. 1m = M)\n",
    "        tstr=\"\" #timeframestring\n",
    "        ds=\"\" # date string\n",
    "        for word in tf:\n",
    "            if(word).isalpha():\n",
    "                tstr=str(tstr)+str(word)\n",
    "            if(word).isdigit():\n",
    "                ds=str(ds)+str(word)\n",
    "        tf=ds+(tstr).lower()\n",
    "        print(tf) \n",
    "        if(tf not in ('2m', '5m', '15m', '30m', '60m', '90m','1h', '1d', '5d', '1wk', '1mo', '3mo')):\n",
    "            print(\"Invalid Time Frame\")\n",
    "            tf=\"\"\n",
    "            \n",
    "    if(int(d)>0 and int(d)<=7):\n",
    "        print(\"Valid intervals: ['1m',2m', '5m', '15m', '30m', '60m', '90m',1h, 1d, 5d, 1wk, 1mo, 3mo]\")\n",
    "        tf=input(\"Enter time frame : \")\n",
    "       ## To covert the string into lower ( ex. 1m = M)\n",
    "        tstr=\"\" #timeframestring\n",
    "        ds=\"\"  # date sring\n",
    "        for word in tf:\n",
    "            if(word).isalpha():\n",
    "                tstr=str(tstr)+str(word)\n",
    "            if(word).isdigit():\n",
    "                ds=str(ds)+str(word)\n",
    "        tf=ds+(tstr).lower()\n",
    "        print(tf)   \n",
    "        if(tf not in ('1m','2m', '5m', '15m', '30m', '60m', '90m','1h', '1d', '5d', '1wk', '1mo', '3mo')):\n",
    "            print(\"Invalid Time Frame\")\n",
    "            tf=\"\"\n"
   ]
  },
  {
   "cell_type": "code",
   "execution_count": 5,
   "metadata": {},
   "outputs": [
    {
     "name": "stdout",
     "output_type": "stream",
     "text": [
      "6mo\n"
     ]
    }
   ],
   "source": [
    "print(days)"
   ]
  },
  {
   "cell_type": "code",
   "execution_count": 6,
   "metadata": {},
   "outputs": [
    {
     "name": "stdout",
     "output_type": "stream",
     "text": [
      "[*********************100%***********************]  1 of 1 completed\n",
      "                                 Open        High         Low       Close  \\\n",
      "2021-07-05 09:15:00+05:30  425.649994  426.850006  425.250000  426.350006   \n",
      "2021-07-05 10:15:00+05:30  426.350006  427.000000  425.049988  425.299988   \n",
      "2021-07-05 11:15:00+05:30  425.350006  426.000000  424.450012  425.250000   \n",
      "2021-07-05 12:15:00+05:30  425.250000  425.799988  424.549988  425.750000   \n",
      "2021-07-05 13:15:00+05:30  425.750000  426.549988  425.500000  426.000000   \n",
      "\n",
      "                            Adj Close   Volume  \n",
      "2021-07-05 09:15:00+05:30  426.350006        0  \n",
      "2021-07-05 10:15:00+05:30  425.299988  1330406  \n",
      "2021-07-05 11:15:00+05:30  425.250000  1080204  \n",
      "2021-07-05 12:15:00+05:30  425.750000  1148237  \n",
      "2021-07-05 13:15:00+05:30  426.000000  1278288  \n"
     ]
    }
   ],
   "source": [
    "try:\n",
    "    df=yf.download(tickers=stock+\".NS\",period=days,interval=tf)\n",
    "    print(df.head())\n",
    "except:\n",
    "    print(\"Error\")"
   ]
  },
  {
   "cell_type": "code",
   "execution_count": null,
   "metadata": {},
   "outputs": [],
   "source": []
  },
  {
   "cell_type": "code",
   "execution_count": 8,
   "metadata": {},
   "outputs": [
    {
     "name": "stdout",
     "output_type": "stream",
     "text": [
      "BLUE DOJI\n",
      "{Timestamp('2021-07-06 12:15:00+0530', tz='Asia/Kolkata'): 435.54998779296875, Timestamp('2021-07-07 09:15:00+0530', tz='Asia/Kolkata'): 430.6499938964844, Timestamp('2021-07-07 11:15:00+0530', tz='Asia/Kolkata'): 430.6000061035156, Timestamp('2021-07-08 15:15:00+0530', tz='Asia/Kolkata'): 424.8500061035156, Timestamp('2021-07-09 12:15:00+0530', tz='Asia/Kolkata'): 424.1000061035156, Timestamp('2021-07-09 14:15:00+0530', tz='Asia/Kolkata'): 423.70001220703125, Timestamp('2021-07-12 11:15:00+0530', tz='Asia/Kolkata'): 429.0, Timestamp('2021-07-12 14:15:00+0530', tz='Asia/Kolkata'): 427.3999938964844, Timestamp('2021-07-20 15:15:00+0530', tz='Asia/Kolkata'): 421.0, Timestamp('2021-07-23 09:15:00+0530', tz='Asia/Kolkata'): 423.5, Timestamp('2021-07-26 10:15:00+0530', tz='Asia/Kolkata'): 425.29998779296875, Timestamp('2021-07-26 14:15:00+0530', tz='Asia/Kolkata'): 423.70001220703125, Timestamp('2021-07-27 11:15:00+0530', tz='Asia/Kolkata'): 432.29998779296875, Timestamp('2021-07-28 14:15:00+0530', tz='Asia/Kolkata'): 425.79998779296875, Timestamp('2021-08-02 09:15:00+0530', tz='Asia/Kolkata'): 434.5, Timestamp('2021-08-02 12:15:00+0530', tz='Asia/Kolkata'): 434.0, Timestamp('2021-08-03 11:15:00+0530', tz='Asia/Kolkata'): 439.6000061035156, Timestamp('2021-08-05 10:15:00+0530', tz='Asia/Kolkata'): 445.8999938964844, Timestamp('2021-08-05 15:15:00+0530', tz='Asia/Kolkata'): 441.8999938964844, Timestamp('2021-08-06 13:15:00+0530', tz='Asia/Kolkata'): 439.29998779296875, Timestamp('2021-08-11 11:15:00+0530', tz='Asia/Kolkata'): 425.75, Timestamp('2021-08-11 14:15:00+0530', tz='Asia/Kolkata'): 428.1499938964844, Timestamp('2021-08-16 13:15:00+0530', tz='Asia/Kolkata'): 427.20001220703125, Timestamp('2021-08-24 09:15:00+0530', tz='Asia/Kolkata'): 411.20001220703125, Timestamp('2021-08-25 10:15:00+0530', tz='Asia/Kolkata'): 416.3500061035156, Timestamp('2021-08-25 11:15:00+0530', tz='Asia/Kolkata'): 416.6499938964844, Timestamp('2021-08-25 12:15:00+0530', tz='Asia/Kolkata'): 417.20001220703125, Timestamp('2021-08-26 09:15:00+0530', tz='Asia/Kolkata'): 415.25, Timestamp('2021-08-27 11:15:00+0530', tz='Asia/Kolkata'): 412.6499938964844, Timestamp('2021-08-27 12:15:00+0530', tz='Asia/Kolkata'): 413.8999938964844, Timestamp('2021-08-30 11:15:00+0530', tz='Asia/Kolkata'): 417.95001220703125, Timestamp('2021-08-31 12:15:00+0530', tz='Asia/Kolkata'): 425.45001220703125, Timestamp('2021-09-01 11:15:00+0530', tz='Asia/Kolkata'): 427.70001220703125, Timestamp('2021-09-01 13:15:00+0530', tz='Asia/Kolkata'): 431.45001220703125, Timestamp('2021-09-02 11:15:00+0530', tz='Asia/Kolkata'): 432.25, Timestamp('2021-09-03 11:15:00+0530', tz='Asia/Kolkata'): 430.54998779296875, Timestamp('2021-09-07 14:15:00+0530', tz='Asia/Kolkata'): 428.8500061035156, Timestamp('2021-09-08 14:15:00+0530', tz='Asia/Kolkata'): 431.3999938964844, Timestamp('2021-09-09 12:15:00+0530', tz='Asia/Kolkata'): 431.3500061035156, Timestamp('2021-09-15 09:15:00+0530', tz='Asia/Kolkata'): 433.45001220703125, Timestamp('2021-09-17 10:15:00+0530', tz='Asia/Kolkata'): 463.3999938964844, Timestamp('2021-09-17 12:15:00+0530', tz='Asia/Kolkata'): 454.1000061035156, Timestamp('2021-09-20 09:15:00+0530', tz='Asia/Kolkata'): 449.6000061035156, Timestamp('2021-09-22 11:15:00+0530', tz='Asia/Kolkata'): 438.70001220703125, Timestamp('2021-09-23 10:15:00+0530', tz='Asia/Kolkata'): 449.1499938964844, Timestamp('2021-09-27 09:15:00+0530', tz='Asia/Kolkata'): 445.95001220703125, Timestamp('2021-09-27 12:15:00+0530', tz='Asia/Kolkata'): 447.95001220703125, Timestamp('2021-09-30 14:15:00+0530', tz='Asia/Kolkata'): 453.54998779296875, Timestamp('2021-10-01 12:15:00+0530', tz='Asia/Kolkata'): 451.79998779296875, Timestamp('2021-10-01 13:15:00+0530', tz='Asia/Kolkata'): 452.25, Timestamp('2021-10-04 12:15:00+0530', tz='Asia/Kolkata'): 459.70001220703125, Timestamp('2021-10-04 14:15:00+0530', tz='Asia/Kolkata'): 463.1499938964844, Timestamp('2021-10-05 11:15:00+0530', tz='Asia/Kolkata'): 459.8999938964844, Timestamp('2021-10-06 11:15:00+0530', tz='Asia/Kolkata'): 464.0, Timestamp('2021-10-06 13:15:00+0530', tz='Asia/Kolkata'): 458.54998779296875, Timestamp('2021-10-07 11:15:00+0530', tz='Asia/Kolkata'): 461.1000061035156, Timestamp('2021-10-11 09:15:00+0530', tz='Asia/Kolkata'): 460.6000061035156, Timestamp('2021-10-11 10:15:00+0530', tz='Asia/Kolkata'): 460.8500061035156, Timestamp('2021-10-14 12:15:00+0530', tz='Asia/Kolkata'): 488.3500061035156, Timestamp('2021-10-18 14:15:00+0530', tz='Asia/Kolkata'): 497.8500061035156, Timestamp('2021-10-19 10:15:00+0530', tz='Asia/Kolkata'): 495.5, Timestamp('2021-10-19 12:15:00+0530', tz='Asia/Kolkata'): 500.45001220703125, Timestamp('2021-10-19 15:15:00+0530', tz='Asia/Kolkata'): 488.20001220703125, Timestamp('2021-10-20 12:15:00+0530', tz='Asia/Kolkata'): 501.8500061035156, Timestamp('2021-10-20 14:15:00+0530', tz='Asia/Kolkata'): 499.1000061035156, Timestamp('2021-10-21 11:15:00+0530', tz='Asia/Kolkata'): 499.54998779296875, Timestamp('2021-10-25 12:15:00+0530', tz='Asia/Kolkata'): 512.0999755859375, Timestamp('2021-10-26 13:15:00+0530', tz='Asia/Kolkata'): 513.9000244140625, Timestamp('2021-10-28 12:15:00+0530', tz='Asia/Kolkata'): 513.25, Timestamp('2021-10-29 10:15:00+0530', tz='Asia/Kolkata'): 507.5, Timestamp('2021-10-29 11:15:00+0530', tz='Asia/Kolkata'): 508.95001220703125, Timestamp('2021-11-01 11:15:00+0530', tz='Asia/Kolkata'): 507.3999938964844, Timestamp('2021-11-02 09:15:00+0530', tz='Asia/Kolkata'): 514.9000244140625, Timestamp('2021-11-02 13:15:00+0530', tz='Asia/Kolkata'): 520.3499755859375, Timestamp('2021-11-03 09:15:00+0530', tz='Asia/Kolkata'): 525.7000122070312, Timestamp('2021-11-08 13:15:00+0530', tz='Asia/Kolkata'): 522.7999877929688, Timestamp('2021-11-08 14:15:00+0530', tz='Asia/Kolkata'): 523.5, Timestamp('2021-11-10 11:15:00+0530', tz='Asia/Kolkata'): 525.0, Timestamp('2021-11-10 12:15:00+0530', tz='Asia/Kolkata'): 525.5, Timestamp('2021-11-10 13:15:00+0530', tz='Asia/Kolkata'): 526.7999877929688, Timestamp('2021-11-12 13:15:00+0530', tz='Asia/Kolkata'): 511.0, Timestamp('2021-11-15 15:15:00+0530', tz='Asia/Kolkata'): 507.45001220703125, Timestamp('2021-11-18 11:15:00+0530', tz='Asia/Kolkata'): 499.1499938964844, Timestamp('2021-11-18 12:15:00+0530', tz='Asia/Kolkata'): 499.95001220703125, Timestamp('2021-11-18 14:15:00+0530', tz='Asia/Kolkata'): 503.20001220703125, Timestamp('2021-11-23 15:15:00+0530', tz='Asia/Kolkata'): 492.8500061035156, Timestamp('2021-11-24 09:15:00+0530', tz='Asia/Kolkata'): 496.29998779296875, Timestamp('2021-11-24 12:15:00+0530', tz='Asia/Kolkata'): 499.04998779296875, Timestamp('2021-11-26 12:15:00+0530', tz='Asia/Kolkata'): 473.79998779296875, Timestamp('2021-11-29 13:15:00+0530', tz='Asia/Kolkata'): 473.0, Timestamp('2021-11-29 15:15:00+0530', tz='Asia/Kolkata'): 465.6000061035156, Timestamp('2021-12-01 11:15:00+0530', tz='Asia/Kolkata'): 469.5, Timestamp('2021-12-01 13:15:00+0530', tz='Asia/Kolkata'): 469.6000061035156, Timestamp('2021-12-02 13:15:00+0530', tz='Asia/Kolkata'): 473.70001220703125, Timestamp('2021-12-03 10:15:00+0530', tz='Asia/Kolkata'): 478.95001220703125, Timestamp('2021-12-03 14:15:00+0530', tz='Asia/Kolkata'): 473.25, Timestamp('2021-12-06 12:15:00+0530', tz='Asia/Kolkata'): 473.25, Timestamp('2021-12-07 12:15:00+0530', tz='Asia/Kolkata'): 476.25, Timestamp('2021-12-08 11:15:00+0530', tz='Asia/Kolkata'): 487.5, Timestamp('2021-12-08 14:15:00+0530', tz='Asia/Kolkata'): 491.3999938964844, Timestamp('2021-12-09 10:15:00+0530', tz='Asia/Kolkata'): 488.75, Timestamp('2021-12-14 14:15:00+0530', tz='Asia/Kolkata'): 488.3999938964844, Timestamp('2021-12-15 11:15:00+0530', tz='Asia/Kolkata'): 488.1000061035156, Timestamp('2021-12-16 12:15:00+0530', tz='Asia/Kolkata'): 481.25, Timestamp('2021-12-16 14:15:00+0530', tz='Asia/Kolkata'): 481.1499938964844, Timestamp('2021-12-22 12:15:00+0530', tz='Asia/Kolkata'): 452.1499938964844, Timestamp('2021-12-27 10:15:00+0530', tz='Asia/Kolkata'): 456.29998779296875, Timestamp('2021-12-27 11:15:00+0530', tz='Asia/Kolkata'): 457.04998779296875, Timestamp('2021-12-29 12:15:00+0530', tz='Asia/Kolkata'): 458.6000061035156, Timestamp('2021-12-30 09:15:00+0530', tz='Asia/Kolkata'): 453.6000061035156, Timestamp('2021-12-30 11:15:00+0530', tz='Asia/Kolkata'): 451.3500061035156, Timestamp('2021-12-30 15:15:00+0530', tz='Asia/Kolkata'): 453.04998779296875, Timestamp('2021-12-31 11:15:00+0530', tz='Asia/Kolkata'): 459.45001220703125, Timestamp('2021-12-31 14:15:00+0530', tz='Asia/Kolkata'): 460.25}\n",
      "-------------------------------------------\n",
      "RED DOJI\n",
      "{Timestamp('2021-07-05 11:15:00+0530', tz='Asia/Kolkata'): 425.25, Timestamp('2021-07-07 12:15:00+0530', tz='Asia/Kolkata'): 430.45001220703125, Timestamp('2021-07-08 12:15:00+0530', tz='Asia/Kolkata'): 429.1000061035156, Timestamp('2021-07-09 09:15:00+0530', tz='Asia/Kolkata'): 423.70001220703125, Timestamp('2021-07-09 15:15:00+0530', tz='Asia/Kolkata'): 423.79998779296875, Timestamp('2021-07-12 13:15:00+0530', tz='Asia/Kolkata'): 426.04998779296875, Timestamp('2021-07-13 12:15:00+0530', tz='Asia/Kolkata'): 429.95001220703125, Timestamp('2021-07-15 09:15:00+0530', tz='Asia/Kolkata'): 430.8500061035156, Timestamp('2021-07-15 12:15:00+0530', tz='Asia/Kolkata'): 431.1000061035156, Timestamp('2021-07-16 11:15:00+0530', tz='Asia/Kolkata'): 428.3500061035156, Timestamp('2021-07-19 15:15:00+0530', tz='Asia/Kolkata'): 428.5, Timestamp('2021-07-20 11:15:00+0530', tz='Asia/Kolkata'): 419.95001220703125, Timestamp('2021-07-22 10:15:00+0530', tz='Asia/Kolkata'): 425.45001220703125, Timestamp('2021-07-22 12:15:00+0530', tz='Asia/Kolkata'): 424.45001220703125, Timestamp('2021-07-23 10:15:00+0530', tz='Asia/Kolkata'): 422.20001220703125, Timestamp('2021-07-26 13:15:00+0530', tz='Asia/Kolkata'): 423.6499938964844, Timestamp('2021-07-28 12:15:00+0530', tz='Asia/Kolkata'): 423.29998779296875, Timestamp('2021-07-30 10:15:00+0530', tz='Asia/Kolkata'): 433.5, Timestamp('2021-08-03 10:15:00+0530', tz='Asia/Kolkata'): 439.3500061035156, Timestamp('2021-08-03 15:15:00+0530', tz='Asia/Kolkata'): 446.1000061035156, Timestamp('2021-08-06 09:15:00+0530', tz='Asia/Kolkata'): 443.1499938964844, Timestamp('2021-08-06 11:15:00+0530', tz='Asia/Kolkata'): 438.79998779296875, Timestamp('2021-08-06 12:15:00+0530', tz='Asia/Kolkata'): 438.0, Timestamp('2021-08-11 13:15:00+0530', tz='Asia/Kolkata'): 428.04998779296875, Timestamp('2021-08-12 09:15:00+0530', tz='Asia/Kolkata'): 428.8500061035156, Timestamp('2021-08-12 12:15:00+0530', tz='Asia/Kolkata'): 426.45001220703125, Timestamp('2021-08-13 09:15:00+0530', tz='Asia/Kolkata'): 427.20001220703125, Timestamp('2021-08-13 10:15:00+0530', tz='Asia/Kolkata'): 426.8999938964844, Timestamp('2021-08-13 12:15:00+0530', tz='Asia/Kolkata'): 426.20001220703125, Timestamp('2021-08-16 09:15:00+0530', tz='Asia/Kolkata'): 429.6000061035156, Timestamp('2021-08-16 10:15:00+0530', tz='Asia/Kolkata'): 428.70001220703125, Timestamp('2021-08-18 09:15:00+0530', tz='Asia/Kolkata'): 422.5, Timestamp('2021-08-18 14:15:00+0530', tz='Asia/Kolkata'): 420.3500061035156, Timestamp('2021-08-24 13:15:00+0530', tz='Asia/Kolkata'): 415.54998779296875, Timestamp('2021-08-25 14:15:00+0530', tz='Asia/Kolkata'): 416.0, Timestamp('2021-08-26 12:15:00+0530', tz='Asia/Kolkata'): 412.1499938964844, Timestamp('2021-08-30 15:15:00+0530', tz='Asia/Kolkata'): 422.75, Timestamp('2021-09-02 14:15:00+0530', tz='Asia/Kolkata'): 429.5, Timestamp('2021-09-03 13:15:00+0530', tz='Asia/Kolkata'): 430.5, Timestamp('2021-09-07 13:15:00+0530', tz='Asia/Kolkata'): 427.8500061035156, Timestamp('2021-09-13 09:15:00+0530', tz='Asia/Kolkata'): 429.6499938964844, Timestamp('2021-09-14 14:15:00+0530', tz='Asia/Kolkata'): 432.79998779296875, Timestamp('2021-09-15 14:15:00+0530', tz='Asia/Kolkata'): 443.1499938964844, Timestamp('2021-09-20 15:15:00+0530', tz='Asia/Kolkata'): 436.8500061035156, Timestamp('2021-09-21 13:15:00+0530', tz='Asia/Kolkata'): 436.25, Timestamp('2021-09-24 10:15:00+0530', tz='Asia/Kolkata'): 443.8999938964844, Timestamp('2021-09-24 11:15:00+0530', tz='Asia/Kolkata'): 443.29998779296875, Timestamp('2021-09-24 12:15:00+0530', tz='Asia/Kolkata'): 442.8999938964844, Timestamp('2021-09-24 14:15:00+0530', tz='Asia/Kolkata'): 441.0, Timestamp('2021-09-27 10:15:00+0530', tz='Asia/Kolkata'): 445.8999938964844, Timestamp('2021-09-29 11:15:00+0530', tz='Asia/Kolkata'): 451.0, Timestamp('2021-09-29 13:15:00+0530', tz='Asia/Kolkata'): 454.3999938964844, Timestamp('2021-09-30 10:15:00+0530', tz='Asia/Kolkata'): 461.3500061035156, Timestamp('2021-09-30 13:15:00+0530', tz='Asia/Kolkata'): 453.3500061035156, Timestamp('2021-10-01 14:15:00+0530', tz='Asia/Kolkata'): 451.6499938964844, Timestamp('2021-10-04 15:15:00+0530', tz='Asia/Kolkata'): 463.1499938964844, Timestamp('2021-10-05 09:15:00+0530', tz='Asia/Kolkata'): 460.54998779296875, Timestamp('2021-10-05 10:15:00+0530', tz='Asia/Kolkata'): 459.54998779296875, Timestamp('2021-10-06 15:15:00+0530', tz='Asia/Kolkata'): 457.0, Timestamp('2021-10-07 09:15:00+0530', tz='Asia/Kolkata'): 461.0, Timestamp('2021-10-07 10:15:00+0530', tz='Asia/Kolkata'): 460.25, Timestamp('2021-10-07 12:15:00+0530', tz='Asia/Kolkata'): 460.79998779296875, Timestamp('2021-10-08 10:15:00+0530', tz='Asia/Kolkata'): 458.54998779296875, Timestamp('2021-10-08 12:15:00+0530', tz='Asia/Kolkata'): 455.1499938964844, Timestamp('2021-10-11 14:15:00+0530', tz='Asia/Kolkata'): 469.0, Timestamp('2021-10-14 14:15:00+0530', tz='Asia/Kolkata'): 491.3500061035156, Timestamp('2021-10-18 12:15:00+0530', tz='Asia/Kolkata'): 495.6000061035156, Timestamp('2021-10-21 09:15:00+0530', tz='Asia/Kolkata'): 503.79998779296875, Timestamp('2021-10-22 14:15:00+0530', tz='Asia/Kolkata'): 503.0, Timestamp('2021-10-27 14:15:00+0530', tz='Asia/Kolkata'): 519.2000122070312, Timestamp('2021-11-08 10:15:00+0530', tz='Asia/Kolkata'): 524.9500122070312, Timestamp('2021-11-10 09:15:00+0530', tz='Asia/Kolkata'): 524.5999755859375, Timestamp('2021-11-11 11:15:00+0530', tz='Asia/Kolkata'): 515.0499877929688, Timestamp('2021-11-11 14:15:00+0530', tz='Asia/Kolkata'): 509.25, Timestamp('2021-11-15 11:15:00+0530', tz='Asia/Kolkata'): 507.75, Timestamp('2021-11-15 12:15:00+0530', tz='Asia/Kolkata'): 507.20001220703125, Timestamp('2021-11-16 12:15:00+0530', tz='Asia/Kolkata'): 501.3999938964844, Timestamp('2021-11-17 10:15:00+0530', tz='Asia/Kolkata'): 503.3500061035156, Timestamp('2021-11-17 13:15:00+0530', tz='Asia/Kolkata'): 499.54998779296875, Timestamp('2021-11-17 14:15:00+0530', tz='Asia/Kolkata'): 498.20001220703125, Timestamp('2021-11-18 10:15:00+0530', tz='Asia/Kolkata'): 498.8500061035156, Timestamp('2021-11-23 12:15:00+0530', tz='Asia/Kolkata'): 489.6499938964844, Timestamp('2021-11-25 12:15:00+0530', tz='Asia/Kolkata'): 492.79998779296875, Timestamp('2021-11-25 14:15:00+0530', tz='Asia/Kolkata'): 490.70001220703125, Timestamp('2021-11-26 14:15:00+0530', tz='Asia/Kolkata'): 470.3999938964844, Timestamp('2021-11-26 15:15:00+0530', tz='Asia/Kolkata'): 470.0, Timestamp('2021-11-29 12:15:00+0530', tz='Asia/Kolkata'): 472.3999938964844, Timestamp('2021-12-01 12:15:00+0530', tz='Asia/Kolkata'): 469.25, Timestamp('2021-12-02 09:15:00+0530', tz='Asia/Kolkata'): 473.75, Timestamp('2021-12-03 11:15:00+0530', tz='Asia/Kolkata'): 478.6000061035156, Timestamp('2021-12-03 15:15:00+0530', tz='Asia/Kolkata'): 473.1499938964844, Timestamp('2021-12-06 10:15:00+0530', tz='Asia/Kolkata'): 474.1499938964844, Timestamp('2021-12-07 14:15:00+0530', tz='Asia/Kolkata'): 476.29998779296875, Timestamp('2021-12-09 14:15:00+0530', tz='Asia/Kolkata'): 488.3500061035156, Timestamp('2021-12-10 09:15:00+0530', tz='Asia/Kolkata'): 486.70001220703125, Timestamp('2021-12-13 14:15:00+0530', tz='Asia/Kolkata'): 487.29998779296875, Timestamp('2021-12-14 09:15:00+0530', tz='Asia/Kolkata'): 485.0, Timestamp('2021-12-14 12:15:00+0530', tz='Asia/Kolkata'): 488.1000061035156, Timestamp('2021-12-14 13:15:00+0530', tz='Asia/Kolkata'): 487.20001220703125, Timestamp('2021-12-14 15:15:00+0530', tz='Asia/Kolkata'): 488.25, Timestamp('2021-12-15 09:15:00+0530', tz='Asia/Kolkata'): 488.6000061035156, Timestamp('2021-12-17 11:15:00+0530', tz='Asia/Kolkata'): 471.1000061035156, Timestamp('2021-12-17 12:15:00+0530', tz='Asia/Kolkata'): 470.8500061035156, Timestamp('2021-12-17 13:15:00+0530', tz='Asia/Kolkata'): 470.3500061035156, Timestamp('2021-12-23 10:15:00+0530', tz='Asia/Kolkata'): 458.6499938964844, Timestamp('2021-12-23 13:15:00+0530', tz='Asia/Kolkata'): 463.04998779296875, Timestamp('2021-12-23 14:15:00+0530', tz='Asia/Kolkata'): 462.79998779296875, Timestamp('2021-12-24 14:15:00+0530', tz='Asia/Kolkata'): 457.20001220703125, Timestamp('2021-12-27 14:15:00+0530', tz='Asia/Kolkata'): 457.8999938964844, Timestamp('2021-12-28 14:15:00+0530', tz='Asia/Kolkata'): 461.1000061035156, Timestamp('2021-12-29 09:15:00+0530', tz='Asia/Kolkata'): 460.20001220703125, Timestamp('2021-12-29 13:15:00+0530', tz='Asia/Kolkata'): 458.3500061035156, Timestamp('2021-12-31 13:15:00+0530', tz='Asia/Kolkata'): 459.6499938964844}\n"
     ]
    }
   ],
   "source": [
    "dj.getdoji(df)"
   ]
  },
  {
   "cell_type": "code",
   "execution_count": null,
   "metadata": {},
   "outputs": [],
   "source": []
  },
  {
   "cell_type": "code",
   "execution_count": null,
   "metadata": {},
   "outputs": [],
   "source": []
  }
 ],
 "metadata": {
  "kernelspec": {
   "display_name": "Python 3",
   "language": "python",
   "name": "python3"
  },
  "language_info": {
   "codemirror_mode": {
    "name": "ipython",
    "version": 3
   },
   "file_extension": ".py",
   "mimetype": "text/x-python",
   "name": "python",
   "nbconvert_exporter": "python",
   "pygments_lexer": "ipython3",
   "version": "3.8.5"
  }
 },
 "nbformat": 4,
 "nbformat_minor": 4
}
