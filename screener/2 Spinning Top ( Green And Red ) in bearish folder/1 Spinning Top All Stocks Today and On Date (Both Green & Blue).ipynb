{
 "cells": [
  {
   "cell_type": "code",
   "execution_count": 1,
   "metadata": {},
   "outputs": [],
   "source": [
    "# Task: Spinning Top ( Green And Red Both ) (Single Candlestick Bullish Pattern)"
   ]
  },
  {
   "cell_type": "code",
   "execution_count": 2,
   "metadata": {},
   "outputs": [],
   "source": [
    "from datetime import date\n",
    "import datetime\n",
    "from nsepy.history import get_price_list\n",
    "import yfinance as yf\n",
    "import pandas as pd\n",
    "\n",
    "from SingleCandlesticks import SpinningTop as st"
   ]
  },
  {
   "cell_type": "markdown",
   "metadata": {},
   "source": [
    "## Spinning Top Of All Stocks Of Today Or Latest Date"
   ]
  },
  {
   "cell_type": "code",
   "execution_count": 4,
   "metadata": {},
   "outputs": [
    {
     "name": "stdout",
     "output_type": "stream",
     "text": [
      "2022-01-01\n",
      "[*********************100%***********************]  1 of 1 completed\n",
      "<class 'pandas.core.frame.DataFrame'>\n",
      "              Open         High     Low        Close    Adj Close   Volume\n",
      "Date                                                                      \n",
      "2021-12-31  2373.0  2383.899902  2360.0  2368.149902  2368.149902  4373768\n"
     ]
    }
   ],
   "source": [
    "\n",
    "print(date.today())\n",
    "\n",
    "dated=date.today()\n",
    "\n",
    "dt=yf.download(tickers=\"reliance.ns\",period=\"1d\")\n",
    "print(type(dt))\n",
    "print(dt)"
   ]
  },
  {
   "cell_type": "code",
   "execution_count": 5,
   "metadata": {},
   "outputs": [],
   "source": [
    "for i in dt.index:\n",
    "    d=str(i)\n",
    "d=d.split()\n",
    "d=d[0]\n",
    "d=str(d)\n",
    "d=d.split('-')"
   ]
  },
  {
   "cell_type": "code",
   "execution_count": 6,
   "metadata": {},
   "outputs": [
    {
     "name": "stdout",
     "output_type": "stream",
     "text": [
      "2021-12-31\n"
     ]
    }
   ],
   "source": [
    "d=date(int(d[0]),int(d[1]),int(d[2]))\n",
    "print(d)"
   ]
  },
  {
   "cell_type": "code",
   "execution_count": 7,
   "metadata": {},
   "outputs": [
    {
     "name": "stdout",
     "output_type": "stream",
     "text": [
      "Data on the date : 2021-12-31\n",
      "Data on Date : 2021-12-31\n"
     ]
    }
   ],
   "source": [
    "print(\"Data on the date : \"+str(d))\n",
    "\n",
    "dated=d\n",
    "df=pd.DataFrame()\n",
    "#print(dated)\n",
    "while(len(df)<=0):\n",
    "    try:\n",
    "        df=get_price_list(dated)\n",
    "    except:\n",
    "        print(\"e\")\n",
    "        dated=dated-datetime.timedelta(1)\n",
    "print(\"Data on Date : \"+str(dated))        "
   ]
  },
  {
   "cell_type": "code",
   "execution_count": 8,
   "metadata": {},
   "outputs": [
    {
     "data": {
      "text/html": [
       "<div>\n",
       "<style scoped>\n",
       "    .dataframe tbody tr th:only-of-type {\n",
       "        vertical-align: middle;\n",
       "    }\n",
       "\n",
       "    .dataframe tbody tr th {\n",
       "        vertical-align: top;\n",
       "    }\n",
       "\n",
       "    .dataframe thead th {\n",
       "        text-align: right;\n",
       "    }\n",
       "</style>\n",
       "<table border=\"1\" class=\"dataframe\">\n",
       "  <thead>\n",
       "    <tr style=\"text-align: right;\">\n",
       "      <th></th>\n",
       "      <th>SYMBOL</th>\n",
       "      <th>SERIES</th>\n",
       "      <th>OPEN</th>\n",
       "      <th>HIGH</th>\n",
       "      <th>LOW</th>\n",
       "      <th>CLOSE</th>\n",
       "      <th>LAST</th>\n",
       "      <th>PREVCLOSE</th>\n",
       "      <th>TOTTRDQTY</th>\n",
       "      <th>TOTTRDVAL</th>\n",
       "      <th>TIMESTAMP</th>\n",
       "      <th>TOTALTRADES</th>\n",
       "      <th>ISIN</th>\n",
       "    </tr>\n",
       "  </thead>\n",
       "  <tbody>\n",
       "    <tr>\n",
       "      <th>0</th>\n",
       "      <td>20MICRONS</td>\n",
       "      <td>EQ</td>\n",
       "      <td>64.0</td>\n",
       "      <td>66.60</td>\n",
       "      <td>63.00</td>\n",
       "      <td>63.45</td>\n",
       "      <td>63.90</td>\n",
       "      <td>62.35</td>\n",
       "      <td>1597660</td>\n",
       "      <td>1.038646e+08</td>\n",
       "      <td>31-DEC-2021</td>\n",
       "      <td>11589</td>\n",
       "      <td>INE144J01027</td>\n",
       "    </tr>\n",
       "    <tr>\n",
       "      <th>1</th>\n",
       "      <td>21STCENMGM</td>\n",
       "      <td>EQ</td>\n",
       "      <td>44.1</td>\n",
       "      <td>45.90</td>\n",
       "      <td>44.10</td>\n",
       "      <td>45.90</td>\n",
       "      <td>45.90</td>\n",
       "      <td>45.00</td>\n",
       "      <td>17329</td>\n",
       "      <td>7.903413e+05</td>\n",
       "      <td>31-DEC-2021</td>\n",
       "      <td>213</td>\n",
       "      <td>INE253B01015</td>\n",
       "    </tr>\n",
       "    <tr>\n",
       "      <th>2</th>\n",
       "      <td>3IINFOLTD</td>\n",
       "      <td>EQ</td>\n",
       "      <td>92.0</td>\n",
       "      <td>95.85</td>\n",
       "      <td>91.30</td>\n",
       "      <td>94.65</td>\n",
       "      <td>94.45</td>\n",
       "      <td>91.30</td>\n",
       "      <td>3513963</td>\n",
       "      <td>3.317913e+08</td>\n",
       "      <td>31-DEC-2021</td>\n",
       "      <td>15942</td>\n",
       "      <td>INE748C01038</td>\n",
       "    </tr>\n",
       "    <tr>\n",
       "      <th>3</th>\n",
       "      <td>3MINDIA</td>\n",
       "      <td>EQ</td>\n",
       "      <td>24989.0</td>\n",
       "      <td>25680.00</td>\n",
       "      <td>24155.65</td>\n",
       "      <td>25360.80</td>\n",
       "      <td>25150.00</td>\n",
       "      <td>25047.00</td>\n",
       "      <td>6627</td>\n",
       "      <td>1.642765e+08</td>\n",
       "      <td>31-DEC-2021</td>\n",
       "      <td>5306</td>\n",
       "      <td>INE470A01017</td>\n",
       "    </tr>\n",
       "    <tr>\n",
       "      <th>4</th>\n",
       "      <td>3PLAND</td>\n",
       "      <td>EQ</td>\n",
       "      <td>15.4</td>\n",
       "      <td>15.80</td>\n",
       "      <td>14.85</td>\n",
       "      <td>15.65</td>\n",
       "      <td>15.65</td>\n",
       "      <td>14.65</td>\n",
       "      <td>80276</td>\n",
       "      <td>1.241928e+06</td>\n",
       "      <td>31-DEC-2021</td>\n",
       "      <td>386</td>\n",
       "      <td>INE105C01023</td>\n",
       "    </tr>\n",
       "  </tbody>\n",
       "</table>\n",
       "</div>"
      ],
      "text/plain": [
       "       SYMBOL SERIES     OPEN      HIGH       LOW     CLOSE      LAST  \\\n",
       "0   20MICRONS     EQ     64.0     66.60     63.00     63.45     63.90   \n",
       "1  21STCENMGM     EQ     44.1     45.90     44.10     45.90     45.90   \n",
       "2   3IINFOLTD     EQ     92.0     95.85     91.30     94.65     94.45   \n",
       "3     3MINDIA     EQ  24989.0  25680.00  24155.65  25360.80  25150.00   \n",
       "4      3PLAND     EQ     15.4     15.80     14.85     15.65     15.65   \n",
       "\n",
       "   PREVCLOSE  TOTTRDQTY     TOTTRDVAL    TIMESTAMP  TOTALTRADES          ISIN  \n",
       "0      62.35    1597660  1.038646e+08  31-DEC-2021        11589  INE144J01027  \n",
       "1      45.00      17329  7.903413e+05  31-DEC-2021          213  INE253B01015  \n",
       "2      91.30    3513963  3.317913e+08  31-DEC-2021        15942  INE748C01038  \n",
       "3   25047.00       6627  1.642765e+08  31-DEC-2021         5306  INE470A01017  \n",
       "4      14.65      80276  1.241928e+06  31-DEC-2021          386  INE105C01023  "
      ]
     },
     "execution_count": 8,
     "metadata": {},
     "output_type": "execute_result"
    }
   ],
   "source": [
    "df.head()"
   ]
  },
  {
   "cell_type": "code",
   "execution_count": 9,
   "metadata": {},
   "outputs": [
    {
     "name": "stdout",
     "output_type": "stream",
     "text": [
      "BLUE SPINNING TOP\n",
      "{'AAREYDRUGS': 0.6985, 'AARTISURF': 0.4439, 'ARVEE': 1.4327, 'BAJAJELEC': 0.3309, 'BERGEPAINT': 0.8941, 'BIOFILCHEM': 0.6415, 'BLKASHYAP': 0.5164, 'BLUEDART': 0.3796, 'BSLNIFTY': 0.7772, 'CAPACITE': 0.3751, 'CCL': 0.9901, 'CEATLTD': 1.2096, 'DELPHIFX': 0.3235, 'ELGIEQUIP': 1.0364, 'ENDURANCE': 1.3727, 'ERIS': 1.342, 'FINEORG': 0.7243, 'FSC': 0.5727, 'GMDCLTD': 1.4895, 'GRAVITA': 0.8363, 'GULFPETRO': 0.7718, 'IMPAL': 1.7121, 'INSECTICID': 1.5541, 'KPITTECH': 0.7913, 'NDL': 0.5433, 'NDTV': 1.5093, 'ORIENTCEM': 0.9718, 'PBAINFRA': 0.3774, 'RCOM': 1.2821, 'REPL': 1.0851, 'SAKHTISUG': 0.3289, 'SJVN': 0.8157, 'TANLA': 0.4912, 'USHAMART': 0.6659, 'VMART': 1.6117}\n",
      "-------------------------------------------\n",
      "RED SPINNING TOP\n",
      "{'AKSHARCHEM': 1.747, 'ASHIANA': 0.3209, 'BALAJITELE': 0.4049, 'BFINVEST': 1.1805, 'BFUTILITIE': 0.4281, 'CAPLIPOINT': 0.4428, 'CERA': 0.8907, 'FOSECOIND': 1.1294, 'GOKEX': 1.7409, 'GOODLUCK': 0.528, 'INDORAMA': 1.3652, 'JAGRAN': 0.4036, 'JKTYRE': 0.3589, 'KALPATPOWR': 0.5206, 'LODHA': 1.0903, 'MANGTIMBER': 1.194, 'MEDPLUS': 1.2195, 'NAHARPOLY': 1.7275, 'NECLIFE': 1.6791, 'NETWORK18': 0.6081, 'PANAMAPET': 0.9056, 'PHOENIXLTD': 0.5227, 'SADBHIN': 0.6667, 'SIMBHALS': 1.4925, 'SKFINDIA': 0.3395, 'SMSPHARMA': 0.3891, 'SORILINFRA': 0.3956, 'SWSOLAR': 1.7259, 'THYROCARE': 0.4018, 'TIMKEN': 1.099, 'UNIVPHOTO': 1.0466, 'VESUVIUS': 1.2276, 'VTL': 0.716, 'WELINV': 0.6859, 'WORTH': 1.6094}\n"
     ]
    }
   ],
   "source": [
    "st.getspinningtop(df)"
   ]
  },
  {
   "cell_type": "code",
   "execution_count": null,
   "metadata": {},
   "outputs": [],
   "source": []
  },
  {
   "cell_type": "code",
   "execution_count": null,
   "metadata": {},
   "outputs": [],
   "source": []
  },
  {
   "cell_type": "markdown",
   "metadata": {},
   "source": [
    "## Spinning Top Of All Stocks Of Particular Day"
   ]
  },
  {
   "cell_type": "code",
   "execution_count": 11,
   "metadata": {},
   "outputs": [
    {
     "name": "stdout",
     "output_type": "stream",
     "text": [
      "Enter date on which to find Bullish Marubozu\n",
      "Enter year (yyyy) : 2021\n",
      "Enter month (mm) : 12\n",
      "Enter date (dd) :31\n"
     ]
    }
   ],
   "source": [
    "print(\"Enter date on which to find Bullish Marubozu\")\n",
    "year=int(input(\"Enter year (yyyy) : \"))\n",
    "month=int(input(\"Enter month (mm) : \"))\n",
    "dated=int(input(\"Enter date (dd) :\"))"
   ]
  },
  {
   "cell_type": "code",
   "execution_count": 12,
   "metadata": {},
   "outputs": [
    {
     "name": "stdout",
     "output_type": "stream",
     "text": [
      "       SYMBOL SERIES     OPEN      HIGH       LOW     CLOSE      LAST  \\\n",
      "0   20MICRONS     EQ     64.0     66.60     63.00     63.45     63.90   \n",
      "1  21STCENMGM     EQ     44.1     45.90     44.10     45.90     45.90   \n",
      "2   3IINFOLTD     EQ     92.0     95.85     91.30     94.65     94.45   \n",
      "3     3MINDIA     EQ  24989.0  25680.00  24155.65  25360.80  25150.00   \n",
      "4      3PLAND     EQ     15.4     15.80     14.85     15.65     15.65   \n",
      "\n",
      "   PREVCLOSE  TOTTRDQTY     TOTTRDVAL    TIMESTAMP  TOTALTRADES          ISIN  \n",
      "0      62.35    1597660  1.038646e+08  31-DEC-2021        11589  INE144J01027  \n",
      "1      45.00      17329  7.903413e+05  31-DEC-2021          213  INE253B01015  \n",
      "2      91.30    3513963  3.317913e+08  31-DEC-2021        15942  INE748C01038  \n",
      "3   25047.00       6627  1.642765e+08  31-DEC-2021         5306  INE470A01017  \n",
      "4      14.65      80276  1.241928e+06  31-DEC-2021          386  INE105C01023  \n"
     ]
    }
   ],
   "source": [
    "try:\n",
    "    df= get_price_list(date(year,month,dated))\n",
    "    print(df.head())\n",
    "except:\n",
    "    print(\"Invalid Date\")"
   ]
  },
  {
   "cell_type": "code",
   "execution_count": 13,
   "metadata": {},
   "outputs": [
    {
     "name": "stdout",
     "output_type": "stream",
     "text": [
      "BLUE SPINNING TOP\n",
      "{'AAREYDRUGS': 0.6985, 'AARTISURF': 0.4439, 'ARVEE': 1.4327, 'BAJAJELEC': 0.3309, 'BERGEPAINT': 0.8941, 'BIOFILCHEM': 0.6415, 'BLKASHYAP': 0.5164, 'BLUEDART': 0.3796, 'BSLNIFTY': 0.7772, 'CAPACITE': 0.3751, 'CCL': 0.9901, 'CEATLTD': 1.2096, 'DELPHIFX': 0.3235, 'ELGIEQUIP': 1.0364, 'ENDURANCE': 1.3727, 'ERIS': 1.342, 'FINEORG': 0.7243, 'FSC': 0.5727, 'GMDCLTD': 1.4895, 'GRAVITA': 0.8363, 'GULFPETRO': 0.7718, 'IMPAL': 1.7121, 'INSECTICID': 1.5541, 'KPITTECH': 0.7913, 'NDL': 0.5433, 'NDTV': 1.5093, 'ORIENTCEM': 0.9718, 'PBAINFRA': 0.3774, 'RCOM': 1.2821, 'REPL': 1.0851, 'SAKHTISUG': 0.3289, 'SJVN': 0.8157, 'TANLA': 0.4912, 'USHAMART': 0.6659, 'VMART': 1.6117}\n",
      "-------------------------------------------\n",
      "RED SPINNING TOP\n",
      "{'AKSHARCHEM': 1.747, 'ASHIANA': 0.3209, 'BALAJITELE': 0.4049, 'BFINVEST': 1.1805, 'BFUTILITIE': 0.4281, 'CAPLIPOINT': 0.4428, 'CERA': 0.8907, 'FOSECOIND': 1.1294, 'GOKEX': 1.7409, 'GOODLUCK': 0.528, 'INDORAMA': 1.3652, 'JAGRAN': 0.4036, 'JKTYRE': 0.3589, 'KALPATPOWR': 0.5206, 'LODHA': 1.0903, 'MANGTIMBER': 1.194, 'MEDPLUS': 1.2195, 'NAHARPOLY': 1.7275, 'NECLIFE': 1.6791, 'NETWORK18': 0.6081, 'PANAMAPET': 0.9056, 'PHOENIXLTD': 0.5227, 'SADBHIN': 0.6667, 'SIMBHALS': 1.4925, 'SKFINDIA': 0.3395, 'SMSPHARMA': 0.3891, 'SORILINFRA': 0.3956, 'SWSOLAR': 1.7259, 'THYROCARE': 0.4018, 'TIMKEN': 1.099, 'UNIVPHOTO': 1.0466, 'VESUVIUS': 1.2276, 'VTL': 0.716, 'WELINV': 0.6859, 'WORTH': 1.6094}\n"
     ]
    }
   ],
   "source": [
    "st.getspinningtop(df)"
   ]
  },
  {
   "cell_type": "code",
   "execution_count": null,
   "metadata": {},
   "outputs": [],
   "source": []
  }
 ],
 "metadata": {
  "kernelspec": {
   "display_name": "Python 3",
   "language": "python",
   "name": "python3"
  },
  "language_info": {
   "codemirror_mode": {
    "name": "ipython",
    "version": 3
   },
   "file_extension": ".py",
   "mimetype": "text/x-python",
   "name": "python",
   "nbconvert_exporter": "python",
   "pygments_lexer": "ipython3",
   "version": "3.8.5"
  }
 },
 "nbformat": 4,
 "nbformat_minor": 4
}
