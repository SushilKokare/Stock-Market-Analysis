{
 "cells": [
  {
   "cell_type": "code",
   "execution_count": 1,
   "metadata": {},
   "outputs": [],
   "source": [
    "# Spinning Top of one stock before n days from today"
   ]
  },
  {
   "cell_type": "code",
   "execution_count": 2,
   "metadata": {},
   "outputs": [],
   "source": [
    "from datetime import date\n",
    "import datetime\n",
    "from nsepy.history import get_price_list\n",
    "import yfinance as yf\n",
    "import pandas as pd\n",
    "\n",
    "from SingleCandlesticks import SpinningTop as st"
   ]
  },
  {
   "cell_type": "markdown",
   "metadata": {},
   "source": [
    "## Spinning Top of one stock before n days from today"
   ]
  },
  {
   "cell_type": "code",
   "execution_count": 3,
   "metadata": {},
   "outputs": [
    {
     "name": "stdout",
     "output_type": "stream",
     "text": [
      "Enter stock name : sbin\n",
      "Enter days back  to find Bullish Marubozu of given stock : \n",
      "Valid days : 1d,5d,1mo,3mo,6mo,1y,2y,5y,10y,ytd,max\n",
      "Enter last how many days ? : 2mo\n",
      "MO\n",
      "\n",
      "60\n",
      "Days = 60\n"
     ]
    }
   ],
   "source": [
    "stock=input(\"Enter stock name : \")\n",
    "\n",
    "print(\"Enter days back  to find Bullish Marubozu of given stock : \")\n",
    "print(\"Valid days : 1d,5d,1mo,3mo,6mo,1y,2y,5y,10y,ytd,max\")\n",
    "days=input(\"Enter last how many days ? : \")\n",
    "\n",
    "\n",
    "\n",
    "## To covert the string into upper ( ex. 1mo = MO)\n",
    "dstr=\"\"\n",
    "for word in days:\n",
    "    if(word).isalpha():\n",
    "        dstr=str(dstr)+str(word)\n",
    "dstr=dstr.upper()\n",
    "print(dstr)\n",
    "\n",
    "if(dstr != 'YTD' and dstr !='MAX'):\n",
    "     \n",
    "    if('D' == dstr):\n",
    "        d=\"\"\n",
    "        print(d)\n",
    "        #d=days.split()\n",
    "        numbers = []\n",
    "        for word in days:\n",
    "            if(word).isdigit():\n",
    "                d=str(d)+str(word)\n",
    "        print(d)\n",
    "        \n",
    "\n",
    "    if('MO' == dstr):\n",
    "        d=\"\"\n",
    "        print(d)\n",
    "        #d=days.split()\n",
    "        numbers = []\n",
    "        for word in days:\n",
    "            if(word).isdigit():\n",
    "                d=str(d)+str(word)\n",
    "        print(int(d)*30)\n",
    "        d=int(d)*30\n",
    "\n",
    "    if('Y' == dstr):\n",
    "        d=\"\"\n",
    "        print(d)\n",
    "        #d=days.split()\n",
    "        numbers = []\n",
    "        for word in days:\n",
    "            if(word).isdigit():\n",
    "                d=str(d)+str(word)\n",
    "        print(int(d)*365)\n",
    "        d=int(d)*365\n",
    "    print(\"Days = \"+str(d))\n",
    "\n"
   ]
  },
  {
   "cell_type": "code",
   "execution_count": 4,
   "metadata": {},
   "outputs": [
    {
     "name": "stdout",
     "output_type": "stream",
     "text": [
      "Valid intervals: [1h, 1d, 5d, 1wk, 1mo, 3mo]\n",
      "Enter time frame : 1d\n",
      "1d\n"
     ]
    }
   ],
   "source": [
    "\n",
    "#if(days != 'ytd' and days !='YTD' and days != 'max' and days != 'MAX'):\n",
    "if(dstr != 'YTD' and dstr !='MAX'):\n",
    "    tstr=\"\"\n",
    "    ds=\"\"\n",
    "    if(int(d)>730):\n",
    "        print(\"Valid intervals: [1d, 5d, 1wk, 1mo, 3mo]\")\n",
    "        tf=input(\"Enter time frame : \")\n",
    "                \n",
    "        ## To covert the string into lower ( ex. 1m = M)\n",
    "        tstr=\"\" #timeframestring\n",
    "        ds=\"\"   # date string\n",
    "        for word in tf:\n",
    "            if(word).isalpha():\n",
    "                tstr=str(tstr)+str(word)\n",
    "            if(word).isdigit():\n",
    "                ds=str(ds)+str(word)\n",
    "        tf=ds+(tstr).lower()\n",
    "        print(tf) \n",
    "        \n",
    "        if(tf not in ('1d', '5d', '1wk', '1mo', '3mo')):\n",
    "            print(\"Invalid Time Frame\")\n",
    "            td=\"\"\n",
    "    \n",
    "    \n",
    "    if(int(d)>=60 and int(d)<=730):\n",
    "        print(\"Valid intervals: [1h, 1d, 5d, 1wk, 1mo, 3mo]\")\n",
    "        tf=input(\"Enter time frame : \")\n",
    "        ## To covert the string into lower ( ex. 1m = M)\n",
    "        tstr=\"\" #timeframestring\n",
    "        dstr=\"\" # date string\n",
    "        for word in tf:\n",
    "            if(word).isalpha():\n",
    "                tstr=str(tstr)+str(word)\n",
    "            if(word).isdigit():\n",
    "                ds=str(ds)+str(word)\n",
    "        tf=ds+(tstr).lower()\n",
    "        print(tf) \n",
    "        if(tf not in ('1h', '1d', '5d', '1wk', '1mo', '3mo')):\n",
    "            print(\"Invalid Time Frame\")\n",
    "            td=\"\"\n",
    "    \n",
    "    if(int(d)>7 and int(d)<60):\n",
    "        print(\"Valid intervals: ['2m', '5m', '15m', '30m', '60m', '90m',1h, 1d, 5d, 1wk, 1mo, 3mo]\")\n",
    "        tf=input(\"Enter time frame : \")\n",
    "       ## To covert the string into lower ( ex. 1m = M)\n",
    "        tstr=\"\" #timeframestring\n",
    "        ds=\"\" # date string\n",
    "        for word in tf:\n",
    "            if(word).isalpha():\n",
    "                tstr=str(tstr)+str(word)\n",
    "            if(word).isdigit():\n",
    "                ds=str(ds)+str(word)\n",
    "        tf=ds+(tstr).lower()\n",
    "        print(tf) \n",
    "        if(tf not in ('2m', '5m', '15m', '30m', '60m', '90m','1h', '1d', '5d', '1wk', '1mo', '3mo')):\n",
    "            print(\"Invalid Time Frame\")\n",
    "            tf=\"\"\n",
    "            \n",
    "    if(int(d)>0 and int(d)<=7):\n",
    "        print(\"Valid intervals: ['1m',2m', '5m', '15m', '30m', '60m', '90m',1h, 1d, 5d, 1wk, 1mo, 3mo]\")\n",
    "        tf=input(\"Enter time frame : \")\n",
    "       ## To covert the string into lower ( ex. 1m = M)\n",
    "        tstr=\"\" #timeframestring\n",
    "        ds=\"\"  # date sring\n",
    "        for word in tf:\n",
    "            if(word).isalpha():\n",
    "                tstr=str(tstr)+str(word)\n",
    "            if(word).isdigit():\n",
    "                ds=str(ds)+str(word)\n",
    "        tf=ds+(tstr).lower()\n",
    "        print(tf)   \n",
    "        if(tf not in ('1m','2m', '5m', '15m', '30m', '60m', '90m','1h', '1d', '5d', '1wk', '1mo', '3mo')):\n",
    "            print(\"Invalid Time Frame\")\n",
    "            tf=\"\"\n"
   ]
  },
  {
   "cell_type": "code",
   "execution_count": 5,
   "metadata": {},
   "outputs": [
    {
     "name": "stdout",
     "output_type": "stream",
     "text": [
      "2mo\n"
     ]
    }
   ],
   "source": [
    "print(days)"
   ]
  },
  {
   "cell_type": "code",
   "execution_count": 6,
   "metadata": {},
   "outputs": [
    {
     "name": "stdout",
     "output_type": "stream",
     "text": [
      "[*********************100%***********************]  1 of 1 completed\n",
      "                  Open        High         Low       Close   Adj Close  \\\n",
      "Date                                                                     \n",
      "2021-11-01  508.500000  516.950012  501.000000  515.700012  515.700012   \n",
      "2021-11-02  514.799988  525.000000  512.049988  521.700012  521.700012   \n",
      "2021-11-03  524.000000  542.299988  515.200012  527.650024  527.650024   \n",
      "2021-11-04  531.500000  535.900024  528.049988  530.450012  530.450012   \n",
      "2021-11-08  534.450012  534.450012  516.450012  523.250000  523.250000   \n",
      "\n",
      "              Volume  \n",
      "Date                  \n",
      "2021-11-01  20679604  \n",
      "2021-11-02  26797820  \n",
      "2021-11-03  80775924  \n",
      "2021-11-04   9796046  \n",
      "2021-11-08  36802110  \n"
     ]
    }
   ],
   "source": [
    "try:\n",
    "    df=yf.download(tickers=stock+\".NS\",period=days,interval=tf)\n",
    "    print(df.head())\n",
    "except:\n",
    "    print(\"Error\")"
   ]
  },
  {
   "cell_type": "code",
   "execution_count": null,
   "metadata": {},
   "outputs": [],
   "source": []
  },
  {
   "cell_type": "code",
   "execution_count": 7,
   "metadata": {},
   "outputs": [
    {
     "name": "stdout",
     "output_type": "stream",
     "text": [
      "BLUE SPINNING TOP\n",
      "{}\n",
      "-------------------------------------------\n",
      "RED SPINNING TOP\n",
      "{Timestamp('2021-11-24 00:00:00'): 493.1499938964844, Timestamp('2021-11-29 00:00:00'): 465.1000061035156}\n"
     ]
    }
   ],
   "source": [
    "st.getspinningtop(df)"
   ]
  },
  {
   "cell_type": "code",
   "execution_count": null,
   "metadata": {},
   "outputs": [],
   "source": []
  },
  {
   "cell_type": "code",
   "execution_count": null,
   "metadata": {},
   "outputs": [],
   "source": []
  }
 ],
 "metadata": {
  "kernelspec": {
   "display_name": "Python 3",
   "language": "python",
   "name": "python3"
  },
  "language_info": {
   "codemirror_mode": {
    "name": "ipython",
    "version": 3
   },
   "file_extension": ".py",
   "mimetype": "text/x-python",
   "name": "python",
   "nbconvert_exporter": "python",
   "pygments_lexer": "ipython3",
   "version": "3.8.5"
  }
 },
 "nbformat": 4,
 "nbformat_minor": 4
}
