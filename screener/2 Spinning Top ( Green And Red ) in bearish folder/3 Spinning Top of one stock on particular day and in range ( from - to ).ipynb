{
 "cells": [
  {
   "cell_type": "code",
   "execution_count": 1,
   "metadata": {},
   "outputs": [],
   "source": [
    "## Spinning Top Of One Stock On Particular Date"
   ]
  },
  {
   "cell_type": "code",
   "execution_count": 2,
   "metadata": {},
   "outputs": [],
   "source": [
    "from datetime import date\n",
    "import datetime\n",
    "from nsepy.history import get_price_list\n",
    "import yfinance as yf\n",
    "import pandas as pd\n",
    "\n",
    "from SingleCandlesticks import SpinningTop as st\n"
   ]
  },
  {
   "cell_type": "markdown",
   "metadata": {},
   "source": [
    "## Spinning Top Of One Stock On Particular Date"
   ]
  },
  {
   "cell_type": "code",
   "execution_count": 3,
   "metadata": {},
   "outputs": [
    {
     "name": "stdout",
     "output_type": "stream",
     "text": [
      "Enter stock name : reliance\n"
     ]
    }
   ],
   "source": [
    "stock=input(\"Enter stock name : \")"
   ]
  },
  {
   "cell_type": "code",
   "execution_count": 15,
   "metadata": {},
   "outputs": [
    {
     "name": "stdout",
     "output_type": "stream",
     "text": [
      "Enter date : \n",
      "Enter Year :2021\n",
      "Enter Month :6\n",
      "Enter Date :8\n"
     ]
    }
   ],
   "source": [
    "print(\"Enter date : \")\n",
    "y=input(\"Enter Year :\")\n",
    "m=input(\"Enter Month :\")\n",
    "d=input(\"Enter Date :\")"
   ]
  },
  {
   "cell_type": "code",
   "execution_count": 16,
   "metadata": {},
   "outputs": [
    {
     "name": "stdout",
     "output_type": "stream",
     "text": [
      "2021-06-08\n",
      "2021-06-09\n"
     ]
    }
   ],
   "source": [
    "sdate=date(int(y),int(m),int(d))\n",
    "edate=sdate+datetime.timedelta(1)\n",
    "print(sdate)\n",
    "print(edate)"
   ]
  },
  {
   "cell_type": "code",
   "execution_count": 17,
   "metadata": {},
   "outputs": [
    {
     "name": "stdout",
     "output_type": "stream",
     "text": [
      "208\n",
      "Valid intervals: [1h, 1d, 5d, 1wk, 1mo, 3mo]\n",
      "Enter time frame : 1h\n",
      "1h\n"
     ]
    }
   ],
   "source": [
    "if(sdate>date.today()):\n",
    "    diff=sdate-date.today()\n",
    "    #print(\"sdate > \")\n",
    "    diff=int(str(diff).split()[0])\n",
    "\n",
    "if(date.today()>sdate):\n",
    "    diff=date.today()-sdate\n",
    "    #print(\"sdate <\")\n",
    "    diff=int(str(diff).split()[0])\n",
    "\n",
    "if(date.today()==sdate):\n",
    "    diff=int(0)\n",
    "    #print(\"=\")\n",
    "\n",
    "    \n",
    "print(str(diff).split()[0])\n",
    "\n",
    "tstr=\"\"\n",
    "ds=\"\"\n",
    "if(int(diff)>730):\n",
    "    print(\"Valid intervals: [1d, 5d, 1wk, 1mo, 3mo]\")\n",
    "    tf=input(\"Enter time frame : \")\n",
    "\n",
    "    ## To covert the string into lower ( ex. 1m = M)\n",
    "    tstr=\"\" #timeframestring\n",
    "    ds=\"\"   # date string\n",
    "    for word in tf:\n",
    "        if(word).isalpha():\n",
    "            tstr=str(tstr)+str(word)\n",
    "        if(word).isdigit():\n",
    "            ds=str(ds)+str(word)\n",
    "    tf=ds+(tstr).lower()\n",
    "    print(tf) \n",
    "\n",
    "    if(tf not in ('1d', '5d', '1wk', '1mo', '3mo')):\n",
    "        print(\"Invalid Time Frame\")\n",
    "        td=\"\"\n",
    "\n",
    "\n",
    "if(int(diff)>60 and int(diff)<=730):\n",
    "    print(\"Valid intervals: [1h, 1d, 5d, 1wk, 1mo, 3mo]\")\n",
    "    tf=input(\"Enter time frame : \")\n",
    "    ## To covert the string into lower ( ex. 1m = M)\n",
    "    tstr=\"\" #timeframestring\n",
    "    dstr=\"\" # date string\n",
    "    for word in tf:\n",
    "        if(word).isalpha():\n",
    "            tstr=str(tstr)+str(word)\n",
    "        if(word).isdigit():\n",
    "            ds=str(ds)+str(word)\n",
    "    tf=ds+(tstr).lower()\n",
    "    print(tf) \n",
    "    if(tf not in ('1h', '1d', '5d', '1wk', '1mo', '3mo')):\n",
    "        print(\"Invalid Time Frame\")\n",
    "        td=\"\"\n",
    "\n",
    "if(int(diff)>7 and int(diff)<=60):\n",
    "    print(\"Valid intervals: ['2m', '5m', '15m', '30m', '60m', '90m',1h, 1d, 5d, 1wk, 1mo, 3mo]\")\n",
    "    tf=input(\"Enter time frame : \")\n",
    "   ## To covert the string into lower ( ex. 1m = M)\n",
    "    tstr=\"\" #timeframestring\n",
    "    ds=\"\" # date string\n",
    "    for word in tf:\n",
    "        if(word).isalpha():\n",
    "            tstr=str(tstr)+str(word)\n",
    "        if(word).isdigit():\n",
    "            ds=str(ds)+str(word)\n",
    "    tf=ds+(tstr).lower()\n",
    "    print(tf) \n",
    "    if(tf not in ('2m', '5m', '15m', '30m', '60m', '90m','1h', '1d', '5d', '1wk', '1mo', '3mo')):\n",
    "        print(\"Invalid Time Frame\")\n",
    "        tf=\"\"\n",
    "\n",
    "if(int(diff)>0 and int(diff)<=7):\n",
    "    print(\"Valid intervals: ['1m',2m', '5m', '15m', '30m', '60m', '90m',1h, 1d, 5d, 1wk, 1mo, 3mo]\")\n",
    "    tf=input(\"Enter time frame : \")\n",
    "   ## To covert the string into lower ( ex. 1m = M)\n",
    "    tstr=\"\" #timeframestring\n",
    "    ds=\"\"  # date sring\n",
    "    for word in tf:\n",
    "        if(word).isalpha():\n",
    "            tstr=str(tstr)+str(word)\n",
    "        if(word).isdigit():\n",
    "            ds=str(ds)+str(word)\n",
    "    tf=ds+(tstr).lower()\n",
    "    print(tf)   \n",
    "    if(tf not in ('1m','2m', '5m', '15m', '30m', '60m', '90m','1h', '1d', '5d', '1wk', '1mo', '3mo')):\n",
    "        print(\"Invalid Time Frame\")\n",
    "        tf=\"\"\n"
   ]
  },
  {
   "cell_type": "code",
   "execution_count": 18,
   "metadata": {},
   "outputs": [
    {
     "name": "stdout",
     "output_type": "stream",
     "text": [
      "[*********************100%***********************]  1 of 1 completed\n"
     ]
    }
   ],
   "source": [
    "try:\n",
    "    df=yf.download(tickers=stock+'.NS',start=sdate,end=edate,interval=tf)\n",
    "    if(len(df)==0):\n",
    "        print(\"Invalid Date ( Or Holiday )\")\n",
    "except:\n",
    "    print(\"Invalid Date ( Or Holiday )\")"
   ]
  },
  {
   "cell_type": "code",
   "execution_count": 19,
   "metadata": {},
   "outputs": [
    {
     "data": {
      "text/html": [
       "<div>\n",
       "<style scoped>\n",
       "    .dataframe tbody tr th:only-of-type {\n",
       "        vertical-align: middle;\n",
       "    }\n",
       "\n",
       "    .dataframe tbody tr th {\n",
       "        vertical-align: top;\n",
       "    }\n",
       "\n",
       "    .dataframe thead th {\n",
       "        text-align: right;\n",
       "    }\n",
       "</style>\n",
       "<table border=\"1\" class=\"dataframe\">\n",
       "  <thead>\n",
       "    <tr style=\"text-align: right;\">\n",
       "      <th></th>\n",
       "      <th>Open</th>\n",
       "      <th>High</th>\n",
       "      <th>Low</th>\n",
       "      <th>Close</th>\n",
       "      <th>Adj Close</th>\n",
       "      <th>Volume</th>\n",
       "    </tr>\n",
       "  </thead>\n",
       "  <tbody>\n",
       "    <tr>\n",
       "      <th>2021-06-08 09:15:00+05:30</th>\n",
       "      <td>2226.550049</td>\n",
       "      <td>2226.550049</td>\n",
       "      <td>2204.100098</td>\n",
       "      <td>2205.500000</td>\n",
       "      <td>2205.500000</td>\n",
       "      <td>0</td>\n",
       "    </tr>\n",
       "    <tr>\n",
       "      <th>2021-06-08 10:15:00+05:30</th>\n",
       "      <td>2205.500000</td>\n",
       "      <td>2215.000000</td>\n",
       "      <td>2199.500000</td>\n",
       "      <td>2206.300049</td>\n",
       "      <td>2206.300049</td>\n",
       "      <td>712012</td>\n",
       "    </tr>\n",
       "    <tr>\n",
       "      <th>2021-06-08 11:15:00+05:30</th>\n",
       "      <td>2206.250000</td>\n",
       "      <td>2222.000000</td>\n",
       "      <td>2206.199951</td>\n",
       "      <td>2209.449951</td>\n",
       "      <td>2209.449951</td>\n",
       "      <td>658878</td>\n",
       "    </tr>\n",
       "    <tr>\n",
       "      <th>2021-06-08 12:15:00+05:30</th>\n",
       "      <td>2209.199951</td>\n",
       "      <td>2217.399902</td>\n",
       "      <td>2207.399902</td>\n",
       "      <td>2215.000000</td>\n",
       "      <td>2215.000000</td>\n",
       "      <td>396549</td>\n",
       "    </tr>\n",
       "    <tr>\n",
       "      <th>2021-06-08 13:15:00+05:30</th>\n",
       "      <td>2215.000000</td>\n",
       "      <td>2220.000000</td>\n",
       "      <td>2212.250000</td>\n",
       "      <td>2217.600098</td>\n",
       "      <td>2217.600098</td>\n",
       "      <td>453247</td>\n",
       "    </tr>\n",
       "  </tbody>\n",
       "</table>\n",
       "</div>"
      ],
      "text/plain": [
       "                                  Open         High          Low        Close  \\\n",
       "2021-06-08 09:15:00+05:30  2226.550049  2226.550049  2204.100098  2205.500000   \n",
       "2021-06-08 10:15:00+05:30  2205.500000  2215.000000  2199.500000  2206.300049   \n",
       "2021-06-08 11:15:00+05:30  2206.250000  2222.000000  2206.199951  2209.449951   \n",
       "2021-06-08 12:15:00+05:30  2209.199951  2217.399902  2207.399902  2215.000000   \n",
       "2021-06-08 13:15:00+05:30  2215.000000  2220.000000  2212.250000  2217.600098   \n",
       "\n",
       "                             Adj Close  Volume  \n",
       "2021-06-08 09:15:00+05:30  2205.500000       0  \n",
       "2021-06-08 10:15:00+05:30  2206.300049  712012  \n",
       "2021-06-08 11:15:00+05:30  2209.449951  658878  \n",
       "2021-06-08 12:15:00+05:30  2215.000000  396549  \n",
       "2021-06-08 13:15:00+05:30  2217.600098  453247  "
      ]
     },
     "execution_count": 19,
     "metadata": {},
     "output_type": "execute_result"
    }
   ],
   "source": [
    "df.head()"
   ]
  },
  {
   "cell_type": "code",
   "execution_count": 20,
   "metadata": {},
   "outputs": [
    {
     "name": "stdout",
     "output_type": "stream",
     "text": [
      "BLUE SPINNING TOP\n",
      "{}\n",
      "-------------------------------------------\n",
      "RED SPINNING TOP\n",
      "{}\n"
     ]
    }
   ],
   "source": [
    "st.getspinningtop(df)"
   ]
  },
  {
   "cell_type": "markdown",
   "metadata": {},
   "source": [
    "## Spinning Top Of One Stock In Range (From - To)"
   ]
  },
  {
   "cell_type": "code",
   "execution_count": 21,
   "metadata": {},
   "outputs": [
    {
     "name": "stdout",
     "output_type": "stream",
     "text": [
      "Enter stock name : reliance\n"
     ]
    }
   ],
   "source": [
    "stock=input(\"Enter stock name : \")"
   ]
  },
  {
   "cell_type": "code",
   "execution_count": 22,
   "metadata": {},
   "outputs": [
    {
     "name": "stdout",
     "output_type": "stream",
     "text": [
      "Enter start date : \n",
      "Enter Year :2020\n",
      "Enter Month :1\n",
      "Enter Date :1\n",
      "<class 'datetime.date'> 2020-01-01\n"
     ]
    }
   ],
   "source": [
    "print(\"Enter start date : \")\n",
    "y=input(\"Enter Year :\")\n",
    "m=input(\"Enter Month :\")\n",
    "d=input(\"Enter Date :\")\n",
    "sdate=date(int(y),int(m),int(d))\n",
    "print(str(type(sdate))+\" \"+str(sdate))"
   ]
  },
  {
   "cell_type": "code",
   "execution_count": 23,
   "metadata": {},
   "outputs": [
    {
     "name": "stdout",
     "output_type": "stream",
     "text": [
      "Enter end date : \n",
      "Enter Year :2021\n",
      "Enter Month :8\n",
      "Enter Date :1\n",
      "<class 'datetime.date'> 2021-08-01\n"
     ]
    }
   ],
   "source": [
    "print(\"Enter end date : \")\n",
    "y=input(\"Enter Year :\")\n",
    "m=input(\"Enter Month :\")\n",
    "d=input(\"Enter Date :\")\n",
    "edate=date(int(y),int(m),int(d))\n",
    "print(str(type(edate))+\" \"+str(edate))"
   ]
  },
  {
   "cell_type": "code",
   "execution_count": 24,
   "metadata": {},
   "outputs": [
    {
     "name": "stdout",
     "output_type": "stream",
     "text": [
      "732 days, 0:00:00\n",
      "732\n"
     ]
    }
   ],
   "source": [
    "diff=0;\n",
    "if(date.today()>sdate):\n",
    "    diff=date.today()-sdate\n",
    "elif(sdate>date.today()):\n",
    "    diff=sdate-date.today()\n",
    "elif(sdate==date.today()):\n",
    "    diff=0\n",
    "print(diff)\n",
    "diff=int(str(diff).split()[0])\n",
    "print(diff)"
   ]
  },
  {
   "cell_type": "code",
   "execution_count": 25,
   "metadata": {},
   "outputs": [
    {
     "name": "stdout",
     "output_type": "stream",
     "text": [
      "Valid intervals: [1d, 5d, 1wk, 1mo, 3mo]\n",
      "Enter time frame : 1d\n",
      "1d\n"
     ]
    }
   ],
   "source": [
    "    tstr=\"\"\n",
    "    ds=\"\"\n",
    "    if(int(diff)>=730):\n",
    "        print(\"Valid intervals: [1d, 5d, 1wk, 1mo, 3mo]\")\n",
    "        tf=input(\"Enter time frame : \")\n",
    "                \n",
    "        ## To covert the string into lower ( ex. 1m = M)\n",
    "        tstr=\"\" #timeframestring\n",
    "        ds=\"\"   # date string\n",
    "        for word in tf:\n",
    "            if(word).isalpha():\n",
    "                tstr=str(tstr)+str(word)\n",
    "            if(word).isdigit():\n",
    "                ds=str(ds)+str(word)\n",
    "        tf=ds+(tstr).lower()\n",
    "        print(tf) \n",
    "        \n",
    "        if(tf not in ('1d', '5d', '1wk', '1mo', '3mo')):\n",
    "            print(\"Invalid Time Frame\")\n",
    "            td=\"\"\n",
    "    \n",
    "    \n",
    "    if(int(diff)>60 and int(diff)<730):\n",
    "        print(\"Valid intervals: [1h, 1d, 5d, 1wk, 1mo, 3mo]\")\n",
    "        tf=input(\"Enter time frame : \")\n",
    "        ## To covert the string into lower ( ex. 1m = M)\n",
    "        tstr=\"\" #timeframestring\n",
    "        dstr=\"\" # date string\n",
    "        for word in tf:\n",
    "            if(word).isalpha():\n",
    "                tstr=str(tstr)+str(word)\n",
    "            if(word).isdigit():\n",
    "                ds=str(ds)+str(word)\n",
    "        tf=ds+(tstr).lower()\n",
    "        print(tf) \n",
    "        if(tf not in ('1h', '1d', '5d', '1wk', '1mo', '3mo')):\n",
    "            print(\"Invalid Time Frame\")\n",
    "            td=\"\"\n",
    "    \n",
    "    if(int(diff)>7 and int(diff)<=60):\n",
    "        print(\"Valid intervals: ['2m', '5m', '15m', '30m', '60m', '90m',1h, 1d, 5d, 1wk, 1mo, 3mo]\")\n",
    "        tf=input(\"Enter time frame : \")\n",
    "       ## To covert the string into lower ( ex. 1m = M)\n",
    "        tstr=\"\" #timeframestring\n",
    "        ds=\"\" # date string\n",
    "        for word in tf:\n",
    "            if(word).isalpha():\n",
    "                tstr=str(tstr)+str(word)\n",
    "            if(word).isdigit():\n",
    "                ds=str(ds)+str(word)\n",
    "        tf=ds+(tstr).lower()\n",
    "        print(tf) \n",
    "        if(tf not in ('2m', '5m', '15m', '30m', '60m', '90m','1h', '1d', '5d', '1wk', '1mo', '3mo')):\n",
    "            print(\"Invalid Time Frame\")\n",
    "            tf=\"\"\n",
    "            \n",
    "    if(int(diff)>0 and int(diff)<=7):\n",
    "        print(\"Valid intervals: ['1m',2m', '5m', '15m', '30m', '60m', '90m',1h, 1d, 5d, 1wk, 1mo, 3mo]\")\n",
    "        tf=input(\"Enter time frame : \")\n",
    "       ## To covert the string into lower ( ex. 1m = M)\n",
    "        tstr=\"\" #timeframestring\n",
    "        ds=\"\"  # date sring\n",
    "        for word in tf:\n",
    "            if(word).isalpha():\n",
    "                tstr=str(tstr)+str(word)\n",
    "            if(word).isdigit():\n",
    "                ds=str(ds)+str(word)\n",
    "        tf=ds+(tstr).lower()\n",
    "        print(tf)   \n",
    "        if(tf not in ('1m','2m', '5m', '15m', '30m', '60m', '90m','1h', '1d', '5d', '1wk', '1mo', '3mo')):\n",
    "            print(\"Invalid Time Frame\")\n",
    "            tf=\"\"\n"
   ]
  },
  {
   "cell_type": "code",
   "execution_count": 26,
   "metadata": {},
   "outputs": [
    {
     "name": "stdout",
     "output_type": "stream",
     "text": [
      "[*********************100%***********************]  1 of 1 completed\n"
     ]
    },
    {
     "data": {
      "text/html": [
       "<div>\n",
       "<style scoped>\n",
       "    .dataframe tbody tr th:only-of-type {\n",
       "        vertical-align: middle;\n",
       "    }\n",
       "\n",
       "    .dataframe tbody tr th {\n",
       "        vertical-align: top;\n",
       "    }\n",
       "\n",
       "    .dataframe thead th {\n",
       "        text-align: right;\n",
       "    }\n",
       "</style>\n",
       "<table border=\"1\" class=\"dataframe\">\n",
       "  <thead>\n",
       "    <tr style=\"text-align: right;\">\n",
       "      <th></th>\n",
       "      <th>Open</th>\n",
       "      <th>High</th>\n",
       "      <th>Low</th>\n",
       "      <th>Close</th>\n",
       "      <th>Adj Close</th>\n",
       "      <th>Volume</th>\n",
       "    </tr>\n",
       "    <tr>\n",
       "      <th>Date</th>\n",
       "      <th></th>\n",
       "      <th></th>\n",
       "      <th></th>\n",
       "      <th></th>\n",
       "      <th></th>\n",
       "      <th></th>\n",
       "    </tr>\n",
       "  </thead>\n",
       "  <tbody>\n",
       "    <tr>\n",
       "      <th>2020-01-01</th>\n",
       "      <td>1503.745972</td>\n",
       "      <td>1512.760498</td>\n",
       "      <td>1491.363403</td>\n",
       "      <td>1495.424927</td>\n",
       "      <td>1485.053467</td>\n",
       "      <td>6463060</td>\n",
       "    </tr>\n",
       "    <tr>\n",
       "      <th>2020-01-02</th>\n",
       "      <td>1497.802368</td>\n",
       "      <td>1526.480469</td>\n",
       "      <td>1497.802368</td>\n",
       "      <td>1520.883545</td>\n",
       "      <td>1510.335693</td>\n",
       "      <td>8173308</td>\n",
       "    </tr>\n",
       "    <tr>\n",
       "      <th>2020-01-03</th>\n",
       "      <td>1518.605103</td>\n",
       "      <td>1527.173950</td>\n",
       "      <td>1508.699097</td>\n",
       "      <td>1522.716187</td>\n",
       "      <td>1512.155518</td>\n",
       "      <td>9684434</td>\n",
       "    </tr>\n",
       "    <tr>\n",
       "      <th>2020-01-06</th>\n",
       "      <td>1505.727173</td>\n",
       "      <td>1513.552979</td>\n",
       "      <td>1483.933838</td>\n",
       "      <td>1487.400879</td>\n",
       "      <td>1477.085083</td>\n",
       "      <td>11315596</td>\n",
       "    </tr>\n",
       "    <tr>\n",
       "      <th>2020-01-07</th>\n",
       "      <td>1504.736572</td>\n",
       "      <td>1520.091064</td>\n",
       "      <td>1499.288208</td>\n",
       "      <td>1510.284058</td>\n",
       "      <td>1499.809570</td>\n",
       "      <td>7699489</td>\n",
       "    </tr>\n",
       "  </tbody>\n",
       "</table>\n",
       "</div>"
      ],
      "text/plain": [
       "                   Open         High          Low        Close    Adj Close  \\\n",
       "Date                                                                          \n",
       "2020-01-01  1503.745972  1512.760498  1491.363403  1495.424927  1485.053467   \n",
       "2020-01-02  1497.802368  1526.480469  1497.802368  1520.883545  1510.335693   \n",
       "2020-01-03  1518.605103  1527.173950  1508.699097  1522.716187  1512.155518   \n",
       "2020-01-06  1505.727173  1513.552979  1483.933838  1487.400879  1477.085083   \n",
       "2020-01-07  1504.736572  1520.091064  1499.288208  1510.284058  1499.809570   \n",
       "\n",
       "              Volume  \n",
       "Date                  \n",
       "2020-01-01   6463060  \n",
       "2020-01-02   8173308  \n",
       "2020-01-03   9684434  \n",
       "2020-01-06  11315596  \n",
       "2020-01-07   7699489  "
      ]
     },
     "execution_count": 26,
     "metadata": {},
     "output_type": "execute_result"
    }
   ],
   "source": [
    "try:\n",
    "    df=yf.download(tickers=stock+'.NS',start=sdate,end=edate,interval=tf)\n",
    "    if(len(df)==0):\n",
    "        print(\"Invalid Date ( Or Holiday )\")\n",
    "except:\n",
    "    print(\"Invalid Date ( Or Holiday )\")\n",
    "    \n",
    "df.head()"
   ]
  },
  {
   "cell_type": "code",
   "execution_count": 27,
   "metadata": {},
   "outputs": [
    {
     "name": "stdout",
     "output_type": "stream",
     "text": [
      "BLUE SPINNING TOP\n",
      "{Timestamp('2020-02-14 00:00:00'): 1473.6314697265625, Timestamp('2020-04-09 00:00:00'): 1208.49462890625, Timestamp('2020-05-20 00:00:00'): 1433.699951171875, Timestamp('2020-07-30 00:00:00'): 2108.85009765625, Timestamp('2021-03-30 00:00:00'): 2029.300048828125, Timestamp('2021-06-17 00:00:00'): 2215.64990234375}\n",
      "-------------------------------------------\n",
      "RED SPINNING TOP\n",
      "{Timestamp('2020-05-04 00:00:00'): 1421.7235107421875, Timestamp('2020-07-27 00:00:00'): 2156.199951171875, Timestamp('2020-08-14 00:00:00'): 2113.800048828125, Timestamp('2020-09-01 00:00:00'): 2087.25, Timestamp('2020-09-14 00:00:00'): 2302.550048828125, Timestamp('2020-12-11 00:00:00'): 2005.800048828125, Timestamp('2021-02-12 00:00:00'): 2041.5999755859375}\n"
     ]
    }
   ],
   "source": [
    "st.getspinningtop(df)"
   ]
  },
  {
   "cell_type": "code",
   "execution_count": null,
   "metadata": {},
   "outputs": [],
   "source": []
  },
  {
   "cell_type": "code",
   "execution_count": null,
   "metadata": {},
   "outputs": [],
   "source": []
  }
 ],
 "metadata": {
  "kernelspec": {
   "display_name": "Python 3",
   "language": "python",
   "name": "python3"
  },
  "language_info": {
   "codemirror_mode": {
    "name": "ipython",
    "version": 3
   },
   "file_extension": ".py",
   "mimetype": "text/x-python",
   "name": "python",
   "nbconvert_exporter": "python",
   "pygments_lexer": "ipython3",
   "version": "3.8.5"
  }
 },
 "nbformat": 4,
 "nbformat_minor": 4
}
