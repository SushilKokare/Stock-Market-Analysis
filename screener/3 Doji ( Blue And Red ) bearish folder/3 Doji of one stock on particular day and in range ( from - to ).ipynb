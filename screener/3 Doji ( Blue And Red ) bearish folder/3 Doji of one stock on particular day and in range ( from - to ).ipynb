{
 "cells": [
  {
   "cell_type": "code",
   "execution_count": 1,
   "metadata": {},
   "outputs": [],
   "source": [
    "## Spinning Top Of One Stock On Particular Date"
   ]
  },
  {
   "cell_type": "code",
   "execution_count": 3,
   "metadata": {},
   "outputs": [],
   "source": [
    "from datetime import date\n",
    "import datetime\n",
    "from nsepy.history import get_price_list\n",
    "import yfinance as yf\n",
    "import pandas as pd\n",
    "\n",
    "from SingleCandlesticks import Doji as dj\n"
   ]
  },
  {
   "cell_type": "markdown",
   "metadata": {},
   "source": [
    "## Spinning Top Of One Stock On Particular Date"
   ]
  },
  {
   "cell_type": "code",
   "execution_count": 4,
   "metadata": {},
   "outputs": [
    {
     "name": "stdout",
     "output_type": "stream",
     "text": [
      "Enter stock name : sbin\n"
     ]
    }
   ],
   "source": [
    "stock=input(\"Enter stock name : \")"
   ]
  },
  {
   "cell_type": "code",
   "execution_count": 5,
   "metadata": {},
   "outputs": [
    {
     "name": "stdout",
     "output_type": "stream",
     "text": [
      "Enter date : \n",
      "Enter Year :2021\n",
      "Enter Month :12\n",
      "Enter Date :8\n"
     ]
    }
   ],
   "source": [
    "print(\"Enter date : \")\n",
    "y=input(\"Enter Year :\")\n",
    "m=input(\"Enter Month :\")\n",
    "d=input(\"Enter Date :\")"
   ]
  },
  {
   "cell_type": "code",
   "execution_count": 6,
   "metadata": {},
   "outputs": [
    {
     "name": "stdout",
     "output_type": "stream",
     "text": [
      "2021-12-08\n",
      "2021-12-09\n"
     ]
    }
   ],
   "source": [
    "sdate=date(int(y),int(m),int(d))\n",
    "edate=sdate+datetime.timedelta(1)\n",
    "print(sdate)\n",
    "print(edate)"
   ]
  },
  {
   "cell_type": "code",
   "execution_count": 12,
   "metadata": {},
   "outputs": [
    {
     "name": "stdout",
     "output_type": "stream",
     "text": [
      "26\n",
      "Valid intervals: ['2m', '5m', '15m', '30m', '60m', '90m',1h, 1d, 5d, 1wk, 1mo, 3mo]\n",
      "Enter time frame : 1mo\n",
      "1mo\n"
     ]
    }
   ],
   "source": [
    "if(sdate>date.today()):\n",
    "    diff=sdate-date.today()\n",
    "    #print(\"sdate > \")\n",
    "    diff=int(str(diff).split()[0])\n",
    "\n",
    "if(date.today()>sdate):\n",
    "    diff=date.today()-sdate\n",
    "    #print(\"sdate <\")\n",
    "    diff=int(str(diff).split()[0])\n",
    "\n",
    "if(date.today()==sdate):\n",
    "    diff=int(0)\n",
    "    #print(\"=\")\n",
    "\n",
    "    \n",
    "print(str(diff).split()[0])\n",
    "\n",
    "tstr=\"\"\n",
    "ds=\"\"\n",
    "if(int(diff)>730):\n",
    "    print(\"Valid intervals: [1d, 5d, 1wk, 1mo, 3mo]\")\n",
    "    tf=input(\"Enter time frame : \")\n",
    "\n",
    "    ## To covert the string into lower ( ex. 1m = M)\n",
    "    tstr=\"\" #timeframestring\n",
    "    ds=\"\"   # date string\n",
    "    for word in tf:\n",
    "        if(word).isalpha():\n",
    "            tstr=str(tstr)+str(word)\n",
    "        if(word).isdigit():\n",
    "            ds=str(ds)+str(word)\n",
    "    tf=ds+(tstr).lower()\n",
    "    print(tf) \n",
    "\n",
    "    if(tf not in ('1d', '5d', '1wk', '1mo', '3mo')):\n",
    "        print(\"Invalid Time Frame\")\n",
    "        td=\"\"\n",
    "\n",
    "\n",
    "if(int(diff)>60 and int(diff)<=730):\n",
    "    print(\"Valid intervals: [1h, 1d, 5d, 1wk, 1mo, 3mo]\")\n",
    "    tf=input(\"Enter time frame : \")\n",
    "    ## To covert the string into lower ( ex. 1m = M)\n",
    "    tstr=\"\" #timeframestring\n",
    "    dstr=\"\" # date string\n",
    "    for word in tf:\n",
    "        if(word).isalpha():\n",
    "            tstr=str(tstr)+str(word)\n",
    "        if(word).isdigit():\n",
    "            ds=str(ds)+str(word)\n",
    "    tf=ds+(tstr).lower()\n",
    "    print(tf) \n",
    "    if(tf not in ('1h', '1d', '5d', '1wk', '1mo', '3mo')):\n",
    "        print(\"Invalid Time Frame\")\n",
    "        td=\"\"\n",
    "\n",
    "if(int(diff)>7 and int(diff)<=60):\n",
    "    print(\"Valid intervals: ['2m', '5m', '15m', '30m', '60m', '90m',1h, 1d, 5d, 1wk, 1mo, 3mo]\")\n",
    "    tf=input(\"Enter time frame : \")\n",
    "   ## To covert the string into lower ( ex. 1m = M)\n",
    "    tstr=\"\" #timeframestring\n",
    "    ds=\"\" # date string\n",
    "    for word in tf:\n",
    "        if(word).isalpha():\n",
    "            tstr=str(tstr)+str(word)\n",
    "        if(word).isdigit():\n",
    "            ds=str(ds)+str(word)\n",
    "    tf=ds+(tstr).lower()\n",
    "    print(tf) \n",
    "    if(tf not in ('2m', '5m', '15m', '30m', '60m', '90m','1h', '1d', '5d', '1wk', '1mo', '3mo')):\n",
    "        print(\"Invalid Time Frame\")\n",
    "        tf=\"\"\n",
    "\n",
    "if(int(diff)>0 and int(diff)<=7):\n",
    "    print(\"Valid intervals: ['1m',2m', '5m', '15m', '30m', '60m', '90m',1h, 1d, 5d, 1wk, 1mo, 3mo]\")\n",
    "    tf=input(\"Enter time frame : \")\n",
    "   ## To covert the string into lower ( ex. 1m = M)\n",
    "    tstr=\"\" #timeframestring\n",
    "    ds=\"\"  # date sring\n",
    "    for word in tf:\n",
    "        if(word).isalpha():\n",
    "            tstr=str(tstr)+str(word)\n",
    "        if(word).isdigit():\n",
    "            ds=str(ds)+str(word)\n",
    "    tf=ds+(tstr).lower()\n",
    "    print(tf)   \n",
    "    if(tf not in ('1m','2m', '5m', '15m', '30m', '60m', '90m','1h', '1d', '5d', '1wk', '1mo', '3mo')):\n",
    "        print(\"Invalid Time Frame\")\n",
    "        tf=\"\"\n"
   ]
  },
  {
   "cell_type": "code",
   "execution_count": 13,
   "metadata": {},
   "outputs": [
    {
     "name": "stdout",
     "output_type": "stream",
     "text": [
      "[*********************100%***********************]  1 of 1 completed\n",
      "\n",
      "1 Failed download:\n",
      "- SBIN.NS: No data found for this date range, symbol may be delisted\n",
      "Invalid Date ( Or Holiday )\n"
     ]
    }
   ],
   "source": [
    "try:\n",
    "    df=yf.download(tickers=stock+'.NS',start=sdate,end=edate,interval=tf)\n",
    "    if(len(df)==0):\n",
    "        print(\"Invalid Date ( Or Holiday )\")\n",
    "except:\n",
    "    print(\"Invalid Date ( Or Holiday )\")"
   ]
  },
  {
   "cell_type": "code",
   "execution_count": 14,
   "metadata": {},
   "outputs": [
    {
     "data": {
      "text/html": [
       "<div>\n",
       "<style scoped>\n",
       "    .dataframe tbody tr th:only-of-type {\n",
       "        vertical-align: middle;\n",
       "    }\n",
       "\n",
       "    .dataframe tbody tr th {\n",
       "        vertical-align: top;\n",
       "    }\n",
       "\n",
       "    .dataframe thead th {\n",
       "        text-align: right;\n",
       "    }\n",
       "</style>\n",
       "<table border=\"1\" class=\"dataframe\">\n",
       "  <thead>\n",
       "    <tr style=\"text-align: right;\">\n",
       "      <th></th>\n",
       "      <th>Open</th>\n",
       "      <th>High</th>\n",
       "      <th>Low</th>\n",
       "      <th>Close</th>\n",
       "      <th>Adj Close</th>\n",
       "      <th>Volume</th>\n",
       "    </tr>\n",
       "    <tr>\n",
       "      <th>Date</th>\n",
       "      <th></th>\n",
       "      <th></th>\n",
       "      <th></th>\n",
       "      <th></th>\n",
       "      <th></th>\n",
       "      <th></th>\n",
       "    </tr>\n",
       "  </thead>\n",
       "  <tbody>\n",
       "  </tbody>\n",
       "</table>\n",
       "</div>"
      ],
      "text/plain": [
       "Empty DataFrame\n",
       "Columns: [Open, High, Low, Close, Adj Close, Volume]\n",
       "Index: []"
      ]
     },
     "execution_count": 14,
     "metadata": {},
     "output_type": "execute_result"
    }
   ],
   "source": [
    "df.head()"
   ]
  },
  {
   "cell_type": "code",
   "execution_count": 15,
   "metadata": {},
   "outputs": [
    {
     "name": "stdout",
     "output_type": "stream",
     "text": [
      "BLUE DOJI\n",
      "{}\n",
      "-------------------------------------------\n",
      "RED DOJI\n",
      "{}\n"
     ]
    }
   ],
   "source": [
    "dj.getdoji(df)"
   ]
  },
  {
   "cell_type": "markdown",
   "metadata": {},
   "source": [
    "## Spinning Top Of One Stock In Range (From - To)"
   ]
  },
  {
   "cell_type": "code",
   "execution_count": 16,
   "metadata": {},
   "outputs": [
    {
     "name": "stdout",
     "output_type": "stream",
     "text": [
      "Enter stock name : sbin\n"
     ]
    }
   ],
   "source": [
    "stock=input(\"Enter stock name : \")"
   ]
  },
  {
   "cell_type": "code",
   "execution_count": 17,
   "metadata": {},
   "outputs": [
    {
     "name": "stdout",
     "output_type": "stream",
     "text": [
      "Enter start date : \n",
      "Enter Year :2020\n",
      "Enter Month :12\n",
      "Enter Date :1\n",
      "<class 'datetime.date'> 2020-12-01\n"
     ]
    }
   ],
   "source": [
    "print(\"Enter start date : \")\n",
    "y=input(\"Enter Year :\")\n",
    "m=input(\"Enter Month :\")\n",
    "d=input(\"Enter Date :\")\n",
    "sdate=date(int(y),int(m),int(d))\n",
    "print(str(type(sdate))+\" \"+str(sdate))"
   ]
  },
  {
   "cell_type": "code",
   "execution_count": 18,
   "metadata": {},
   "outputs": [
    {
     "name": "stdout",
     "output_type": "stream",
     "text": [
      "Enter end date : \n",
      "Enter Year :2021\n",
      "Enter Month :6\n",
      "Enter Date :1\n",
      "<class 'datetime.date'> 2021-06-01\n"
     ]
    }
   ],
   "source": [
    "print(\"Enter end date : \")\n",
    "y=input(\"Enter Year :\")\n",
    "m=input(\"Enter Month :\")\n",
    "d=input(\"Enter Date :\")\n",
    "edate=date(int(y),int(m),int(d))\n",
    "print(str(type(edate))+\" \"+str(edate))"
   ]
  },
  {
   "cell_type": "code",
   "execution_count": 19,
   "metadata": {},
   "outputs": [
    {
     "name": "stdout",
     "output_type": "stream",
     "text": [
      "398 days, 0:00:00\n",
      "398\n"
     ]
    }
   ],
   "source": [
    "diff=0;\n",
    "if(date.today()>sdate):\n",
    "    diff=date.today()-sdate\n",
    "elif(sdate>date.today()):\n",
    "    diff=sdate-date.today()\n",
    "elif(sdate==date.today()):\n",
    "    diff=0\n",
    "print(diff)\n",
    "diff=int(str(diff).split()[0])\n",
    "print(diff)"
   ]
  },
  {
   "cell_type": "code",
   "execution_count": 20,
   "metadata": {},
   "outputs": [
    {
     "name": "stdout",
     "output_type": "stream",
     "text": [
      "Valid intervals: [1h, 1d, 5d, 1wk, 1mo, 3mo]\n",
      "Enter time frame : 1d\n",
      "1d\n"
     ]
    }
   ],
   "source": [
    "    tstr=\"\"\n",
    "    ds=\"\"\n",
    "    if(int(diff)>=730):\n",
    "        print(\"Valid intervals: [1d, 5d, 1wk, 1mo, 3mo]\")\n",
    "        tf=input(\"Enter time frame : \")\n",
    "                \n",
    "        ## To covert the string into lower ( ex. 1m = M)\n",
    "        tstr=\"\" #timeframestring\n",
    "        ds=\"\"   # date string\n",
    "        for word in tf:\n",
    "            if(word).isalpha():\n",
    "                tstr=str(tstr)+str(word)\n",
    "            if(word).isdigit():\n",
    "                ds=str(ds)+str(word)\n",
    "        tf=ds+(tstr).lower()\n",
    "        print(tf) \n",
    "        \n",
    "        if(tf not in ('1d', '5d', '1wk', '1mo', '3mo')):\n",
    "            print(\"Invalid Time Frame\")\n",
    "            td=\"\"\n",
    "    \n",
    "    \n",
    "    if(int(diff)>60 and int(diff)<730):\n",
    "        print(\"Valid intervals: [1h, 1d, 5d, 1wk, 1mo, 3mo]\")\n",
    "        tf=input(\"Enter time frame : \")\n",
    "        ## To covert the string into lower ( ex. 1m = M)\n",
    "        tstr=\"\" #timeframestring\n",
    "        dstr=\"\" # date string\n",
    "        for word in tf:\n",
    "            if(word).isalpha():\n",
    "                tstr=str(tstr)+str(word)\n",
    "            if(word).isdigit():\n",
    "                ds=str(ds)+str(word)\n",
    "        tf=ds+(tstr).lower()\n",
    "        print(tf) \n",
    "        if(tf not in ('1h', '1d', '5d', '1wk', '1mo', '3mo')):\n",
    "            print(\"Invalid Time Frame\")\n",
    "            td=\"\"\n",
    "    \n",
    "    if(int(diff)>7 and int(diff)<=60):\n",
    "        print(\"Valid intervals: ['2m', '5m', '15m', '30m', '60m', '90m',1h, 1d, 5d, 1wk, 1mo, 3mo]\")\n",
    "        tf=input(\"Enter time frame : \")\n",
    "       ## To covert the string into lower ( ex. 1m = M)\n",
    "        tstr=\"\" #timeframestring\n",
    "        ds=\"\" # date string\n",
    "        for word in tf:\n",
    "            if(word).isalpha():\n",
    "                tstr=str(tstr)+str(word)\n",
    "            if(word).isdigit():\n",
    "                ds=str(ds)+str(word)\n",
    "        tf=ds+(tstr).lower()\n",
    "        print(tf) \n",
    "        if(tf not in ('2m', '5m', '15m', '30m', '60m', '90m','1h', '1d', '5d', '1wk', '1mo', '3mo')):\n",
    "            print(\"Invalid Time Frame\")\n",
    "            tf=\"\"\n",
    "            \n",
    "    if(int(diff)>0 and int(diff)<=7):\n",
    "        print(\"Valid intervals: ['1m',2m', '5m', '15m', '30m', '60m', '90m',1h, 1d, 5d, 1wk, 1mo, 3mo]\")\n",
    "        tf=input(\"Enter time frame : \")\n",
    "       ## To covert the string into lower ( ex. 1m = M)\n",
    "        tstr=\"\" #timeframestring\n",
    "        ds=\"\"  # date sring\n",
    "        for word in tf:\n",
    "            if(word).isalpha():\n",
    "                tstr=str(tstr)+str(word)\n",
    "            if(word).isdigit():\n",
    "                ds=str(ds)+str(word)\n",
    "        tf=ds+(tstr).lower()\n",
    "        print(tf)   \n",
    "        if(tf not in ('1m','2m', '5m', '15m', '30m', '60m', '90m','1h', '1d', '5d', '1wk', '1mo', '3mo')):\n",
    "            print(\"Invalid Time Frame\")\n",
    "            tf=\"\"\n"
   ]
  },
  {
   "cell_type": "code",
   "execution_count": 21,
   "metadata": {},
   "outputs": [
    {
     "name": "stdout",
     "output_type": "stream",
     "text": [
      "[*********************100%***********************]  1 of 1 completed\n"
     ]
    },
    {
     "data": {
      "text/html": [
       "<div>\n",
       "<style scoped>\n",
       "    .dataframe tbody tr th:only-of-type {\n",
       "        vertical-align: middle;\n",
       "    }\n",
       "\n",
       "    .dataframe tbody tr th {\n",
       "        vertical-align: top;\n",
       "    }\n",
       "\n",
       "    .dataframe thead th {\n",
       "        text-align: right;\n",
       "    }\n",
       "</style>\n",
       "<table border=\"1\" class=\"dataframe\">\n",
       "  <thead>\n",
       "    <tr style=\"text-align: right;\">\n",
       "      <th></th>\n",
       "      <th>Open</th>\n",
       "      <th>High</th>\n",
       "      <th>Low</th>\n",
       "      <th>Close</th>\n",
       "      <th>Adj Close</th>\n",
       "      <th>Volume</th>\n",
       "    </tr>\n",
       "    <tr>\n",
       "      <th>Date</th>\n",
       "      <th></th>\n",
       "      <th></th>\n",
       "      <th></th>\n",
       "      <th></th>\n",
       "      <th></th>\n",
       "      <th></th>\n",
       "    </tr>\n",
       "  </thead>\n",
       "  <tbody>\n",
       "    <tr>\n",
       "      <th>2020-12-01</th>\n",
       "      <td>245.000000</td>\n",
       "      <td>248.949997</td>\n",
       "      <td>244.250000</td>\n",
       "      <td>248.050003</td>\n",
       "      <td>245.780823</td>\n",
       "      <td>37003272</td>\n",
       "    </tr>\n",
       "    <tr>\n",
       "      <th>2020-12-02</th>\n",
       "      <td>248.350006</td>\n",
       "      <td>250.850006</td>\n",
       "      <td>244.100006</td>\n",
       "      <td>246.949997</td>\n",
       "      <td>244.690887</td>\n",
       "      <td>56723083</td>\n",
       "    </tr>\n",
       "    <tr>\n",
       "      <th>2020-12-03</th>\n",
       "      <td>249.300003</td>\n",
       "      <td>259.000000</td>\n",
       "      <td>248.000000</td>\n",
       "      <td>256.299988</td>\n",
       "      <td>253.955338</td>\n",
       "      <td>79266442</td>\n",
       "    </tr>\n",
       "    <tr>\n",
       "      <th>2020-12-04</th>\n",
       "      <td>257.000000</td>\n",
       "      <td>264.350006</td>\n",
       "      <td>253.550003</td>\n",
       "      <td>263.500000</td>\n",
       "      <td>261.089478</td>\n",
       "      <td>79252024</td>\n",
       "    </tr>\n",
       "    <tr>\n",
       "      <th>2020-12-07</th>\n",
       "      <td>263.799988</td>\n",
       "      <td>271.450012</td>\n",
       "      <td>263.000000</td>\n",
       "      <td>269.600006</td>\n",
       "      <td>267.133698</td>\n",
       "      <td>76053084</td>\n",
       "    </tr>\n",
       "  </tbody>\n",
       "</table>\n",
       "</div>"
      ],
      "text/plain": [
       "                  Open        High         Low       Close   Adj Close  \\\n",
       "Date                                                                     \n",
       "2020-12-01  245.000000  248.949997  244.250000  248.050003  245.780823   \n",
       "2020-12-02  248.350006  250.850006  244.100006  246.949997  244.690887   \n",
       "2020-12-03  249.300003  259.000000  248.000000  256.299988  253.955338   \n",
       "2020-12-04  257.000000  264.350006  253.550003  263.500000  261.089478   \n",
       "2020-12-07  263.799988  271.450012  263.000000  269.600006  267.133698   \n",
       "\n",
       "              Volume  \n",
       "Date                  \n",
       "2020-12-01  37003272  \n",
       "2020-12-02  56723083  \n",
       "2020-12-03  79266442  \n",
       "2020-12-04  79252024  \n",
       "2020-12-07  76053084  "
      ]
     },
     "execution_count": 21,
     "metadata": {},
     "output_type": "execute_result"
    }
   ],
   "source": [
    "try:\n",
    "    df=yf.download(tickers=stock+'.NS',start=sdate,end=edate,interval=tf)\n",
    "    if(len(df)==0):\n",
    "        print(\"Invalid Date ( Or Holiday )\")\n",
    "except:\n",
    "    print(\"Invalid Date ( Or Holiday )\")\n",
    "    \n",
    "df.head()"
   ]
  },
  {
   "cell_type": "code",
   "execution_count": 23,
   "metadata": {},
   "outputs": [
    {
     "name": "stdout",
     "output_type": "stream",
     "text": [
      "BLUE DOJI\n",
      "{Timestamp('2020-12-10 00:00:00'): 269.54998779296875, Timestamp('2020-12-14 00:00:00'): 274.20001220703125, Timestamp('2021-01-14 00:00:00'): 307.25, Timestamp('2021-01-19 00:00:00'): 298.6000061035156, Timestamp('2021-03-08 00:00:00'): 389.6000061035156, Timestamp('2021-03-30 00:00:00'): 360.79998779296875, Timestamp('2021-04-15 00:00:00'): 342.70001220703125, Timestamp('2021-04-30 00:00:00'): 353.5, Timestamp('2021-05-03 00:00:00'): 350.6000061035156, Timestamp('2021-05-07 00:00:00'): 358.25}\n",
      "-------------------------------------------\n",
      "RED DOJI\n",
      "{Timestamp('2020-12-31 00:00:00'): 274.95001220703125, Timestamp('2021-01-04 00:00:00'): 281.04998779296875, Timestamp('2021-02-08 00:00:00'): 397.04998779296875, Timestamp('2021-03-01 00:00:00'): 394.95001220703125, Timestamp('2021-03-02 00:00:00'): 394.20001220703125, Timestamp('2021-05-05 00:00:00'): 355.3999938964844, Timestamp('2021-05-26 00:00:00'): 413.54998779296875}\n"
     ]
    }
   ],
   "source": [
    "dj.getdoji(df)"
   ]
  },
  {
   "cell_type": "code",
   "execution_count": null,
   "metadata": {},
   "outputs": [],
   "source": []
  },
  {
   "cell_type": "code",
   "execution_count": null,
   "metadata": {},
   "outputs": [],
   "source": []
  }
 ],
 "metadata": {
  "kernelspec": {
   "display_name": "Python 3",
   "language": "python",
   "name": "python3"
  },
  "language_info": {
   "codemirror_mode": {
    "name": "ipython",
    "version": 3
   },
   "file_extension": ".py",
   "mimetype": "text/x-python",
   "name": "python",
   "nbconvert_exporter": "python",
   "pygments_lexer": "ipython3",
   "version": "3.8.5"
  }
 },
 "nbformat": 4,
 "nbformat_minor": 4
}
