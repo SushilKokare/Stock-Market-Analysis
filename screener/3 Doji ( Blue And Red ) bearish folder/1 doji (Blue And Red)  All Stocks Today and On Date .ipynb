{
 "cells": [
  {
   "cell_type": "code",
   "execution_count": 1,
   "metadata": {},
   "outputs": [],
   "source": [
    "# Task: Doji ( Blue And Red Both ) (Single Candlestick Bullish Pattern)\n",
    "\n"
   ]
  },
  {
   "cell_type": "code",
   "execution_count": 2,
   "metadata": {},
   "outputs": [],
   "source": [
    "from datetime import date\n",
    "import datetime\n",
    "from nsepy.history import get_price_list\n",
    "import yfinance as yf\n",
    "import pandas as pd\n",
    "\n",
    "from SingleCandlesticks import Doji as dj"
   ]
  },
  {
   "cell_type": "markdown",
   "metadata": {},
   "source": [
    "## Doji Of All Stocks Of Today Or Latest Date"
   ]
  },
  {
   "cell_type": "code",
   "execution_count": 3,
   "metadata": {},
   "outputs": [
    {
     "name": "stdout",
     "output_type": "stream",
     "text": [
      "2022-01-03\n",
      "[*********************100%***********************]  1 of 1 completed\n",
      "<class 'pandas.core.frame.DataFrame'>\n",
      "              Open    High          Low    Close  Adj Close  Volume\n",
      "Date                                                               \n",
      "2022-01-03  2365.0  2392.0  2363.550049  2389.25    2389.25  978339\n"
     ]
    }
   ],
   "source": [
    "\n",
    "print(date.today())\n",
    "\n",
    "dated=date.today()\n",
    "\n",
    "dt=yf.download(tickers=\"reliance.ns\",period=\"1d\")\n",
    "print(type(dt))\n",
    "print(dt)"
   ]
  },
  {
   "cell_type": "code",
   "execution_count": 4,
   "metadata": {},
   "outputs": [],
   "source": [
    "for i in dt.index:\n",
    "    d=str(i)\n",
    "d=d.split()\n",
    "d=d[0]\n",
    "d=str(d)\n",
    "d=d.split('-')"
   ]
  },
  {
   "cell_type": "code",
   "execution_count": 5,
   "metadata": {},
   "outputs": [
    {
     "name": "stdout",
     "output_type": "stream",
     "text": [
      "2022-01-03\n"
     ]
    }
   ],
   "source": [
    "d=date(int(d[0]),int(d[1]),int(d[2]))\n",
    "print(d)"
   ]
  },
  {
   "cell_type": "code",
   "execution_count": 6,
   "metadata": {},
   "outputs": [
    {
     "name": "stdout",
     "output_type": "stream",
     "text": [
      "Data on the date : 2022-01-03\n",
      "e\n",
      "e\n",
      "e\n",
      "Data on Date : 2021-12-31\n"
     ]
    }
   ],
   "source": [
    "print(\"Data on the date : \"+str(d))\n",
    "\n",
    "dated=d\n",
    "df=pd.DataFrame()\n",
    "#print(dated)\n",
    "while(len(df)<=0):\n",
    "    try:\n",
    "        df=get_price_list(dated)\n",
    "    except:\n",
    "        print(\"e\")\n",
    "        dated=dated-datetime.timedelta(1)\n",
    "print(\"Data on Date : \"+str(dated))        "
   ]
  },
  {
   "cell_type": "code",
   "execution_count": 7,
   "metadata": {},
   "outputs": [
    {
     "data": {
      "text/html": [
       "<div>\n",
       "<style scoped>\n",
       "    .dataframe tbody tr th:only-of-type {\n",
       "        vertical-align: middle;\n",
       "    }\n",
       "\n",
       "    .dataframe tbody tr th {\n",
       "        vertical-align: top;\n",
       "    }\n",
       "\n",
       "    .dataframe thead th {\n",
       "        text-align: right;\n",
       "    }\n",
       "</style>\n",
       "<table border=\"1\" class=\"dataframe\">\n",
       "  <thead>\n",
       "    <tr style=\"text-align: right;\">\n",
       "      <th></th>\n",
       "      <th>SYMBOL</th>\n",
       "      <th>SERIES</th>\n",
       "      <th>OPEN</th>\n",
       "      <th>HIGH</th>\n",
       "      <th>LOW</th>\n",
       "      <th>CLOSE</th>\n",
       "      <th>LAST</th>\n",
       "      <th>PREVCLOSE</th>\n",
       "      <th>TOTTRDQTY</th>\n",
       "      <th>TOTTRDVAL</th>\n",
       "      <th>TIMESTAMP</th>\n",
       "      <th>TOTALTRADES</th>\n",
       "      <th>ISIN</th>\n",
       "    </tr>\n",
       "  </thead>\n",
       "  <tbody>\n",
       "    <tr>\n",
       "      <th>0</th>\n",
       "      <td>20MICRONS</td>\n",
       "      <td>EQ</td>\n",
       "      <td>64.0</td>\n",
       "      <td>66.60</td>\n",
       "      <td>63.00</td>\n",
       "      <td>63.45</td>\n",
       "      <td>63.90</td>\n",
       "      <td>62.35</td>\n",
       "      <td>1597660</td>\n",
       "      <td>1.038646e+08</td>\n",
       "      <td>31-DEC-2021</td>\n",
       "      <td>11589</td>\n",
       "      <td>INE144J01027</td>\n",
       "    </tr>\n",
       "    <tr>\n",
       "      <th>1</th>\n",
       "      <td>21STCENMGM</td>\n",
       "      <td>EQ</td>\n",
       "      <td>44.1</td>\n",
       "      <td>45.90</td>\n",
       "      <td>44.10</td>\n",
       "      <td>45.90</td>\n",
       "      <td>45.90</td>\n",
       "      <td>45.00</td>\n",
       "      <td>17329</td>\n",
       "      <td>7.903413e+05</td>\n",
       "      <td>31-DEC-2021</td>\n",
       "      <td>213</td>\n",
       "      <td>INE253B01015</td>\n",
       "    </tr>\n",
       "    <tr>\n",
       "      <th>2</th>\n",
       "      <td>3IINFOLTD</td>\n",
       "      <td>EQ</td>\n",
       "      <td>92.0</td>\n",
       "      <td>95.85</td>\n",
       "      <td>91.30</td>\n",
       "      <td>94.65</td>\n",
       "      <td>94.45</td>\n",
       "      <td>91.30</td>\n",
       "      <td>3513963</td>\n",
       "      <td>3.317913e+08</td>\n",
       "      <td>31-DEC-2021</td>\n",
       "      <td>15942</td>\n",
       "      <td>INE748C01038</td>\n",
       "    </tr>\n",
       "    <tr>\n",
       "      <th>3</th>\n",
       "      <td>3MINDIA</td>\n",
       "      <td>EQ</td>\n",
       "      <td>24989.0</td>\n",
       "      <td>25680.00</td>\n",
       "      <td>24155.65</td>\n",
       "      <td>25360.80</td>\n",
       "      <td>25150.00</td>\n",
       "      <td>25047.00</td>\n",
       "      <td>6627</td>\n",
       "      <td>1.642765e+08</td>\n",
       "      <td>31-DEC-2021</td>\n",
       "      <td>5306</td>\n",
       "      <td>INE470A01017</td>\n",
       "    </tr>\n",
       "    <tr>\n",
       "      <th>4</th>\n",
       "      <td>3PLAND</td>\n",
       "      <td>EQ</td>\n",
       "      <td>15.4</td>\n",
       "      <td>15.80</td>\n",
       "      <td>14.85</td>\n",
       "      <td>15.65</td>\n",
       "      <td>15.65</td>\n",
       "      <td>14.65</td>\n",
       "      <td>80276</td>\n",
       "      <td>1.241928e+06</td>\n",
       "      <td>31-DEC-2021</td>\n",
       "      <td>386</td>\n",
       "      <td>INE105C01023</td>\n",
       "    </tr>\n",
       "  </tbody>\n",
       "</table>\n",
       "</div>"
      ],
      "text/plain": [
       "       SYMBOL SERIES     OPEN      HIGH       LOW     CLOSE      LAST  \\\n",
       "0   20MICRONS     EQ     64.0     66.60     63.00     63.45     63.90   \n",
       "1  21STCENMGM     EQ     44.1     45.90     44.10     45.90     45.90   \n",
       "2   3IINFOLTD     EQ     92.0     95.85     91.30     94.65     94.45   \n",
       "3     3MINDIA     EQ  24989.0  25680.00  24155.65  25360.80  25150.00   \n",
       "4      3PLAND     EQ     15.4     15.80     14.85     15.65     15.65   \n",
       "\n",
       "   PREVCLOSE  TOTTRDQTY     TOTTRDVAL    TIMESTAMP  TOTALTRADES          ISIN  \n",
       "0      62.35    1597660  1.038646e+08  31-DEC-2021        11589  INE144J01027  \n",
       "1      45.00      17329  7.903413e+05  31-DEC-2021          213  INE253B01015  \n",
       "2      91.30    3513963  3.317913e+08  31-DEC-2021        15942  INE748C01038  \n",
       "3   25047.00       6627  1.642765e+08  31-DEC-2021         5306  INE470A01017  \n",
       "4      14.65      80276  1.241928e+06  31-DEC-2021          386  INE105C01023  "
      ]
     },
     "execution_count": 7,
     "metadata": {},
     "output_type": "execute_result"
    }
   ],
   "source": [
    "df.head()"
   ]
  },
  {
   "cell_type": "code",
   "execution_count": 8,
   "metadata": {},
   "outputs": [
    {
     "name": "stdout",
     "output_type": "stream",
     "text": [
      "BLUE DOJI\n",
      "{'AHLUCONT': 0.261, 'ANANDRATHI': 0.0935, 'ANGELONE': 0.1734, 'ANMOL': 0.1815, 'APOLLOPIPE': 0.2873, 'ARVINDFASN': 0.1291, 'ASIANENE': 0.2587, 'ASTRAL': 0.298, 'BIOCON': 0.192, 'BROOKS': 0.0997, 'BSLSENETFG': 0.018, 'BSOFT': 0.2295, 'CADILAHC': 0.2898, 'CARTRADE': 0.1179, 'CENTUM': 0.2087, 'CHEMCON': 0.0545, 'COALINDIA': 0.0685, 'COFORGE': 0.0059, 'COROMANDEL': 0.3042, 'CSBBANK': 0.1275, 'DATAMATICS': 0.2941, 'DEVYANI': 0.0606, 'DODLA': 0.2362, 'DRREDDY': 0.0611, 'DSPN50ETF': 0.1777, 'EIDPARRY': 0.1994, 'ELGIRUBCO': 0.2628, 'EMMBI': 0.2915, 'EVEREADY': 0.0171, 'EXPLEOSOL': 0.0087, 'FAIRCHEMOR': 0.0238, 'FILATEX': 0.0515, 'FMGOETZE': 0.0232, 'GARFIBRES': 0.0314, 'GILLANDERS': 0.0803, 'GLS': 0.0079, 'GROBTEA': 0.1068, 'GSCLCEMENT': 0.1189, 'HBLPOWER': 0.2383, 'HDFCMFGETF': 0.1174, 'HDFCSENETF': 0.0016, 'HIMATSEIDE': 0.2187, 'HISARMETAL': 0.1657, 'HMVL': 0.0696, 'HONDAPOWER': 0.3176, 'HSIL': 0.3086, 'IBMFNIFTY': 0.05, 'IBREALEST': 0.1268, 'ICICIALPLV': 0.111, 'ICICILOVOL': 0.0356, 'IDBI': 0.1078, 'IFBAGRO': 0.0636, 'INDIANHUME': 0.0514, 'INDRAMEDCO': 0.2626, 'ISEC': 0.2716, 'JAIPURKURT': 0.2073, 'JMA': 0.2865, 'JYOTHYLAB': 0.0362, 'KAMDHENU': 0.185, 'KENNAMET': 0.1431, 'KOTAKIT': 0.1527, 'KPIGLOBAL': 0.0937, 'LTI': 0.0982, 'LTTS': 0.2492, 'LUXIND': 0.1843, 'LXCHEM': 0.3008, 'M&M': 0.2807, 'MAHABANK': 0.2604, 'MASTEK': 0.0166, 'MAYURUNIQ': 0.3001, 'MBAPL': 0.1141, 'MHRIL': 0.0266, 'MMFL': 0.255, 'MRPL': 0.232, 'NETFPHARMA': 0.2108, 'NFL': 0.2852, 'NILKAMAL': 0.0246, 'NPBET': 0.274, 'PALASHSECU': 0.2795, 'PILANIINVS': 0.078, 'PITTIENG': 0.2771, 'PNB': 0.134, 'POWERGRID': 0.1957, 'PSB': 0.3106, 'RADICO': 0.1901, 'RAJESHEXPO': 0.1288, 'REMSONSIND': 0.0216, 'REPCOHOME': 0.2055, 'ROSSARI': 0.2688, 'SANDESH': 0.1552, 'SDBL': 0.25, 'SELAN': 0.3072, 'SIEMENS': 0.0847, 'SOBHA': 0.268, 'SOTL': 0.2841, 'STOVEKRAFT': 0.0051, 'SURYODAY': 0.309, 'TALBROAUTO': 0.1793, 'TEJASNET': 0.2268, 'TIIL': 0.1983, 'UCALFUEL': 0.1392, 'UDAICEMENT': 0.1387, 'UTIAMC': 0.0142, 'WABAG': 0.1939, 'WALCHANNAG': 0.0935, 'WEIZMANIND': 0.0869}\n",
      "-------------------------------------------\n",
      "RED DOJI\n",
      "{'ABSLNN50ET': 0.0234, 'ADANIPOWER': 0.2006, 'ADORWELD': 0.0775, 'AHLADA': 0.1138, 'AMDIND': 0.1127, 'APCL': 0.228, 'APEX': 0.2179, 'APLAPOLLO': 0.12, 'APLLTD': 0.0062, 'ARIES': 0.1381, 'ASIANPAINT': 0.2084, 'ASTRAMICRO': 0.064, 'AUSOMENT': 0.2571, 'AXISGOLD': 0.1683, 'BBL': 0.0365, 'BEL': 0.0238, 'BSE': 0.073, 'BSL': 0.0874, 'CENTRALBK': 0.2353, 'COCHINSHIP': 0.1965, 'CREDITACC': 0.0502, 'DAMODARIND': 0.1733, 'DCAL': 0.2233, 'DEEPINDS': 0.0956, 'DPSCLTD': 0.295, 'EBBETF0431': 0.2749, 'EIMCOELECO': 0.1789, 'ESCORTS': 0.1729, 'EXCELINDUS': 0.2874, 'FINCABLES': 0.284, 'GANGESSECU': 0.2199, 'GLAND': 0.2187, 'GUJALKALI': 0.2999, 'HAL': 0.0496, 'HCLTECH': 0.0682, 'HEALTHY': 0.224, 'HINDZINC': 0.0631, 'HSCL': 0.1107, 'ICICINV20': 0.0817, 'IFCI': 0.3077, 'IIFL': 0.2147, 'INDOSTAR': 0.0417, 'INFIBEAM': 0.2488, 'INFY': 0.1192, 'IRFC': 0.2188, 'ISGEC': 0.1975, 'JAYAGROGN': 0.0237, 'JINDALSAW': 0.1012, 'JUBLPHARMA': 0.0682, 'KAKATCEM': 0.046, 'KOTHARIPRO': 0.1533, 'LATENTVIEW': 0.0267, 'LAURUSLABS': 0.2227, 'LIBERTSHOE': 0.1292, 'LINCOLN': 0.1117, 'LUMAXIND': 0.2859, 'MAHSCOOTER': 0.058, 'MANINFRA': 0.0491, 'MAXIND': 0.2007, 'MAXVIL': 0.0388, 'MENONBE': 0.3098, 'METROPOLIS': 0.2645, 'MFSL': 0.1887, 'MOLDTKPAC': 0.2172, 'MPSLTD': 0.3103, 'MTNL': 0.1403, 'MUNJALAU': 0.2868, 'NELCAST': 0.1856, 'NEWGEN': 0.314, 'NIFTYBEES': 0.1118, 'NRBBEARING': 0.2507, 'ORIENTLTD': 0.0702, 'PAYTM': 0.1087, 'POLYPLEX': 0.032, 'PUNJABCHEM': 0.1676, 'RAMCOIND': 0.0997, 'REDINGTON': 0.1036, 'RELAXO': 0.198, 'RELIANCE': 0.2048, 'REVATHI': 0.3026, 'RICOAUTO': 0.1151, 'RIIL': 0.0698, 'ROUTE': 0.1458, 'RUBYMILLS': 0.2885, 'SBILIFE': 0.2508, 'SCI': 0.1112, 'SHARDACROP': 0.0282, 'SIGACHI': 0.2256, 'SJS': 0.0916, 'SNOWMAN': 0.2469, 'SUNDRMBRAK': 0.2016, 'SUPREMEIND': 0.0067, 'TATAELXSI': 0.1193, 'TCS': 0.119, 'THERMAX': 0.1707, 'TIINDIA': 0.1225, 'UPL': 0.1205, 'UTINEXT50': 0.1826, 'VETO': 0.2421, 'WIPRO': 0.0629, 'YAARI': 0.2761, 'YUKEN': 0.254, 'ZENSARTECH': 0.2205, 'ZOTA': 0.2529, 'ZUARI': 0.1252}\n"
     ]
    }
   ],
   "source": [
    "dj.getdoji(df)"
   ]
  },
  {
   "cell_type": "code",
   "execution_count": null,
   "metadata": {},
   "outputs": [],
   "source": []
  },
  {
   "cell_type": "code",
   "execution_count": null,
   "metadata": {},
   "outputs": [],
   "source": []
  },
  {
   "cell_type": "markdown",
   "metadata": {},
   "source": [
    "## Doji Of All Stocks Of Particular Day"
   ]
  },
  {
   "cell_type": "code",
   "execution_count": 13,
   "metadata": {},
   "outputs": [
    {
     "name": "stdout",
     "output_type": "stream",
     "text": [
      "Enter date on which to find Bullish Marubozu\n",
      "Enter year (yyyy) : 2021\n",
      "Enter month (mm) : 12\n",
      "Enter date (dd) :1\n"
     ]
    }
   ],
   "source": [
    "print(\"Enter date on which to find Bullish Marubozu\")\n",
    "year=int(input(\"Enter year (yyyy) : \"))\n",
    "month=int(input(\"Enter month (mm) : \"))\n",
    "dated=int(input(\"Enter date (dd) :\"))"
   ]
  },
  {
   "cell_type": "code",
   "execution_count": 14,
   "metadata": {},
   "outputs": [
    {
     "name": "stdout",
     "output_type": "stream",
     "text": [
      "       SYMBOL SERIES      OPEN      HIGH      LOW     CLOSE     LAST  \\\n",
      "0   20MICRONS     EQ     59.25     59.55     57.5     58.45     58.5   \n",
      "1  21STCENMGM     EQ     55.40     55.40     55.4     55.40     55.4   \n",
      "2   3IINFOLTD     EQ     93.10     99.80     93.1     93.10     93.1   \n",
      "3     3MINDIA     EQ  25300.00  25300.00  24542.3  24745.30  24625.0   \n",
      "4      3PLAND     EQ     13.30     13.45     12.7     12.90     13.1   \n",
      "\n",
      "   PREVCLOSE  TOTTRDQTY     TOTTRDVAL    TIMESTAMP  TOTALTRADES          ISIN  \n",
      "0      58.10      65712  3.842894e+06  01-DEC-2021          952  INE144J01027  \n",
      "1      56.50       2239  1.240406e+05  01-DEC-2021           39  INE253B01015  \n",
      "2      97.95   15365497  1.454541e+09  01-DEC-2021        48013  INE748C01038  \n",
      "3   25034.40       5676  1.418984e+08  01-DEC-2021          812  INE470A01017  \n",
      "4      13.15       2162  2.809780e+04  01-DEC-2021          107  INE105C01023  \n"
     ]
    }
   ],
   "source": [
    "try:\n",
    "    df= get_price_list(date(year,month,dated))\n",
    "    print(df.head())\n",
    "except:\n",
    "    print(\"Invalid Date\")"
   ]
  },
  {
   "cell_type": "code",
   "execution_count": 15,
   "metadata": {},
   "outputs": [
    {
     "name": "stdout",
     "output_type": "stream",
     "text": [
      "BLUE DOJI\n",
      "{'AARTIDRUGS': 0.0879, 'ABSLBANETF': 0.0827, 'ALBERTDAVD': 0.0776, 'ALPHAGEO': 0.1071, 'APOLSINHOT': 0.0662, 'ARSHIYA': 0.1721, 'ATULAUTO': 0.0945, 'AWHCL': 0.1906, 'AXISCADES': 0.2632, 'AXISCETF': 0.2966, 'AXISTECETF': 0.178, 'BAJFINANCE': 0.0923, 'BBTC': 0.1999, 'BFUTILITIE': 0.2433, 'CHEMBOND': 0.0497, 'CIGNITITEC': 0.0676, 'COCHINSHIP': 0.2933, 'COROMANDEL': 0.0336, 'DAAWAT': 0.0781, 'DLINKINDIA': 0.2303, 'DSSL': 0.2814, 'FIEMIND': 0.1215, 'FILATEX': 0.2743, 'GANECOS': 0.1338, 'GEPIL': 0.1275, 'GIPCL': 0.1234, 'GLAND': 0.2928, 'GODREJIND': 0.1137, 'HAVELLS': 0.0514, 'HDFCAMC': 0.2822, 'HINDUNILVR': 0.2068, 'HPL': 0.1685, 'HUHTAMAKI': 0.2636, 'ICICIFMCG': 0.1275, 'ICICITECH': 0.0111, 'INDIANCARD': 0.1941, 'INOXWIND': 0.165, 'IPL': 0.1498, 'IRISDOREME': 0.1432, 'JINDALSAW': 0.2944, 'JINDALSTEL': 0.0576, 'JKCEMENT': 0.0046, 'JTEKTINDIA': 0.1095, 'KALYANKJIL': 0.2946, 'KHADIM': 0.1816, 'KKCL': 0.202, 'KMSUGAR': 0.2083, 'KOTAKPSUBK': 0.2425, 'KUANTUM': 0.2448, 'LICHSGFIN': 0.3065, 'LOTUSEYE': 0.2081, 'MAGADSUGAR': 0.2803, 'MANAKSTEEL': 0.1357, 'MANGALAM': 0.1216, 'MASPTOP50': 0.0658, 'MINDTREE': 0.2526, 'MONTECARLO': 0.0536, 'NATCOPHARM': 0.0238, 'NAVKARCORP': 0.1248, 'NCPSESDL24': 0.056, 'NIITLTD': 0.2696, 'OBEROIRLTY': 0.1912, 'PAISALO': 0.2301, 'PENIND': 0.1802, 'PETRONET': 0.0906, 'PGHL': 0.1246, 'POLYCAB': 0.3195, 'POWERGRID': 0.0965, 'PRIVISCL': 0.0482, 'PSB': 0.3021, 'PTL': 0.1056, 'RAJMET': 0.0973, 'RAMCOCEM': 0.0265, 'RATNAMANI': 0.3038, 'RSSOFTWARE': 0.3063, 'SAGCEM': 0.0388, 'SHARDACROP': 0.238, 'SPICEJET': 0.2811, 'SREEL': 0.09, 'STARPAPER': 0.2385, 'SUNCLAYLTD': 0.2188, 'SUPREMEENG': 0.2717, 'TBZ': 0.2566, 'TECH': 0.1125, 'TEXINFRA': 0.1815, 'TNPETRO': 0.2014, 'TNPL': 0.3187, 'UNITEDTEA': 0.0139, 'VADILALIND': 0.2549, 'VAKRANGEE': 0.1451, 'VALIANTORG': 0.2533, 'VSTIND': 0.2071, 'WABCOINDIA': 0.0519, 'WELCORP': 0.1203, 'WHEELS': 0.0694, 'ZENTEC': 0.1218}\n",
      "-------------------------------------------\n",
      "RED DOJI\n",
      "{'ABCAPITAL': 0.2732, 'ADANIENT': 0.0413, 'AMARAJABAT': 0.266, 'APLAPOLLO': 0.2224, 'APOLLOPIPE': 0.2658, 'APTECHT': 0.0273, 'ARMANFIN': 0.0472, 'ASALCBR': 0.0887, 'ASHAPURMIN': 0.1091, 'ASHIANA': 0.234, 'ASHOKA': 0.052, 'ATFL': 0.2054, 'AUROPHARMA': 0.2113, 'AUTOAXLES': 0.2376, 'AVTNPL': 0.2028, 'AXISGOLD': 0.267, 'BAJAJHCARE': 0.1966, 'BALMLAWRIE': 0.1296, 'CASTROLIND': 0.2331, 'CTE': 0.0901, 'DFMFOODS': 0.1283, 'DHAMPURSUG': 0.0175, 'DICIND': 0.0511, 'EIDPARRY': 0.2361, 'EIFFL': 0.3098, 'ESCORTS': 0.2489, 'FACT': 0.1757, 'FOSECOIND': 0.275, 'GALLANTT': 0.2242, 'GANGAFORGE': 0.2653, 'GET&D': 0.3008, 'GLS': 0.0736, 'GOLDIAM': 0.1546, 'GOLDSHARE': 0.1208, 'GPIL': 0.0379, 'GRAUWEIL': 0.2506, 'HBANKETF': 0.1734, 'HINDZINC': 0.2405, 'ICEMAKE': 0.0828, 'ICICIB22': 0.1601, 'IGL': 0.0516, 'INDIAMART': 0.1969, 'INDIGO': 0.268, 'INDSWFTLAB': 0.2007, 'INFY': 0.0058, 'INGERRAND': 0.0501, 'ITC': 0.0451, 'ITDC': 0.2179, 'JAYSREETEA': 0.2584, 'JBMA': 0.1373, 'JUBLINDS': 0.1246, 'KAMATHOTEL': 0.0955, 'KANSAINER': 0.1512, 'KOKUYOCMLN': 0.1606, 'KSCL': 0.271, 'M&M': 0.1557, 'MAHASTEEL': 0.1876, 'MANGLMCEM': 0.2499, 'MANORG': 0.03, 'MASTEK': 0.2881, 'MENONBE': 0.19, 'MHRIL': 0.2389, 'MPSLTD': 0.0584, 'MRPL': 0.1117, 'NCC': 0.2085, 'NCLIND': 0.2347, 'NIACL': 0.207, 'NXTDIGITAL': 0.1379, 'OCCL': 0.0153, 'ONGC': 0.1054, 'PGHH': 0.1699, 'POLYPLEX': 0.1539, 'QUICKHEAL': 0.1618, 'RBL': 0.0601, 'REDINGTON': 0.2719, 'SAFARI': 0.2574, 'SIEMENS': 0.217, 'SPLIL': 0.1188, 'STAR': 0.2746, 'STARCEMENT': 0.2611, 'STEELXIND': 0.2304, 'SURYALAXMI': 0.1658, 'SUVENPHAR': 0.2563, 'TATACOFFEE': 0.0733, 'TEXRAIL': 0.1745, 'TIINDIA': 0.1218, 'TORNTPOWER': 0.0999, 'TRIVENI': 0.2939, 'UNIDT': 0.2921, 'UTISENSETF': 0.0115, 'VINDHYATEL': 0.1811, 'WHIRLPOOL': 0.2803}\n"
     ]
    }
   ],
   "source": [
    "dj.getdoji(df)"
   ]
  },
  {
   "cell_type": "code",
   "execution_count": null,
   "metadata": {},
   "outputs": [],
   "source": []
  },
  {
   "cell_type": "code",
   "execution_count": null,
   "metadata": {},
   "outputs": [],
   "source": []
  },
  {
   "cell_type": "code",
   "execution_count": null,
   "metadata": {},
   "outputs": [],
   "source": []
  },
  {
   "cell_type": "code",
   "execution_count": null,
   "metadata": {},
   "outputs": [],
   "source": []
  },
  {
   "cell_type": "code",
   "execution_count": null,
   "metadata": {},
   "outputs": [],
   "source": []
  }
 ],
 "metadata": {
  "kernelspec": {
   "display_name": "Python 3",
   "language": "python",
   "name": "python3"
  },
  "language_info": {
   "codemirror_mode": {
    "name": "ipython",
    "version": 3
   },
   "file_extension": ".py",
   "mimetype": "text/x-python",
   "name": "python",
   "nbconvert_exporter": "python",
   "pygments_lexer": "ipython3",
   "version": "3.8.5"
  }
 },
 "nbformat": 4,
 "nbformat_minor": 4
}
